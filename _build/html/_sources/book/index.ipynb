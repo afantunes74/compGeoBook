{
 "cells": [
  {
   "cell_type": "markdown",
   "id": "65a0df5d-9369-47d7-9ad8-fe69234d947c",
   "metadata": {},
   "source": [
    "# Welcome to the Computational Geosciences resource\n",
    "\n",
    "Welcome to the Computational Geosciences resource at the University of Stavanger (UiS), Norway. This is an educational project funded by the Faculty of Science and Technology at UiS. The resource is made by students and faculty from the departments of Energy Resources (IER) and Mechanical and Structural Engineering (IMBM).\n",
    "\n",
    "**Students:** Angela Hoch (IER), Adham Amer (IMBM), Vania Mansoor and Linda Olsen (IER).\n",
    "\n",
    "**Postdocs:** David Oakley (IER)\n",
    "\n",
    "**Faculty (UiS):** Nestor Cardozo (IER), Lisa Watson (IER), Wiktor Weibull (IER), and Knut Giljarhus (IMBM).\n",
    "\n",
    "In addition, Associate Professor Alex F. Antunes, at the Department of Geology, Federal University of Rio Grande do Norte (URFN/Brazil), implemented the resource as a fully interactive Jupyter Book.\n",
    "\n",
    "Please feel free to use this material for teaching and research. If you have any comments or want to contribute to the resource, please contact me at nestor.cardozo@uis.no\n",
    "\n",
    "## Manual: Working with the resource\n",
    "\n",
    "The resource consists of a book in [pdf format](https://github.com/nfcd/compGeo/blob/master/compGeo.pdf), and a [source folder](https://github.com/nfcd/compGeo/tree/master/source) where data, functions and notebooks are included. The book is a large, full-resolution file (18 MB). Alternatively, the resource can be reviewed using this Jupyter Book.\n",
    "\n",
    "The programming language of choice is Python, and our approach is as follows: We introduce briefly the theory and applications, implement them in Python functions, and illustrate them using Jupyter notebooks.\n",
    "\n",
    "### Clone the repository\n",
    "\n",
    "The best way to work with the resource is to clone this [repository](https://github.com/nfcd/compGeo). This saves all material to your local machine. It behaves almost like a copy.\n",
    "\n",
    "1. Open a terminal.\n",
    "2. Navigate to the folder where you would like to store the local copy of the repository. (cd `foldername`)\n",
    "3. Press the green button **Code** on the right hand side and copy the path in the Clone section.\n",
    "4. Execute the terminal command `git clone <https://github.com/nfcd/compGeo>`.\n",
    "5. Now you can start working with the resource files. They are saved in the folder you chose in step 2.\n",
    "\n",
    "### Updating your local files\n",
    "\n",
    "Once in a while you should update your local files to the latest changes in the repository. This is important since we will be making changes and including new chapters along.\n",
    "\n",
    "1. Open a terminal.\n",
    "2. Navigate inside the folder of the repository on your machine. (cd `foldername`)\n",
    "3. Execute the terminal command `git pull`\n",
    "\n",
    ":::{note}\n",
    "If using this Jupyter Book, you don’t need to clone and update the repository, but you can run the code in the Book interactively.\n",
    "\n",
    "To run code cells interactively, point the mouse to the ![](images/icon_rocket.png) icon at the upper right corner of the book and click on ![](images/icon_livecode.png). The buttons ![](images/button_run_restart_restartall.png) will appear.\n",
    "\n",
    "Click the ![](images/button_run.png) button to run the cell, the ![](images/button_restart.png) button to restart the kernel, or the ![](images/button_restartall.png) button to restart the kernel and run all cells.\n",
    ":::\n",
    "\n",
    ":::{note}\n",
    "The cells in this notebook are run via Binder. Sometimes it can take long time for the kernel to start, and other times it can be quite fast. We have not figured out why this is the case, but it must be related with the installation of dependencies by Binder. We are working on it. In the meantime, be patient.\n",
    "As an example, activate Live Code now and click run in the following code cell:\n",
    ":::"
   ]
  },
  {
   "cell_type": "code",
   "execution_count": 1,
   "id": "0a6287bb-f720-4cbb-9e48-94c1774625b1",
   "metadata": {
    "tags": [
     "remove-output"
    ]
   },
   "outputs": [
    {
     "name": "stdout",
     "output_type": "stream",
     "text": [
      "Welcome to the Computational Geosciences resource!\n",
      "\n",
      "Please, see below some tips to write beautiful and clean code in Python:\n",
      "\n",
      "The Zen of Python, by Tim Peters\n",
      "\n",
      "Beautiful is better than ugly.\n",
      "Explicit is better than implicit.\n",
      "Simple is better than complex.\n",
      "Complex is better than complicated.\n",
      "Flat is better than nested.\n",
      "Sparse is better than dense.\n",
      "Readability counts.\n",
      "Special cases aren't special enough to break the rules.\n",
      "Although practicality beats purity.\n",
      "Errors should never pass silently.\n",
      "Unless explicitly silenced.\n",
      "In the face of ambiguity, refuse the temptation to guess.\n",
      "There should be one-- and preferably only one --obvious way to do it.\n",
      "Although that way may not be obvious at first unless you're Dutch.\n",
      "Now is better than never.\n",
      "Although never is often better than *right* now.\n",
      "If the implementation is hard to explain, it's a bad idea.\n",
      "If the implementation is easy to explain, it may be a good idea.\n",
      "Namespaces are one honking great idea -- let's do more of those!\n"
     ]
    }
   ],
   "source": [
    "print('Welcome to the Computational Geosciences resource!\\n')\n",
    "print('Please, see below some tips to write beautiful and clean code in Python:\\n')\n",
    "\n",
    "import this"
   ]
  },
  {
   "cell_type": "markdown",
   "id": "699b9a29-a880-4ab9-8239-61b8b49d7566",
   "metadata": {},
   "source": [
    ":::{note}\n",
    "Book content can also be run as Jupyter notebooks via Binder. To do so, click on the ![](images/icon_binder.png) icon under the ![](images/icon_rocket.png) icon.\n",
    ":::"
   ]
  },
  {
   "cell_type": "markdown",
   "id": "7cf2771e-5a71-4573-b970-b5200f44844c",
   "metadata": {},
   "source": [
    "## Background information\n",
    "\n",
    "The notebooks follow the directory structure of the resource, which is based on data, functions and notebooks folders. We recommend that you follow the same directory structure when running the notebooks.\n",
    "\n",
    "## Current state\n",
    "\n",
    "The first nine chapters are completed. The latest revision of these chapters on Dec. 2022 was significant. The last chapter (Ch. 10) on the inversion problem is under work.\n",
    "\n",
    "Check out the content pages bundled with this book to see more.\n",
    "\n",
    "```{tableofcontents}\n",
    "```"
   ]
  }
 ],
 "metadata": {
  "kernelspec": {
   "display_name": "Python 3 (ipykernel)",
   "language": "python",
   "name": "python3"
  },
  "language_info": {
   "codemirror_mode": {
    "name": "ipython",
    "version": 3
   },
   "file_extension": ".py",
   "mimetype": "text/x-python",
   "name": "python",
   "nbconvert_exporter": "python",
   "pygments_lexer": "ipython3",
   "version": "3.11.3"
  }
 },
 "nbformat": 4,
 "nbformat_minor": 5
}
