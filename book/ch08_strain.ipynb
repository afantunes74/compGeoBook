{
 "cells": [
  {
   "cell_type": "markdown",
   "id": "cedf0145-4dd5-4ea2-8fdb-5880c75f257f",
   "metadata": {},
   "source": [
    "(ch08)=\n",
    "# Strain"
   ]
  },
  {
   "cell_type": "markdown",
   "id": "50375726-89cb-4b62-a5cc-db683fe13774",
   "metadata": {},
   "source": [
    "Stresses acting through time within the Earth can lead to deformation. Deformation is more complicated than stress because it involves the comparison of states of the rock material at two different points in time. Therefore, one needs to establish both temporal and spatial reference frames. This chapter covers deformation and strain, including infinitesimal, finite, and progressive strain. This is a relatively long and complicated material, it comprises several chapters in classical books such as Ramsay (1967) and Means (1976). However, our purpose is not to discuss in detail the theory of strain, but rather introduce some interesting strain problems in geosciences, and their computation."
   ]
  },
  {
   "cell_type": "markdown",
   "id": "1a82aab2-327a-471e-b194-b362aacc3f6f",
   "metadata": {},
   "source": [
    "(ch08-1)=\n",
    "## Deformation and strain\n",
    "\n",
    "Strictly speaking, deformation involves rigid body deformation (translation and rotation), and non-rigid body deformation (changes in shape and volume) or strain. In geology, rigid-body deformation is rather difficult to determine, with a few exceptions (e.g. paleolatitude of a continent from paleomagnetic pole). We often just focus on strain.\n",
    "\n",
    "Consider the deformation shown in {numref}`Figure %s <ch08_fig01>`. The square and inscribed circle ({numref}`Figure %s <ch08_fig01>`a) are first translated, then rotated, and then sheared. The translation vector **t** ({numref}`Figure %s <ch08_fig01>`b) and rotation $\\omega$ ({numref}`Figure %s <ch08_fig01>`c) describe the first stage of rigid body-deformation. Shear of the objects defines the second stage of non-rigid body deformation or strain ({numref}`Figure %s <ch08_fig01>`d)."
   ]
  },
  {
   "cell_type": "markdown",
   "id": "2c64e920-fb8a-46dd-9558-9e3295b47ee8",
   "metadata": {},
   "source": [
    "```{figure} figures/ch08_fig01.png\n",
    ":width: 400px\n",
    ":name: ch08_fig01\n",
    "\n",
    "Deformation of a square of side $l_{i}$ and inscribed circle. **a.** Initial configuration. **b.** Translation $\\textbf{t}$. **c.** Rotation $\\omega$. **d.** Shear. $l_{f}$ and $\\psi$ are the final length and angular shear of the long side of the parallelogram. Red and blue lines in ellipse are principal axes and lines of no finite elongation (LNFE), respectively.\n",
    "```"
   ]
  },
  {
   "cell_type": "markdown",
   "id": "aa90e630-24c9-460c-9f9f-23e14914421d",
   "metadata": {},
   "source": [
    "The changes in shape (distortion) of the bodies can be described by the changes in length and angle of lines. If the initial length of a line is $l_i$, and the deformed length of the line is $l_f$, the change in length of the line can be defined by either one of the following parameters:"
   ]
  },
  {
   "cell_type": "markdown",
   "id": "b75d90b4-fbd4-4b2a-b523-94367127f6ec",
   "metadata": {},
   "source": [
    "$$\n",
    "\\begin{gathered}\n",
    "    e = \\frac{l_f-l_i}{l_i} \\\\\n",
    "    S = \\frac{l_f}{l_i} = 1 + e \\\\\n",
    "    \\lambda = S^2 = (1+e)^2\n",
    "\\end{gathered}\n",
    "$$ (ch08_eq01)"
   ]
  },
  {
   "cell_type": "markdown",
   "id": "fb046abd-f4db-42e0-bc24-549eacb3259e",
   "metadata": {},
   "source": [
    "where $e$ is elongation, $S$ is stretch, and $\\lambda$ is quadratic elongation. For the long side of the parallelogram in {numref}`Figure %s <ch08_fig01>`d, $e$ is positive, and $S$ and $\\lambda$ are larger than $1$. For the short side, $e$ is negative, and $S$ and $\\lambda$ are lower than $1$. Lines that have their original length have $e = 0$, and $S$ and $\\lambda = 1$ (blue lines, {numref}`Figure %s <ch08_fig01>`d). Notice than $e$ cannot be lower than $-1$, and $S$ and $\\lambda$ cannot be lower than 0 (a line can’t be shortened more than its original length).\n",
    "\n",
    "Changes in angle are measured by the angular shear $\\psi$, which is the change in angle between two originally perpendicular lines ({numref}`Figure %s <ch08_fig01>`d). From the angular shear, one can calculate the shear strain $\\gamma$:"
   ]
  },
  {
   "cell_type": "markdown",
   "id": "9cb8f642-390c-49fa-96ab-32d719568b3f",
   "metadata": {},
   "source": [
    "$$\n",
    "\\gamma = \\tan\\psi\n",
    "$$ (ch08_eq02)"
   ]
  },
  {
   "cell_type": "markdown",
   "id": "64f65d2e-b638-4dc2-9f22-23826c324f8a",
   "metadata": {},
   "source": [
    "Changes in area or volume (dilation) can be described using the areal or volumetric stretch:"
   ]
  },
  {
   "cell_type": "markdown",
   "id": "e524dff6-82e6-451c-a798-11d6eaae4832",
   "metadata": {},
   "source": [
    "$$\n",
    "\\begin{gathered}\n",
    "    S_A = \\frac{A_f}{A_i} \\\\\n",
    "    S_V = \\frac{V_f}{V_i}\n",
    "\\end{gathered}\n",
    "$$ (ch08_eq03)"
   ]
  },
  {
   "cell_type": "markdown",
   "id": "8a8007d1-ff4f-4cc1-8465-675c332f4404",
   "metadata": {},
   "source": [
    "where $A_i$ and $A_f$ are initial and final area, and $V_i$ and $V_f$ are initial and final volume. We can also determine areal or volumetric elongation.\n",
    "\n",
    "In this chapter, we make two major assumptions about strain: Strain is continuous (it is distributed uniformly across the body), and strain is homogeneous (it is identical across the body). Clearly these assumptions are incorrect: Rocks are full of discontinuities, and geological structures (e.g. folds) exhibit heterogeneous strain. However at the appropriate scale, rocks can be described as continuum materials, and the heterogeneous strain of geological structures can be represented by domains of homogeneous (yet compatible) strain. This makes possible applying homogeneous strain to geological deformation.\n",
    "\n",
    "For homogeneous strain, straight lines remain straight, parallel lines remain parallel, and circles become ellipses in 2D, or spheres become ellipsoids in 3D ({numref}`Figure %s <ch08_fig01>`d). The resultant ellipse (or ellipsoid) is called the strain ellipse (or ellipsoid). The stretches along the axes of this ellipse (or ellipsoid, red lines in {numref}`Figure %s <ch08_fig01>`d) are called the principal stretches, and they are denoted by the symbols $S_1$, $S_2$, $S_3$, for the maximum, intermediate, and minimum principal stretch, respectively. The volumetric stretch can also be defined as:"
   ]
  },
  {
   "cell_type": "markdown",
   "id": "05c3dfdc-e8e8-4621-875e-cd0f378fe42e",
   "metadata": {},
   "source": [
    "$$\n",
    "S_V = S_1S_2S_3\n",
    "$$ (ch08_eq04)"
   ]
  },
  {
   "cell_type": "markdown",
   "id": "01a0ee18-8e96-42ac-a414-d19ba68bcbf8",
   "metadata": {},
   "source": [
    "The deformation in {numref}`Figure %s <ch08_fig01>` is volume and area constant ($S_V$ and $S_A = 1$). Under this condition, there are two lines in the strain ellipse that have their original length (blue lines, {numref}`Figure %s <ch08_fig01>`d). These lines are known as the lines of no finite elongation (LNFE)."
   ]
  },
  {
   "cell_type": "markdown",
   "id": "8ad3912c-dfcd-4abb-b901-dcb784959dc5",
   "metadata": {},
   "source": [
    "(ch08-2)=\n",
    "## Deformation and displacement gradients\n",
    "\n",
    "Consider the deformation shown in {numref}`Figure %s <ch08_fig02>`. The cube is transformed into a brick-shaped body. It is shortened along the $\\mathbf{X_2}$ axis by half ($e = -0.5$, $S = 0.5$), and it is stretched along the $\\mathbf{X_3}$ axis twice ($e = 1$, $S = 2$)."
   ]
  },
  {
   "cell_type": "markdown",
   "id": "165b2185-2987-4b80-bca3-670c2cf8378d",
   "metadata": {},
   "source": [
    "```{figure} figures/ch08_fig02.png\n",
    ":width: 400px\n",
    ":name: ch08_fig02\n",
    "\n",
    "Deformation of a cube in to a brick-shaped body. The principal axes of strain are parallel to the coordinate axes before $\\textbf{X}$ and after $\\textbf{x}$ deformation. Modified from Means (1976).\n",
    "```"
   ]
  },
  {
   "cell_type": "markdown",
   "id": "d9c2e9c6-fd53-443f-9493-a5e6813bdf3c",
   "metadata": {},
   "source": [
    "We can express the deformed coordinates $\\mathbf{x}$ of any point in the cuboid in terms of the undeformed coordinates $\\mathbf{X}$ of the same point in the cube:\n",
    "\n",
    ":::{note}\n",
    "By convention, we use $\\mathbf{X}$ to refer to the undeformed coordinates, and $\\mathbf{x}$ to denote the deformed coordinates.\n",
    ":::"
   ]
  },
  {
   "cell_type": "markdown",
   "id": "fe511093-b013-472e-a916-3e2a89141c7e",
   "metadata": {},
   "source": [
    "$$\n",
    "\\begin{gathered}\n",
    "    x_1 = 1 X_1 + 0 X_2 + 0 X_3 \\\\\n",
    "    x_2 = 0 X_1 + 0.5 X_2 + 0 X_3 \\\\\n",
    "    x_3 = 0 X_1 + 0 X_2 + 2 X_3\n",
    "\\end{gathered}\n",
    "$$ (ch08_eq05)"
   ]
  },
  {
   "cell_type": "markdown",
   "id": "198582ff-8445-45bf-956a-dcd670f40f8e",
   "metadata": {},
   "source": [
    "Likewise, we can express the undeformed coordinates $\\mathbf{X}$ of any point in the cube in terms of the deformed coordinates $\\mathbf{x}$ of the same point in the cuboid:"
   ]
  },
  {
   "cell_type": "markdown",
   "id": "af9f5a7f-8b81-44d2-b209-16ae1bdc86c3",
   "metadata": {},
   "source": [
    "$$\n",
    "\\begin{gathered}\n",
    "    X_1 = 1 x_1 + 0 x_2 + 0 x_3 \\\\\n",
    "    X_2 = 0 x_1 + 2 x_2 + 0 x_3 \\\\\n",
    "    X_3 = 0 x_1 + 0 x_2 + 0.5 x_3\n",
    "\\end{gathered}\n",
    "$$ (ch08_eq06)"
   ]
  },
  {
   "cell_type": "markdown",
   "id": "223c57f5-3653-4561-9bbb-1dc7fe0f4363",
   "metadata": {},
   "source": [
    "Equations {eq}`ch08_eq05` and {eq}`ch08_eq06` are called *coordinate transformations*, but they are fundamentally different from the transformation of coordinate axes in [Chapter 5](ch05). The coordinate transformations here are between two different states in time. Eq. {eq}`ch08_eq05` is called a *Green* transformation (new in terms of old), while Eq. {eq}`ch08_eq06` is a *Cauchy* transformation (old in terms of new).\n",
    "\n",
    "We can take the partial derivatives of these equations, which are just the coefficients of the equations:"
   ]
  },
  {
   "cell_type": "markdown",
   "id": "012344c8-43a8-4b34-99de-61ad40c38fb8",
   "metadata": {},
   "source": [
    "$$\n",
    "\\frac{\\partial x_i}{\\partial X_j}=\\begin{bmatrix}1&0&0\\\\0&0.5&0\\\\0&0&2\\end{bmatrix}\n",
    "$$ (ch08_eq07)"
   ]
  },
  {
   "cell_type": "markdown",
   "id": "b7948011-d107-4bb1-b9d7-6eefa40ebac8",
   "metadata": {},
   "source": [
    "and:"
   ]
  },
  {
   "cell_type": "markdown",
   "id": "fe49310c-6577-4a14-8e76-c0b3bd0047b1",
   "metadata": {},
   "source": [
    "$$\n",
    "\\frac{\\partial X_i}{\\partial x_j}=\\begin{bmatrix}1&0&0\\\\0&2&0\\\\0&0&0.5\\end{bmatrix}\n",
    "$$ (ch08_eq08)"
   ]
  },
  {
   "cell_type": "markdown",
   "id": "da30e076-b44e-4c89-82b8-77cb85350308",
   "metadata": {},
   "source": [
    "These partial derivatives are known as the deformation gradients and unlike the coordinate transformations, they are homogeneous and independent of the coordinate axes (i.e. they are tensors). Eq. {eq}`ch08_eq07` is called the *Green* deformation gradient, while Eq. {eq}`ch08_eq08` is the *Cauchy* deformation gradient. Since in {numref}`Figure %s <ch08_fig02>` the principal axes of strain are parallel to the coordinate axes, we can easily see one thing: The components of the Green deformation gradient are the stretches along the coordinate axes, and the components of the Cauchy deformation gradient are the inverse of the stretches along the coordinate axes. For more complex situations this will not be the case, but in general the Green and Cauchy deformation gradient tensors are related to the stretch (Allmendinger et al., 2012).\n",
    "\n",
    "Another way to study the deformation is to look at the displacement $\\mathbf{u}$ between the undeformed and deformed states ({numref}`Figure %s <ch08_fig02>`). The displacement can either be expressed in the undeformed configuration:"
   ]
  },
  {
   "cell_type": "markdown",
   "id": "236e8ddb-5ff2-4437-84a5-ec304a90cc8c",
   "metadata": {},
   "source": [
    "$$\n",
    "\\begin{gathered}\n",
    "    u_1 = 0 X_1 + 0 X_2 + 0 X_3 \\\\\n",
    "    u_2 = 0 X_1 - 0.5 X_2 + 0 X_3 \\\\\n",
    "    u_3 = 0 X_1 + 0 X_2 + 1 X_3\n",
    "\\end{gathered}\n",
    "$$ (ch08_eq09)"
   ]
  },
  {
   "cell_type": "markdown",
   "id": "7bce6d6d-1b3b-4214-b668-4db63f73d1b3",
   "metadata": {},
   "source": [
    "or in the deformed configuration:"
   ]
  },
  {
   "cell_type": "markdown",
   "id": "7749f408-6915-463e-a786-41c8837381f5",
   "metadata": {},
   "source": [
    "$$\n",
    "\\begin{gathered}\n",
    "    u_1 = 0 x_1 + 0 x_2 + 0 x_3 \\\\\n",
    "    u_2 = 0 x_1 - 1 x_2 + 0 x_3 \\\\\n",
    "    u_3 = 0 x_1 + 0 x_2 + 0.5 x_3\n",
    "\\end{gathered}\n",
    "$$ (ch08_eq10)"
   ]
  },
  {
   "cell_type": "markdown",
   "id": "ed3829a5-c974-4560-ac71-c85535fb0704",
   "metadata": {},
   "source": [
    "Eq. {eq}`ch08_eq09` is known as the *Lagrangian* displacement (in terms of old coordinates), while Eq. {eq}`ch08_eq09` is the *Eulerian* displacement (in terms of new coordinates). We can take the partial derivatives of these equations, which are just the coefficients of the equations:"
   ]
  },
  {
   "cell_type": "markdown",
   "id": "57c9f238-6c3d-45d2-8e9c-7c91181debbb",
   "metadata": {},
   "source": [
    "$$\n",
    "\\frac{\\partial u_i}{\\partial X_j}=\\begin{bmatrix}0&0&0\\\\0&-0.5&0\\\\0&0&1\\end{bmatrix}\n",
    "$$ (ch08_eq11)"
   ]
  },
  {
   "cell_type": "markdown",
   "id": "09d5dcff-9a4b-49fc-97e4-de4ce04c3c70",
   "metadata": {},
   "source": [
    "and:"
   ]
  },
  {
   "cell_type": "markdown",
   "id": "201c46f6-b81f-4015-9d81-79e09e98f4c9",
   "metadata": {},
   "source": [
    "$$\n",
    "\\frac{\\partial u_i}{\\partial x_j}=\\begin{bmatrix}0&0&0\\\\0&-1&0\\\\0&0&0.5\\end{bmatrix}\n",
    "$$ (ch08_eq12)"
   ]
  },
  {
   "cell_type": "markdown",
   "id": "598c087f-5ad7-4760-b879-55e6ab3ce811",
   "metadata": {},
   "source": [
    "These partial derivatives are known as the displacement gradients and unlike the displacement, they are homogeneous and independent of the coordinate axes (i.e. they are tensors). Eq. {eq}`ch08_eq11` is called the *Lagrangian* displacement gradient, while Eq. {eq}`ch08_eq12` is the *Eulerian* displacement gradient. For the case of {numref}`Figure %s <ch08_fig02>`, we can see that the components of the Lagrangian displacement gradient are the elongations along the coordinate axes, while the components of the Eulerian displacement gradient are the elongations along the coordinate axes with respect to the deformed reference frame ($\\tilde{e}=(l_f-l_i)/l_f$). This will not be the case for more complicated situations, but in general the Lagrangian and Eulerian displacement gradient tensors are related to the elongation (Allmendinger et al., 2012).\n",
    "\n",
    "{numref}`ch08_tab01` summarizes this section."
   ]
  },
  {
   "cell_type": "markdown",
   "id": "09d0143c-1822-438d-9a5d-eb4ea611036e",
   "metadata": {},
   "source": [
    "```{list-table} Coordinate transformations and displacement via deformation and displacement gradient tensors. Rigid body deformation is not included.\n",
    ":header-rows: 1\n",
    ":name: ch08_tab01\n",
    "\n",
    "* - \n",
    "  - Old coordinates\n",
    "  - New coordinates\n",
    "* - Coordinate transformations\n",
    "  - Green $x_i=\\frac{\\partial x_i}{\\partial X_j}X_j$\n",
    "  - Cauchy $X_i=\\frac{\\partial X_i}{\\partial x_j}x_j$\n",
    "* - Displacement\n",
    "  - Lagrangian $u_i=\\frac{\\partial u_i}{\\partial X_j}X_j$\n",
    "  - Eulerian $u_i=\\frac{\\partial u_i}{\\partial x_j}x_j$\n",
    "```"
   ]
  },
  {
   "cell_type": "markdown",
   "id": "d0513280-3b90-41cb-9cee-178f0d6378a4",
   "metadata": {},
   "source": [
    "(ch08-3)=\n",
    "## Infinitesimal strain\n",
    "\n",
    "Suppose that a line parallel to the $\\mathbf{X_1}$ axis is elongated 1$\\%$ of its initial length. In this case the displacement gradient is:"
   ]
  },
  {
   "cell_type": "markdown",
   "id": "d7c02f19-65cf-486f-84de-d75258d706e4",
   "metadata": {},
   "source": [
    "$$\n",
    "\\frac{\\partial u_1}{\\partial X_1} = \\frac{0.01}{1.0} = 0.01 \\quad\\quad \\text{and} \\quad\\quad \\frac{\\partial u_1}{\\partial x_1} = \\frac{0.01}{1.01} = 0.0099\n",
    "$$ (ch08_eq13)"
   ]
  },
  {
   "cell_type": "markdown",
   "id": "300e7eb1-62f5-4b19-b76d-fc254542c691",
   "metadata": {},
   "source": [
    "Thus, when strains are small ($e < 1\\%$), $\\frac{\\partial u_i}{\\partial X_i} \\approx \\frac{\\partial u_i}{\\partial x_i}$, and the difference between the displacement gradient in the initial or final state is insignificant. Small strains are called *infinitesimal strains*, and they are important in a number of fields in geosciences, particularly in geophysics.\n",
    "\n",
    "For infinitesimal strain, the distinction between old and new coordinates is irrelevant, and therefore we can just use one column in {numref}`ch08_tab01`. The displacement gradient $\\mathbf{e}$ is an asymmetric tensor, and it can be decomposed into a symmetric and an antisymmetric tensor (Eq. {eq}`ch08_eq14`):\n",
    "\n",
    ":::{note}\n",
    "We use $\\mathbf{e}$ to denote the displacement gradient. This is different than the non-bold italic letter $e$ which is used for elongation.\n",
    ":::"
   ]
  },
  {
   "cell_type": "markdown",
   "id": "0f91b669-e9fe-40d3-8193-05b665698c11",
   "metadata": {},
   "source": [
    "$$\n",
    "e_{ij} = \\varepsilon_{ij} + \\omega_{ij}\n",
    "$$ (ch08_eq14)"
   ]
  },
  {
   "cell_type": "markdown",
   "id": "aa234b64-8fd3-46c7-9b5d-0fa347d4027b",
   "metadata": {},
   "source": [
    "where:"
   ]
  },
  {
   "cell_type": "markdown",
   "id": "43f974a6-4f64-49c8-b7a4-f4c791b5e4fb",
   "metadata": {},
   "source": [
    "$$\\label{eq8.14} \\varepsilon_{ij}=\\frac{1}{2}(e_{ij}+e_{ji})=\\begin{bmatrix}e_{11}&\\frac{e_{12}+e_{21}}{2}&\\frac{e_{13}+e_{31}}{2}\\\\ \\frac{e_{21}+e_{12}}{2}&e_{22}&\\frac{e_{23}+e_{32}}{2}\\\\ \\frac{e_{31}+e_{13}}{2}&\\frac{e_{32}+e_{23}}{2}&e_{33}\\end{bmatrix}\n",
    "$$ (ch08_eq15)"
   ]
  },
  {
   "cell_type": "markdown",
   "id": "6ab257be-cc8f-4239-abde-5352711e9236",
   "metadata": {},
   "source": [
    "and:"
   ]
  },
  {
   "cell_type": "markdown",
   "id": "6bf0ac1c-eab9-423f-86ee-9c08b38a1065",
   "metadata": {},
   "source": [
    "$$\n",
    "\\omega_{ij}=\\frac{1}{2}(e_{ij}-e_{ji})=\\begin{bmatrix}0&\\frac{e_{12}-e_{21}}{2}&\\frac{e_{13}-e_{31}}{2}\\\\ \\frac{e_{21}-e_{12}}{2}&0&\\frac{e_{23}-e_{32}}{2}\\\\ \\frac{e_{31}-e_{13}}{2}&\\frac{e_{32}-e_{23}}{2}&0\\end{bmatrix}\n",
    "$$ (ch08_eq16)"
   ]
  },
  {
   "cell_type": "markdown",
   "id": "8eedad8d-46e9-4233-837b-489e4650d339",
   "metadata": {},
   "source": [
    "The symmetric tensor $\\boldsymbol{\\varepsilon}$ is called the strain tensor. The diagonal, $\\varepsilon_{ii}$, terms of this tensor correspond to the elongations along the axes of the reference system, and the off-diagonal terms, $\\varepsilon_{ij}$, correspond to half the shear strain ($\\varepsilon_{ij} = \\frac{\\gamma_{ij}}{2}$). Like any symmetric tensor, the strain tensor has three principal axes which can be determined by computing the eigenvalues and eigenvectors of the tensor ([Section 6.2](ch06-2)). These principal axes define the infinitesimal strain ellipsoid.\n",
    "\n",
    "The antisymmetric tensor $\\boldsymbol{\\omega}$ is also known as an axial vector. The Cartesian coordinates, $r_i$, of this vector give the orientation of the rotation axis:"
   ]
  },
  {
   "cell_type": "markdown",
   "id": "79b1803a-fc82-41e8-b72d-9807bfe16b72",
   "metadata": {},
   "source": [
    "$$\n",
    "r_1=\\frac{-(\\omega_{23}-\\omega_{32})}{2}\\quad r_2=\\frac{-(-\\omega_{13}+\\omega_{31})}{2}\\quad \\text{and}\\quad r_3=\\frac{-(\\omega_{12}-\\omega_{21})}{2}\n",
    "$$ (ch08_eq17)"
   ]
  },
  {
   "cell_type": "markdown",
   "id": "054352dc-e667-4d4b-b577-1e92fd90f678",
   "metadata": {},
   "source": [
    "The amount of rotation in radians is just the length of the vector $\\mathbf{r}$:"
   ]
  },
  {
   "cell_type": "markdown",
   "id": "c32dcba1-fcf2-4287-ad18-8524fce66ec7",
   "metadata": {},
   "source": [
    "$$\n",
    "\\omega = \\vert \\mathbf{r}\\vert = \\sqrt{r_1^2+r_2^2+r_3^2}\n",
    "$$ (ch08_eq18)"
   ]
  },
  {
   "cell_type": "markdown",
   "id": "747d4694-d832-4d29-9c7a-4d50d705e448",
   "metadata": {},
   "source": [
    "The function [inf_strain](https://github.com/nfcd/compGeo/blob/master/source/functions/inf_strain.py) computes the infinitesimal strain and rotation tensors from a displacement gradient. It also outputs the principal strains, and the components and amount of rotation:"
   ]
  },
  {
   "cell_type": "code",
   "execution_count": null,
   "id": "3e38eb33-f66e-4c28-b8fc-912b47865078",
   "metadata": {
    "tags": [
     "remove-output"
    ]
   },
   "outputs": [],
   "source": [
    "import numpy as np\n",
    "\n",
    "from compgeo.cart_to_sph import cart_to_sph\n",
    "from compgeo.zero_twopi import zero_twopi\n",
    "\n",
    "\n",
    "def inf_strain(e):\n",
    "    \"\"\"\n",
    "    inf_strain computes infinitesimal strain from an input\n",
    "    displacement gradient tensor\n",
    "\n",
    "    USE: eps,ome,pstrain,rotc,rot = inf_strain(e)\n",
    "\n",
    "    e = 3 x 3 displacement gradient tensor\n",
    "    eps = 3 x 3 strain tensor\n",
    "    ome = 3 x 3 rotation tensor\n",
    "    pstrain = 3 x 3 matrix with magnitude (column 1), trend\n",
    "            (column 2) and plunge (column 3) of maximum\n",
    "            (row 1), intermediate (row 2),and minimum \n",
    "            (row 3) principal strains\n",
    "    rotc = 1 x 3 vector with rotation components\n",
    "    rot = 1 x 3 vector with rotation magnitude and trend\n",
    "        and plunge of rotation axis\n",
    "\n",
    "    NOTE: Output trends and plunges of principal strains\n",
    "        and rotation axes are in radians\n",
    "\n",
    "    Python function translated from the Matlab function\n",
    "    InfStrain in Allmendinger et al. (2012)\n",
    "    \"\"\"\n",
    "    # Initialize variables\n",
    "    eps = np.zeros((3,3))\n",
    "    ome = np.zeros((3,3))\n",
    "    pstrain = np.zeros((3,3))\n",
    "    rotc = np.zeros(3)\n",
    "    rot = np.zeros(3)\n",
    "\n",
    "    # Compute strain and rotation tensors\n",
    "    for i in range(3):\n",
    "        for j in range(3):\n",
    "            eps[i,j]=0.5*(e[i,j]+e[j,i])\n",
    "            ome[i,j]=0.5*(e[i,j]-e[j,i])\n",
    "\n",
    "    # Compute principal strains and orientations.\n",
    "    # Here we use the function eigh. D is a vector\n",
    "    # of eigenvalues (i.e. principal strains), and V is a\n",
    "    # full matrix whose columns are the corresponding\n",
    "    # eigenvectors (i.e. principal strain directions)\n",
    "    D,V = np.linalg.eigh(eps)\n",
    "\n",
    "    # Maximum principal strain\n",
    "    pstrain[0,0] = D[2]\n",
    "    pstrain[0,1],pstrain[0,2] = cart_to_sph(V[0,2],V[1,2],V[2,2])\n",
    "    \n",
    "    # Intermediate principal strain\n",
    "    pstrain[1,0] = D[1] \n",
    "    pstrain[1,1],pstrain[1,2] = cart_to_sph(V[0,1],V[1,1],V[2,1])\n",
    "    \n",
    "    # Minimum principal strain\n",
    "    pstrain[2,0] = D[0] \n",
    "    pstrain[2,1],pstrain[2,2] = cart_to_sph(V[0,0],V[1,0],V[2,0])\n",
    "\n",
    "    # Calculate rotation components\n",
    "    rotc[0]=(ome[1,2]-ome[2,1])*-0.5\n",
    "    rotc[1]=(-ome[0,2]+ome[2,0])*-0.5\n",
    "    rotc[2]=(ome[0,1]-ome[1,0])*-0.5\n",
    "\n",
    "    # Compute rotation magnitude\n",
    "    rot[0] = np.sqrt(rotc[0]**2+rotc[1]**2+rotc[2]**2)\n",
    "    \n",
    "    # Compute trend and plunge of rotation axis\n",
    "    rot[1],rot[2] = cart_to_sph(rotc[0]/rot[0],\n",
    "                                rotc[1]/rot[0],\n",
    "                                rotc[2]/rot[0])\n",
    "    \n",
    "    # If plunge is negative\n",
    "    if rot[2] < 0:\n",
    "        rot[1] = zero_twopi(rot[1]+np.pi)\n",
    "        rot[2] *= -1\n",
    "        rot[0] *= -1\n",
    "\n",
    "    return eps, ome, pstrain, rotc, rot"
   ]
  },
  {
   "cell_type": "markdown",
   "id": "4e232162-da82-45fd-937a-f255ebecae0a",
   "metadata": {},
   "source": [
    "(ch08-3-1)=\n",
    "### Mohr circle for infinitesimal strain\n",
    "\n",
    "As discussed in [Section 6.4.1](ch06-4-1), the rotation of the infinitesimal strain tensor about one principal axis can be represented by a Mohr circle. We start with the infinitesimal strain tensor in principal coordinates:"
   ]
  },
  {
   "cell_type": "markdown",
   "id": "6a6d780e-50a9-4984-a0f6-fb66eae1b80e",
   "metadata": {},
   "source": [
    "$$\n",
    "\\varepsilon_{ij}=\\begin{bmatrix}\\varepsilon_1&0&0\\\\ 0&\\varepsilon_2&0\\\\ 0&0&\\varepsilon_3\\end{bmatrix}\n",
    "$$ (ch08_eq19)"
   ]
  },
  {
   "cell_type": "markdown",
   "id": "6849e913-5e08-46aa-8f4b-8cf197e2586d",
   "metadata": {},
   "source": [
    "and perform a rotation $\\theta$ about $\\mathbf{X_2}$ ({numref}`Figure %s <ch08_fig03>`a), which is described by the transformation matrix:"
   ]
  },
  {
   "cell_type": "markdown",
   "id": "fb1687f4-583a-4c29-8b40-751522db4dec",
   "metadata": {},
   "source": [
    "$$\n",
    "a_{ij} = \\begin{pmatrix}\\cos\\theta&0&\\sin\\theta\\\\0&1&0\\\\-\\sin\\theta&0&\\cos\\theta\\end{pmatrix}\n",
    "$$ (ch08_eq20)"
   ]
  },
  {
   "cell_type": "markdown",
   "id": "cb2bfbcc-02e3-4c35-a3d8-b978b0cdf8c6",
   "metadata": {},
   "source": [
    "The tensor transformation equation is:"
   ]
  },
  {
   "cell_type": "markdown",
   "id": "8da364c6-d818-4b32-9fd4-c7ad432b5e92",
   "metadata": {},
   "source": [
    "$$\n",
    "\\varepsilon_{ij}' = a_{ik}a_{jl}\\varepsilon_{kl}\n",
    "$$ (ch08_eq21)"
   ]
  },
  {
   "cell_type": "markdown",
   "id": "8429c796-1b15-45a3-8956-3438bdd4afc9",
   "metadata": {},
   "source": [
    "which results in the new form of the strain tensor:"
   ]
  },
  {
   "cell_type": "markdown",
   "id": "be80dc2b-42ed-40db-be07-76cf4bdfda9f",
   "metadata": {},
   "source": [
    "$$\n",
    "\\varepsilon'_{ij}=\\begin{bmatrix}\\varepsilon_1\\cos^2\\theta+\\varepsilon_3\\sin^2\\theta&0&-(\\varepsilon_1-\\varepsilon_3)\\sin\\theta\\cos\\theta\\\\0&\\varepsilon_2&0\\\\-(\\varepsilon_1-\\varepsilon_3)\\sin\\theta\\cos\\theta&0&\\varepsilon_1\\sin^2\\theta+\\varepsilon_3\\cos^2\\theta\\end{bmatrix}\n",
    "$$ (ch08_eq22)"
   ]
  },
  {
   "cell_type": "markdown",
   "id": "a88b47a2-000a-43b2-82ae-cae6e0c34a0d",
   "metadata": {},
   "source": [
    "```{figure} figures/ch08_fig03.png\n",
    ":width: 600px\n",
    ":name: ch08_fig03\n",
    "\n",
    "Rotation of the infinitesimal strain tensor about principal axis $\\mathbf{X_2}$. **a.** Physical plane representation, **b.** Mohr circle representation. Modified from Allmendinger et al. (2012).\n",
    "```"
   ]
  },
  {
   "cell_type": "markdown",
   "id": "816b80a9-3590-44ec-a449-dc5308c4c007",
   "metadata": {},
   "source": [
    "Upon rearranging, we get:"
   ]
  },
  {
   "cell_type": "markdown",
   "id": "ddee5181-07f6-43f5-855d-a468badbdaa7",
   "metadata": {},
   "source": [
    "$$\n",
    "\\begin{gathered}\n",
    "    \\varepsilon_{11}'=\\frac{\\varepsilon_1+\\varepsilon_3}{2}+\\frac{\\varepsilon_1-\\varepsilon_3}{2}\\cos 2\\theta \\\\\n",
    "    \\varepsilon_{33}'=\\frac{\\varepsilon_1+\\varepsilon_3}{2}-\\frac{\\varepsilon_1-\\varepsilon_3}{2}\\cos 2\\theta \\\\\n",
    "    \\varepsilon_{13}'=\\varepsilon_{31}'=\\frac{\\gamma}{2}=-\\frac{\\varepsilon_1-\\varepsilon_3}{2}\\sin 2\\theta\n",
    "\\end{gathered}\n",
    "$$ (ch08_eq23)"
   ]
  },
  {
   "cell_type": "markdown",
   "id": "4c7ce28a-5e37-45ce-9121-dc48a48a1d75",
   "metadata": {},
   "source": [
    "which are the equations of the Mohr circle for infinitesimal strain ({numref}`Figure %s <ch08_fig03>`b). This Mohr circle is not very useful, but perhaps the most important thing illustrated by it is that the two directions of maximum shear strain are at $\\pm$<!-- -->45to the principal axes, $\\varepsilon_1$ and $\\varepsilon_3$ ({numref}`Figure %s <ch08_fig03>`b). Turning this around for the infinitesimal strain in a shear zone, the infinitesimal shortening and extension directions are always at 45to the shear zone. For example, veins and foliations at the edge of a shear zone, and P and T axes of earthquakes ([Section 8.3.2](ch08-3-2)) are all oriented 45to the shear (fault) zone ({numref}`Figure %s <ch08_fig04>`)."
   ]
  },
  {
   "cell_type": "markdown",
   "id": "9b7e34e9-f974-4b9b-be6d-54461d9d17f9",
   "metadata": {},
   "source": [
    "```{figure} figures/ch08_fig04.png\n",
    ":width: 600px\n",
    ":name: ch08_fig04\n",
    "\n",
    "The infinitesimal extension and shortening directions are always at 45$^o$ to the shear zone. **a.** Sigmoidal veins, **b.** Foliation, and **c.** P and T axes of earthquakes. Modified from Allmendinger et al. (2012).\n",
    "```"
   ]
  },
  {
   "cell_type": "markdown",
   "id": "45f49f5c-4f37-4eb5-9fc8-4e17d583d164",
   "metadata": {},
   "source": [
    "(ch08-3-2)=\n",
    "### Applications of Infinitesimal Strain\n",
    "\n",
    "(ch08-3-2-1)=\n",
    "#### **P** and **T** axes\n",
    "\n",
    "Our first application is based on the observation we just made regarding the orientation of the principal axes of infinitesimal strain with respect to a shear zone ({numref}`Figure %s <ch08_fig04>`). In a fault, the infinitesimal shortening **P** and extension **T** axes are at 45$^o$ to the slip vector (e.g. fault striae), and they lie on the plane defined by the fault striae and the fault pole. This plane is known as the movement plane $M$ ({numref}`Figure %s <ch08_fig05>`)."
   ]
  },
  {
   "cell_type": "markdown",
   "id": "12429cec-067e-4497-86dd-eeed70da0f2a",
   "metadata": {},
   "source": [
    "```{figure} figures/ch08_fig05.png\n",
    ":width: 600px\n",
    ":name: ch08_fig05\n",
    "\n",
    "**a.** Reverse fault, striae and movement plane $M$. **b.** Representation of **a** on a lower hemisphere equal area stereonet. Modified from Marshak and Mitra (1988).\n",
    "```"
   ]
  },
  {
   "cell_type": "markdown",
   "id": "bb5e16f3-3ab8-415f-8c61-28b12baf5a22",
   "metadata": {},
   "source": [
    "The displacement gradient tensor, $e_{ij}$ of a population of $n$ small faults with poles vectors, $p_i$, and slip vectors, $u_i$, is given by (Allmendinger et al., 2012):"
   ]
  },
  {
   "cell_type": "markdown",
   "id": "f83e6897-6a37-4fb8-909e-f8d802c7a4e7",
   "metadata": {},
   "source": [
    "$$\n",
    "e_{ij}=\\frac{\\sum_{i=1}^{n}\\left(M_{g} u_{i} p_{j}\\right)}{V}\n",
    "$$ (ch08_eq24)"
   ]
  },
  {
   "cell_type": "markdown",
   "id": "ef9d9ae4-3646-45d5-852e-9c03e6401f1d",
   "metadata": {},
   "source": [
    "where $M_g$ is the geometric moment and $V$ is the volume of the region being deformed. As discussed in [Section 8.3](ch08-3), we can decompose this equation to yield the infinitesimal strain and rotation tensors:"
   ]
  },
  {
   "cell_type": "markdown",
   "id": "14efd012-c597-4299-95df-7e83d8bd6266",
   "metadata": {},
   "source": [
    "$$\n",
    "e_{i j}=\\varepsilon_{i j}+\\omega_{i j}=\\frac{M_{g}\\left(u_{i} p_{j}+u_{j} p_{i}\\right)}{2 V}+\\frac{M_{g}\\left(u_{i} p_{j}-u_{j} p_{i}\\right)}{2 V}\n",
    "$$ (ch08_eq25)"
   ]
  },
  {
   "cell_type": "markdown",
   "id": "d546d0ae-33b7-44c8-866e-6244db7f78ab",
   "metadata": {},
   "source": [
    "Because $M_g/2V$ is a scalar, the orientations of the principal axes of infinitesimal strain are identical to the principal axes of the symmetric tensor $(u_i p_j+u_j p_i)$, which are just a function of the fault planes and striae orientations. The **P** and **T** axes are therefore a simple, direct representation of fault geometry and the orientation and sense of slip (Allmendinger et al., 1989).\n",
    "\n",
    "The function [pt_axes](https://github.com/nfcd/compGeo/blob/master/source/functions/pt_axes.py) computes and plots the **P** and **T** axes from the orientation of several faults and their slip vectors:"
   ]
  },
  {
   "cell_type": "code",
   "execution_count": null,
   "id": "fcf288f3-091b-476d-b4db-b98ca25ce4c7",
   "metadata": {
    "tags": [
     "remove-output"
    ]
   },
   "outputs": [],
   "source": [
    "import numpy as np\n",
    "import matplotlib.pyplot as plt\n",
    "\n",
    "from compgeo.cart_to_sph import cart_to_sph\n",
    "from compgeo.zero_twopi import zero_twopi\n",
    "from compgeo.sph_to_cart import sph_to_cart\n",
    "from compgeo.stereonet import stereonet\n",
    "from compgeo.great_circle import great_circle\n",
    "from compgeo.st_coord_line import st_coord_line\n",
    "from compgeo.pole import pole_from_plane\n",
    "\n",
    "\n",
    "def pt_axes(fault,slip,sense, fpsv):\n",
    "    \"\"\"\n",
    "    pt_axes computes the P and T axes from the orientation\n",
    "    of several fault planes and their slip vectors. Results\n",
    "    are plotted in an equal area stereonet\n",
    "\n",
    "    USE: P,T,senseC,fig,ax = pt_axes(fault,slip,sense)\n",
    "\n",
    "    fault = nfaults x 2 vector with strikes and dips of\n",
    "        faults\n",
    "    slip = nfaults x 2 vector with trend and plunge of\n",
    "        slip vectors\n",
    "    sense = nfaults x 1 vector with sense of faults\n",
    "    fpsv = A flag to tell wether the fault plane and\n",
    "        slip vector are plotted (1) or not\n",
    "    P = nfaults x 2 vector with trend and plunge of P axes\n",
    "    T = nfaults x 2 vector with trend and plunge of T axes\n",
    "    senseC = nfaults x 1 vector with corrected sense of slip\n",
    "\n",
    "    fig and ax are handles to the figure and axes\n",
    "\n",
    "    NOTE: Input/Output angles are in radians\n",
    "\n",
    "    Python function based on the Matlab function\n",
    "    PTAxes in Allmendinger et al. (2012)\n",
    "    \"\"\"\n",
    "    pi = np.pi\n",
    "    # Initialize some vectors\n",
    "    p = np.zeros(3)\n",
    "    u = np.zeros(3)\n",
    "    eps = np.zeros((3,3))\n",
    "    P = np.zeros((np.size(fault,0),2))\n",
    "    T = np.zeros((np.size(fault,0),2))\n",
    "    senseC = sense\n",
    "\n",
    "    # For all faults\n",
    "    for i in range(np.size(fault,0)):\n",
    "        \n",
    "        # Direction cosines of pole to fault and slip vector\n",
    "        trd, plg = pole_from_plane(fault[i,0],fault[i,1])\n",
    "        p[0],p[1],p[2] = sph_to_cart(trd, plg)\n",
    "        u[0],u[1],u[2] = sph_to_cart(slip[i,0],slip[i,1])\n",
    "        # Compute u(i)*p(j) + u(j)*p(i)\n",
    "        for j in range(3):\n",
    "            for k in range(3):\n",
    "                eps[j,k]=u[j]*p[k]+u[k]*p[j]\n",
    "        \n",
    "        # Compute orientations of principal axes of strain\n",
    "        # Here we use the function eigh\n",
    "        _,V = np.linalg.eigh(eps)\n",
    "        \n",
    "        # P orientation\n",
    "        P[i,0],P[i,1] = cart_to_sph(V[0,2],V[1,2],V[2,2])\n",
    "        if P[i,1] < 0:\n",
    "            P[i,0] = zero_twopi(P[i,0]+pi)\n",
    "            P[i,1] *= -1\n",
    "        \n",
    "        # T orientation\n",
    "        T[i,0],T[i,1] = cart_to_sph(V[0,0],V[1,0],V[2,0]) \n",
    "        if T[i,1] < 0.0:\n",
    "            T[i,0] = zero_twopi(T[i,0]+pi)\n",
    "            T[i,1] *= -1\n",
    "        \n",
    "        # Determine 3rd component of pole cross product slip\n",
    "        cross = p[0] * u[1] - p[1] * u[0]\n",
    "        \n",
    "        # Use cross and first character in sense to\n",
    "        # determine if kinematic axes should be switched\n",
    "        s2 = \"p\"\n",
    "        if sense[i][0] == \"T\" or sense[i][0] == \"t\": \n",
    "            s2 = \"Y\"\n",
    "        \n",
    "        if (sense[i][0]==\"R\" or sense[i][0]==\"r\") and cross>0.0:\n",
    "            s2 = \"Y\"\n",
    "        \n",
    "        if (sense[i][0]==\"L\" or sense[i][0]==\"l\") and cross<0.0: \n",
    "            s2 = \"Y\"\n",
    "        \n",
    "        if s2 == \"Y\":\n",
    "            temp1 = P[i,0]\n",
    "            temp2 = P[i,1]\n",
    "            P[i,0] = T[i,0]\n",
    "            P[i,1] = T[i,1]\n",
    "            T[i,0] = temp1\n",
    "            T[i,1] = temp2\n",
    "            \n",
    "            if cross < 0.0: \n",
    "                senseC[i] = \"TL\"\n",
    "            \n",
    "            if cross > 0.0:\n",
    "                senseC[i] = \"TR\"\n",
    "        else:\n",
    "            \n",
    "            if cross < 0.0:\n",
    "                senseC[i] = \"NR\"\n",
    "            \n",
    "            if cross > 0.0:\n",
    "                senseC[i] = \"NL\"\n",
    "\n",
    "    # Plot in equal area stereonet\n",
    "    fig, ax = stereonet(0,90*pi/180,10*pi/180,1)\n",
    "    \n",
    "    # Plot P and T axes\n",
    "    for i in range(np.size(fault,0)):\n",
    "        \n",
    "        if fpsv == 1:\n",
    "            \n",
    "            # Plot fault\n",
    "            path = great_circle(fault[i,0],fault[i,1],1)\n",
    "            ax.plot(path[:,0],path[:,1],\"k\")\n",
    "            \n",
    "            # Plot slip vector (black circle)\n",
    "            xp,yp = st_coord_line(slip[i,0],slip[i,1],1)\n",
    "            ax.plot(xp,yp,\"ko\",\"MarkerFaceColor\",\"k\")\n",
    "        \n",
    "        # Plot P axis (blue circle)\n",
    "        xp,yp = st_coord_line(P[i,0],P[i,1],1)\n",
    "        ax.plot(xp,yp,\"bo\",\"MarkerFaceColor\",\"b\")\n",
    "        \n",
    "        # Plot T axis (red circle)\n",
    "        xp,yp = st_coord_line(T[i,0],T[i,1],1)\n",
    "        ax.plot(xp,yp,\"ro\",\"MarkerFaceColor\",\"r\")\n",
    "\n",
    "    return P, T, senseC, fig, ax"
   ]
  },
  {
   "cell_type": "markdown",
   "id": "b52b8e77-28d2-42b0-9a37-3e82f904a5ab",
   "metadata": {},
   "source": [
    "Let’s use this function to plot the **P** and **T** axes for a group of faults from the Central Andes in Northern Argentina. The file [jujuy.txt](https://github.com/nfcd/compGeo/blob/master/source/data/ch8-1/jujuy.txt) contains the orientation (strike and dip) of the faults, and the orientation (trend and plunge) and sense of movement of the slip vectors (striae).\n",
    "\n",
    ":::{note}\n",
    "The file [jujuy.txt](https://github.com/nfcd/compGeo/blob/master/source/data/ch8-1/jujuy.txt) is the same one included in the program [FaultKin](https://www.rickallmendinger.net/faultkin) by Richard Allmendinger.\n",
    ":::\n",
    "\n",
    "The notebook [ch8-1](https://github.com/nfcd/compGeo/blob/master/source/notebooks/ch8-1.ipynb) shows how to do this:"
   ]
  },
  {
   "cell_type": "code",
   "execution_count": null,
   "id": "5e3f5cc8-6d36-4c54-a1b7-e2b8074b697b",
   "metadata": {
    "tags": [
     "remove-output"
    ]
   },
   "outputs": [],
   "source": [
    "# Import libraries\n",
    "import os\n",
    "import numpy as np\n",
    "pi = np.pi\n",
    "\n",
    "# Import function pt_axes\n",
    "from compgeo.pt_axes import pt_axes\n",
    "\n",
    "\n",
    "# Read the faults\n",
    "jujuy = np.loadtxt(os.path.abspath(\"data/ch8-1/jujuy.txt\"),\n",
    "                   usecols = [0,1,2,3])\n",
    "\n",
    "fault = jujuy[:,0:2] * pi/180\n",
    "slip = jujuy[:,2:4] * pi/180\n",
    "\n",
    "sense = np.loadtxt(os.path.abspath(\"data/ch8-1/jujuy.txt\"), \n",
    "                   usecols = 4, dtype = \"str\")\n",
    "\n",
    "# Compute P and T axes and plot them\n",
    "# Don't plot the faults and slip vectors\n",
    "P, T, senseC, fig, ax = pt_axes(fault, slip, sense, 0)"
   ]
  },
  {
   "cell_type": "markdown",
   "id": "7c02bdb9-09fa-4813-bfa2-9807345de25a",
   "metadata": {},
   "source": [
    "Here, the overall shortening direction given by the **P** axes (blue dots) is about E-W. From the **P** and **T** axes, it is possible to calculate a moment tensor summation and the kinematic axes, which define two nodal planes separating the regions of extension (**T** axes) and shortening (**P** axes). The regions of extension are typically shaded, and so the diagram looks like a beach ball ({numref}`Figure %s <ch08_fig04>`c). Beach ball diagrams are also used to display the focal mechanisms of earthquakes, where P-waves first arrivals pushing the ground up are marked as **T** axes, and those pushing the ground down are marked as **P** axes. We leave the moment tensor summation for the Exercises section."
   ]
  },
  {
   "cell_type": "markdown",
   "id": "6973648f-c0a3-489f-a307-44c92fe89856",
   "metadata": {},
   "source": [
    "(ch08-3-2-2)=\n",
    "#### 2D strain from GPS data\n",
    "\n",
    "The global positioning system (GPS) has revolutionized Earth sciences by providing geoscientists with real time monitoring of active deformation. Continuous GPS measurements provide mm resolution of the displacement of stations. Because the changes in distance between stations is very small (10s of mm) relative to the distance between stations (10s of km), the strains measured by GPS networks are infinitesimal. {numref}`Figure %s <ch08_fig06>` shows this problem in two dimensions:"
   ]
  },
  {
   "cell_type": "markdown",
   "id": "a6515e99-00f5-49d5-bb39-8eb42a315416",
   "metadata": {},
   "source": [
    "```{figure} figures/ch08_fig06.png\n",
    ":width: 450px\n",
    ":name: ch08_fig06\n",
    "\n",
    "Three points in an initial configuration $\\textbf{X}$ move along non-parallel vectors $\\textbf{u}$ to a final configuration $\\textbf{x}$, resulting in strain. Modified from Allmendinger et al. (2012).\n",
    "```"
   ]
  },
  {
   "cell_type": "markdown",
   "id": "677981f5-bd54-4ad5-a3a5-20f6091c9494",
   "metadata": {},
   "source": [
    "If the strain is homogeneous, the displacement of the stations is expressed by the following equation:"
   ]
  },
  {
   "cell_type": "markdown",
   "id": "2006dbfc-0920-4b49-a2f2-ee110b1d6794",
   "metadata": {},
   "source": [
    "$$\n",
    "u_{i}=t_{i}+e_{i j} X_{j}\n",
    "$$ (ch08_eq26)"
   ]
  },
  {
   "cell_type": "markdown",
   "id": "38a644da-a3ce-4c89-b905-eeef7eb91dcd",
   "metadata": {},
   "source": [
    "where $t_i$ is the translation vector and $e_{ij}$ is the displacement gradient tensor. In matrix form, this equation can be written as:"
   ]
  },
  {
   "cell_type": "markdown",
   "id": "e283e28a-dcfc-4365-bad4-70e84537b57f",
   "metadata": {},
   "source": [
    "$$\n",
    "\\left[\\begin{array}{c}{ }^{1} u_1 \\\\ { }^{1} u_{2} \\\\ { }^{2} u_{1} \\\\ { }^{2} u_{2} \\\\ \\cdots \\\\ \\cdots \\\\ { }^{n} u_{1} \\\\ { }^{n} u_{2}\\end{array}\\right]=\\left[\\begin{array}{cccccc}1 & 0 & { }^{1} X_{1} & { }^{1} X_{2} & 0 & 0 \\\\ 0 & 1 & 0 & 0 & { }^{1} X_{1} & { }^{1} X_{2} \\\\ 1 & 0 & { }^{2} X_{1} & { }^{2} X_{2} & 0 & 0 \\\\ 0 & 1 & 0 & 0 & { }^{2} X_{1} & { }^{2} X_{2} \\\\ \\cdots & \\cdots & \\cdots & \\cdots & \\cdots & \\cdots \\\\ \\cdots & \\cdots & \\cdots & \\cdots & \\cdots & \\cdots \\\\ 1 & 0 & { }^{n} X_{1} & { }^{n} X_{2} & 0 & 0 \\\\ 0 & 1 & 0 & 0 & { }^{n} X_{1} & { }^{n} X_{2}\\end{array}\\right]\\left[\\begin{array}{l}t_{1} \\\\ t_{2} \\\\ e_{11} \\\\ e_{12} \\\\ e_{21} \\\\ e_{22}\\end{array}\\right]\n",
    "$$ (ch08_eq27)"
   ]
  },
  {
   "cell_type": "markdown",
   "id": "f3d8435b-109b-4cb9-b90e-8653529a62ed",
   "metadata": {},
   "source": [
    "where the superscripts 1 to $n$ refer to the stations. The column vector to the right of Eq. {eq}`ch08_eq27` contains the unknowns, which are the two components of the translation vector ($t_1$ and $t_2$) and the four components of the displacement gradient tensor ($e_{11}$, $e_{12}$, $e_{21}$ and $e_{22}$). Therefore, in 2D there are 6 unknowns, and since each station delivers 2 equations, we need a minimum of 3 non-colinear stations to determine the strain ellipse.\n",
    "\n",
    ":::{note}\n",
    "In 3D there are 12 unknowns and each station delivers 3 equations. Therefore, we need a minimum of 4 non-colinear stations to determine the strain ellipsoid.\n",
    ":::\n",
    "\n",
    "Notice that Eq. {eq}`ch08_eq27` is written not just for 3 stations but for $n$ stations. If there are more than 3 stations in 2D (or 4 stations in 3D), the system is overdetermined (more equations than unknowns), and we can use the extra information to assess the uncertainties of the model parameters.\n",
    "\n",
    "The solution to Eq. {eq}`ch08_eq27` is a classical application of inverse theory, specifically the solution of the linear least-squares problem (Press et al., 1986). This problem has the form:"
   ]
  },
  {
   "cell_type": "markdown",
   "id": "db6f761e-d6ed-452d-ac76-bb9429ba53ea",
   "metadata": {},
   "source": [
    "$$\n",
    "\\mathbf{y}=\\mathbf{M} \\mathbf{x}\n",
    "$$ (ch08_eq28)"
   ]
  },
  {
   "cell_type": "markdown",
   "id": "eb06e3b8-e5fa-4ad6-ad36-e0a46f9675b2",
   "metadata": {},
   "source": [
    "where **y** is the vector with known displacements, **M** is the matrix with the location of the stations (this matrix is known as the design matrix), and **x** is the vector with the unknowns. To solve for **x**, **y** is multiplied by the inverse of **M**:"
   ]
  },
  {
   "cell_type": "markdown",
   "id": "b2094129-1159-402f-bc03-835efeaffbcc",
   "metadata": {},
   "source": [
    "$$\n",
    "\\mathbf{x}=\\mathbf{M}^{-1} \\mathbf{y}\n",
    "$$ (ch08_eq29)"
   ]
  },
  {
   "cell_type": "markdown",
   "id": "bce523ca-5720-4d8c-a7aa-3d3ff6b97847",
   "metadata": {},
   "source": [
    "In Matlab or Python, there are routines specifically designed to solve this problem. We use the function [lscov](https://github.com/nfcd/compGeo/blob/master/source/functions/lscov.py) by Paul Müller to solve this problem.\n",
    "\n",
    "There are three main strategies to compute the strain from a network of stations: i. To calculate the strain on triangular cells whose vertices are defined by the stations (Delaunay triangulation), ii. To calculate the strain on a regular grid of cells, using the stations within a radius, $r$, from the center of each cell (nearest neighbor method), or iii. To calculate the strain on a regular grid of cells, using all the stations weighted by their distance to the center of each cell (distance weighted method; Cardozo and Allmendinger; 2009). In this last case, the weighting factor is given by:"
   ]
  },
  {
   "cell_type": "markdown",
   "id": "5c8360cf-184c-437c-93dd-4649361ea023",
   "metadata": {},
   "source": [
    "$$\n",
    "W=\\exp \\left[\\frac{-d^{2}}{2 \\alpha^{2}}\\right]\n",
    "$$ (ch08_eq30)"
   ]
  },
  {
   "cell_type": "markdown",
   "id": "dc1e1601-c7ea-4954-93cd-4f14ea911952",
   "metadata": {},
   "source": [
    "where $d$ is the distance from the station to the center of the cell, and $\\alpha$ is a constant that specifies how the impact of a station decays with distance. A larger value of $\\alpha$ smooths out local variations.\n",
    "\n",
    "The function [grid_strain](https://github.com/nfcd/compGeo/blob/master/source/functions/grid_strain.py) computes and plots the infinitesimal strain of a network of GPS stations. Notice that after computing the displacement gradient for each cell, we use the function `inf_strain` to compute the strain:"
   ]
  },
  {
   "cell_type": "code",
   "execution_count": null,
   "id": "8314aacc-ee9a-4875-9bfa-4636536d7d16",
   "metadata": {
    "tags": [
     "remove-output"
    ]
   },
   "outputs": [],
   "source": [
    "import numpy as np\n",
    "import matplotlib.pyplot as plt\n",
    "import matplotlib.colors as mcolors\n",
    "from matplotlib.patches import Polygon\n",
    "from matplotlib.collections import PatchCollection\n",
    "from scipy.spatial import Delaunay\n",
    "\n",
    "from compgeo.lscov import lscov\n",
    "from compgeo.inf_strain import inf_strain\n",
    "\n",
    "\n",
    "def grid_strain(pos,disp,k,par,plotpar,plotst):\n",
    "    \"\"\"\n",
    "    grid_strain computes the infinitesimal strain of a network\n",
    "    of stations with displacements in x (east) and y (north).\n",
    "    Strain in z is assumed to be zero (plane strain)\n",
    "\n",
    "    USE: cent,eps,ome,pstrain,rotc,fig,ax = \n",
    "        grid_strain(pos,disp,k,par,plotpar,plotst)\n",
    "\n",
    "    pos = nstations x 2 matrix with x (east) and y (north)\n",
    "        positions of stations in meters\n",
    "    disp = nstations x 2 matrix with x (east) and y (north)\n",
    "        displacements of stations in meters\n",
    "    k = Type of computation: Delaunay (k = 0), nearest\n",
    "        neighbor (k = 1), or distance weighted (k = 2)\n",
    "    par = Parameters for nearest neighbor or distance\n",
    "        weighted computation. If Delaunay (k = 0), enter\n",
    "        a scalar corresponding to the minimum internal\n",
    "        angle of a triangle valid for computation.\n",
    "        If nearest neighbor (k = 1), input a 1 x 3 vector\n",
    "        with grid spacing, number of nearest neighbors,\n",
    "        and maximum distance to neighbors. If distance\n",
    "        weighted (k = 2), input a 1 x 2 vector with grid\n",
    "        spacing and distance weighting factor alpha\n",
    "    plotpar = Parameter to color the cells: Max elongation\n",
    "        (plotpar = 0), minimum elongation\n",
    "        (plotpar = 1), rotation (plotpar = 2),\n",
    "        or dilatation (plotpar = 3)\n",
    "    plotst = A flag to plot the stations (1) or not (0)\n",
    "    cent = ncells x 2 matrix with x and y positions of \n",
    "        cells centroids\n",
    "    eps = 3 x 3 x ncells array  with strain tensors of\n",
    "        the cells\n",
    "    ome = 3 x 3 x ncells array with rotation tensors of\n",
    "        the cells\n",
    "    pstrain = 3 x 3 x ncells array with magnitude and\n",
    "        orientation of principal strains of\n",
    "        the cells\n",
    "    rotc = ncells x 3 matrix with rotation components\n",
    "        of cells\n",
    "\n",
    "    fig and ax are handles to the figure and axes\n",
    "\n",
    "    NOTE: Input/Output angles are in radians. Output\n",
    "        azimuths are given with respect to North\n",
    "        pos, disp, grid spacing, max. distance to\n",
    "        neighbors, and alpha should be in meters\n",
    "\n",
    "    Python function translated from the Matlab function\n",
    "    GridStrain in Allmendinger et al. (2012)\n",
    "    \"\"\"\n",
    "    pi = np.pi\n",
    "    \n",
    "    # If Delaunay\n",
    "    if k == 0:\n",
    "        # Indexes of triangles vertices\n",
    "        # Use function Delaunay\n",
    "        tri = Delaunay(pos)\n",
    "        inds = tri.simplices\n",
    "        \n",
    "        # Number of cells\n",
    "        ncells = np.size(inds,0)\n",
    "        \n",
    "        # Number of stations per cell = 3\n",
    "        nstat = 3\n",
    "        \n",
    "        # Centers of cells\n",
    "        cent = np.zeros((ncells,2))\n",
    "        for i in range(ncells):\n",
    "            \n",
    "            # Triangle vertices\n",
    "            v1x=pos[inds[i,0],0]\n",
    "            v2x=pos[inds[i,1],0]\n",
    "            v3x=pos[inds[i,2],0]\n",
    "            v1y=pos[inds[i,0],1]\n",
    "            v2y=pos[inds[i,1],1]\n",
    "            v3y=pos[inds[i,2],1]\n",
    "            \n",
    "            # Center of cell\n",
    "            cent[i,0]=(v1x + v2x + v3x)/3.0\n",
    "            cent[i,1]=(v1y + v2y + v3y)/3.0\n",
    "            \n",
    "            # Triangle internal angles\n",
    "            s1 = np.sqrt((v3x-v2x)**2 + (v3y-v2y)**2)\n",
    "            s2 = np.sqrt((v1x-v3x)**2 + (v1y-v3y)**2)\n",
    "            s3 = np.sqrt((v2x-v1x)**2 + (v2y-v1y)**2)\n",
    "            a1 = np.arccos((v2x-v1x)*(v3x-v1x)/(s3*s2)+\\\n",
    "                (v2y-v1y)*(v3y-v1y)/(s3*s2))\n",
    "            a2 = np.arccos((v3x-v2x)*(v1x-v2x)/(s1*s3)+\\\n",
    "                (v3y-v2y)*(v1y-v2y)/(s1*s3))\n",
    "            a3 = np.arccos((v2x-v3x)*(v1x-v3x)/(s1*s2)+\\\n",
    "                (v2y-v3y)*(v1y-v3y)/(s1*s2))\n",
    "            \n",
    "            # If any of the internal angles is less than\n",
    "            # specified minimum, invalidate triangle\n",
    "            if a1 < par or a2 < par or a3 < par:\n",
    "                inds[i,:] = np.zeros(3)\n",
    "    \n",
    "    # If nearest neighbor or distance weighted\n",
    "    else:\n",
    "        \n",
    "        # Construct grid\n",
    "        xmin, xmax = min(pos[:,0]), max(pos[:,0])\n",
    "        ymin, ymax = min(pos[:,1]), max(pos[:,1])\n",
    "        cellsx = int(np.ceil((xmax-xmin)/par[0]))\n",
    "        cellsy = int(np.ceil((ymax-ymin)/par[0]))\n",
    "        xgrid = np.arange(xmin,(xmin+(cellsx+1)*par[0]),par[0])\n",
    "        ygrid = np.arange(ymin,(ymin+(cellsy+1)*par[0]),par[0])\n",
    "        XX,YY = np.meshgrid(xgrid,ygrid)\n",
    "        \n",
    "        # Number of cells\n",
    "        ncells = cellsx * cellsy\n",
    "        \n",
    "        # Number of stations per cell (nstat) and\n",
    "        # other parameters\n",
    "        # If nearest neighbor\n",
    "        if k == 1:\n",
    "            nstat = par[1] # max neighbors\n",
    "            sqmd = par[2]**2 # max squared distance\n",
    "        \n",
    "        # If distance weighted\n",
    "        elif k == 2:\n",
    "            nstat = np.size(pos,0) # all stations\n",
    "            dalpha = 2.0*par[1]*par[1] # 2*alpha*alpha\n",
    "        \n",
    "        # Cells\" centers\n",
    "        cent = np.zeros((ncells,2))\n",
    "        count = 0\n",
    "        for i in range(cellsy):\n",
    "            for j in range(cellsx):\n",
    "                cent[count,0] = (XX[i,j]+XX[i,j+1])/2.0\n",
    "                cent[count,1] = (YY[i,j]+YY[i+1,j])/2.0\n",
    "                count += 1\n",
    "        \n",
    "        # Initialize stations indexes for cells to -1\n",
    "        inds = np.ones((ncells,nstat), dtype=int)*-1\n",
    "        \n",
    "        # Initialize weight matrix for distance weighted\n",
    "        wv = np.zeros((ncells,nstat*2))\n",
    "        \n",
    "        # For all cells set stations indexes\n",
    "        for i in range(ncells):\n",
    "            \n",
    "            # Initialize sq distances to -1.0\n",
    "            sds = np.ones(nstat)*-1.0\n",
    "            \n",
    "            # For all stations\n",
    "            for j in range(np.size(pos,0)):\n",
    "                \n",
    "                # sq distance from cell center to station\n",
    "                dx = cent[i,0] - pos[j,0]\n",
    "                dy = cent[i,1] - pos[j,1]\n",
    "                sd = dx**2 + dy**2\n",
    "                \n",
    "                # If nearest neighbor\n",
    "                if k == 1:\n",
    "                    \n",
    "                    # If within the max sq distance\n",
    "                    if sd <= sqmd:\n",
    "                        minsd = min(sds)\n",
    "                        mini = np.argmin(sds)\n",
    "                        \n",
    "                        # If less than max neighbors\n",
    "                        if minsd == -1.0:\n",
    "                            sds[mini] = sd\n",
    "                            inds[i,mini] = j\n",
    "                        \n",
    "                        # If max neighbors\n",
    "                        else:\n",
    "                            \n",
    "                            # If sq distance is less \n",
    "                            # than neighbors max sq distance\n",
    "                            maxsd = max(sds)\n",
    "                            maxi = np.argmax(sds)\n",
    "                            if sd < maxsd:\n",
    "                                sds[maxi] = sd\n",
    "                                inds[i,maxi] = j\n",
    "                \n",
    "                # If distance weighted\n",
    "                elif k == 2:\n",
    "                    \n",
    "                    # All stations indexes\n",
    "                    inds[i,:] = np.arange(nstat)\n",
    "                    \n",
    "                    # Weight factor\n",
    "                    weight = np.exp(-sd/dalpha)\n",
    "                    wv[i,j*2] = weight\n",
    "                    wv[i,j*2+1] = weight\n",
    "\n",
    "    # Initialize arrays\n",
    "    y = np.zeros(nstat*2)\n",
    "    M = np.zeros((nstat*2,6))\n",
    "    e = np.zeros((3,3)) \n",
    "    eps = np.zeros((3,3,ncells))\n",
    "    ome = np.zeros((3,3,ncells)) \n",
    "    pstrain = np.zeros((3,3,ncells))\n",
    "    rotc = np.zeros((ncells,3)) \n",
    "\n",
    "    # For each cell\n",
    "    for i in range(ncells):\n",
    "        \n",
    "        # If required minimum number of stations\n",
    "        if min(inds[i,:]) >= 0:\n",
    "            \n",
    "            # Displacements column vector y\n",
    "            # and design matrix M. X1 = North, X2 = East\n",
    "            for j in range(nstat):\n",
    "                ic = inds[i,j]\n",
    "                y[j*2] = disp[ic,1]\n",
    "                y[j*2+1] = disp[ic,0]\n",
    "                M[j*2,:] = [1.,0.,pos[ic,1],pos[ic,0],0.,0.]\n",
    "                M[j*2+1,:] = [0.,1.,0.,0.,pos[ic,1],pos[ic,0]]\n",
    "            \n",
    "            # Find x using function lscov\n",
    "            # If Delaunay or nearest neighbor\n",
    "            if k == 0 or k == 1:\n",
    "                x = lscov(M,y)\n",
    "            \n",
    "            # If distance weighted\n",
    "            elif k == 2:\n",
    "                x = lscov(M,y,wv[i,:])\n",
    "            \n",
    "            # Displacement gradient tensor\n",
    "            for j in range(2):\n",
    "                e[j,0] = x[j*2+2]\n",
    "                e[j,1] = x[j*2+3]\n",
    "            \n",
    "            # Compute strain\n",
    "            eps[:,:,i],ome[:,:,i],pstrain[:,:,i],\\\n",
    "                rotc[i,:],_ = inf_strain(e)\n",
    "\n",
    "    # Variable to plot\n",
    "    # If maximum principal strain\n",
    "    if plotpar == 0:\n",
    "        vp = pstrain[0,0,:]\n",
    "        lcb = \"emax\"\n",
    "    \n",
    "    # If minimum principal strain\n",
    "    elif plotpar == 1:\n",
    "        vp = pstrain[2,0,:]\n",
    "        lcb = \"emin\"\n",
    "    \n",
    "    # If rotation: \n",
    "    # For plane strain, rotation = rotc(3)\n",
    "    elif plotpar == 2:\n",
    "        vp = rotc[:,2]*180/pi\n",
    "        lcb = r\"Rotation ($\\circ$)\"\n",
    "    \n",
    "    # If dilatation\n",
    "    elif plotpar == 3:\n",
    "        vp = pstrain[0,0,:]+pstrain[1,0,:]+pstrain[2,0,:]\n",
    "        lcb = \"dilatation\"\n",
    "\n",
    "    # Make a figure\n",
    "    fig, ax = plt.subplots(figsize=(15,7.5))\n",
    "\n",
    "    # Patches and colors for cells\n",
    "    patches = []\n",
    "    colors = []\n",
    "\n",
    "    # Fill cells patches and colors\n",
    "    # If Delaunay\n",
    "    if k == 0:\n",
    "        for i in range(ncells):\n",
    "            \n",
    "            # If minimum number of stations\n",
    "                if min(inds[i,:]) >= 0:\n",
    "                    xpyp = [[pos[inds[i,0],0],pos[inds[i,0],1]],\\\n",
    "                        [pos[inds[i,1],0],pos[inds[i,1],1]],\\\n",
    "                        [pos[inds[i,2],0],pos[inds[i,2],1]]]\n",
    "                    \n",
    "                    # length in km\n",
    "                    xpyp = np.divide(xpyp,1e3)\n",
    "                    polygon = Polygon(xpyp, True)\n",
    "                    patches.append(polygon)\n",
    "                    colors.append(vp[i])\n",
    "    \n",
    "    # If nearest neighbor or distance weighted\n",
    "    if k == 1 or k == 2:\n",
    "        count = 0\n",
    "        for i in range(cellsy):\n",
    "            for j in range(cellsx):\n",
    "                \n",
    "                # If minimum number of stations\n",
    "                if min(inds[count,:]) >= 0:\n",
    "                    xpyp = [[XX[i,j],YY[i,j]],[XX[i,j+1],YY[i,j+1]],\\\n",
    "                        [XX[i+1,j+1],YY[i+1,j+1]],[XX[i+1,j],YY[i+1,j]]]\n",
    "                    \n",
    "                    # length in km\n",
    "                    xpyp = np.divide(xpyp,1e3)\n",
    "                    polygon = Polygon(xpyp, True)\n",
    "                    patches.append(polygon)\n",
    "                    colors.append(vp[count])\n",
    "                count += 1\n",
    "\n",
    "    # Collect cells patches\n",
    "    pcoll = PatchCollection(patches)\n",
    "    \n",
    "    # Cells colors\n",
    "    pcoll.set_array(np.array(colors))\n",
    "    \n",
    "    # Color map is blue to red\n",
    "    pcoll.set_cmap(\"bwr\")\n",
    "    \n",
    "    # Positive values are red, negative are\n",
    "    # blue and zero is white\n",
    "    vmin = min(vp) \n",
    "    vmax = max(vp)\n",
    "    norm=mcolors.TwoSlopeNorm(vmin=vmin,vcenter=0.0,vmax=vmax)\n",
    "    pcoll.set_norm(norm)\n",
    "\n",
    "    # Draw cells\n",
    "    ax.add_collection(pcoll)\n",
    "\n",
    "    # Plot stations\n",
    "    if plotst == 1:\n",
    "        ax.plot(pos[:,0]*1e-3,pos[:,1]*1e-3,\"k.\",markersize=2) \n",
    "\n",
    "    # Axes\n",
    "    ax.axis(\"equal\")\n",
    "    ax.set_xlabel(\"x (km)\")\n",
    "    ax.set_ylabel(\"y (km)\")\n",
    "\n",
    "    # Color bar with nice ticks\n",
    "    intv = (vmax-vmin)*0.25\n",
    "    ticks=[vmin,vmin+intv,vmin+2*intv,vmin+3*intv,vmax]\n",
    "    lticks = [\"{:.2e}\".format(ticks[0]),\\\n",
    "        \"{:.2e}\".format(ticks[1]),\"{:.2e}\".format(ticks[2]),\\\n",
    "        \"{:.2e}\".format(ticks[3]),\"{:.2e}\".format(ticks[4])]\n",
    "    cbar = fig.colorbar(pcoll, label=lcb, ticks=ticks)\n",
    "    cbar.ax.set_yticklabels(lticks)\n",
    "\n",
    "    return cent, eps, ome, pstrain, rotc, fig, ax"
   ]
  },
  {
   "cell_type": "markdown",
   "id": "93f6d8cd-f32a-4a83-91b2-8becaeb34957",
   "metadata": {},
   "source": [
    "Let’s use this function to compute the infinitesimal rotation in Tibet and the Himalaya. The file [tibet.txt](https://github.com/nfcd/compGeo/blob/master/source/data/ch8-2/tibet.txt) contains the UTM, east and west, coordinates of GPS stations in the Tibetan Plateau region and their displacements in meters (from Zhang et al., 2004). The notebook [ch8-2](https://github.com/nfcd/compGeo/blob/master/source/notebooks/ch8-2.ipynb) shows the solution to this problem using the Delaunay, nearest neighbor, and distance weighted methods."
   ]
  },
  {
   "cell_type": "code",
   "execution_count": null,
   "id": "dce33580-ed31-42fd-8fa5-b44dac686101",
   "metadata": {
    "tags": [
     "remove-output"
    ]
   },
   "outputs": [],
   "source": [
    "import numpy as np\n",
    "pi = np.pi\n",
    "\n",
    "# Import function grid_strain\n",
    "from compgeo.grid_strain import grid_strain\n",
    "\n",
    "\n",
    "# Load Zhang et al. GPS data from the Tibetan plateau\n",
    "# load x, y coordinates and displacements\n",
    "tibet = np.loadtxt(os.path.abspath(\"data/ch8-2/tibet.txt\"))\n",
    "pos = tibet[:,0:2]\n",
    "disp = tibet[:,2:4] \n",
    "\n",
    "# Rotation from Delaunay triangulation, plot stations\n",
    "par = 10 * pi/180 #Minimum internal angle of triangles\n",
    "cent, eps, ome, pstrain, rotc, fig, ax = grid_strain(pos, disp, 0, par, 2, 1)"
   ]
  },
  {
   "cell_type": "code",
   "execution_count": null,
   "id": "f1a61ed0-7d07-433a-b599-5f97645df81d",
   "metadata": {
    "tags": [
     "remove-output"
    ]
   },
   "outputs": [],
   "source": [
    "# Rotation from nearest neighbor \n",
    "# Grid spacing = 75 km, neighbors 6, \n",
    "# max. distance = 150 km, plot stations\n",
    "par = [75e3,6,150e3]\n",
    "cent, eps, ome, pstrain, rotc, fig, ax = grid_strain(pos, disp, 1, par, 2, 1)"
   ]
  },
  {
   "cell_type": "code",
   "execution_count": null,
   "id": "46b0e6b5-fa88-44df-995d-812b10a1f547",
   "metadata": {
    "tags": [
     "remove-output"
    ]
   },
   "outputs": [],
   "source": [
    "# Rotation from distance Weighted \n",
    "# Grid spacing = 75 km, alpha = 150 km, plot stations\n",
    "par = [75e3,150e3]\n",
    "cent, eps, ome, pstrain, rotc, fig, ax = grid_strain(pos, disp, 2, par, 2, 1)"
   ]
  },
  {
   "cell_type": "markdown",
   "id": "2cc1b4af-7580-45dd-9051-0dea4a55fde5",
   "metadata": {},
   "source": [
    "Given the uneven distribution of the stations, the distance weighted method is perhaps the best representation of the infinitesimal strain. The rotation is about a downward vertical axis. The GPS-based rotation shows large coherent domains of clockwise (positive) and counterclockwise (negative) rotation. Interestingly enough, these domains are consistent with the permanent, long-term deformation of this region (Allmendinger et al., 2007)."
   ]
  },
  {
   "cell_type": "markdown",
   "id": "8d4ab1b4-2a99-49b1-a699-6d33a1c83c3b",
   "metadata": {},
   "source": [
    "(ch08-4)=\n",
    "## Finite strain\n",
    "\n",
    "When deformations are large, the initial and final states are not identical:"
   ]
  },
  {
   "cell_type": "markdown",
   "id": "915cc0ef-1225-42c3-8ca9-cc4eee9b3403",
   "metadata": {},
   "source": [
    "$$\n",
    "d X_{i} \\neq d x_{i} \\quad \\text { and } \\quad \\frac{\\partial u_{i}}{\\partial X_{i}} \\neq \\frac{\\partial u_{i}}{\\partial x_{i}}\n",
    "$$ (ch08_eq31)"
   ]
  },
  {
   "cell_type": "markdown",
   "id": "2e0ef123-52fd-47a8-8c53-6815a156aafa",
   "metadata": {},
   "source": [
    "and therefore, we need to use all the tensors in {numref}`ch08_tab01`.\n",
    "\n",
    "The mathematics of finite strain is quite involved (e.g. Means, 1976; Allmendinger et al., 2012) and we will not cover it in detail here. Rather, we will focus on the main tensors required to compute finite strain. We start with the finite strain tensor in the undeformed configuration:"
   ]
  },
  {
   "cell_type": "markdown",
   "id": "7518dda4-c54d-43d6-897e-8a2299f57b2f",
   "metadata": {},
   "source": [
    "$$\n",
    "E_{i j}=\\frac{1}{2}\\left[\\frac{\\partial u_{i}}{\\partial X_{j}}+\\frac{\\partial u_{j}}{\\partial X_{i}}+\\frac{\\partial u_{k}}{\\partial X_{i}} \\frac{\\partial u_{k}}{\\partial X_{j}}\\right]=\\frac{1}{2}\\left[e_{i j}+e_{j i}+e_{k i} e_{k j}\\right]\n",
    "$$ (ch08_eq32)"
   ]
  },
  {
   "cell_type": "markdown",
   "id": "fe5e2fc3-a9f0-4a7d-b280-17090fef2389",
   "metadata": {},
   "source": [
    "where $E_{ij}$ is known as the *Lagrangian finite strain tensor*. Similarly, we can compute the finite strain tensor in the deformed configuration:"
   ]
  },
  {
   "cell_type": "markdown",
   "id": "cf693c2e-e38f-4a69-bf30-fe2fa087d06c",
   "metadata": {},
   "source": [
    "$$\n",
    "\\bar{E}_{i j}=\\frac{1}{2}\\left[\\frac{\\partial u_{i}}{\\partial x_{j}}+\\frac{\\partial u_{j}}{\\partial x_{i}}-\\frac{\\partial u_{k}}{\\partial x_{i}} \\frac{\\partial u_{k}}{\\partial x_{j}}\\right]=\\frac{1}{2}\\left[\\bar{e}_{i j}+\\bar{e}_{j i}-\\bar{e}_{k i} \\bar{e}_{k j}\\right]\n",
    "$$ (ch08_eq33)"
   ]
  },
  {
   "cell_type": "markdown",
   "id": "40b7674b-500d-4a7a-a95c-e5fbfdc4df0b",
   "metadata": {},
   "source": [
    "where $\\bar{E}_{i j}$ is known as the *Eulerian finite strain tensor.\n",
    "\n",
    ":::{note}\n",
    "We use an upper bar to denote tensors in the deformed configuration, e.g. $\\bar{e}_{ij}$ and $\\bar{E}_{ij}$.\n",
    ":::\n",
    "\n",
    "Notice that Eqs. {eq}`ch08_eq29` and {eq}`ch08_eq30` are similar to Eq. {eq}`ch08_eq15` for the infinitesimal strain tensor, but with an extra term ($e_{k i} e_{k j}$ or $\\bar{e}_{k i} \\bar{e}_{k j}$).\n",
    "\n",
    "From the deformation gradient $\\mathbf{F}$, we can also compute deformation tensors. In the undeformed configuration:"
   ]
  },
  {
   "cell_type": "markdown",
   "id": "ab01335b-7b44-439f-a5ff-c44b4a009ca4",
   "metadata": {},
   "source": [
    "$$\n",
    "C_{i j}=\\frac{\\partial x_{k}}{\\partial X_{i}} \\frac{\\partial x_{k}}{\\partial X_{j}}=F_{k i} F_{k j}\n",
    "$$ (ch08_eq34)"
   ]
  },
  {
   "cell_type": "markdown",
   "id": "2e50f407-f977-41fe-b754-1b603791c73c",
   "metadata": {},
   "source": [
    "where $C_{ij}$ is known as the *Green deformation tensor*. Similarly, for the deformed configuration:"
   ]
  },
  {
   "cell_type": "markdown",
   "id": "5a344ffe-411c-4da1-ab15-334f98f82bd7",
   "metadata": {},
   "source": [
    "$$\n",
    "\\bar{C}_{i j}=\\frac{\\partial X_{k}}{\\partial x_{i}} \\frac{\\partial X_{k}}{\\partial x_{j}}=\\bar{F}_{k i} \\bar{F}_{k j}\n",
    "$$ (ch08_eq35)"
   ]
  },
  {
   "cell_type": "markdown",
   "id": "04c0102f-2bf7-4b51-99c9-49712d2e020b",
   "metadata": {},
   "source": [
    "where $\\bar{C}_{i j}$ is known as the *Cauchy deformation tensor*.\n",
    "\n",
    "The finite strain and deformation tensors are related. In the undeformed configuration:"
   ]
  },
  {
   "cell_type": "markdown",
   "id": "2475e6ea-4686-40cd-87bd-19c4074643fc",
   "metadata": {},
   "source": [
    "$$\n",
    "E_{i j}=\\frac{1}{2}\\left(C_{i j}-\\delta_{i j}\\right) \\quad \\text { and } \\quad C_{i j}=\\delta_{i j}+2 E_{i j}\n",
    "$$ (ch08_eq36)"
   ]
  },
  {
   "cell_type": "markdown",
   "id": "487a1145-fafb-4b0f-858d-06fbb108c20e",
   "metadata": {},
   "source": [
    "and in the deformed configuration:"
   ]
  },
  {
   "cell_type": "markdown",
   "id": "1e740336-73f1-45fc-9ab5-bfe3b7c72586",
   "metadata": {},
   "source": [
    "$$\n",
    "\\bar{E}_{i j}=\\frac{1}{2}\\left(\\delta_{i j}-\\bar{C}_{i j}\\right) \\quad \\text { and } \\quad \\bar{C}_{i j}=\\delta_{i j}-2 \\bar{E}_{i j}\n",
    "$$ (ch08_eq37)"
   ]
  },
  {
   "cell_type": "markdown",
   "id": "f36fb7b7-f808-4a05-9ae2-02f3e9990706",
   "metadata": {},
   "source": [
    "where $\\delta_{ij}$ is the Kronecker delta, a function that returns 1 if $i = j$, or 0 otherwise.\n",
    "\n",
    "Thus, the finite strain tensors do not contain any more information than the deformation tensors, and viceversa. They are all symmetric tensors that have principal axes and can be represented by Mohr circles (see next section). From Eqs. {eq}`ch08_eq36` and {eq}`ch08_eq37`, it is clear that $E_{ij}$ and $C_{ij}$ have the same principal axes orientations. This is also the case for $\\bar{E}_{ij}$ and $\\bar{C}_{ij}$. In addition these tensors are related to the quadratic elongation, $\\lambda_i$, along the coordinate axes:"
   ]
  },
  {
   "cell_type": "markdown",
   "id": "e691e530-69e9-4055-b273-c1113f056214",
   "metadata": {},
   "source": [
    "$$\n",
    "\\lambda_{i}=C_{i i}=1+2 E_{i i}\n",
    "$$ (ch08_eq38)"
   ]
  },
  {
   "cell_type": "markdown",
   "id": "92b34bcf-36be-43f9-ba24-ed5377fbb0f2",
   "metadata": {},
   "source": [
    "and:"
   ]
  },
  {
   "cell_type": "markdown",
   "id": "dc30f6fc-5fbe-4e78-a894-7b0cb94da2b8",
   "metadata": {},
   "source": [
    "$$\n",
    "\\frac{1}{\\lambda_{i}}=\\bar{C}_{i i}=1-2 \\bar{E}_{i i}\n",
    "$$ (ch08_eq39)"
   ]
  },
  {
   "cell_type": "markdown",
   "id": "f016624d-c2f2-4baf-9021-22a7e7d66f8a",
   "metadata": {},
   "source": [
    "{numref}`ch08_tab02` shows the finite strain and deformation tensors for the deformation in {numref}`Figure %s <ch08_fig02>`."
   ]
  },
  {
   "cell_type": "markdown",
   "id": "3f4fb3f7-f6f0-4be6-95f7-57883b1a4bd7",
   "metadata": {},
   "source": [
    "```{list-table} Finite strain and deformation tensors for Figure 8.2.\n",
    ":header-rows: 0\n",
    ":name: ch08_tab02\n",
    "\n",
    "* - Undeformed\n",
    "  - $E_{ij}=\\left[\\begin{array}{lll}0 & 0 & 0 \\\\ 0 & -0.375 & 0 \\\\ 0 & 0 & 1.5\\end{array}\\right]$\n",
    "  - $C_{ij} = \\left[\\begin{array}{lll}1 & 0 & 0 \\\\ 0 & 0.25 & 0 \\\\ 0 & 0 & 4\\end{array}\\right]$\n",
    "* - Deformed\n",
    "  - $\\bar{E}_{ij}=\\left[\\begin{array}{lll}0 & 0 & 0 \\\\ 0 & -1.5 & 0 \\\\ 0 & 0 & 0.375\\end{array}\\right]$\n",
    "  - $\\bar{C}_{ij} = \\left[\\begin{array}{lll}1 & 0 & 0 \\\\ 0 & 4 & 0 \\\\ 0 & 0 & 0.25\\end{array}\\right]$\n",
    "```"
   ]
  },
  {
   "cell_type": "markdown",
   "id": "cd2596a6-4ee6-4f96-abf4-e20ad6a073d3",
   "metadata": {},
   "source": [
    "You can see that the diagonal components of the Green deformation tensor, $C_{ij}$, are the quadratic elongations, $\\lambda_i$, along the coordinate axes, and the diagonal components of the Cauchy deformation tensor, $\\bar{C}_{ij}$, are the inverse of the quadratic elongations, $1/\\lambda_i$. The diagonal components of the Lagrangian and Eulerian finite strain tensors, $E_{ij}$ and $\\bar{E}_{ij}$, can be found from Eqs. {eq}`ch08_eq38` and {eq}`ch08_eq39`.\n",
    "\n",
    "The function [fin_strain](https://github.com/nfcd/compGeo/blob/master/source/functions/fin_strain.py) computes the finite strain from the displacement gradient tensor, in the undeformed (`frame` = 0) or deformed (`frame` = 1) configuration. Notice that for computing the maximum shear strain, the function assumes plane strain (Ramsay, 1967)."
   ]
  },
  {
   "cell_type": "code",
   "execution_count": null,
   "id": "7b50f6c3-d9a6-4df6-872b-9c8ca5a8e120",
   "metadata": {
    "tags": [
     "remove-output"
    ]
   },
   "outputs": [],
   "source": [
    "import numpy as np\n",
    "\n",
    "from compgeo.cart_to_sph import cart_to_sph\n",
    "\n",
    "\n",
    "def fin_strain(e,frame):\n",
    "    \"\"\"\n",
    "    fin_strain computes finite strain from an input\n",
    "    displacement gradient tensor\n",
    "\n",
    "    USE: eps,pstrain,dilat,maxsh = fin_strain(e,frame)\n",
    "\n",
    "    e = 3 x 3 Lagrangian or Eulerian displacement gradient\n",
    "        tensor\n",
    "    frame = Reference frame. 0 = undeformed (Lagrangian)\n",
    "        state, 1 = deformed (Eulerian) state\n",
    "    eps = 3 x 3 Lagrangian or Eulerian strain tensor\n",
    "    pstrain = 3 x 3 matrix with magnitude (column 1), trend\n",
    "        (column 2) and plunge (column 3) of maximum\n",
    "        (row 1), intermediate (row 2), and minimum\n",
    "        (row 3) elongations\n",
    "    dilat = dilatation\n",
    "    maxsh = 1 x 2 vector with max. shear strain and\n",
    "        orientation with respect to maximum principal\n",
    "        strain direction. Only valid in 2D\n",
    "\n",
    "    NOTE: Output angles are in radians\n",
    "\n",
    "    Python function translated from the Matlab function\n",
    "    FinStrain in Allmendinger et al. (2012)\n",
    "    \"\"\"\n",
    "    # Initialize variables\n",
    "    eps = np.zeros((3,3))\n",
    "    pstrain = np.zeros((3,3))\n",
    "    maxsh = np.zeros(2)\n",
    "\n",
    "    # Compute strain tensor\n",
    "    for i in range(3):\n",
    "        for j in range(3):\n",
    "            eps[i,j] = 0.5*(e[i][j]+e[j][i])\n",
    "            for k in range(3):\n",
    "                \n",
    "                # If undeformed reference frame: \n",
    "                # Lagrangian strain tensor\n",
    "                if frame == 0:\n",
    "                    eps[i,j] = eps[i,j] + 0.5*(e[k][i]*e[k][j])\n",
    "                \n",
    "                # If deformed reference frame: \n",
    "                # Eulerian strain tensor\n",
    "                elif frame == 1:\n",
    "                    eps[i,j] = eps[i,j] - 0.5*(e[k][i]*e[k][j])\n",
    "\n",
    "    # Compute principal elongations and orientations\n",
    "    D, V = np.linalg.eigh(eps)\n",
    "\n",
    "    # Principal elongations\n",
    "    for i in range(3):\n",
    "        ind = 2-i\n",
    "        \n",
    "        # Magnitude\n",
    "        # If undeformed reference frame: \n",
    "        # Lagrangian strain tensor\n",
    "        if frame == 0:\n",
    "            pstrain[i,0] = np.sqrt(1.0+2.0*D[ind])-1.0\n",
    "        \n",
    "        # If deformed reference frame:\n",
    "        # Eulerian strain tensor\n",
    "        elif frame == 1:\n",
    "            pstrain[i,0] = np.sqrt(1.0/(1.0-2.0*D[ind]))-1.0\n",
    "        \n",
    "        # Orientations\n",
    "        pstrain[i,1],pstrain[i,2] = cart_to_sph(V[0,ind],\n",
    "            V[1,ind],V[2,ind])\n",
    "\n",
    "    # Dilatation\n",
    "    dilat = (1.0+pstrain[0,0])*(1.0+pstrain[1,0])* \\\n",
    "        (1.0+pstrain[2,0]) - 1.0\n",
    "\n",
    "    # Maximum shear strain: This only works if plane strain\n",
    "    lmax = (1.0+pstrain[0,0])**2 # Maximum quad. elongation\n",
    "    lmin = (1.0+pstrain[2,0])**2 # Minimum quad. elongation\n",
    "    \n",
    "    # Maximum shear strain: Ramsay (1967) Eq. 3.46\n",
    "    maxsh[0] = (lmax-lmin)/(2.0*np.sqrt(lmax*lmin))\n",
    "    \n",
    "    # Angle of maximum shear strain with respect to maximum\n",
    "    # principal strain. Ramsay (1967) Eq. 3.45\n",
    "    # If undeformed reference frame\n",
    "    if frame == 0:\n",
    "        maxsh[1] = np.pi/4.0\n",
    "    \n",
    "    # If deformed reference frame\n",
    "    elif frame == 1:\n",
    "        maxsh[1] = np.arctan(np.sqrt(lmin/lmax))\n",
    "\n",
    "    return eps, pstrain, dilat, maxsh"
   ]
  },
  {
   "cell_type": "markdown",
   "id": "93b1e948-8866-4b7f-aca6-9464e616304b",
   "metadata": {},
   "source": [
    "(ch08-4-1)=\n",
    "### Mohr circle for finite strain\n",
    "\n",
    "The finite strain and deformation tensors are symmetric tensors. Therefore, a rotation about one of the principal axis of the tensor can be represented by a Mohr circle. As you may suspect, there are Mohr circles for finite strain in the undeformed and deformed configuration (Ramsay, 1967). For geoscientists, the Mohr circle for finite strain in the deformed configuration is the most important, since in nature we do observe deformed rocks.\n",
    "\n",
    "To derive this Mohr circle, we can start with the Cauchy deformation tensor in a principal axes coordinate system:"
   ]
  },
  {
   "cell_type": "markdown",
   "id": "74ce8fc5-d34d-49cb-9acb-3a862ba64cef",
   "metadata": {},
   "source": [
    "$$\n",
    "\\bar{C}_{i j}=\\left[\\begin{array}{ccc}\\bar{C}_{1} & 0 & 0 \\\\ 0 & \\bar{C}_{2} & 0 \\\\ 0 & 0 & \\bar{C}_{3}\\end{array}\\right]\n",
    "$$ (ch08_eq40)"
   ]
  },
  {
   "cell_type": "markdown",
   "id": "7ead1c47-bff6-4c22-bc9f-7ed69a53a913",
   "metadata": {},
   "source": [
    "and perform a rotation $\\theta$ about $\\mathbf{X_2}$, which is described by the transformation matrix:"
   ]
  },
  {
   "cell_type": "markdown",
   "id": "612ed112-2722-4bc8-83ef-e8c57404d528",
   "metadata": {},
   "source": [
    "$$\n",
    "a_{ij} = \\begin{pmatrix}\\cos\\theta&0&\\sin\\theta\\\\0&1&0\\\\-\\sin\\theta&0&\\cos\\theta\\end{pmatrix}\n",
    "$$ (ch08_eq41)"
   ]
  },
  {
   "cell_type": "markdown",
   "id": "a92c9643-1d11-43d2-96ad-c132fd50435e",
   "metadata": {},
   "source": [
    "The tensor transformation equation is:"
   ]
  },
  {
   "cell_type": "markdown",
   "id": "31eb3b1e-14f3-45a1-918f-d0b3466e31c9",
   "metadata": {},
   "source": [
    "$$\n",
    "\\bar{C}_{ij}' = a_{ik}a_{jl}\\bar{C}_{kl}\n",
    "$$ (ch08_eq42)"
   ]
  },
  {
   "cell_type": "markdown",
   "id": "c2fee3c9-9093-41e0-995a-7548f894d086",
   "metadata": {},
   "source": [
    "which results in the new form of the tensor:"
   ]
  },
  {
   "cell_type": "markdown",
   "id": "52f7d0ad-4a23-4c27-b4a6-42dcf0d69d72",
   "metadata": {},
   "source": [
    "$$\n",
    "\\bar{C}'_{ij}=\\begin{bmatrix}\\bar{C}_1\\cos^2\\theta+\\bar{C}_3\\sin^2\\theta&0&-(\\bar{C}_1-\\bar{C}_3)\\sin\\theta\\cos\\theta\\\\0&\\bar{C}_2&0\\\\-(\\bar{C}_1-\\bar{C}_3)\\sin\\theta\\cos\\theta&0&\\bar{C}_1\\sin^2\\theta+\\bar{C}_3\\cos^2\\theta\\end{bmatrix}\n",
    "$$ (ch08_eq43)"
   ]
  },
  {
   "cell_type": "markdown",
   "id": "b268a2fb-0aac-4035-819f-2333a13655ce",
   "metadata": {},
   "source": [
    "Upon rearranging, we get:"
   ]
  },
  {
   "cell_type": "markdown",
   "id": "51dce3a4-85cc-462f-b657-64eb3fc89844",
   "metadata": {},
   "source": [
    "$$\n",
    "\\begin{gathered}\n",
    "    \\bar{C}_{11}'=\\frac{\\bar{C}_1+\\bar{C}_3}{2}+\\frac{\\bar{C}_1-\\bar{C}_3}{2}\\cos 2\\theta  \\\\\n",
    "    \\bar{C}_{33}'=\\frac{\\bar{C}_1+\\bar{C}_3}{2}-\\frac{\\bar{C}_1-\\bar{C}_3}{2}\\cos 2\\theta \\\\\n",
    "    \\bar{C}_{13}'=\\bar{C}_{31}'=-\\frac{\\bar{C}_1-\\bar{C}_3}{2}\\sin 2\\theta\n",
    "\\end{gathered}\n",
    "$$ (ch08_eq44)"
   ]
  },
  {
   "cell_type": "markdown",
   "id": "64088776-28b8-460f-9111-d5655701b535",
   "metadata": {},
   "source": [
    "As stated in Eq. {eq}`ch08_eq39`, $\\bar{C}_{ii} = 1/\\lambda_i$. Also $\\bar{C}_{ij}$ for $i \\neq j$ is equal to $\\gamma / \\lambda$. Using $\\lambda ' = 1/\\lambda$ and $\\gamma ' = \\gamma / \\lambda$, we get the equations for the Mohr circle for finite strain in the deformed configuration:"
   ]
  },
  {
   "cell_type": "markdown",
   "id": "9049df65-0909-4a5e-8df9-3e4cf18e5717",
   "metadata": {},
   "source": [
    "$$\n",
    "\\begin{gathered}\n",
    "    \\lambda^{\\prime}=\\frac{\\left(\\lambda_{1}^{\\prime}+\\lambda_{3}^{\\prime}\\right)}{2}+\\frac{\\left(\\lambda_{1}^{\\prime}-\\lambda_{3}^{\\prime}\\right)}{2} \\cos 2 \\theta  \\\\\n",
    "    \\gamma^{\\prime}=-\\frac{\\left(\\lambda_{1}^{\\prime}-\\lambda_{3}^{\\prime}\\right)}{2} \\sin 2 \\theta\n",
    "\\end{gathered}\n",
    "$$ (ch08_eq45)"
   ]
  },
  {
   "cell_type": "markdown",
   "id": "fd8cf4b7-e2aa-4fce-9124-259358c89d8a",
   "metadata": {},
   "source": [
    "As an example, {numref}`Figure %s <ch08_fig07>`a shows a deformed circle and an inscribed triangle after 30$^o$ clockwise shear. {numref}`Figure %s <ch08_fig07>`b shows the Mohr circle for this deformation. In the Mohr circle, the horizontal axis is $\\lambda'$, and the vertical axis is $\\gamma'$. We follow the convention of Ragan (2009): Positive angular shear, $\\psi$, corresponds to anticlockwise rotation of the original line’s normal ({numref}`Figure %s <ch08_fig07>`a), and the $\\gamma'$ axis in the Mohr circle increases downwards ({numref}`Figure %s <ch08_fig07>`b). Notice that the angle between the horizontal axis and a line from the origin to any point in the Mohr circle is equal to $\\psi$. Therefore, a line from the origin and tangent to the Mohr circle indicates $\\psi_{\\text{max}}$ ({numref}`Figure %s <ch08_fig07>`b)."
   ]
  },
  {
   "cell_type": "markdown",
   "id": "833daa20-cbe5-4efd-b297-60cb72850b91",
   "metadata": {},
   "source": [
    "```{figure} figures/ch08_fig07.png\n",
    ":width: 600px\n",
    ":name: ch08_fig07\n",
    "\n",
    "**a.** Physical plane, and **b.** Mohr circle for 30° clockwise shear of a circle and a triangle. The pole, the triangle bisectors a, b and c (red and blue), the principal strain axes $S_{1}$ and $S_{3}$ (black), the LNFE (green), and the lines of maximum shear strain (orange) are all drawn in the Mohr circle.\n",
    "```"
   ]
  },
  {
   "cell_type": "markdown",
   "id": "faffeda9-dc65-43ed-b868-552a129a5f5f",
   "metadata": {},
   "source": [
    "From points in the Mohr circle, one can trace the corresponding lines with the same orientation than in the physical plane ({numref}`Figure %s <ch08_fig07>`b, triangle bisectors a, b and c). These lines will intersect at a point called the *pole* to the Mohr circle ({numref}`Figure %s <ch08_fig07>`b). From the pole, one can trace lines of any orientation; they will intersect the circle at points that represent the strain of lines with the same orientation in the physical plane. Thus, you can imagine the pole to be the center of the strain ellipse, and from it, it is easy to trace the principal axes of strain ($S_1$ and $S_3$), the lines of no finite elongation (LNFE, $\\lambda'=1$), and the lines of maximum shear strain ({numref}`Figure %s <ch08_fig07>`b)."
   ]
  },
  {
   "cell_type": "markdown",
   "id": "1cd8ba2c-8172-401f-8c02-6afc1c93c0f9",
   "metadata": {},
   "source": [
    "(ch08-4-2)=\n",
    "### 2D finite strain from displacement data\n",
    "\n",
    "If we have a group of points or stations with displacement data, we can determine the finite strain following a strategy similar to the one we used for infinitesimal strain. The function [grid_fin_strain](https://github.com/nfcd/compGeo/blob/master/source/functions/grid_fin_strain.py) computes and plots the finite strain for a group of points with displacement data. This function is very similar to our previous function `grid_strain`, and therefore we only include its header here. Notice that after computing the displacement gradient in the undeformed (`frame` = 0) or deformed (`frame` = 1) configuration, we use our function `fin_strain` to compute the finite strain in each cell."
   ]
  },
  {
   "cell_type": "code",
   "execution_count": null,
   "id": "496de20d-db82-4276-b82a-8778ee6557e4",
   "metadata": {
    "tags": [
     "remove-output"
    ]
   },
   "outputs": [],
   "source": [
    "import numpy as np\n",
    "import matplotlib.pyplot as plt\n",
    "import matplotlib.colors as mcolors\n",
    "from matplotlib.patches import Polygon\n",
    "from matplotlib.collections import PatchCollection\n",
    "from scipy.spatial import Delaunay\n",
    "\n",
    "from compgeo.lscov import lscov\n",
    "from compgeo.fin_strain import fin_strain\n",
    "\n",
    "\n",
    "def grid_fin_strain(pos,disp,frame,k,par,plotpar,plotst):\n",
    "    \"\"\"\n",
    "    grid_fin_strain computes the finite strain of a group\n",
    "    of points with displacements in x and y.\n",
    "    Strain in z is assumed to be zero (plane strain)\n",
    "    \n",
    "    USE: cent,eps,pstrain,dilat,maxsh,fig,ax = \n",
    "        grid_fin_strain(pos,disp,frame,k,par,plotpar,plotst)\n",
    "    \n",
    "    pos = npoints x 2 matrix with x and y position\n",
    "        of points\n",
    "    disp = nstations x 2 matrix with x and y\n",
    "        displacements of points\n",
    "    frame = Reference frame. 0 = undeformed (Lagrangian)\n",
    "        state, 1 = deformed (Eulerian) state\n",
    "    k = Type of computation: Delaunay (k = 0), nearest\n",
    "        neighbor (k = 1), or distance weighted (k = 2)\n",
    "    par = Parameters for nearest neighbor or distance\n",
    "        weighted computation. If Delaunay (k = 0), enter\n",
    "        a scalar corresponding to the minimum internal\n",
    "        angle of a triangle valid for computation.\n",
    "        If nearest neighbor (k = 1), input a 1 x 3 vector\n",
    "        with grid spacing, number of nearest neighbors,\n",
    "        and maximum distance to neighbors. If distance\n",
    "        weighted (k = 2), input a 1 x 2 vector with grid\n",
    "        spacing and distance weighting factor alpha\n",
    "    plotpar = Parameter to color the cells: Max elongation\n",
    "        (plotpar = 0), minimum elongation\n",
    "        (plotpar = 1), dilatation (plotpar = 2),\n",
    "        or max. shear strain (plotpar = 3)\n",
    "    plotst = A flag to plot the stations (1) or not (0)\n",
    "    cent = ncells x 2 matrix with x and y positions of the\n",
    "        cells centroids\n",
    "    eps = 3 x 3 x ncells array    with strain tensors of\n",
    "        the cells\n",
    "    pstrain = 3 x 3 x ncells array with magnitude and\n",
    "        orientation of principal strains of the cells\n",
    "    dilat = ncells x 1 vector with dilatation of the cells\n",
    "    maxsh = ncells x 2 matrix with max. shear strain and\n",
    "        orientation with respect to maximum principal\n",
    "        strain direction, of the cells.\n",
    "        Only valid for plane strain\n",
    "        \n",
    "    fig and ax are handles to the figure and axes\n",
    "    \n",
    "    NOTE: Input/Output angles are in radians. Output\n",
    "        azimuths are given with respect to y\n",
    "        pos, disp, grid spacing, max. distance to\n",
    "        neighbors, and alpha should be in the same\n",
    "        length units\n",
    "    \"\"\"\n",
    "    # If Delaunay\n",
    "    if k == 0:\n",
    "        # Indexes of triangles vertices\n",
    "        # Use function Delaunay\n",
    "        tri = Delaunay(pos)\n",
    "        inds = tri.simplices\n",
    "        # Number of cells\n",
    "        ncells = np.size(inds,0)\n",
    "        # Number of stations per cell = 3\n",
    "        nstat = 3\n",
    "        # Centers of cells\n",
    "        cent = np.zeros((ncells,2))\n",
    "        for i in range(ncells):\n",
    "            # Triangle vertices\n",
    "            v1x=pos[inds[i,0],0]\n",
    "            v2x=pos[inds[i,1],0]\n",
    "            v3x=pos[inds[i,2],0]\n",
    "            v1y=pos[inds[i,0],1]\n",
    "            v2y=pos[inds[i,1],1]\n",
    "            v3y=pos[inds[i,2],1]\n",
    "            # Center of cell\n",
    "            cent[i,0]=(v1x + v2x + v3x)/3.0\n",
    "            cent[i,1]=(v1y + v2y + v3y)/3.0\n",
    "            # Triangle internal angles\n",
    "            s1 = np.sqrt((v3x-v2x)**2 + (v3y-v2y)**2)\n",
    "            s2 = np.sqrt((v1x-v3x)**2 + (v1y-v3y)**2)\n",
    "            s3 = np.sqrt((v2x-v1x)**2 + (v2y-v1y)**2)\n",
    "            a1 = np.arccos((v2x-v1x)*(v3x-v1x)/(s3*s2)+\\\n",
    "                (v2y-v1y)*(v3y-v1y)/(s3*s2))\n",
    "            a2 = np.arccos((v3x-v2x)*(v1x-v2x)/(s1*s3)+\\\n",
    "                (v3y-v2y)*(v1y-v2y)/(s1*s3))\n",
    "            a3 = np.arccos((v2x-v3x)*(v1x-v3x)/(s1*s2)+\\\n",
    "                (v2y-v3y)*(v1y-v3y)/(s1*s2))\n",
    "            # If any of the internal angles is less than\n",
    "            # specified minimum, invalidate triangle\n",
    "            if a1 < par or a2 < par or a3 < par:\n",
    "                inds[i,:] = np.zeros(3)\n",
    "    # If nearest neighbor or distance weighted\n",
    "    else:\n",
    "        # Construct grid\n",
    "        xmin = min(pos[:,0]); xmax = max(pos[:,0])\n",
    "        ymin = min(pos[:,1]); ymax = max(pos[:,1])\n",
    "        cellsx = int(np.ceil((xmax-xmin)/par[0]))\n",
    "        cellsy = int(np.ceil((ymax-ymin)/par[0]))\n",
    "        xgrid = np.arange(xmin,(xmin+(cellsx+1)*par[0]),par[0])\n",
    "        ygrid = np.arange(ymin,(ymin+(cellsy+1)*par[0]),par[0])\n",
    "        XX,YY = np.meshgrid(xgrid,ygrid)\n",
    "        # Number of cells\n",
    "        ncells = cellsx * cellsy\n",
    "        # Number of stations per cell (nstat) and\n",
    "        # other parameters\n",
    "        # If nearest neighbor\n",
    "        if k == 1:\n",
    "            nstat = par[1] # max neighbors\n",
    "            sqmd = par[2]**2 # max squared distance\n",
    "        # If distance weighted\n",
    "        elif k == 2:\n",
    "            nstat = np.size(pos,0) # all stations\n",
    "            dalpha = 2.0*par[1]*par[1] # 2*alpha*alpha\n",
    "        # Cells\" centers\n",
    "        cent = np.zeros((ncells,2))\n",
    "        count = 0\n",
    "        for i in range(cellsy):\n",
    "            for j in range(cellsx):\n",
    "                cent[count,0] = (XX[i,j]+XX[i,j+1])/2.0\n",
    "                cent[count,1] = (YY[i,j]+YY[i+1,j])/2.0\n",
    "                count += 1\n",
    "        # Initialize stations indexes for cells to -1\n",
    "        inds = np.ones((ncells,nstat), dtype=int)*-1\n",
    "        # Initialize weight matrix for distance weighted\n",
    "        wv = np.zeros((ncells,nstat*2))\n",
    "        # For all cells set stations indexes\n",
    "        for i in range(ncells):\n",
    "            # Initialize sq distances to -1.0\n",
    "            sds = np.ones(nstat)*-1.0\n",
    "            # For all stations\n",
    "            for j in range(np.size(pos,0)):\n",
    "                # Sq distance from cell center to station\n",
    "                dx = cent[i,0] - pos[j,0]\n",
    "                dy = cent[i,1] - pos[j,1]\n",
    "                sd = dx**2 + dy**2\n",
    "                # If nearest neighbor\n",
    "                if k == 1:\n",
    "                    # If within the max sq distance\n",
    "                    if sd <= sqmd:\n",
    "                        minsd = min(sds)\n",
    "                        mini = np.argmin(sds)\n",
    "                        # If less than max neighbors\n",
    "                        if minsd == -1.0:\n",
    "                            sds[mini] = sd\n",
    "                            inds[i,mini] = j\n",
    "                        # If max neighbors\n",
    "                        else:\n",
    "                            # If sq distance is less\n",
    "                            # than neighbors max sq distance\n",
    "                            maxsd = max(sds)\n",
    "                            maxi = np.argmax(sds)\n",
    "                            if sd < maxsd:\n",
    "                                sds[maxi] = sd\n",
    "                                inds[i,maxi] = j\n",
    "                # If distance weighted\n",
    "                elif k == 2:\n",
    "                    # All stations indexes\n",
    "                    inds[i,:] = np.arange(nstat)\n",
    "                    # Eq. 8.27: Weight factor\n",
    "                    weight = np.exp(-sd/dalpha)\n",
    "                    wv[i,j*2] = weight\n",
    "                    wv[i,j*2+1] = weight\n",
    "    \n",
    "    # Initialize arrays\n",
    "    y = np.zeros(nstat*2)\n",
    "    M = np.zeros((nstat*2,6))\n",
    "    e = np.zeros((3,3)) \n",
    "    eps = np.zeros((3,3,ncells)) \n",
    "    pstrain = np.zeros((3,3,ncells))\n",
    "    dilat = np.zeros((ncells,1))\n",
    "    maxsh = np.zeros((ncells,2)) \n",
    "        \n",
    "    # For each cell\n",
    "    for i in range(ncells):\n",
    "        # If required minimum number of stations\n",
    "        if min(inds[i,:]) >= 0:\n",
    "            # Eq. 8.24: Displacements column vector y\n",
    "            # and design matrix M. X1 = y, X2 = x\n",
    "            for j in range(nstat):\n",
    "                ic = inds[i,j]\n",
    "                y[j*2] = disp[ic,1]\n",
    "                y[j*2+1] = disp[ic,0]\n",
    "                M[j*2,:] = [1.,0.,pos[ic,1],pos[ic,0],0.,0.]\n",
    "                M[j*2+1,:] = [0.,1.,0.,0.,pos[ic,1],pos[ic,0]]\n",
    "            # Eqs. 8.25-8.26: Find x using function lscov\n",
    "            # If Delaunay or nearest neighbor\n",
    "            if k == 0 or k == 1:\n",
    "                x = lscov(M,y)\n",
    "            # If distance weighted\n",
    "            elif k == 2:\n",
    "                x = lscov(M,y,wv[i,:])\n",
    "            # Displacement gradient tensor\n",
    "            for j in range(2):\n",
    "                e[j,0] = x[j*2+2]\n",
    "                e[j,1] = x[j*2+3]\n",
    "            # Compute strain\n",
    "            eps[:,:,i],pstrain[:,:,i],dilat[i,:],\\\n",
    "                maxsh[i,:] = fin_strain(e,frame)\n",
    "\n",
    "    # Variable to plot\n",
    "    # If maximum principal strain\n",
    "    if plotpar == 0:\n",
    "        vp = pstrain[0,0,:]\n",
    "        vmin = 0.0\n",
    "        vmax = 2.0\n",
    "        lcb = \"emax\"\n",
    "    # If minimum principal strain\n",
    "    elif plotpar == 1:\n",
    "        vp = pstrain[2,0,:]\n",
    "        vmin = -2.0\n",
    "        vmax = 0.0\n",
    "        lcb = \"emin\"\n",
    "    # If dilatation:\n",
    "    elif plotpar == 2:\n",
    "        vp = dilat[:]\n",
    "        vmin = -1.0\n",
    "        vmax = 1.0\n",
    "        lcb = \"dilatation\"\n",
    "    # If max. shear strain\n",
    "    elif plotpar == 3:\n",
    "        vp = maxsh[:,0]\n",
    "        vmin = 0.0\n",
    "        vmax = 2.0\n",
    "        lcb = \"max. shear strain\"\n",
    "\n",
    "    # Make a figure\n",
    "    fig, ax = plt.subplots(figsize=(15.0,7.5))\n",
    "    \n",
    "    # Patches and colors for cells\n",
    "    patches = []\n",
    "    colors = []\n",
    "    \n",
    "    # Fill cells patches and colors\n",
    "    # If Delaunay\n",
    "    if k == 0:\n",
    "        for i in range(ncells):\n",
    "            # If minimum number of stations\n",
    "                if min(inds[i,:]) >= 0:\n",
    "                    xpyp = [[pos[inds[i,0],0],pos[inds[i,0],1]],\\\n",
    "                            [pos[inds[i,1],0],pos[inds[i,1],1]],\\\n",
    "                            [pos[inds[i,2],0],pos[inds[i,2],1]]]\n",
    "                    polygon = Polygon(xpyp, True)\n",
    "                    patches.append(polygon)\n",
    "                    colors.append(vp[i])\n",
    "    # If nearest neighbor or distance weighted\n",
    "    if k == 1 or k == 2:\n",
    "        count = 0\n",
    "        for i in range(cellsy):\n",
    "            for j in range(cellsx):\n",
    "                # If minimum number of stations\n",
    "                if min(inds[count,:]) >= 0:\n",
    "                    xpyp = [[XX[i,j],YY[i,j]],[XX[i,j+1],YY[i,j+1]],\\\n",
    "                        [XX[i+1,j+1],YY[i+1,j+1]],[XX[i+1,j],YY[i+1,j]]]\n",
    "                    polygon = Polygon(xpyp, True)\n",
    "                    patches.append(polygon)\n",
    "                    colors.append(vp[count])\n",
    "                count += 1\n",
    "\n",
    "    # Collect cells patches\n",
    "    pcoll = PatchCollection(patches)\n",
    "    # Cells colors\n",
    "    pcoll.set_array(np.array(colors))\n",
    "    # Color map is blue to red\n",
    "    pcoll.set_cmap(\"jet\")\n",
    "    norm = mcolors.Normalize(vmin=vmin,vmax=vmax)\n",
    "    pcoll.set_norm(norm)\n",
    "    \n",
    "    # Draw cells\n",
    "    ax.add_collection(pcoll)\n",
    "    \n",
    "    # Plot stations\n",
    "    if plotst == 1:\n",
    "        ax.plot(pos[:,0],pos[:,1],\"k.\",markersize=2) \n",
    "    \n",
    "    # Axes\n",
    "    ax.axis(\"equal\")\n",
    "    ax.set_xlabel(\"x\")\n",
    "    ax.set_ylabel(\"y\")\n",
    "    \n",
    "    # Color bar with nice ticks\n",
    "    intv = (vmax-vmin)*0.25\n",
    "    ticks=[vmin,vmin+intv,vmin+2*intv,vmin+3*intv,vmax]\n",
    "    lticks = [\"{:.2}\".format(ticks[0]),\\\n",
    "            \"{:.2}\".format(ticks[1]),\"{:.2}\".format(ticks[2]),\\\n",
    "            \"{:.2}\".format(ticks[3]),\"{:.2}\".format(ticks[4])]\n",
    "    cbar = fig.colorbar(pcoll, label=lcb, ticks=ticks)\n",
    "    cbar.ax.set_yticklabels(lticks)\n",
    "    \n",
    "    return cent, eps, pstrain, dilat, maxsh, fig, ax"
   ]
  },
  {
   "cell_type": "markdown",
   "id": "a76302e7-2fa6-4833-9a53-b9479bce8228",
   "metadata": {},
   "source": [
    "Let’s use this function to compute the maximum shear strain of a discrete element model of a normal fault. The discrete element method is a mechanical method that simulates the rocks as an assembly of elements. The file [demfault.txt](https://github.com/nfcd/compGeo/blob/master/source/data/ch8-3/demfault.txt) contains the deformed $x$ and $y$ coordinates of the elements and their displacements in meters. The notebook [ch8-3](https://github.com/nfcd/compGeo/blob/master/source/notebooks/ch8-3.ipynb) shows the solution to this problem using the nearest neighbor method:"
   ]
  },
  {
   "cell_type": "code",
   "execution_count": null,
   "id": "0324e388-e2ed-41aa-a6a7-f6e1950bd7db",
   "metadata": {
    "tags": [
     "remove-output"
    ]
   },
   "outputs": [],
   "source": [
    "import os\n",
    "import numpy as np\n",
    "\n",
    "# Import function grid_fin_strain\n",
    "from compgeo.grid_fin_strain import grid_fin_strain\n",
    "\n",
    "# load x, y deformed coordinates and displacements\n",
    "demfault = np.loadtxt(os.path.abspath(\"data/ch8-3/demfault.txt\"))\n",
    "pos = demfault[:,0:2]\n",
    "disp = demfault[:,2:4]\n",
    "\n",
    "# Max. shear strain from nearest neighbor, Def. config. \n",
    "# Grid spacing = 0.2 m, neighbors 6, \n",
    "# max. distance = 0.4 m, plot stations\n",
    "par = [0.2,6,0.4]\n",
    "cent,eps,pstrain,dilat,maxsh,fig,ax = grid_fin_strain(pos,\n",
    "                                        disp,1,1,par,3,1)\n",
    "\n",
    "# Add units to the axes\n",
    "ax.set_xlabel(\"x [m]\")\n",
    "ax.set_ylabel(\"y [m]\")\n",
    "plt.show()"
   ]
  },
  {
   "cell_type": "markdown",
   "id": "36be59ed-b7e9-4780-9df7-b4662629fbcd",
   "metadata": {},
   "source": [
    "The maximum shear strain delineates the internal structure of the fault. You can find more information about computing strain from displacement or velocity data in Cardozo and Allmendinger (2009)."
   ]
  },
  {
   "cell_type": "markdown",
   "id": "6f8130e7-8a14-47d8-8fca-34e39e1a9428",
   "metadata": {},
   "source": [
    "(ch08-5)=\n",
    "## Progressive strain\n",
    "\n",
    "We have focused so far on the undeformed (initial) and deformed (final) states. However, finite strain is actually the cumulative result of a series of strain increments:"
   ]
  },
  {
   "cell_type": "markdown",
   "id": "dac4268e-35c3-4803-8dec-f08a5df99318",
   "metadata": {},
   "source": [
    "$$\n",
    "\\begin{aligned}{ }^{1} x_{i} &={ }^{1} F_{i j}{ }^{1} X_{j} \\\\{ }^{2} X_{i} &={ }^{1} x_{i} \\\\{ }^{2} x_{i} &={ }^{2} F_{i j}{ }^{2} X_{j} \\\\{ }^{3} X_{i} &={ }^{2} x_{i} \\\\{ }^{3} x_{i} &={ }^{3} F_{i j}{ }^{3} X_{j} \\\\ \\cdots \\\\{ }^{n} x_{i} &={ }^{n} F_{i j}{ }^{n} X_{j} \\end{aligned}\n",
    "$$ (ch08_eq46)"
   ]
  },
  {
   "cell_type": "markdown",
   "id": "dcbdf6bb-04ba-48d7-a924-d962b7f88cb5",
   "metadata": {},
   "source": [
    "where $F_{ij}$ is the Green deformation gradient, and $1$ to $n$ are the strain increments. This can also be written as:"
   ]
  },
  {
   "cell_type": "markdown",
   "id": "1459acd3-fe9f-4666-a7b0-df6ab986a5b6",
   "metadata": {},
   "source": [
    "$$\n",
    "x_{i}={ }^{n} F_{i j} \\ldots{ }^{3} F_{i j}{ }^{2} F_{i j}{ }^{1} F_{i j}{ }^{1} X_{j}\n",
    "$$ (ch08_eq47)"
   ]
  },
  {
   "cell_type": "markdown",
   "id": "6b80e806-2c65-4c8c-ba76-49533e6ad8e7",
   "metadata": {},
   "source": [
    "Notice that since ${ }^{2}\\mathbf{F}{ }^{1}\\mathbf{F}\\neq{ }^{1}\\mathbf{F}{ }^{2}\\mathbf{F}$, for finite strain we must know the order of deformation. For example, if we want to determine the finite strain of a group of faults in a region, we must know the order at which these faults formed. This is often very difficult to determine.\n",
    "\n",
    "Let’s look at some simple deformations, which are characterized by the same incremental deformation gradient through time. For simplicity, we will assume that there is no strain along the $\\mathbf{X_2}$ axis, and all strain is in the $\\mathbf{X_1}\\mathbf{X_3}$ plane. Thus, we will be dealing with plane strain."
   ]
  },
  {
   "cell_type": "markdown",
   "id": "2fb9fb92-dab2-4aa8-a604-b1440b9d6daa",
   "metadata": {},
   "source": [
    "(ch08-5-1)=\n",
    "### Pure shear\n",
    "\n",
    "For pure shear, the principal stretches are along the coordinate axes (e.g. {numref}`Figure %s <ch08_fig02>`). Let’s assume the maximum principal stretch, $S_1$, is along $\\mathbf{X_1}$, and the minimum principal strecth, $S_3$, is along $\\mathbf{X_3}$ ({numref}`Figure %s <ch08_fig08>`a). $S_2 = 1$ (plane strain) and is parallel to $\\mathbf{X_2}$. The Green deformation gradient for this case is:"
   ]
  },
  {
   "cell_type": "markdown",
   "id": "76e3e154-b04d-4c40-bf0d-8481a12eaa70",
   "metadata": {},
   "source": [
    "$$\n",
    "{ }^{PS}F_{ij}=\\left[\\begin{array}{ccc}S_{1} & 0 & 0 \\\\ 0 & 1 & 0 \\\\ 0 & 0 & S_{3}\\end{array}\\right]\n",
    "$$ (ch08_eq48)"
   ]
  },
  {
   "cell_type": "markdown",
   "id": "59df4eb4-b208-45fa-9133-d633184bc57e",
   "metadata": {},
   "source": [
    "```{figure} figures/ch08_fig08.png\n",
    ":width: 600px\n",
    ":name: ch08_fig08\n",
    "\n",
    "**a.** Pure shear, and **b.** Simple shear. Blue is undeformed, and red is deformed geometry. Large white and gray circles are initial and final positions, respectively. The displacement paths of the points are divided in 10 increments. Modified from Allmendinger et al. (2012).\n",
    "```"
   ]
  },
  {
   "cell_type": "markdown",
   "id": "b405193a-e1c6-467e-82ae-db39d777d144",
   "metadata": {},
   "source": [
    "The function [pure_shear](https://github.com/nfcd/compGeo/blob/master/source/functions/pure_shear.py) deforms a collection of points using pure shear, a value of $S_1$ (`st1`), and assuming plane strain and area conservation ($S_1S_3 = 1$). The function displays the points’ displacement paths for a number of increments (`ninc`), and the progressive strain history as the value of $S_1$ versus the angle $S_1$ makes with the $\\mathbf{X_1}$ axis ($\\Theta$). The last two parameters are computed from the eigenvalues and eigenvectors of the Green deformation tensor:"
   ]
  },
  {
   "cell_type": "code",
   "execution_count": null,
   "id": "1d1dadd6-2826-4a43-96dd-005e4e384fb8",
   "metadata": {
    "tags": [
     "remove-output"
    ]
   },
   "outputs": [],
   "source": [
    "import numpy as np\n",
    "import matplotlib.pyplot as plt\n",
    "\n",
    "\n",
    "def pure_shear(pts,st1,ninc):\n",
    "    \"\"\"\n",
    "    pure_shear computes and plots displacement paths and\n",
    "    progressive finite strain history for pure shear with\n",
    "    maximum stretching parallel to the X1 axis\n",
    "\n",
    "    USE: paths,pfs,fig,ax = pure_shear(pts,st1,ninc)\n",
    "\n",
    "    pts: npoints x 2 matrix with X1 and X3 coord. of points\n",
    "    st1 = Maximum principal stretch\n",
    "    ninc = number of strain increments\n",
    "    paths = displacement paths of points\n",
    "    pfs = progressive finite strain history. column 1 =\n",
    "        orientation of maximum stretch with respect to X1\n",
    "        in degrees, column 2 = maximum stretch magnitude\n",
    "\n",
    "    fig and ax are handles to the figure and axes\n",
    "\n",
    "    NOTE: Intermediate principal stretch is 1.0 (Plane \n",
    "        strain). Output orientations are in radians\n",
    "\n",
    "    Python function based on the Matlab function\n",
    "    PureShear in Allmendinger et al. (2012)\n",
    "    \"\"\"\n",
    "    # Compute minimum principal stretch and incr. stretches\n",
    "    st1inc=st1**(1.0/ninc)\n",
    "    st3=1.0/st1\n",
    "    st3inc=st3**(1.0/ninc)\n",
    "\n",
    "    # Initialize displacement paths\n",
    "    npts = np.size(pts,0) # Number of points\n",
    "    paths = np.zeros((ninc+1,npts,2))\n",
    "    paths[0,:,:] = pts # Initial points of paths\n",
    "\n",
    "    # Calculate incr. deformation gradient tensor\n",
    "    F = np.array([[st1inc, 0.0], [0.0, st3inc]])\n",
    "\n",
    "    # Initialize figure\n",
    "    fig, ax = plt.subplots(1, 2, figsize=(15,5)) # 1 x 2 figure\n",
    "\n",
    "    # Compute displacement paths\n",
    "    for i in range(npts): # for all points\n",
    "        for j in range(ninc+1): # for all strain increments\n",
    "            for k in range(2):\n",
    "                for L in range(2):\n",
    "                    paths[j,i,k] = F[k,L]*paths[j-1,i,L] + paths[j,i,k]\n",
    "        \n",
    "        # Plot displacement path of point\n",
    "        ax[0].plot(paths[:,i,0], paths[:,i,1], \"k.-\")\n",
    "\n",
    "    # Plot initial polygon\n",
    "    inpol = np.zeros((npts+1,2))\n",
    "    inpol[0:npts,]=paths[0,0:npts,:]\n",
    "    inpol[npts,] = inpol[0,]\n",
    "    ax[0].plot(inpol[:,0],inpol[:,1],\"b-\")\n",
    "    \n",
    "    # Plot final polygon\n",
    "    finpol = np.zeros((npts+1,2))\n",
    "    finpol[0:npts,]=paths[ninc,0:npts,:]\n",
    "    finpol[npts,] = finpol[0,]\n",
    "    ax[0].plot(finpol[:,0],finpol[:,1],\"r-\")\n",
    "\n",
    "    # set axes\n",
    "    ax[0].set_xlabel(r\"$\\mathbf{X_1}$\")\n",
    "    ax[0].set_ylabel(r\"$\\mathbf{X_3}$\")\n",
    "    ax[0].grid()\n",
    "    ax[0].axis(\"equal\")\n",
    "\n",
    "    # Initalize progressive finite strain history\n",
    "    pfs = np.zeros((ninc+1,2))\n",
    "    pfs[0,:] = [0, 1] #Initial state\n",
    "\n",
    "    # Calculate progressive finite strain history\n",
    "    for i in range(1,ninc+1):\n",
    "        \n",
    "        # Determine the finite deformation gradient tensor\n",
    "        finF = np.linalg.matrix_power(F, i)\n",
    "        \n",
    "        # Determine Green deformation tensor\n",
    "        G = np.dot(finF,finF.conj().transpose())\n",
    "        \n",
    "        # Stretch magnitude and orientation: Maximum \n",
    "        # eigenvalue and their corresponding eigenvectors\n",
    "        # of Green deformation tensor\n",
    "        D, V = np.linalg.eigh(G)\n",
    "        pfs[i,0] = np.arctan(V[1,1]/V[0,1])\n",
    "        pfs[i,1] = np.sqrt(D[1])\n",
    "\n",
    "    # Plot progressive finite strain history\n",
    "    ax[1].plot(pfs[:,0]*180/np.pi,pfs[:,1],\"k.-\")\n",
    "    ax[1].set_xlabel(r\"$\\Theta\\;(\\circ)$\")\n",
    "    ax[1].set_ylabel(\"Maximum finite stretch\")\n",
    "    ax[1].set_xlim(-90,90)\n",
    "    ax[1].set_ylim(1,max(pfs[:,1])+0.5)\n",
    "    ax[1].grid()\n",
    "\n",
    "    return paths, pfs, fig, ax"
   ]
  },
  {
   "cell_type": "markdown",
   "id": "ffe96231-e0d4-464e-a169-f044260e3f36",
   "metadata": {},
   "source": [
    "Let’s use this function to reproduce {numref}`Figure %s <ch08_fig08>`a. The notebook [ch8-4](https://github.com/nfcd/compGeo/blob/master/source/notebooks/ch8-4.ipynb) shows how to do this:"
   ]
  },
  {
   "cell_type": "code",
   "execution_count": null,
   "id": "443b4850-bb8a-4d7f-86eb-a82a70d92975",
   "metadata": {
    "tags": [
     "remove-output"
    ]
   },
   "outputs": [],
   "source": [
    "# Import libraries\n",
    "import numpy as np\n",
    "\n",
    "# Import function pure_shear\n",
    "from compgeo.pure_shear import pure_shear\n",
    "\n",
    "# Initial points coordinates\n",
    "pts = np.zeros((16,2))\n",
    "pts[:,0]=[-1,-1,-1,-1,-1,-0.5,0,0.5,1,1,1,1,1,0.5,0,-0.5]\n",
    "pts[:,1]=[-1,-0.5,0,0.5,1,1,1,1,1,0.5,0,-0.5,-1,-1,-1,-1]\n",
    "st1 = 2.5\n",
    "ninc = 10\n",
    "\n",
    "paths, psf, fig, ax = pure_shear(pts, st1, ninc)"
   ]
  },
  {
   "cell_type": "markdown",
   "id": "41df2509-8d84-48c9-931d-5c5e84f41104",
   "metadata": {},
   "source": [
    "As you can see the principal strain axes, $S_1$ and $S_3$, do not rotate throughout the deformation ($\\Theta$ is 0 throughout the deformation). Pure shear is a *non-rotational* deformation."
   ]
  },
  {
   "cell_type": "markdown",
   "id": "808a7e77-e54f-45da-a647-478ebda80196",
   "metadata": {},
   "source": [
    "(ch08-5-2)=\n",
    "### Simple shear\n",
    "\n",
    "For plane strain and simple shear along the $\\mathbf{X_1}$ axis ({numref}`Figure %s <ch08_fig08>`b), the Green deformation gradient is:"
   ]
  },
  {
   "cell_type": "markdown",
   "id": "6ae3c97c-d8a7-444c-bbb2-7e78ebfabaf8",
   "metadata": {},
   "source": [
    "$$\n",
    "{ }^{SS}F_{i j}=\\left[\\begin{array}{lll}1 & 0 & \\gamma \\\\ 0 & 1 & 0 \\\\ 0 & 0 & 1\\end{array}\\right]\n",
    "$$ (ch08_eq49)"
   ]
  },
  {
   "cell_type": "markdown",
   "id": "c2d4aa3a-d1ff-428d-86ee-a18834819c5e",
   "metadata": {},
   "source": [
    "where $\\gamma$ is the shear strain.\n",
    "\n",
    "The function [simple_shear](https://github.com/nfcd/compGeo/blob/master/source/functions/simple_shear.py) deforms a collection of points using simple shear and a value of shear strain (`gamma`). The function displays the points’ displacement paths for a number of increments (`ninc`), and the progressive strain history as the value of $S_1$ versus $\\Theta$:"
   ]
  },
  {
   "cell_type": "code",
   "execution_count": null,
   "id": "df66c20a-8ecf-4754-af87-f78b6817f748",
   "metadata": {
    "tags": [
     "remove-output"
    ]
   },
   "outputs": [],
   "source": [
    "import numpy as np\n",
    "import matplotlib.pyplot as plt\n",
    "\n",
    "\n",
    "def simple_shear(pts,gamma,ninc):\n",
    "    \"\"\"\n",
    "    simple_shear computes and plots displacement paths and\n",
    "    progressive finite strain history for simple shear\n",
    "    parallel to the X1 axis\n",
    "\n",
    "    USE: paths,pfs,fig,ax = simple_shear(pts,gamma,ninc)\n",
    "\n",
    "    pts: npoints x 2 matrix with X1 and X3 coord. of points\n",
    "    gamma = Engineering shear strain\n",
    "    ninc = number of strain increments\n",
    "    paths = displacement paths of points\n",
    "    pfs = progressive finite strain history. column 1 =\n",
    "        orientation of maximum stretch with respect to X1 \n",
    "        in degrees, column 2 = maximum stretch magnitude\n",
    "\n",
    "    fig and ax are handles to the figure and axes\n",
    "\n",
    "    NOTE: Intermediate principal stretch is 1.0 (Plane \n",
    "        strain). Output orientations are in radians\n",
    "\n",
    "    Python function based on the Matlab function\n",
    "    SimpleShear in Allmendinger et al. (2012)\n",
    "    \"\"\"\n",
    "    # Incremental engineering shear strain\n",
    "    gammainc = gamma/ninc\n",
    "\n",
    "    # Initialize displacement paths\n",
    "    npts = np.size(pts,0) # Number of points\n",
    "    paths = np.zeros((ninc+1,npts,2))\n",
    "    paths[0,:,:] = pts # Initial points of paths\n",
    "\n",
    "    # Calculate incr. deformation gradient tensor Eq. 8.44\n",
    "    F = np.array([[1.0, gammainc],[0.0, 1.0]])\n",
    "\n",
    "    # Initialize figure\n",
    "    fig, ax = plt.subplots(1, 2, figsize=(15,5)) # 1 x 2 figure\n",
    "\n",
    "    # Compute displacement paths\n",
    "    for i in range(npts): # for all points\n",
    "        for j in range(ninc+1): # for all strain increments\n",
    "            for k in range(2):\n",
    "                for L in range(2):\n",
    "                    paths[j,i,k] = F[k,L]*paths[j-1,i,L] + paths[j,i,k]\n",
    "        \n",
    "        # Plot displacement path of point\n",
    "        ax[0].plot(paths[:,i,0], paths[:,i,1], \"k.-\")\n",
    "\n",
    "    # Plot initial polygon\n",
    "    inpol = np.zeros((npts+1,2))\n",
    "    inpol[0:npts,]=paths[0,0:npts,:]\n",
    "    inpol[npts,] = inpol[0,]\n",
    "    ax[0].plot(inpol[:,0],inpol[:,1],\"b-\")\n",
    "    \n",
    "    # Plot final polygon\n",
    "    finpol = np.zeros((npts+1,2))\n",
    "    finpol[0:npts,]=paths[ninc,0:npts,:]\n",
    "    finpol[npts,] = finpol[0,]\n",
    "    ax[0].plot(finpol[:,0],finpol[:,1],\"r-\")\n",
    "\n",
    "    # set axes\n",
    "    ax[0].set_xlabel(r\"$\\mathbf{X_1}$\")\n",
    "    ax[0].set_ylabel(r\"$\\mathbf{X_3}$\")\n",
    "    ax[0].grid()\n",
    "    ax[0].axis(\"equal\")\n",
    "\n",
    "    # Initalize progressive finite strain history\n",
    "    pfs = np.zeros((ninc+1,2))\n",
    "    \n",
    "    # In. state: Max. extension is at 45 deg from shear zone\n",
    "    pfs[0,:] = [np.pi/4.0, 1.0]\n",
    "\n",
    "    # Calculate progressive finite strain history\n",
    "    for i in range(1,ninc+1):\n",
    "        \n",
    "        # Determine the finite deformation gradient tensor\n",
    "        finF = np.linalg.matrix_power(F, i)\n",
    "        \n",
    "        # Determine Green deformation tensor\n",
    "        G = np.dot(finF,finF.conj().transpose())\n",
    "        \n",
    "        # Stretch magnitude and orientation: Maximum \n",
    "        # eigenvalue and their corresponding eigenvectors\n",
    "        # of Green deformation tensor\n",
    "        D, V = np.linalg.eigh(G)\n",
    "        pfs[i,0] = np.arctan(V[1,1]/V[0,1])\n",
    "        pfs[i,1] = np.sqrt(D[1])\n",
    "\n",
    "    # Plot progressive finite strain history\n",
    "    ax[1].plot(pfs[:,0]*180/np.pi,pfs[:,1],\"k.-\")\n",
    "    ax[1].set_xlabel(r\"$\\Theta\\;(\\circ)$\")\n",
    "    ax[1].set_ylabel(\"Maximum finite stretch\")\n",
    "    ax[1].set_xlim(-90,90)\n",
    "    ax[1].set_ylim(1,max(pfs[:,1])+0.5)\n",
    "    ax[1].grid()\n",
    "\n",
    "    return paths, pfs, fig, ax"
   ]
  },
  {
   "cell_type": "markdown",
   "id": "56bcf960-c5d5-43aa-af37-e699195c95c3",
   "metadata": {},
   "source": [
    "Let’s use this function to reproduce {numref}`Figure %s <ch08_fig08>`b. The notebook [ch8-5](https://github.com/nfcd/compGeo/blob/master/source/notebooks/ch8-5.ipynb) shows how to do this:"
   ]
  },
  {
   "cell_type": "code",
   "execution_count": null,
   "id": "43c9242a-6dd2-4e70-9e32-c22b668c0e5c",
   "metadata": {
    "tags": [
     "remove-output"
    ]
   },
   "outputs": [],
   "source": [
    "# Import libraries\n",
    "import numpy as np\n",
    "\n",
    "# Import function simple_shear\n",
    "from compgeo.simple_shear import simple_shear\n",
    "\n",
    "# Initial points coordinates\n",
    "pts = np.zeros((16,2))\n",
    "pts[:,0]=[-1,-1,-1,-1,-1,-0.5,0,0.5,1,1,1,1,1,0.5,0,-0.5]\n",
    "pts[:,1]=[-1,-0.5,0,0.5,1,1,1,1,1,0.5,0,-0.5,-1,-1,-1,-1]\n",
    "gamma = 2.5\n",
    "ninc = 10\n",
    "paths, psf, fig, ax = simple_shear(pts, gamma, ninc)"
   ]
  },
  {
   "cell_type": "markdown",
   "id": "ba9ba3aa-e6eb-4c7b-bf62-b430026168f9",
   "metadata": {},
   "source": [
    "In this case, the principal strain axes, $S_1$ and $S_3$, rotate throughout the deformation. $\\Theta$ is initially 45(as predicted by infinitesimal strain, {numref}`Figure %s <ch08_fig04>`), and it progressively decreases to a value of 20by the end of the deformation. Simple shear is a *rotational* deformation."
   ]
  },
  {
   "cell_type": "markdown",
   "id": "d6d58580-0acc-4578-928b-40b984a54d7f",
   "metadata": {},
   "source": [
    "(ch08-5-3)=\n",
    "### General shear\n",
    "\n",
    "Sub-simple shear (De Paor, 1983), or general shear, is a combination of pure shear and simple shear. If the shear direction and $S_1$ are parallel to $\\mathbf{X_1}$, $S_2 = 1$ (plane strain), and area is constant, the Green deformation gradient is (Allmendinger et al., 2012):"
   ]
  },
  {
   "cell_type": "markdown",
   "id": "54a591f7-0455-4cf9-9b56-10647ba8655d",
   "metadata": {},
   "source": [
    "$$\n",
    "{ }^{GS}F_{i j}=\\left[\\begin{array}{lll}S_1 & 0 & \\frac{\\gamma(S_1-S_3)}{2\\ln S_1} \\\\ 0 & 1 & \\quad\\: 0 \\\\ 0 & 0 &\\quad\\: S_3\\end{array}\\right]\n",
    "$$ (ch08_eq50)"
   ]
  },
  {
   "cell_type": "markdown",
   "id": "0b20f454-2d1b-480c-9f6f-59d857f13045",
   "metadata": {},
   "source": [
    "If the shear direction is parallel to $\\mathbf{X_1}$, but $S_1$ is parallel to $\\mathbf{X_3}$, the Green deformation gradient is (Allmendinger et al., 2012):"
   ]
  },
  {
   "cell_type": "markdown",
   "id": "586b1d8f-352c-4300-8ada-00002099fc14",
   "metadata": {},
   "source": [
    "$$\n",
    "{ }^{GS}F_{i j}=\\left[\\begin{array}{lll}S_3 & 0 & \\frac{\\gamma(S_3-S_1)}{2\\ln S_3} \\\\ 0 & 1 & \\quad\\: 0 \\\\ 0 & 0 &\\quad\\: S_1\\end{array}\\right]\n",
    "$$ (ch08_eq51)"
   ]
  },
  {
   "cell_type": "markdown",
   "id": "f8776da0-3ee0-442a-92dd-0c7a3ee49cbc",
   "metadata": {},
   "source": [
    "A simple dimensionless measure of the ratio of simple to pure shear is the cosine of the acute angle between the eigenvectors of the Green deformation gradient $\\mathbf{F}$. This measure is known as the *kinematic vorticity number*, $W_k$ (Truesdell, 1953). General shear is characterized by a $W_k$ between 0 (pure shear) and 1 (simple shear).\n",
    "\n",
    "The function [general_shear](https://github.com/nfcd/compGeo/blob/master/source/functions/general_shear.py) deforms a collection of points using general shear and values of $S_1$ (`st1`) and $\\gamma$ (`gamma`), for a shear direction parallel to $\\mathbf{X_1}$, and $S_1$ parallel (`kk` = 0) or perpendicular to the shear direction (`kk` = 1). Similar to the two previous functions, `general_shear` displays the points’ displacement paths for a number of increments (`ninc`), and $S_1$ versus $\\Theta$:"
   ]
  },
  {
   "cell_type": "code",
   "execution_count": null,
   "id": "4ad68847-b6b4-4d35-af8b-0b4ebd361cf5",
   "metadata": {
    "tags": [
     "remove-output"
    ]
   },
   "outputs": [],
   "source": [
    "import numpy as np\n",
    "import matplotlib.pyplot as plt\n",
    "\n",
    "\n",
    "def general_shear(pts,st1,gamma,kk,ninc):\n",
    "    \"\"\"\n",
    "    general_shear computes displacement paths, kinematic\n",
    "    vorticity numbers and progressive finite strain \n",
    "    history, for general shear with a pure shear stretch,\n",
    "    no area change, and a single shear strain\n",
    "\n",
    "    USE: paths,wk,pfs,fig,ax = \n",
    "        general_shear(pts,st1,gamma,kk,ninc)\n",
    "\n",
    "    pts = npoints x 2 matrix with X1 and X3 coord. of points\n",
    "    st1 = Pure shear stretch parallel to shear zone\n",
    "    gamma = Engineering shear strain\n",
    "    kk = An integer that indicates whether the maximum \n",
    "        finite stretch is parallel (kk = 0), or \n",
    "        perpendicular (kk=1) to the shear direction\n",
    "    ninc = number of strain increments\n",
    "    paths = displacement paths of points\n",
    "    wk = Kinematic vorticity number\n",
    "    pfs = progressive finite strain history. column 1 =\n",
    "        orientation of maximum stretch with respect to \n",
    "        X1, column 2 = maximum stretch magnitude\n",
    "\n",
    "    fig and ax are handles to the figure and axes\n",
    "\n",
    "    NOTE: Intermediate principal stretch is 1.0 (Plane\n",
    "        strain). Output orientations are in radians\n",
    "\n",
    "    Python function translated from the Matlab function\n",
    "    GeneralShear in Allmendinger et al. (2012)\n",
    "    \"\"\"\n",
    "    # Compute minimum principal stretch and incr. stretches\n",
    "    st1inc =st1**(1.0/ninc)\n",
    "    st3 =1.0/st1\n",
    "    st3inc =st3**(1.0/ninc)\n",
    "\n",
    "    # Incremental engineering shear strain\n",
    "    gammainc = gamma/ninc\n",
    "\n",
    "    # Initialize displacement paths\n",
    "    npts = np.size(pts,0) # Number of points\n",
    "    paths = np.zeros((ninc+1,npts,2))\n",
    "    paths[0,:,:] = pts # Initial points of paths\n",
    "\n",
    "    # Initialize figure\n",
    "    fig, ax = plt.subplots(1, 2, figsize=(15,5)) # 1 x 2 figure\n",
    "\n",
    "    # Calculate incremental deformation gradient tensor\n",
    "    # If max. stretch parallel to shear direction Eq. 8.45\n",
    "    if kk == 0:\n",
    "        F=np.zeros((2,2))\n",
    "        F[0,]=[st1inc, (gammainc*(st1inc-st3inc))/\n",
    "            (2.0*np.log(st1inc))]\n",
    "        F[1,]=[0.0, st3inc]\n",
    "    \n",
    "    # If max. stretch perpendicular to shear direction Eq. 8.46\n",
    "    elif kk == 1:\n",
    "        F=np.zeros((2,2))\n",
    "        F[0,]= [st3inc, (gammainc*(st3inc-st1inc))/\n",
    "                            (2.0*np.log(st3inc))]\n",
    "        F[1,]= [0.0, st1inc]\n",
    "\n",
    "    # Compute displacement paths\n",
    "    for i in range(npts): # for all points\n",
    "        for j in range(ninc+1): # for all strain increments\n",
    "            for k in range(2):\n",
    "                for L in range(2):\n",
    "                    paths[j,i,k] = F[k,L]*paths[j-1,i,L] + paths[j,i,k]\n",
    "        \n",
    "        # Plot displacement path of point\n",
    "        xx = paths[:,i,0]\n",
    "        yy = paths[:,i,1]\n",
    "        ax[0].plot(xx,yy,\"k.-\")\n",
    "\n",
    "    # Plot initial and final polygons\n",
    "    inpol = np.zeros((npts+1,2))\n",
    "    inpol[0:npts,]=paths[0,0:npts,:]\n",
    "    inpol[npts,] = inpol[0,]\n",
    "    ax[0].plot(inpol[:,0],inpol[:,1],\"b-\")\n",
    "    finpol = np.zeros((npts+1,2))\n",
    "    finpol[0:npts,]=paths[ninc,0:npts,:]\n",
    "    finpol[npts,] = finpol[0,]\n",
    "    ax[0].plot(finpol[:,0],finpol[:,1],\"r-\")\n",
    "\n",
    "    # Set axes\n",
    "    ax[0].set_xlabel(r\"$\\mathbf{X_1}$\")\n",
    "    ax[0].set_ylabel(r\"$\\mathbf{X_3}$\")\n",
    "    ax[0].grid()\n",
    "    ax[0].axis(\"equal\")\n",
    "\n",
    "    # Determine the eigenvectors of the flow (apophyses)\n",
    "    # Since F is not symmetrical, use function eig\n",
    "    _,V = np.linalg.eig(F)\n",
    "    theta2 = np.arctan(V[1,1]/V[0,1])\n",
    "    wk = np.cos(theta2)\n",
    "\n",
    "    # Initalize progressive finite strain history. \n",
    "    # We are not including the initial state\n",
    "    pfs = np.zeros((ninc,ninc))\n",
    "\n",
    "    # Calculate progressive finite strain history\n",
    "    for i in range(1,ninc+1):\n",
    "        \n",
    "        # Determine the finite deformation gradient tensor\n",
    "        finF = np.linalg.matrix_power(F, i)\n",
    "        \n",
    "        # Determine Green deformation tensor\n",
    "        G = np.dot(finF,finF.conj().transpose())\n",
    "        \n",
    "        # Stretch magnitude and orientation: Maximum \n",
    "        # eigenvalue and their corresponding eigenvectors\n",
    "        # of Green deformation tensor\n",
    "        D, V = np.linalg.eigh(G)\n",
    "        pfs[i-1,0] = np.arctan(V[1,1]/V[0,1])\n",
    "        pfs[i-1,1] = np.sqrt(D[1])\n",
    "\n",
    "    # Plot progressive finite strain history\n",
    "    ax[1].plot(pfs[:,0]*180/np.pi,pfs[:,1],\"k.-\")\n",
    "    ax[1].set_xlabel(r\"$\\Theta\\;(\\circ)$\")\n",
    "    ax[1].set_ylabel(\"Maximum finite stretch\")\n",
    "    ax[1].set_xlim(-90,90)\n",
    "    ax[1].set_ylim(1,max(pfs[:,1])+0.5)\n",
    "    ax[1].grid()\n",
    "\n",
    "    return paths, wk, pfs, fig, ax"
   ]
  },
  {
   "cell_type": "markdown",
   "id": "2cbaa0ab-706e-407a-b845-fef16cf65704",
   "metadata": {},
   "source": [
    "Let’s use this function to simulate the deformation produced by $S_1 = 2.0$ and $\\gamma = 0.5$, for a shear direction parallel to $\\mathbf{X_1}$, and $S_1$ parallel or perpendicular to $\\mathbf{X_1}$. The notebook [ch8-6](https://github.com/nfcd/compGeo/blob/master/source/notebooks/ch8-6.ipynb) shows the solution to this problem:"
   ]
  },
  {
   "cell_type": "code",
   "execution_count": null,
   "id": "aaa65e2f-2c6a-4d7b-b04e-a0fa1c0a5f42",
   "metadata": {
    "tags": [
     "remove-output"
    ]
   },
   "outputs": [],
   "source": [
    "# Import libraries\n",
    "import numpy as np\n",
    "\n",
    "# Import function general_shear\n",
    "from compgeo.general_shear import general_shear\n",
    "\n",
    "# Initial points coordinates\n",
    "pts = np.zeros((16,2))\n",
    "pts[:,0]=[-1,-1,-1,-1,-1,-0.5,0,0.5,1,1,1,1,1,0.5,0,-0.5]\n",
    "pts[:,1]=[-1,-0.5,0,0.5,1,1,1,1,1,0.5,0,-0.5,-1,-1,-1,-1]\n",
    "st1 = 2.0\n",
    "gamma = 0.5\n",
    "ninc = 10\n",
    "\n",
    "# Max. finite stretch parallel to shear direction\n",
    "kk = 0\n",
    "paths1, wk1, psf1, fig, ax = general_shear(pts, st1, gamma, kk, ninc)\n",
    "print(\"Wk = {:.4f}\".format(wk1))"
   ]
  },
  {
   "cell_type": "code",
   "execution_count": null,
   "id": "eea1e37b-14b5-45d8-a90f-2a399f564d59",
   "metadata": {
    "tags": [
     "remove-output"
    ]
   },
   "outputs": [],
   "source": [
    "# Max. finite stretch perpendicular to shear direction\n",
    "kk = 1\n",
    "paths2, wk2, pfs2, fig, ax = general_shear(pts, st1, gamma, kk, ninc)\n",
    "print(\"Wk = {:.4f}\".format(wk2))"
   ]
  },
  {
   "cell_type": "markdown",
   "id": "dff2cd0b-1af4-4648-86cb-8d1eebbcc0f0",
   "metadata": {},
   "source": [
    "In this case, the contribution of simple shear is about one third that of pure shear ($W_k = 0.34$). Try running the notebook with different values of $S_1$ and $\\gamma$, and check $W_k$ and $\\Theta$."
   ]
  },
  {
   "cell_type": "markdown",
   "id": "93cf0d6c-ae32-41f9-b9f2-4e4240870dda",
   "metadata": {},
   "source": [
    "(ch08-6)=\n",
    "## Exercises\n",
    "\n",
    "1. This exercise is from Rowland and Duebendorfer (1994). The file [bar.txt](https://github.com/nfcd/compGeo/blob/master/source/data/ch8-exercise1/bar.txt) contains the strike and dip (RHR), slip direction, and slip sense of faults within the Basin and Range province, specifically southern Nevada and the Lake Mead area. Plot the **P** and **T** axes for these data using the function `pt_axes`. Are these data consistent with the regional E-W extension direction in the Basin and Range province?\n",
    "\n",
    "2. From the **P** and **T** axes, one can compute an unweighted moment tensor summation as follows (Allmendinger et al., 1989):\n",
    "\n",
    "    $$\n",
    "    \\scriptstyle \\mathbf{K} = \\left[\\begin{array}{ccc}\\scriptstyle\\sum (P_N)^{2} - (T_N)^{2}  & \\scriptstyle\\sum (P_N) (P_E) - (T_N) (T_E) & \\scriptstyle\\sum (P_N) (P_D) - (T_N) (T_D) \\\\ \\scriptstyle\\sum (P_E) (P_N) - (T_E) (T_N) & \\scriptstyle\\sum (P_E)^{2} - (T_E)^{2} & \\scriptstyle\\sum (P_E) (P_D) - (T_E) (T_D) \\\\ \\scriptstyle\\sum (P_D) (P_N) - (T_D) (T_N) & \\scriptstyle\\sum (P_D) (P_E) - (T_D) (T_E) & \\scriptstyle\\sum (P_D)^{2} - (T_D)^{2}\\end{array}\\right]\n",
    "    $$ (ch08_eq52)\n",
    "\n",
    "    where the subscripts $N$, $E$, and $D$ refer to the east, north and  down direction cosines of the **P** and **T** axes. The eigenvalues and eigenvectors of $\\mathbf{K}$ give the relative magnitudes and orientations of the kinematic axes. These kinematic axes define the orientation of two nodal planes, or possible faults, separating the areas of infinitesimal extension (**T** axes) from those of infinitesimal shortening (**P** axes). The faults intersect at the intermediate eigenvector, the minimum and maximum eigenvectors define the movement plane, and the faults slip vectors are on the movement plane at 45 from the minimum and maximum eigenvectors. Modify the function `pt_axes` to plot the nodal planes. This is not a simple problem, don’t give up.\n",
    "\n",
    "3. The file [andes.txt](https://github.com/nfcd/compGeo/blob/master/source/data/ch8-exercise2/andes.txt) contains GPS data (stations UTM coordinates and displacements in meters) from the Central Andes (Kendrick et al., 2001; Brooks et al., 2003). Compute the infinitesimal rotation in this region using the function `grid_strain`. What does the rotation tell you about the tectonics of this region? Check Allmendinger et al. (2005) to support your answer.\n",
    "\n",
    "4. The file [antithetic.txt](https://github.com/nfcd/compGeo/blob/master/source/data/ch8-exercise3/antithetic.txt) contains data from a discrete element model of a low angle normal fault (deformed elements’ coordinates and displacements). Use the function `grid_fin_strain` to compute the shear strain of this model.\n",
    "\n",
    "5. The file [trilobite.txt](https://github.com/nfcd/compGeo/blob/master/source/data/ch8-exercise4/trilobite.txt) contains the undeformed $x$ and $y$ coordinates of points delineating a trilobite specimen. Deform the trilobite using **a.** pure shear with $S_1 = 2.0$, **b.** simple shear with $\\gamma = 1.0$, and **c.** general shear with $S_1 = 1.5$, $\\gamma = 1.0$, and shear direction and $S_1$ parallel to $x$.\n",
    "\n",
    ":::{hint}\n",
    "Use functions `pure_shear`, `simple_shear`, and `general_shear`.\n",
    ":::"
   ]
  },
  {
   "cell_type": "markdown",
   "id": "dc9a9244-ae0c-4936-b619-2a15f0eec3b4",
   "metadata": {},
   "source": [
    "(ch08-7)=\n",
    "## References\n",
    "\n",
    "Allmendinger, R.W., Gephart, J.W. and Marrett, R.A. 1989. Notes on fault\n",
    "slip analysis. GSA short course.\n",
    "\n",
    "Allmendinger, R.W., Smalley, R.J., Bevis, M. et al. 2005. Bending the\n",
    "Bolivian orocline in real time. Geology 33, 905-908.\n",
    "\n",
    "Allmendinger, R.W., Reilinger, R. and Loveless, J. 2007. Strain and\n",
    "rotation rate from GPS in Tibet, Anatolia, and the Altiplano. Tectonics\n",
    "26, TC3013.\n",
    "\n",
    "Allmendinger, R.W., Cardozo, N. and Fisher, D.M. 2012. Structural\n",
    "Geology Algorithms: Vectors and Tensors. Cambridge University Press.\n",
    "\n",
    "Brooks, B. A., Bevis, M., R. Smalley, J. et al. 2003. Crustal Motion in\n",
    "the Southern Andes (26-36S): do the Andes behave like a microplate?\n",
    "Geochemistry, Geophysics, Geosystems - G3 4, GC000505.\n",
    "\n",
    "Cardozo, N. and Allmendinger, R.W. 2009. SSPX: A program to compute\n",
    "strain from displacement/velocity data. Computers and Geosciences 35,\n",
    "1343-1357.\n",
    "\n",
    "DePaor, D.G. 1983. Ortographic analysis of geological structures - I.\n",
    "Deformation theory. Journal of Structural Geology 5, 255-277.\n",
    "\n",
    "Kendrick, E., Bevis, M., Smalley, R. and Brooks, B. 2001. An integrated\n",
    "crustal velocity field for the Central Andes. Geochemistry, Geophysics,\n",
    "Geosystems - G3 2, GC000191.\n",
    "\n",
    "Marshak, S. and Mitra, G. 1988. Basic Methods of Structural Geology.\n",
    "Prentice Hall.\n",
    "\n",
    "Means, W.D. 1976. Stress and Strain: Basic Concepts of Continuum\n",
    "Mechanics for Geologists. New York: Springer-Verlag.\n",
    "\n",
    "Press, W.H., Flannery, B.P., Teoukolsky, S.A. and Vetterling, W.T. 1986.\n",
    "Numerical Recipes: The Art of Scientific Computing. Cambridge University\n",
    "Press.\n",
    "\n",
    "Ragan, D.M. 2009. Structural Geology: An Introduction to Geometrical\n",
    "Techniques. Cambridge University Press.\n",
    "\n",
    "Ramsay, J.G. 1967. Folding and Fracturing of Rocks. McGraw-Hill, New\n",
    "York.\n",
    "\n",
    "Rowland, S.M. and Duebendorfer, E.M. 1994. Structural Analysis and\n",
    "Synthesis: A Laboratory Course in Structural Geology. Wiley.\n",
    "\n",
    "Truesdell, C. 1953. Two measures of vorticity. Journal of Rational\n",
    "Mechanics and Analysis 2, 173-217.\n",
    "\n",
    "Zhang, P., Zhengkang, S., Min, W., et al. 2004, Continuous deformation\n",
    "of the Tibetan Plateau from Global Positioning System data: Geology 32,\n",
    "809-812."
   ]
  }
 ],
 "metadata": {
  "kernelspec": {
   "display_name": "Python 3 (ipykernel)",
   "language": "python",
   "name": "python3"
  },
  "language_info": {
   "codemirror_mode": {
    "name": "ipython",
    "version": 3
   },
   "file_extension": ".py",
   "mimetype": "text/x-python",
   "name": "python",
   "nbconvert_exporter": "python",
   "pygments_lexer": "ipython3",
   "version": "3.11.0"
  }
 },
 "nbformat": 4,
 "nbformat_minor": 5
}
