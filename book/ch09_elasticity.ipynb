{
 "cells": [
  {
   "cell_type": "markdown",
   "id": "3604d6df-aa95-4a0c-bef5-adf353702753",
   "metadata": {},
   "source": [
    "(ch09)=\n",
    "# Elasticity"
   ]
  },
  {
   "cell_type": "markdown",
   "id": "2b8b04bf-d9c3-4e25-9eb8-03e8af2b52d9",
   "metadata": {},
   "source": [
    "We have covered stress and strain separately, but now we should consider how stress and strain are related in rocks. This relationship depends on the rock mechanical properties, which themselves depend on physical conditions such as the state of stress, temperature, and strain rate. The mathematical models that describe the relationship between stress and strain are known as constitutive models. In this chapter, we will cover the simplest constitutive model, namely elasticity. Because rocks in the upper crust fracture (deform non-elastically) at even modest strains, elasticity is closely related to the concepts of infinitesimal strain ([Section 8.3](ch08-3)), and it is ideal to solve infinitesimal-strain problems such as the propagation of seismic waves through the Earth. However, elasticity is also useful to understand other geological problems such as the processes leading to rock fractures, the flexure of the lithosphere under crustal loads, and even fault related folding, which can be envisioned as the summation of small deformation, elastic increments through time."
   ]
  },
  {
   "cell_type": "markdown",
   "id": "7fd2a259-a35c-4d94-b15e-2ba2fe43bdcf",
   "metadata": {},
   "source": [
    "(ch09-1)=\n",
    "## Theory\n",
    "\n",
    "In or study of elasticity, we will make some basic assumptions (Gudmunsson, 2011):\n",
    "\n",
    "- The rock is homogeneous; this means that its properties do not vary with location.\n",
    "\n",
    "- The rock is isotropic; this means that its properties are the same regardless of direction.\n",
    "\n",
    "- The relation between stress and strain in the rock is linear and it is described by an elastic modulus ({numref}`Figure %s <ch09_fig01>`a).\n",
    "\n",
    "- The strains are infinitesimal ([Section 8.3](ch08-3)).\n",
    "\n",
    "- When the rock is stressed it instantaneously becomes strained. When the stress is removed, the strain disappears immediately (double arrows in {numref}`Figure %s <ch09_fig01>`a)."
   ]
  },
  {
   "cell_type": "markdown",
   "id": "159d1092-6972-4817-b57c-4567b6f5f0f5",
   "metadata": {},
   "source": [
    "```{figure} figures/ch09_fig01.png\n",
    ":width: 550px\n",
    ":name: ch09_fig01\n",
    "\n",
    "**a.** Linear-elastic, versus **b.** Actual strain-stress behavior of a rock sample under compression. Modified from Gudmunsson (2011) and Zoback (2010).\n",
    "```"
   ]
  },
  {
   "cell_type": "markdown",
   "id": "b3d64677-1b86-440e-ad7d-d7f18d3b2c09",
   "metadata": {},
   "source": [
    "Thus, elastic deformation is linear and independent of both, the loading path and time. This facilitates the solution of elastic problems, as we will see in [Section 9.2](ch09-2). Since elasticity is path-independent, it is also possible to run elastic models forwards and backwards, which is convenient for solving inverse problems ([Chapter 10](ch10)). However, rocks are not linear elastic materials, and their behavior is more complex than that ({numref}`Figure %s <ch09_fig01>`b). Upon compressional loading in the lab, a rock sample experiences initially inelastic crack closing, followed by elastic behavior at very small strains, non-elastic permanent deformation, and finally failure (Zoback, 2010; {numref}`Figure %s <ch09_fig01>`b). Elasticity captures just a small portion of that.\n",
    "\n",
    "For the basic assumptions above, the elastic model is expressed by the following equation in indicial format:"
   ]
  },
  {
   "cell_type": "markdown",
   "id": "8bb9a12f-c993-45fb-830a-7736d21afff4",
   "metadata": {},
   "source": [
    "$$\n",
    "\\label{eq9.1}\n",
    "\\varepsilon_{ij}=\\frac{1+\\nu}{E}\\sigma_{ij}-\\frac{\\nu}{E}\\sigma_{kk}\\delta_{ij}\n",
    "$$ (ch09_eq01)"
   ]
  },
  {
   "cell_type": "markdown",
   "id": "c8967394-99b3-4cf4-8628-630fc112b104",
   "metadata": {},
   "source": [
    "where $\\boldsymbol{\\varepsilon}$ and $\\boldsymbol{\\sigma}$ are the strain and stress tensors, $E$ is the Young’s modulus, $\\nu$ is the Poisson’s ratio, and $\\delta_{ij}$ is the Kronecker delta (1 if $i = j$, 0 otherwise). This equation is also known as the Hooke’s law.\n",
    "\n",
    "$E$ and $\\nu$ become more clear if we consider a cube of rock under uniaxial stress ($\\sigma_{11}=\\sigma_1$, all other tractions = 0; {numref}`Figure %s <ch09_fig02>`a). Under this condition and from Eq. {eq}`ch09_eq01`, the strains are:"
   ]
  },
  {
   "cell_type": "markdown",
   "id": "2ff9cbb8-9923-4df1-b662-81eeca571785",
   "metadata": {},
   "source": [
    "$$\n",
    "\\begin{gathered}\n",
    "    \\varepsilon_{11}=\\frac{1}{E}\\sigma_{11} \\\\\n",
    "    \\varepsilon_{22} = \\varepsilon_{33} = \\frac{-\\nu}{E}\\sigma_{11} = -\\nu\\varepsilon_{11}\n",
    "\\end{gathered}\n",
    "$$ (ch09_eq02)"
   ]
  },
  {
   "cell_type": "markdown",
   "id": "7265380e-5846-4959-ae06-809854093281",
   "metadata": {},
   "source": [
    "```{figure} figures/ch09_fig02.png\n",
    ":width: 600px\n",
    ":name: ch09_fig02\n",
    "\n",
    "Cube of rock under **a.** Uniaxial stress, **b.** Simple shear, and **c.** Triaxial stress. Blue is initial and red is final configuration. Formulas show the elastic moduli $E$, $\\nu$, $G$ and $K$. Modified from Zoback (2010).\n",
    "```"
   ]
  },
  {
   "cell_type": "markdown",
   "id": "cbbe04d9-7069-4a84-991d-790ae013b26c",
   "metadata": {},
   "source": [
    "Therefore, $E$ is the ratio of the axial stress to the axial strain, $\\sigma_{11}/\\varepsilon_{11}$. Since strain is adimensional, $E$ has units of stress. In consolidated rocks, $E$ can vary greatly from $\\sim$ 1 to 100 GPa (Gudmunsson, 2011, his Appendix D).\n",
    "\n",
    "$\\nu$ is the negative ratio of the lateral strain to the axial strain, $-\\varepsilon_{33}/\\varepsilon_{11}$. $\\nu$ is adimensional, and it can have values between 0 and 0.5. A nearly incompressible material such as rubber has a $\\nu \\sim 0.5$. Rubber maintains a nearly constant volume by laterally expanding just enough to compensate for a given shortening. A perfectly compressible material such as cork has a $\\nu \\sim 0.0$. Cork can be shortened without much lateral expanding. Rocks are somewhat compressible, they have a $\\nu \\sim 0.25$ (Pollard and Fletcher, 2005).\n",
    "\n",
    ":::{note}\n",
    "A nice analogy for $\\nu$ is a bottle stopper. A cork stopper can be cylindrical, while a rubber stopper must be tapered.\n",
    ":::\n",
    "\n",
    "Now, let’s look at the case of simple shear (all tractions 0 except $\\sigma_{13}$, {numref}`Figure %s <ch09_fig02>`b). In this case, the strain is given by:"
   ]
  },
  {
   "cell_type": "markdown",
   "id": "6238e6d6-a1f3-4ccf-ade3-721128a2d30a",
   "metadata": {},
   "source": [
    "$$\n",
    "\\varepsilon_{13}=\\frac{1+\\nu}{E}\\sigma_{13}\n",
    "$$ (ch09_eq03)"
   ]
  },
  {
   "cell_type": "markdown",
   "id": "b1a106d7-13ac-4a84-b2e8-7bd40e238bd7",
   "metadata": {},
   "source": [
    "which can be written in terms of the shear strain $\\gamma_{13}$ as ([Section 8.3](ch08-3)):"
   ]
  },
  {
   "cell_type": "markdown",
   "id": "3794ad9d-2361-4e89-bac8-a91e968ec561",
   "metadata": {},
   "source": [
    "$$\n",
    "\\label{eq9.4}\n",
    "\\begin{gathered}\n",
    "    \\gamma_{13}=\\frac{2(1+\\nu)}{E}\\sigma_{13}\\quad \\\\\n",
    "    \\frac{\\sigma_{13}}{\\gamma_{13}}=\\frac{E}{2(1+\\nu)}=G\n",
    "\\end{gathered}\n",
    "$$ (ch09_eq04)"
   ]
  },
  {
   "cell_type": "markdown",
   "id": "4495b929-eda6-49c6-8d36-99c9cd50c573",
   "metadata": {},
   "source": [
    "$G$ is called the shear modulus (the ratio of the shear stress to the shear strain). For perfectly compressible material, $\\nu=0$ so $G=E/2$, and for incompressible material, $\\nu=0.5$ so $G=E/3$. For a rock with $\\nu=0.25$, $G=E/2.5$.\n",
    "\n",
    "Finally, let’s look at the more general case of triaxial stress (principal stress coordinate system and non-zero principal stresses, {numref}`Figure %s <ch09_fig02>`c). In this case, the axial strains are:"
   ]
  },
  {
   "cell_type": "markdown",
   "id": "535fc91d-b584-4852-9a76-6a14c253fe29",
   "metadata": {},
   "source": [
    "$$\\begin{gathered}\n",
    "    \\varepsilon_{11}=\\frac{1}{E}\\sigma_{11}-\\frac{\\nu}{E}\\sigma_{22}-\\frac{\\nu}{E}\\sigma_{33} \\\\\n",
    "    \\varepsilon_{22}=-\\frac{\\nu}{E}\\sigma_{11}+\\frac{1}{E}\\sigma_{22}-\\frac{\\nu}{E}\\sigma_{33} \\\\\n",
    "    \\varepsilon_{33}=-\\frac{\\nu}{E}\\sigma_{11}-\\frac{\\nu}{E}\\sigma_{22}+\\frac{1}{E}\\sigma_{33}\n",
    "\\end{gathered}\n",
    "$$ (ch09_eq05)"
   ]
  },
  {
   "cell_type": "markdown",
   "id": "ffae0617-95a3-4092-9d39-5495a8a72a14",
   "metadata": {},
   "source": [
    "To visualize this deformation in terms of volumetric changes, we can compute the mean stress, $\\sigma_m$ ([Section 7.3](ch07-3)), and the volumetric strain, $\\Delta$ (also called dilatation), as shown in {numref}`Figure %s <ch09_fig02>`c. The ratio of the mean stress to the volumetric strain, $\\sigma_m/\\Delta$, is called the bulk modulus, $K$, and it is given by:"
   ]
  },
  {
   "cell_type": "markdown",
   "id": "7c98d818-095e-409d-a30a-69621a5eec19",
   "metadata": {},
   "source": [
    "$$\n",
    "K=\\frac{E}{3(1-2\\nu)}\n",
    "$$ (ch09_eq06)"
   ]
  },
  {
   "cell_type": "markdown",
   "id": "886c5f36-5460-4c8c-8ae5-edaf73ab0402",
   "metadata": {},
   "source": [
    "The bulk modulus, $K$, approaches an infinite value as $\\nu$ approaches 0.5, i.e. as the material becomes incompressible. For a perfectly compressible material, $\\nu=0$ and $K=E/3$. Liquids are nearly incompressible, whereas gases are highly compressible. High porosity rocks are somewhat compressible (low $K$), whereas low porosity rocks tend to be less compressible (high $K$).\n",
    "\n",
    "$E$, $\\nu$, $G$ and $K$ control the propagation of seismic waves in the Earth ([Section 9.2.4](ch09-2-4)). If one can measure the velocity of compressional, $V_p$, and shear, $V_s$, seismic waves at a given depth, the Poisson’s ratio can be calculated from them (Fossen, 2016)."
   ]
  },
  {
   "cell_type": "markdown",
   "id": "a683d58b-6d5f-4ca2-b4cb-4512888a6fec",
   "metadata": {},
   "source": [
    "(ch09-1-1)=\n",
    "### Horizontal stress in the crust\n",
    "\n",
    "Elasticity provides a first estimate of the horizontal stress, $\\sigma_h$, in the crust. Consider a cube of rock in the subsurface. The cube is subject to an overburden vertical stress, $\\sigma_v$, given by Eq. {eq}`ch07_eq02`. Due to this stress, the cube will shorten vertically and tend to expand laterally ({numref}`Figure %s <ch09_fig02>`a), but because it is confined by the rocks around, the horizontal strains will be zero. Since strain is only along the vertical, this condition is known as uniaxial strain.\n",
    "\n",
    "Let’s assume $\\sigma_{11}=\\sigma_v$ and $\\sigma_{22}=\\sigma_{33}=\\sigma_h$. If the horizontal strains are zero, then we have $\\varepsilon_h=\\varepsilon_{22}=\\varepsilon_{33}=0$. From Eq. {eq}`ch09_eq05` it follows that:"
   ]
  },
  {
   "cell_type": "markdown",
   "id": "9831e1a4-42fb-448e-be83-1f34d6551029",
   "metadata": {},
   "source": [
    "$$\n",
    "\\varepsilon_{22}=0=\\frac{1}{E}[\\sigma_h-\\nu(\\sigma_h+\\sigma_v)]\n",
    "$$ (ch09_eq07)"
   ]
  },
  {
   "cell_type": "markdown",
   "id": "fc2c29ab-1114-4c94-9dc3-04096ad1e24b",
   "metadata": {},
   "source": [
    "Since $1/E\\neq 0$, then:"
   ]
  },
  {
   "cell_type": "markdown",
   "id": "5e4d11a1-4588-4be3-81da-7bdadd6b638b",
   "metadata": {},
   "source": [
    "$$\n",
    "\\sigma_h-\\nu\\sigma_h-\\nu\\sigma_v=0\n",
    "$$ (ch09_eq08)"
   ]
  },
  {
   "cell_type": "markdown",
   "id": "11c1d0f3-b74f-45ae-b1d1-63d11ab053cd",
   "metadata": {},
   "source": [
    "or:"
   ]
  },
  {
   "cell_type": "markdown",
   "id": "8cb57576-754d-4135-b8bc-fd73757ef0f5",
   "metadata": {},
   "source": [
    "$$\n",
    "\\sigma_h=\\frac{\\nu}{1-\\nu}\\sigma_v\n",
    "$$ (ch09_eq09)"
   ]
  },
  {
   "cell_type": "markdown",
   "id": "656b9db9-4732-47ce-ab88-42657c62f36a",
   "metadata": {},
   "source": [
    "Thus, according to elasticity, the ratio of the horizontal stress to the vertical stress, $\\sigma_h/\\sigma_v$, is a function of the Poisson’s ratio. This stress ratio is also known as $k$ in rock mechanics (Hoek, 2006). In incompressible materials, $\\nu = 0.5$ and $k$ reaches its maximum value of 1.0. In rocks, $\\nu\\sim 0.25$ and $k\\sim 0.33$. Eq. {eq}`ch09_eq09` may be applicable to young sedimentary rocks in large stable basins, or young volcanic areas with lava flows close to the surface. However, over geological time there will be tectonic stresses in active areas, which make the uniaxial assumption invalid (Gudmunsson, 2011). In fact, in the crust at a given depth instead of a single value of horizontal stress $\\sigma_h$, we have a maximum, $\\sigma_H$, and minimum, $\\sigma_h$, horizontal stress (Ragan, 2009; Zoback, 2010). In crustal areas under tectonic compression, $\\sigma_H>\\sigma_v$ and $k>1.0$ (Hoek, 2006)."
   ]
  },
  {
   "cell_type": "markdown",
   "id": "9543a4f5-0267-4777-bcaf-719afad3387a",
   "metadata": {},
   "source": [
    "(ch09-2)=\n",
    "## Applications\n",
    "\n",
    "In this section, we will discuss four applications of the theory of elasticity. These applications are varied and encompass the fields of geomechanics, basin analysis, structural geology, and geophysics. As in the rest of the book, we introduce briefly the theory and move directly to the code implementation. More details about the applications and the derivation of the equations can be found in the references provided."
   ]
  },
  {
   "cell_type": "markdown",
   "id": "47fc66df-4efc-45b6-b064-ebb1ba0cddd3",
   "metadata": {},
   "source": [
    "(ch09-2-1)=\n",
    "### Stresses around a circular hole\n",
    "\n",
    "The problem of the stresses around a circular hole in a material is one of the most important problems in rock mechanics (Jaeger et al., 2007, their section 8.5). Since most holes drilled through rock are of circular cross section (e.g. tunnels and boreholes), it is not hard to see why this is the case. This problem was first solved by the German engineer Kirsch in 1898. {numref}`Figure %s <ch09_fig03>`a shows the principal stress trajectories around a cylindrical hole in a biaxial stress field based on the Kirsch equations. Since the hole is a free surface, the principal stress trajectories are parallel and perpendicular to it. Where the trajectories of $\\sigma_1$ converge, stresses are more compressive (at the azimuth of $\\sigma_3$). Where the trajectories of $\\sigma_1$ diverge, the stresses are less compressive (at the azimuth of $\\sigma_1$)."
   ]
  },
  {
   "cell_type": "markdown",
   "id": "2aa7e49d-029c-4beb-9888-a360108c96ce",
   "metadata": {},
   "source": [
    "```{figure} figures/ch09_fig03.png\n",
    ":width: 600px\n",
    ":name: ch09_fig03\n",
    "\n",
    "**a.** Principal stress trajectories around a cylindrical hole under far-field stresses. Continuous lines are $\\sigma_{1}$ and dashed lines are $\\sigma_{3}$ trajectories. **b.** Plate with a circular hole under far-field stresses. To solve this problem we use a polar coordinate system as indicated in the inset. Modified from Zoback (2010) and Allmendinger (2020).\n",
    "```"
   ]
  },
  {
   "cell_type": "markdown",
   "id": "6c51dc7c-990a-409b-8cee-30ed77ee4520",
   "metadata": {},
   "source": [
    "To solve this problem, we use a polar coordinate system as indicated in {numref}`Figure %s <ch09_fig03>`b. The hole has a radius, $a$, and the stresses are calculated at a distance, $r$, from the center of the hole. Any orientation is defined by an angle, $\\theta$, measured counterclockwise from $\\sigma_3$. For the case where $\\sigma_{11} = \\sigma_1$ and $\\sigma_{33} = \\sigma_3$ and there is fluid pressure, $P_f$, in the hole, the radial and tangential normal stresses are (Jaeger et al., 2007):"
   ]
  },
  {
   "cell_type": "markdown",
   "id": "02cf5225-c6bd-426a-831f-7e7f23d3f597",
   "metadata": {},
   "source": [
    "$$\\begin{gathered}\n",
    "    \\sigma_{r r}=\\frac{\\left(\\sigma_{1}+\\sigma_{3}\\right)}{2}\\left[1-\\left(\\frac{a}{r}\\right)^{2}\\right]+\\frac{\\left(\\sigma_{3}-\\sigma_{1}\\right)}{2}\\left[1-4\\left(\\frac{a}{r}\\right)^{2}+3\\left(\\frac{a}{r}\\right)^{4}\\right] \\cos 2 \\theta+P_{f}\\left(\\frac{a}{r}\\right)^{2} \\\\ \\\\\n",
    "    \\sigma_{\\theta \\theta}=\\frac{\\left(\\sigma_{1}+\\sigma_{3}\\right)}{2}\\left[1+\\left(\\frac{a}{r}\\right)^{2}\\right]-\\frac{\\left(\\sigma_{3}-\\sigma_{1}\\right)}{2}\\left[1+3\\left(\\frac{a}{r}\\right)^{4}\\right] \\cos 2 \\theta-P_{f}\\left(\\frac{a}{r}\\right)^{2}\n",
    "\\end{gathered}\n",
    "$$ (ch09_eq10)"
   ]
  },
  {
   "cell_type": "markdown",
   "id": "f5ab8e3e-fa7f-4e93-8948-e93d1f52d9dd",
   "metadata": {},
   "source": [
    "$\\sigma_{\\theta\\theta}$ is commonly referred to as the *hoop stress*.\n",
    "\n",
    "The function [hoop](https://github.com/nfcd/compGeo/blob/master/source/functions/hoop.py) computes the hoop and radial stresses near a circular hole, assuming the hole is on a principal plane, $\\sigma_3$ is at $\\theta=0\\,\\textrm{or}\\, 180$, and $\\sigma_1$ is at $\\theta=90\\,\\textrm{or}\\, 270$:"
   ]
  },
  {
   "cell_type": "code",
   "execution_count": null,
   "id": "4ba90486-25f0-45d8-9f12-f262a138986f",
   "metadata": {
    "tags": [
     "remove-output"
    ]
   },
   "outputs": [],
   "source": [
    "import numpy as np\n",
    "import matplotlib.pyplot as plt\n",
    "\n",
    "\n",
    "def hoop(geom,stress):\n",
    "    \"\"\"\n",
    "    hoop computes the hoop and radial stresses \n",
    "    around a circular hole. assuming that \n",
    "    the circle is on a principal plane,\n",
    "    smax (s1) is N-S (theta = 90 or 270), \n",
    "    and smin (s3) is E-W (theta = 0 or 180)\n",
    "    Based on Jaeger et al. (2007)\n",
    "\n",
    "    USE: shm, srm, fig, ax = hoop(geom,stress)\n",
    "\n",
    "    geom: A 1 x 2 vector with the number of points \n",
    "        along the radius, and the number of points \n",
    "        around the circle. These values are used\n",
    "        to construct the grid around the circle\n",
    "    stress: A 1 x 3 vector with the value of s1, s3,\n",
    "        and fluid pressure (pf), all in MPa\n",
    "    shm, srm: maximum hoop and radial stresses and\n",
    "        their theta orientations\n",
    "\n",
    "    fig and ax are handles to the figure and axes\n",
    "    \"\"\"\n",
    "    pi = np.pi # pi \n",
    "\n",
    "    # Geometry\n",
    "    M = geom[0] # points along radius\n",
    "    N = geom[1] # points around circle\n",
    "    R1 = 1.0 # radius of hole = 1.0 \n",
    "    R2 = R1 * 5 # outer radius = 5.0\n",
    "    nR = np.linspace(R1,R2,M)\n",
    "    nT = np.linspace(0,2*pi,N)\n",
    "    R, T = np.meshgrid(nR,nT)\n",
    "    \n",
    "    # Convert grid to cartesian coordintes\n",
    "    X = R*np.cos(T)\n",
    "    Y = R*np.sin(T)\n",
    "    m,n = X.shape\n",
    "\n",
    "    # Principal stresses and pore pressure (MPa)\n",
    "    s1 = stress[0] \n",
    "    s3 = stress[1]\n",
    "    pf = stress[2]\n",
    "\n",
    "    # Initialize hoop and radial stresses\n",
    "    sh = np.zeros(X.shape)\n",
    "    sr = np.zeros(X.shape)\n",
    "\n",
    "    # Initialize maximum hoop and radial stresses\n",
    "    shm = np.zeros(2)\n",
    "    srm = np.zeros(2)\n",
    "\n",
    "    # Compute hoop and radial stresses\n",
    "    for i in range(m):\n",
    "        for j in range(n):\n",
    "            \n",
    "            # Hoop stress\n",
    "            sh[i,j] = (s1+s3)/2*(1+(R1/R[i,j])**2) \\\n",
    "                -(s3-s1)/2*(1+3*(R1/R[i,j])**4) \\\n",
    "                *np.cos(2*T[i,j]) - pf*(R1/R[i,j])**2\n",
    "            \n",
    "            # Radial stress\n",
    "            sr[i,j] = (s1+s3)/2*(1-(R1/R[i,j])**2) \\\n",
    "                +(s3-s1)/2*(1-4*(R1/R[i,j])**2+3*(R1/R[i,j])**4) \\\n",
    "                *np.cos(2*T[i,j]) + pf*(R1/R[i,j])**2\n",
    "            \n",
    "            # maximum hoop stress\n",
    "            if sh[i,j] > shm[0]:\n",
    "                shm[0] = sh[i,j]\n",
    "                shm[1] = T[i,j]*180/pi\n",
    "            \n",
    "            # maximum radial stress\n",
    "            if sr[i,j] > srm[0]:\n",
    "                srm[0] = sr[i,j]\n",
    "                srm[1] = T[i,j]*180/pi\n",
    "\n",
    "    # Create figure\n",
    "    fig, ax = plt.subplots(2,2,figsize=(10,10))\n",
    "\n",
    "    # Plot hoop stress\n",
    "    ax[0,0].axis(\"equal\")\n",
    "    ax[0,0].set_frame_on(False)\n",
    "    ax[0,0].get_xaxis().set_visible(False)\n",
    "    ax[0,0].get_yaxis().set_visible(False)  \n",
    "    ax[0,0].plot(X[:,0],Y[:,0],\"k\",linewidth=1.5)\n",
    "    ax[0,0].plot(X[:,n-1],Y[:,n-1],\"k\",linewidth=1.5)\n",
    "    cbar = ax[0,0].contourf(X, Y, sh, cmap=\"jet\")    \n",
    "    cstr = ax[0,0].contour(X,Y,sh, colors = \"k\")\n",
    "    fig.colorbar(cbar, ax=ax[0,0], label=\"MPa\")\n",
    "    ax[0,0].set_title(\"Hoop stress\",fontweight=\"bold\")\n",
    "\n",
    "    # Plot radial stress\n",
    "    ax[0,1].axis(\"equal\")\n",
    "    ax[0,1].set_frame_on(False)\n",
    "    ax[0,1].get_xaxis().set_visible(False)\n",
    "    ax[0,1].get_yaxis().set_visible(False)  \n",
    "    ax[0,1].plot(X[:,0],Y[:,0],\"k\",linewidth=1.5)\n",
    "    ax[0,1].plot(X[:,n-1],Y[:,n-1],\"k\",linewidth=1.5)\n",
    "    cbar = ax[0,1].contourf(X, Y, sr, cmap=\"jet\")\n",
    "    cstr = ax[0,1].contour(X,Y,sr, colors = \"k\")\n",
    "    fig.colorbar(cbar, ax=ax[0,1], label=\"MPa\")\n",
    "    ax[0,1].set_title(\"Radial stress\",fontweight=\"bold\")\n",
    "\n",
    "    # Plot variation of hoop and radial stress along s3\n",
    "    ax[1,0].plot(R[0,:]/R1,sh[0,:],\"r.-\", label=\"Hoop\")\n",
    "    ax[1,0].plot(R[0,:]/R1,sr[0,:],\"b.-\", label=\"Radial\")\n",
    "    ax[1,0].grid(visible=True)\n",
    "    ax[1,0].set_xlabel(\"Normalized radial distance\")\n",
    "    ax[1,0].set_ylabel(\"Stress (MPa)\")\n",
    "    ax[1,0].legend(loc=\"upper right\")\n",
    "    ax[1,0].set_title(\"Stress variation along s3\",\n",
    "        fontweight=\"bold\")\n",
    "\n",
    "    # Plot variation of hoop and radial stress around circle\n",
    "    ax[1,1].plot(T[:,0]*180/pi,sh[:,0],\"r.-\", label=\"Hoop\")\n",
    "    ax[1,1].plot(T[:,0]*180/pi,sr[:,0],\"b.-\", label=\"Radial\")\n",
    "    ax[1,1].grid(visible=True)\n",
    "    ax[1,1].set_xlim([0, 360])\n",
    "    ax[1,1].set_xticks([0, 90, 180, 270, 360])\n",
    "    ax[1,1].set_xlabel(\"Angle around the hole (deg)\")\n",
    "    ax[1,1].set_ylabel(\"Stress (MPa)\")\n",
    "    ax[1,1].legend(loc=\"upper right\")\n",
    "    ax[1,1].set_title(\"Stress variation around circle\",\n",
    "        fontweight=\"bold\")\n",
    "\n",
    "    return shm, srm, fig, ax"
   ]
  },
  {
   "cell_type": "markdown",
   "id": "8020b6b6-3172-4e1d-a9d6-c25f8274dca1",
   "metadata": {},
   "source": [
    "Let’s use this function to compute the hoop and radial stresses near a circular hole, for $\\sigma_1 = 50$ and $\\sigma_3 = 25$ MPa. The notebook [ch9-1](https://github.com/nfcd/compGeo/blob/master/source/notebooks/ch9-1.ipynb) shows the solution to this problem:"
   ]
  },
  {
   "cell_type": "code",
   "execution_count": null,
   "id": "1c4498bf-a006-4e8f-9709-4921cac860e5",
   "metadata": {
    "tags": [
     "remove-output"
    ]
   },
   "outputs": [],
   "source": [
    "# Import function hoop\n",
    "import sys, os\n",
    "\n",
    "from compgeo.hoop import hoop\n",
    "\n",
    "# Define the geometry, 50 points along radius\n",
    "# 100 points around circle\n",
    "geom = [50, 100]\n",
    "\n",
    "# Define stress: sigma1 = 50, sigma3 = 25, Pf = 0 MPa \n",
    "stress = [50, 25, 0]\n",
    "\n",
    "# Compute and plot hoop and radial stresses\n",
    "shm, srm, fig, ax = hoop(geom, stress)"
   ]
  },
  {
   "cell_type": "markdown",
   "id": "eb970725-2800-452a-8b92-976af3f01969",
   "metadata": {},
   "source": [
    "Around the hole, the hoop stress is maximum ($\\sigma_{\\theta\\theta}=2.5\\sigma_1$) at the azimuth of $\\sigma_3$ ($\\theta=0\\,\\textrm{or}\\, 180$), and it is minimum ($\\sigma_{\\theta\\theta}=\\sigma_3$) at the azimuth of $\\sigma_1$ ($\\theta=90\\,\\textrm{or}\\, 270$) (right graph). However, the hoop stress decreases quite rapidly to the far-field stress values. At $\\theta=0\\,\\textrm{or}\\, 180$, the hoop stress reaches the far-field value of $\\sigma_1$ at a distance $5r$ (left graph). The radial stress, $\\sigma_{rr}$, is zero around the hole, and reaches the far-field stress values at a distance $5r$. Try experimenting with different values of principal stresses and pore pressure.\n",
    "\n",
    "Since in a circular hole, the hoop stress is maximum at the azimuth of $\\sigma_3$, and minimum at the azimuth of $\\sigma_1$, one would expect the rock to fail by compression near $\\sigma_3$, and by tension near $\\sigma_1$. This is exactly what happens in a borehole ({numref}`Figure %s <ch09_fig04>`a). In the regions of maximum hoop stress, the rock fails by compression and shear, forming shattered rock areas called *breakouts*. Near the regions of minimum hoop stress, the rock fails by tension, forming tension cracks. This allows determining from borehole images, the orientation of $\\sigma_3$, and if the borehole is vertical, the orientation of $\\sigma_H$ and $\\sigma_h$ ({numref}`Figure %s <ch09_fig04>`b)."
   ]
  },
  {
   "cell_type": "markdown",
   "id": "a161ebb9-48e9-4c6f-9526-9b40f85086de",
   "metadata": {},
   "source": [
    "```{figure} figures/ch09_fig04.png\n",
    ":width: 600px\n",
    ":name: ch09_fig04\n",
    "\n",
    "**a.** Breakouts and tension cracks around a vertical borehole. **b.** Breakouts in ultrasonic borehole image appear as dark bands. Inset shows a cross-sectional view of the well made with televiewer data. Breakouts indicate a SE-NW $\\sigma_{3}$ orientation. Modified from Allmendinger (2020) and Zoback (2010).\n",
    "```"
   ]
  },
  {
   "cell_type": "markdown",
   "id": "c6d9e67c-2d6f-4651-8e04-63f480064381",
   "metadata": {},
   "source": [
    "(ch09-2-2)=\n",
    "### Lithospheric flexure\n",
    "\n",
    "The deflection of the surface of the Earth under crustal loads (e.g. a fold-thrust belt; {numref}`Figure %s <ch09_fig05>`a) can be reasonably estimated by an elastic or flexural model. In this model, the uppermost layer of the Earth (i.e. the elastic lithosphere) responds to crustal loads as an elastic beam floating in a weaker, fluid-like foundation, the astenospheric mantle ({numref}`Figure %s <ch09_fig05>`b) (Turcotte and Schubert, 1982; Watts, 2001)."
   ]
  },
  {
   "cell_type": "markdown",
   "id": "13799ed7-a485-4df4-b650-0056ec6dd36a",
   "metadata": {},
   "source": [
    "```{figure} figures/ch09_fig05.png\n",
    ":width: 600px\n",
    ":name: ch09_fig05\n",
    "\n",
    "**a.** Fold-thrust belt and foreland basin. **b.** Conceptual elastic model for **a**. **c.** Uniformly distributed load over an infinite beam. The figures show the situation for a point $C$ under, to the left, and to the right of the load. **a** and **b** are from Van Der Pluijm and Marshak (2004) and **c** from Hetenyi (1946).\n",
    "```"
   ]
  },
  {
   "cell_type": "markdown",
   "id": "94140da3-947d-4751-bf2f-c9d39e6b6d81",
   "metadata": {},
   "source": [
    "This flexural model provides insight into how tectonic loads (e.g. fold-thrust belts) and sedimentary basins (e.g. foreland basins) are linked, and how the crust and mantle support loads. The flexural model has allowed geologists to understand the regional variations of strength of the lithosphere, and the implications these variations have for mountain building, sedimentary basin formation, and earthquakes (Watts, 2001).\n",
    "\n",
    "The physics of this model is the same as that of an elastic beam on an elastic foundation. If the thickness of the beam is constant, the beam is infinite, and the height of the load is constant, the solution is relatively simple (Hetenyi, 1946). We first use the flexural ridigidity, $D$, to express the strength of the elastic lithosphere:"
   ]
  },
  {
   "cell_type": "markdown",
   "id": "373700a0-7291-4c0a-9541-f3a0889c861f",
   "metadata": {},
   "source": [
    "$$\n",
    "D=\\frac{ETe^3}{12(1-\\nu^2)}\n",
    "$$ (ch09_eq11)"
   ]
  },
  {
   "cell_type": "markdown",
   "id": "01ca2153-2b93-4ae1-b21b-21b330b9ed25",
   "metadata": {},
   "source": [
    "where $Te$ is the thickness of the elastic lithosphere ({numref}`Figure %s <ch09_fig05>`b). We then invent a term $D_{(\\alpha,x)}$:"
   ]
  },
  {
   "cell_type": "markdown",
   "id": "1ac7dfb6-32d3-4de2-a940-939d6de48fda",
   "metadata": {},
   "source": [
    "$$\n",
    "\\label{eq9.12}\n",
    "D_{(\\alpha,x)}=\\exp(-x/\\alpha)\\cos(x/\\alpha)\n",
    "$$ (ch09_eq12)"
   ]
  },
  {
   "cell_type": "markdown",
   "id": "8d632087-9a09-4228-8de3-cb04e2841eda",
   "metadata": {},
   "source": [
    "where $x$ is the horizontal coordinate and $\\alpha$ is a length parameter given by:"
   ]
  },
  {
   "cell_type": "markdown",
   "id": "bd26cfa8-3ca9-4c37-b55b-94a4b0d2f17e",
   "metadata": {},
   "source": [
    "$$\n",
    "\\alpha=\\left[\\frac{4D}{\\rho_f g}\\right]^{\\frac{1}{4}}\n",
    "$$ (ch09_eq13)"
   ]
  },
  {
   "cell_type": "markdown",
   "id": "83bfcabf-5f9d-4d73-b45e-45dd4152662a",
   "metadata": {},
   "source": [
    "where $\\rho_f$ is the density of the foundation, which is the difference between the density of the mantle, $\\rho_m$, and the density of the material filling the basin, $\\rho_s$. $g$ is gravity. The deflection $u$ of any point $C$ along the beam can then be computed as ({numref}`Figure %s <ch09_fig05>`c):"
   ]
  },
  {
   "cell_type": "markdown",
   "id": "08ad187a-6afa-44b2-b173-83da8fb18a37",
   "metadata": {},
   "source": [
    "- If the point is under the load:\n",
    "\n",
    "    $$\n",
    "    u = \\frac{q}{2k}(2-D_{(\\alpha,a)}-D_{(\\alpha,b)})\n",
    "    $$ (ch09_eq14)\n",
    "\n",
    "- If the point is to the left of the load:\n",
    "\n",
    "    $$\n",
    "    u = \\frac{q}{2k}(D_{(\\alpha,a)}-D_{(\\alpha,b)})\n",
    "    $$ (ch09_eq15)\n",
    "\n",
    "- If the point is to the right of the load:\n",
    "\n",
    "    $$\n",
    "    u = -\\frac{q}{2k}(D_{(\\alpha,a)}-D_{(\\alpha,b)})\n",
    "    $$ (ch09_eq16)"
   ]
  },
  {
   "cell_type": "markdown",
   "id": "506a168f-240c-4124-ac9d-502038708b2e",
   "metadata": {},
   "source": [
    "where $\\frac{q}{k}=h\\frac{\\rho}{\\rho_f}$, $h$ is the height of the load, and $\\rho$ is the load density. $a$ and $b$ are measured as absolute distances from the point to the left and right borders of the load ({numref}`Figure %s <ch09_fig05>`c).\n",
    "\n",
    "Although these equations allow us to compute only the deflection produced by a rectangular load column, we can approximate any load profile by discretizing it into narrower load columns. Since the deformation is elastic, the total deflection profile is the sum of the deflection profiles of the load columns (principle of superposition).\n",
    "\n",
    "The function [flex2d](https://github.com/nfcd/compGeo/blob/master/source/functions/flex2d.py) computes the deflection profile produced by a group of load columns on an elastic lithosphere resting on a fluid-like foundation:"
   ]
  },
  {
   "cell_type": "code",
   "execution_count": null,
   "id": "36f15043-f204-4b6d-80b6-50b128f548f6",
   "metadata": {
    "tags": [
     "remove-output"
    ]
   },
   "outputs": [],
   "source": [
    "import numpy as np\n",
    "import matplotlib.pyplot as plt\n",
    "import matplotlib.ticker as ticker\n",
    "\n",
    "\n",
    "def flex2d(geom,elas,loads):\n",
    "    \"\"\"\n",
    "    flex2d computes the deflection profile produced by \n",
    "    a group of load columns on an elastic lithosphere \n",
    "    resting on a fluid-like foundation \n",
    "    (i.e. astenosphere). The program is based on \n",
    "    Hetenyi (1946) solution for an infinite elastic \n",
    "    beam on a fluid-like foundation\n",
    "\n",
    "    USE: w, wp, fig, ax = flex2d(geom,elas,loads)\n",
    "\n",
    "    geom: A 1 x 2 vector with the lateral extent of the \n",
    "        domain in meters, and the distance between\n",
    "        points (x interval) in meters where the\n",
    "        deflection will be computed\n",
    "    elas: A 1 x 4 vector with the Young Modulus (in Pa), \n",
    "        Poisson ratio, Elastic thickness in meters, \n",
    "        and density of the foundation in kg/m^3\n",
    "    loads: A nloads x 4 vector with the left x coordinate,\n",
    "        right x coordinate, height, and density of each\n",
    "        load column. Lengths should be in meters and \n",
    "        density in kg/m^3\n",
    "    w: The deflection of the lithosphere in meters at the \n",
    "        points specified by the extent and x interval\n",
    "    wp: 3 x 2 matrix with key deflection parameters: \n",
    "        1st row is the maximum deflection (maximum basin\n",
    "        depth) and x at this location\n",
    "        2nd row is the zero deflection and x at this \n",
    "        location (basin width)\n",
    "        3rd row is the minimum deflection (forebulge) \n",
    "        and x at this location\n",
    "\n",
    "    fig and ax are handles to the figure and axes\n",
    "    \"\"\"\n",
    "    # Geometry\n",
    "    extent = geom[0] # Extent in x\n",
    "    xint = geom[1] # Interval in x\n",
    "    x = np.arange(0,extent+1,xint) # points in x\n",
    "    w = np.zeros(len(x)) # initialize displacement\n",
    "\n",
    "    # Elastic and flexural parameters\n",
    "    E = elas[0] # Young Modulus\n",
    "    v = elas[1] # Poisson ratio\n",
    "    h = elas[2] # Elastic thickness\n",
    "    \n",
    "    # Flexural rigidity\n",
    "    rigid = (E*h*h*h)/(12*(1.0-v*v)) \n",
    "    densup = elas[3] # Density of foundation\n",
    "    g = 9.81 # Gravity\n",
    "    k = densup*g # Support of foundation\n",
    "    \n",
    "    # Flexural parameter\n",
    "    alpha = ((4*rigid)/(k))**(1/4) \n",
    "\n",
    "    # Loads\n",
    "    lxmin = loads[:,0]\n",
    "    lxmax = loads[:,1]\n",
    "    lh = loads[:,2]\n",
    "    ldens = loads[:,3]\n",
    "\n",
    "    # Compute deflection profile\n",
    "    # for all the loads columns\n",
    "    for i in range(len(lxmin)):\n",
    "        q = lh[i] * ldens[i] * 9.81\n",
    "        \n",
    "        # for all points in x\n",
    "        for j in range(len(x)):\n",
    "            tolf = abs(x[j] - lxmin[i])\n",
    "            tort = abs(x[j] - lxmax[i])\n",
    "            dA = np.exp(-tolf/alpha)*np.cos(tolf/alpha)\n",
    "            dB = np.exp(-tort/alpha)*np.cos(tort/alpha)\n",
    "            \n",
    "            # If below the load\n",
    "            if x[j] >= lxmin[i] and x[j] <= lxmax[i]:\n",
    "                w[j] = w[j] + (q/(2.0*k))*(2.0-dA-dB)\n",
    "            \n",
    "            # If to the left of the load\n",
    "            elif x[j] < lxmin[i]:\n",
    "                w[j] = w[j] + (q/(2.0*k))*(dA-dB)\n",
    "            \n",
    "            # If to the right of the load\n",
    "            elif x[j] > lxmax[i]:\n",
    "                w[j] = w[j] - (q/(2.0*k))*(dA-dB)\n",
    "\n",
    "    # Key deflection parameters\n",
    "    wp = np.zeros((3,2))\n",
    "    \n",
    "    # maximum basin depth\n",
    "    v = max(w)\n",
    "    ind = w.argmax()\n",
    "    wp[0,0] = v\n",
    "    wp[0,1] = x[ind]\n",
    "    \n",
    "    # basin width\n",
    "    ind = np.where(w <=0)[0]\n",
    "    wp[1,0] = 0.0\n",
    "    wp[1,1] = x[ind[0]]\n",
    "    \n",
    "    # forebulge\n",
    "    v = min(w)\n",
    "    ind = w.argmin()\n",
    "    wp[2,0] = v\n",
    "    wp[2,1] = x[ind]\n",
    "\n",
    "    # Plot\n",
    "    # Input loads profile\n",
    "    fig, ax = plt.subplots(2, 1, figsize=(10,8))    \n",
    "\n",
    "    for i in range(len(lxmin)):\n",
    "        xcol = [lxmin[i], lxmin[i], lxmax[i], lxmax[i]]\n",
    "        ycol = [0, lh[i], lh[i], 0]\n",
    "        ax[0].plot(xcol,ycol,\"k-\")\n",
    "    \n",
    "    maxlh = max(lh)*1.25\n",
    "    ax[0].axis([0, geom[0], -maxlh, maxlh])\n",
    "    ax[0].grid()\n",
    "    ax[0].set_xlabel(\"m\")\n",
    "    ax[0].set_ylabel(\"m\")\n",
    "    ax[0].xaxis.set_major_formatter(ticker.FormatStrFormatter\n",
    "        (\"%0.0e\"))\n",
    "    ax[0].set_title(\"Input loads\",fontweight=\"bold\")\n",
    "\n",
    "    # Deflected loads plus deflection\n",
    "    wl = np.interp(lxmin,x,w)\n",
    "    wr = np.interp(lxmax,x,w)\n",
    "    \n",
    "    for i in range(len(lxmin)):\n",
    "        xcol = [lxmin[i], lxmin[i], lxmax[i], lxmax[i]]\n",
    "        ycol = [-wl[i], lh[i]-wl[i], lh[i]-wr[i], -wr[i]]\n",
    "        ax[1].plot(xcol,ycol,\"k-\")\n",
    "    \n",
    "    ax[1].plot(x,-w,\"b-\")\n",
    "    ax[1].axis([0, geom[0], -maxlh, maxlh])\n",
    "    ax[1].grid()\n",
    "    ax[1].set_xlabel(\"m\")\n",
    "    ax[1].set_ylabel(\"m\")\n",
    "    ax[1].xaxis.set_major_formatter(ticker.FormatStrFormatter\n",
    "        (\"%0.0e\"))\n",
    "    ax[1].set_title(\"Deflected loads\",fontweight=\"bold\")\n",
    "    fig.subplots_adjust(hspace=0.6)\n",
    "\n",
    "    return w, wp, fig, ax"
   ]
  },
  {
   "cell_type": "markdown",
   "id": "531d6ba7-56fe-4da1-8558-421d66d188c2",
   "metadata": {},
   "source": [
    "Let’s use this function to compute the deflection produced by a group of crustal loads. The file [loads.txt](https://github.com/nfcd/compGeo/blob/master/source/data/ch9-2/loads.txt) contains the load columns. Each column is specified by the left and right $x$ coordinates, height and density. The notebook [ch9-2](https://github.com/nfcd/compGeo/blob/master/source/notebooks/ch9-2.ipynb) shows the solution to this problem:"
   ]
  },
  {
   "cell_type": "code",
   "execution_count": null,
   "id": "6dd6e941-2a02-473f-a3ed-6a822c807059",
   "metadata": {
    "tags": [
     "remove-output"
    ]
   },
   "outputs": [],
   "source": [
    "# Import libraries\n",
    "import numpy as np\n",
    "\n",
    "# Import function flex2d\n",
    "from compgeo.flex2d import flex2d\n",
    "\n",
    "# Geometry\n",
    "geom = np.zeros(2)\n",
    "geom[0] = 500e3 # extent = 500 km\n",
    "geom[1] = 5e3 # Interval in x =  5 km\n",
    "\n",
    "# Elastic and flexural parameters\n",
    "elas = np.zeros(4)\n",
    "elas[0] = 70e9 # Young Modulus = 70 GPa\n",
    "elas[1] = 0.25 # Poisson\"s ratio = 0.25\n",
    "elas[2] = 30e3 # Elastic thickness = 30 km\n",
    "elas[3] = 3300 # Density of mantle in kg/m^3\n",
    "\n",
    "# loads\n",
    "loads=np.loadtxt(os.path.abspath(\"data/ch9-2/loads.txt\"))\n",
    "\n",
    "# Compute deflection profile\n",
    "w, wp, fig, ax = flex2d(geom, elas, loads)"
   ]
  },
  {
   "cell_type": "markdown",
   "id": "9278c9e4-53c0-47fd-8e87-00cac248a5cf",
   "metadata": {},
   "source": [
    "(ch09-2-3)=\n",
    "### Faults as elastic dislocations\n",
    "\n",
    "One of the simplest ways to model a fault is as an elastic dislocation. A dislocation element consists of a line segment in 2D or a polygon (typically a triangle or rectangle) in 3D across which displacement is discontinuous. In the case of a fault, the value of the dislocation is the amount of slip on the fault. A dislocation element representing a fault is typically embedded in an elastic half space, which is a medium that deforms elastically and has infinite extent downward but a horizontal upper surface (the ground surface) along which no shear stress is allowed. By specifying the position and size of the dislocation element and the amount of slip on it, the displacements, strains, and stresses anywhere in the half space can be calculated.\n",
    "\n",
    "{numref}`Figure %s <ch09_fig06>`a-b is a great example from a normal fault earthquake, the M = 7.0, October 28, 1983, Bora Peak, Idaho, earthquake on the Lost River fault (Stein and Barrientos, 1985). The dots in {numref}`Figure %s <ch09_fig06>`a are elevation changes measured at ground locations in a 50 years period. These can be considered coseismic displacements (Stein and Barrientos, 1985). The blue line is the elastic dislocation model for the elevation changes. As you can see, the model fit is quite good. {numref}`Figure %s <ch09_fig06>`b shows the modelled fault in cross section. The fault dips $\\sim$<!-- -->45, extends from the surface to a depth of $\\sim$<!-- -->14 km, and is consistent with aftershocks (circles) and the earthquake focal mechanism. {numref}`Figure %s <ch09_fig06>`c shows a geologic cross section along the same profile. Notice that the top basement profile is similar to the displacement profile ({numref}`Figure %s <ch09_fig06>`a) but enlarged $\\sim$<!-- -->1000 times, as if it were the result of many similar earthquakes over geologic time!"
   ]
  },
  {
   "cell_type": "markdown",
   "id": "8f169ca6-55fd-4970-9887-7812b9a580e8",
   "metadata": {},
   "source": [
    "```{figure} figures/ch09_fig06.png\n",
    ":width: 600px\n",
    ":name: ch09_fig06\n",
    "\n",
    "**a.** Elevation changes (dots) produced by the Bora Peak earthquake, and elastic dislocation model (blue). **b.** Cross section including the modelled fault (red), aftershocks (circles), and earthquake focal mechanism. **c.** Geologic cross section. **d.** Geometry of edge dislocation at depth in an elastic half space. Symbols are explained in the text. **a**-**c** are from Stein and Barrientos (1985) and d from Segall (2010).\n",
    "```"
   ]
  },
  {
   "cell_type": "markdown",
   "id": "1f8cf089-7ee4-44b2-a82a-e29707a3440b",
   "metadata": {},
   "source": [
    "To model faults as elastic dislocation elements in 2D, we use the geometry illustrated in {numref}`Figure %s <ch09_fig06>`d. The dislocation is located at $\\xi_1 = 0$, $\\xi_2$. The displacements along $x_1$ and $x_2$ are (Segall, 2010):"
   ]
  },
  {
   "cell_type": "markdown",
   "id": "28736487-d2a6-4fe6-b96f-2dfe287f8eb9",
   "metadata": {},
   "source": [
    "$$\n",
    "%\\resizebox{1.05\\hsize}{!}\n",
    "{\\begin{aligned} u_{1}=& -\\frac{s_{1}}{\\pi(1-\\nu)}\\left\\{\\frac{(1-\\nu)}{2}\\left(\\theta_{2}-\\theta_{1}\\right)+\\frac{x_{1}\\left(x_{2}-\\xi_{2}\\right)}{4 r_{1}^{2}}-\\frac{x_{1}\\left[x_{2}+(3-4 \\nu) \\xi_{2}\\right]}{4 r_{2}^{2}}+\\frac{\\xi_{2} x_{2} x_{1}\\left(x_{2}+\\xi_{2}\\right)}{r_{2}^{4}}\\right\\} \\\\ &+\\frac{s_{2}}{\\pi(1-\\nu)}\\left\\{\\frac{(1-2 \\nu)}{4} \\log \\left(r_{2} / r_{1}\\right)-\\frac{\\left(x_{2}-\\xi_{2}\\right)^{2}}{4 r_{1}^{2}}+\\frac{\\left[x_{2}^{2}+\\xi_{2}^{2}-4(1-\\nu) \\xi_{2}\\left(x_{2}+\\xi_{2}\\right)\\right]}{4 r_{2}^{2}}\\right.\\\\ &\\left.+\\frac{x_{2} \\xi_{2}\\left(x_{2}+\\xi_{2}\\right)^{2}}{r_{2}^{4}}\\right\\} \\\\ u_{2}=& -\\frac{s_{1}}{\\pi(1-\\nu)}\\left\\{\\frac{(1-2 \\nu)}{4} \\log \\left(r_{2} / r_{1}\\right)+\\frac{\\left(x_{2}-\\xi_{2}\\right)^{2}}{4 r_{1}^{2}}-\\frac{\\left[\\left(x_{2}+\\xi_{2}\\right)^{2}-2 \\xi_{2}^{2}-2(1-2 \\nu) \\xi_{2}\\left(x_{2}+\\xi_{2}\\right)\\right]}{4 r_{2}^{2}}\\right.\\\\ &\\left.+\\frac{x_{2} \\xi_{2}\\left(x_{2}+\\xi_{2}\\right)^{2}}{r_{2}^{4}}\\right\\}+\\frac{s_{2}}{\\pi(1-\\nu)}\\left\\{\\frac{(1-\\nu)}{2}\\left(\\theta_{1}-\\theta_{2}\\right)+\\frac{x_{1}\\left(x_{2}-\\xi_{2}\\right)}{4 r_{1}^{2}}-\\frac{x_{1}\\left[x_{2}+(3-4 \\nu) \\xi_{2}\\right]}{4 r_{2}^{2}}\\right.\\\\ &\\left.-\\frac{\\xi_{2} x_{2} x_{1}\\left(x_{2}+\\xi_{2}\\right)}{r_{2}^{4}}\\right\\} \\end{aligned}$}\n",
    "$$ (ch09_eq17)"
   ]
  },
  {
   "cell_type": "markdown",
   "id": "ef75c9b0-e4a1-4e9a-9095-d48073fedaa2",
   "metadata": {},
   "source": [
    "where $s_1$ and $s_2$ are the slip components along $x_1$ and $x_2$, and:"
   ]
  },
  {
   "cell_type": "markdown",
   "id": "a7300a23-7a23-4593-b9e1-596d35e100e6",
   "metadata": {},
   "source": [
    "$$\n",
    "\\begin{array}{l}r_{1}^{2}=x_{1}^{2}+\\left(x_{2}-\\xi_{2}\\right)^{2} \\\\ \\\\ r_{2}^{2}=x_{1}^{2}+\\left(x_{2}+\\xi_{2}\\right)^{2}\\end{array}\n",
    "$$ (ch09_eq18)"
   ]
  },
  {
   "cell_type": "markdown",
   "id": "c1207680-546c-4b0c-ba59-80a723487d35",
   "metadata": {},
   "source": [
    "measure the squared distance from the observation point to the dislocation and the image dislocation (a mirror image of the dislocation above the ground surface), respectively ({numref}`Figure %s <ch09_fig06>`d). $\\theta_1$ refers to the angle about the dislocation, and $\\theta_2$ refers to the angle about the image dislocation ({numref}`Figure %s <ch09_fig06>`d):"
   ]
  },
  {
   "cell_type": "markdown",
   "id": "1f6187fd-f19b-41e8-8ce3-ce222bad6486",
   "metadata": {},
   "source": [
    "$$\n",
    "\\begin{gathered}\n",
    "    \\theta_{1}=\\tan ^{-1}\\left(\\frac{x_{1}-\\xi_{1}}{x_{2}-\\xi_{2}}\\right) \\\\\n",
    "    \\theta_{2}=\\tan ^{-1}\\left(\\frac{x_{1}-\\xi_{1}}{x_{2}+\\xi_{2}}\\right)\n",
    "\\end{gathered}\n",
    "$$ (ch09_eq19)"
   ]
  },
  {
   "cell_type": "markdown",
   "id": "5ee48b8f-1431-4483-a461-04defdb0a305",
   "metadata": {},
   "source": [
    "Notice that in terms of elastic moduli, the displacements in Eq. {eq}`ch09_eq17` depend only on the Poisson’s ratio $\\nu$. Also for a dislocation not at $\\xi_1 = 0$, simply replace $x_1$ with $x_1 - \\xi_1$ in Eq. {eq}`ch09_eq17`.\n",
    "\n",
    "The function [disloc2d](https://github.com/nfcd/compGeo/blob/master/source/functions/disloc2d.py) computes the displacements on a 2D planar fault of finite extent, modeled by two edge dislocations in an elastic half space. Notice that `disloc2d` uses the function `displacement`, which computes Eqs. {eq}`ch09_eq17`-{eq}`ch09_eq19`."
   ]
  },
  {
   "cell_type": "code",
   "execution_count": null,
   "id": "aca36d5a-a24d-4602-a492-264b18757e65",
   "metadata": {
    "tags": [
     "remove-output"
    ]
   },
   "outputs": [],
   "source": [
    "from numpy import arctan,arctan2,sin,cos,sign,sqrt,pi,mod,log\n",
    "\n",
    "\n",
    "def disloc2d(tip,base,slip,nu,obsx,obsy):\n",
    "    \"\"\"\n",
    "    This function calculates displacements on a 2D planar \n",
    "    fault of finite extent, modeled by two edge dislocations \n",
    "    in a homogeneous, isotropic elastic half space\n",
    "\n",
    "    Arguments:\n",
    "        tip = tuple of (x,y) coordinates of the fault tip\n",
    "        base = tuple of (x,y) coordinates of the fault base\n",
    "        slip = slip on the fault, + for reverse, - for normal\n",
    "        nu = Poisson's ratio (scalar)\n",
    "        obsx = x coordinates of observation points \n",
    "        obsy = y coordinates of observation points\n",
    "    Returns:\n",
    "        ux = x components of displ. vectors at obs. points \n",
    "        uy = y components of displ. vectors at obs. points\n",
    "\n",
    "    disloc2d uses function displacement\n",
    "\n",
    "    Written by David Oakley (david.o.oakley@uis.no)\n",
    "    \"\"\"\n",
    "    dip = arctan2(tip[1]-base[1],tip[0]-base[0])\n",
    "    s1 = slip*cos(dip)\n",
    "    s2 = slip*sin(dip)\n",
    "    \n",
    "    [ux_part1,uy_part1] = displacement(tip[0],tip[1],s1,s2,\n",
    "        nu,obsx,obsy)\n",
    "    [ux_part2,uy_part2] = displacement(base[0],base[1],-s1,-s2,\n",
    "        nu,obsx,obsy)\n",
    "    \n",
    "    ux = ux_part1+ux_part2\n",
    "    uy = uy_part1+uy_part2\n",
    "    \n",
    "    return ux,uy\n",
    "\n",
    "\n",
    "def displacement(xi1,xi2,s1,s2,nu,x1,x2):\n",
    "    \"\"\"\n",
    "    Calculate displacements (u1,u2) in 2D in a half space at\n",
    "    points (x1,x2) due to an edge dislocation at (xi1,xi2) with \n",
    "    slip vector (s1,s2). This uses Eqs from Segall (2010), \n",
    "    as corrected in the Errata to that book. Indices 1 and 2 \n",
    "    correspond to the x and y directions respectively.\n",
    "    Arguments:\n",
    "        xi1 = x coordinate of the dislocation tip \n",
    "        xi2 = y coordinate of the dislocation tip \n",
    "        x1 = x coordinates of observation points \n",
    "        x2 = y coordinates of observation points \n",
    "        s1 = x component of slip vector \n",
    "        s2 = y component of slip vector \n",
    "        nu = Poisson\"s ratio \n",
    "    Returns:\n",
    "        ux = x components of displ. vectors at obs. points \n",
    "        uy = y components of displ. vectors at obs. points \n",
    "    \"\"\"\n",
    "    # This occurs if the fault dips to the left\n",
    "    if sign(s1)==sign(s2): \n",
    "        # Flip to the sign convention that Segall\"s equations use\n",
    "        s1 = -s1\n",
    "        s2 = -s2\n",
    "    \n",
    "    # These equations are written for xi1 = 0. If that's not \n",
    "    # the case, this makes it equivalent to that case\n",
    "    x1 = x1-xi1 \n",
    "    r1_sq = x1**2.+(x2-xi2)**2.\n",
    "    r2_sq = x1**2.+(x2+xi2)**2.\n",
    "    r1 = sqrt(r1_sq)\n",
    "    r2 = sqrt(r2_sq)\n",
    "    log_r2_r1 = log(r2/r1)\n",
    "    \n",
    "    # Calculate the angles relative to the vertical axis\n",
    "    theta1 = arctan2(x1,(x2-xi2))\n",
    "    theta2 = arctan2(x1,(x2+xi2))\n",
    "    dip = arctan(s2/s1)\n",
    "    \n",
    "    # This puts dip in the range [0,pi]\n",
    "    if dip<0:\n",
    "        dip=dip+pi \n",
    "    \n",
    "    # The following puts the atan branch cuts along the fault \n",
    "    # by rotating theta1 to point down the fault and theta2 to \n",
    "    # point up (above the half space) along it\n",
    "    # Shift theta1 to be measured up from the fault\n",
    "    theta1 = theta1+pi/2.+dip\n",
    "    \n",
    "    # Shift theta2 to be measured from a line pointing up \n",
    "    # opposite the fault from the image dislocation\n",
    "    theta2 = theta2+dip-pi/2. \n",
    "    theta1 = mod(theta1,2.*pi)\n",
    "    theta2 = mod(theta2,2.*pi)\n",
    "    \n",
    "    # Make a correction for rounding errors that can occur \n",
    "    # when theta1 or theta2 is very close to 0 or 2*pi.\n",
    "    theta1[2.*pi-theta1<1e-10] = 0.\n",
    "    theta2[2.*pi-theta2<1e-10] = 0.\n",
    "    theta_diff = theta1-theta2\n",
    "    \n",
    "    # These are two very long equations....\n",
    "    u1 = (-s1/(pi*(1.-nu)))*(((1.-nu)/2.)*(-theta_diff)+x1*(x2-xi2)/(4.*r1_sq) - x1*(x2+(3.-4.*nu)*xi2)/(4.*r2_sq)+xi2*x2*x1*(x2+xi2)/r2_sq**2.) + (s2/(pi*(1.-nu)))*(((1.-2.*nu)/4.)*log_r2_r1-(x2-xi2)**2./(4.*r1_sq) + (x2**2.+xi2**2.-4.*(1.-nu)*xi2*(x2+xi2))/(4.*r2_sq)+x2*xi2*(x2+xi2)**2./r2_sq**2.)\n",
    "    u2 = (-s1/(pi*(1.-nu)))*(((1.-2.*nu)/4.)*log_r2_r1+(x2-xi2)**2./(4.*r1_sq) - ((x2+xi2)**2.-2.*xi2**2.-2.*(1.-2.*nu)*xi2*(x2+xi2))/(4.*r2_sq) + x2*xi2*(x2+xi2)**2./r2_sq**2.)+(s2/(pi*(1.-nu)))*(((1.-nu)/2.)*(theta_diff) + x1*(x2-xi2)/(4.*r1_sq)-x1*(x2+(3.-4.*nu)*xi2)/(4.*r2_sq)-xi2*x2*x1*(x2+xi2)/r2_sq**2.)\n",
    "\n",
    "    return u1, u2"
   ]
  },
  {
   "cell_type": "markdown",
   "id": "29a9dc77-28a4-490a-a483-07f48d938bf2",
   "metadata": {},
   "source": [
    "Let’s use this function to compute the surface deformation, displacement vectors, and fold growth produced by a 30reverse fault. The notebook [ch9-3](https://github.com/nfcd/compGeo/blob/master/source/notebooks/ch9-3.ipynb) shows the solution to this problem. First, we import the required libraries and functions:"
   ]
  },
  {
   "cell_type": "code",
   "execution_count": null,
   "id": "26777b44-fd5b-421f-98e6-ce91791dc8d3",
   "metadata": {
    "tags": [
     "remove-output"
    ]
   },
   "outputs": [],
   "source": [
    "# Import libraries\n",
    "import numpy as np\n",
    "from matplotlib import pyplot as plt\n",
    "\n",
    "# Import function disloc2d\n",
    "from compgeo.disloc2d import disloc2d"
   ]
  },
  {
   "cell_type": "markdown",
   "id": "2e81cd1b-5f85-469d-a80d-3bd198b51ae2",
   "metadata": {},
   "source": [
    "Then, we define the geometry of the fault (upper and lower tips), Poisson’s ratio, and fault slip. The units of length are meters. In this case, we define a blind (non-surface breaking) 30dipping reverse fault, with its upper tip 500 m below the surface (and at $x = 0$ m) and its lower tip 1500 m below the surface. The fault slip is 2 m:"
   ]
  },
  {
   "cell_type": "code",
   "execution_count": null,
   "id": "1cb25ee7-6621-42c3-a9f2-a2c94cc87c31",
   "metadata": {
    "tags": [
     "remove-output"
    ]
   },
   "outputs": [],
   "source": [
    "# Define the fault:\n",
    "dip = 30.0*np.pi/180.0 #Fault dip in radians\n",
    "xt = 0.0\n",
    "yt = -500.0\n",
    "yb = -1500.0\n",
    "xb = xt-(yt-yb)/np.tan(dip)\n",
    "tip = (xt,yt)\n",
    "base = (xb,yb)\n",
    "nu = 0.25 #Poisson's ratio\n",
    "slip = 2.0 #Positive for reverse, negative for normal"
   ]
  },
  {
   "cell_type": "markdown",
   "id": "25aa0d60-5c63-496a-a730-c187cf186443",
   "metadata": {},
   "source": [
    "To compute the deformation at the Earth’s surface produced by this fault, we create observation points at the surface on a transect perpendicular to the fault. We apply the elastic deformation, and plot the uplift of the points. We observe a maximum uplift of about 0.8 m above the fault as well as a small amount of subsidence away from the fault. Deformation of the Earth’s surface such as modeled here is often observed after an earthquake and can be used to make inferences about the geometry of and amount of slip on the fault that caused the earthquake."
   ]
  },
  {
   "cell_type": "code",
   "execution_count": null,
   "id": "6c2789ee-8da0-4d81-af21-628e0a1b49f5",
   "metadata": {
    "tags": [
     "remove-output"
    ]
   },
   "outputs": [],
   "source": [
    "#Define the observation points at the surface\n",
    "obsx1 = np.arange(-3000.0,3100.0,10.0,dtype=float)\n",
    "obsy1 = np.zeros(obsx1.shape)\n",
    "\n",
    "#Apply slip and deform the surface\n",
    "ux,uy = disloc2d(tip,base,slip,nu,obsx1,obsy1)\n",
    "obsx1 = obsx1+ux\n",
    "obsy1 = obsy1+uy\n",
    "\n",
    "#Plot the result\n",
    "fig, ax = plt.subplots()\n",
    "ax.plot(obsx1,obsy1,\"k-\")\n",
    "ax.set_xlabel(\"Distance (m)\")\n",
    "ax.set_ylabel(\"Uplift (m)\")\n",
    "ax.set_title(\"Surface Deformation\")\n",
    "plt.show()"
   ]
  },
  {
   "cell_type": "markdown",
   "id": "08d0086b-2fca-4562-b85e-da4176e545ac",
   "metadata": {},
   "source": [
    "We now create a two-dimensional grid of observation points around the fault and display the displacement vectors at these points. From the resulting figure, we can clearly see that material moves upward in the hanging wall of the fault and downward in its footwall with displacements greatest near the fault and continuous everywhere except across the fault."
   ]
  },
  {
   "cell_type": "code",
   "execution_count": null,
   "id": "2a507f1f-7b35-40f3-aa72-b695c008de7d",
   "metadata": {
    "tags": [
     "remove-output"
    ]
   },
   "outputs": [],
   "source": [
    "#Define observation points in a region around the fault.\n",
    "obsx2, obsy2 = np.meshgrid(np.arange(-2500.0,1100.0,100.0,\n",
    "    dtype=float),np.arange(-2500.0,100.0,100.0,dtype=float))\n",
    "\n",
    "#Ignore divide by zero error for point right at fault tip.\n",
    "np.seterr(divide='ignore', invalid='ignore') \n",
    "#Apply slip and calculate displacement vectors.\n",
    "ux,uy = disloc2d(tip,base,slip,nu,obsx2,obsy2)\n",
    "\n",
    "#Plot the result.\n",
    "fig, ax = plt.subplots()\n",
    "ax.plot([xt,xb],[yt,yb],'r-') #Plot the fault\n",
    "q = ax.quiver(obsx2, obsy2, ux, uy)\n",
    "ax.quiverkey(q, X=0.6, Y=1.05, U=1, \n",
    "             label='1 m displacement', labelpos='E')\n",
    "ax.set_xlabel('Distance (m)')\n",
    "ax.set_ylabel('Elevation (m)')\n",
    "ax.set_title('Displacement Vectors',loc='left')\n",
    "ax.axis('equal')\n",
    "plt.show()"
   ]
  },
  {
   "cell_type": "markdown",
   "id": "74560ef6-7c21-4234-93a3-ae0597ca56bb",
   "metadata": {},
   "source": [
    "While the plots above are from a single earthquake, repeated slip on a fault will cause much larger cumulative deformation ({numref}`Figure %s <ch09_fig06>`c). The rocks above blind faults are frequently folded, and elastic dislocation theory provides a way to model the formation of such folds in response to faulting. We create three horizontal rows of observation points, representing stratigraphic horizons, and we then apply 200 increments of slip (of 2 m each) to the fault. The result is that the stratigraphic layers above the fault are folded into an asymmetric anticline."
   ]
  },
  {
   "cell_type": "code",
   "execution_count": null,
   "id": "a9e4cee5-ad9a-4b38-be04-9822813cd63e",
   "metadata": {
    "tags": [
     "remove-output"
    ]
   },
   "outputs": [],
   "source": [
    "#Define the observation points as horizontal beds\n",
    "obsx3, obsy3 = np.meshgrid(np.arange(-2500.0,1100.0,\n",
    "    100.0,dtype=float),[-400.0,-300.0,-200.0])\n",
    "\n",
    "#Plot the initial state:\n",
    "fig, ax = plt.subplots(2,1)\n",
    "fig.subplots_adjust(hspace=0.5)\n",
    "ax[0].plot([xt,xb],[yt,yb],'r-') #Plot the fault\n",
    "for i in range(0,obsx3.shape[0]):\n",
    "    ax[0].plot(obsx3[i,:],obsy3[i,:],'k-')\n",
    "ax[0].set_ylabel('Elevation (m)')\n",
    "ax[0].set_title('Initial State')\n",
    "ax[0].axis('equal')\n",
    "\n",
    "#Apply repeated slip increments and displace \n",
    "#the observation points.\n",
    "n_inc = 200 #Total number of increments.\n",
    "for i in range(n_inc):\n",
    "    ux,uy = disloc2d(tip,base,slip,nu,obsx3,obsy3)\n",
    "    obsx3 = obsx3+ux\n",
    "    obsy3 = obsy3+uy\n",
    "    \n",
    "#Plot the final state:\n",
    "ax[1].plot([xt,xb],[yt,yb],'r-') #Plot the fault\n",
    "for i in range(obsx3.shape[0]):\n",
    "    ax[1].plot(obsx3[i,:],obsy3[i,:],'k-')\n",
    "ax[1].set_xlabel('Distance (m)')\n",
    "ax[1].set_ylabel('Elevation (m)')\n",
    "ax[1].set_title('Final State')\n",
    "ax[1].axis('equal')\n",
    "plt.show()"
   ]
  },
  {
   "cell_type": "markdown",
   "id": "e4615d8b-a6b4-4cef-88a9-2681ce6a698f",
   "metadata": {},
   "source": [
    "Try a normal fault dipping 60."
   ]
  },
  {
   "cell_type": "markdown",
   "id": "e83fd93e-0c91-43f2-8087-37ce4e034aa9",
   "metadata": {},
   "source": [
    "(ch09-2-4)=\n",
    "### Wave propagation\n",
    "\n",
    "The propagation of waves in elastic media can be derived from the equation of motion and Hooke’s law. The equation of motion relates the displacements, $\\mathbf{u}$, to the stresses, $\\boldsymbol{\\sigma}$. Combining Hooke’s law with the equation of motion leads to a system of equations describing the propagation of stresses and displacements in a continuum. The equation of motion is given by (Pollard and Fletcher, 2005):"
   ]
  },
  {
   "cell_type": "markdown",
   "id": "d49f3af8-ec23-4c38-a2a7-7935fe7cac0d",
   "metadata": {},
   "source": [
    "$$\n",
    "\\rho\\frac{\\partial^2 u_i}{\\partial t^2} = \\frac{\\partial \\sigma_{ij}}{\\partial X_j}\n",
    "$$ (ch09_eq20)"
   ]
  },
  {
   "cell_type": "markdown",
   "id": "79d99323-d75f-445e-a848-8276ae319b18",
   "metadata": {},
   "source": [
    "where $\\rho$ is density. The Hooke’s law (Eq. {eq}`ch09_eq01`) can also be written as (Pollard and Fletcher, 2005):"
   ]
  },
  {
   "cell_type": "markdown",
   "id": "12ab837b-0e1e-4b2a-ad7c-b88bc521baf8",
   "metadata": {},
   "source": [
    "$$\n",
    "\\sigma_{ij}= 2G \\varepsilon_{ij} + \\lambda \\varepsilon_{kk}\\delta_{ij}\n",
    "$$ (ch09_eq21)"
   ]
  },
  {
   "cell_type": "markdown",
   "id": "39e51cc8-acfb-4044-813f-185ee6233904",
   "metadata": {},
   "source": [
    "where $\\lambda = \\frac{E\\nu}{(1 + \\nu)(1-2\\nu)}$ is the Lamé’s constant, $G$ is the shear modulus (Eq. {eq}`ch09_eq04`), and $\\varepsilon_{ij} = \\frac{1}{2}\\left(\\frac{\\partial u_i}{\\partial X_j}+\\frac{\\partial u_j}{\\partial X_i}\\right)$ is the infinitesimal strain tensor (Eq. {eq}`ch08_eq15`).\n",
    "\n",
    "Let’s assume a 2-D isotropic and linearly elastic medium with a horizontal axis, $\\mathbf{x}$, and a vertical axis, $\\mathbf{z}$.\n",
    "\n",
    ":::{note}\n",
    "For simplicity, we use in this section $\\mathbf{x}$ and $\\mathbf{z}$ instead of $\\mathbf{X_1}$ and $\\mathbf{X_2}$.\n",
    ":::\n",
    "\n",
    "Eqs. {eq}`ch09_eq20` and {eq}`ch09_eq21` become:"
   ]
  },
  {
   "cell_type": "markdown",
   "id": "99b7fd3c-441b-49b8-b7e1-db509cad5885",
   "metadata": {},
   "source": [
    "$$\n",
    "\\rho\\frac{\\partial^2u_x}{\\partial t^2}=\\frac{\\partial\\sigma_{xx}}{\\partial x}+\\frac{\\partial\\sigma_{xz}}{\\partial z}\n",
    "$$ (ch09_eq22)\n",
    "\n",
    "$$\n",
    "\\rho\\frac{\\partial^2u_z}{\\partial t^2}=\\frac{\\partial\\sigma_{xz}}{\\partial x}+\\frac{\\partial\\sigma_{zz}}{\\partial z}\n",
    "$$ (ch09_eq23)\n",
    "\n",
    "$$\n",
    "\\sigma_{xx}=\\left(\\lambda+2G\\right)\\frac{\\partial u_x}{\\partial x}+\\lambda\\frac{\\partial u_z}{\\partial z}\n",
    "$$ (ch09_eq24)\n",
    "\n",
    "$$\n",
    "\\sigma_{zz}=\\left(\\lambda+2G\\right)\\frac{\\partial u_z}{\\partial z}+\\lambda\\frac{\\partial u_x}{\\partial x}\n",
    "$$ (ch09_eq25)"
   ]
  },
  {
   "cell_type": "markdown",
   "id": "0fecbde0-5301-433f-82a1-2322fbfedb51",
   "metadata": {},
   "source": [
    "and"
   ]
  },
  {
   "cell_type": "markdown",
   "id": "04d46a06-86ca-4cc2-8685-4056cb72e3b3",
   "metadata": {},
   "source": [
    "$$\n",
    "\\sigma_{xz}=G\\left(\\frac{\\partial u_x}{\\partial z}+\\frac{\\partial u_z}{\\partial x}\\right)\n",
    "$$ (ch09_eq26)"
   ]
  },
  {
   "cell_type": "markdown",
   "id": "995c3f1c-c941-4cda-9e3d-6dbb04847839",
   "metadata": {},
   "source": [
    "These equations are known as the *elastodynamic* equations. They can be further simplified into a first-order hyperbolic system of equations by using velocity instead of displacement (Virieux, 1986):"
   ]
  },
  {
   "cell_type": "markdown",
   "id": "edf1b047-0adb-4cff-8679-32aed01da409",
   "metadata": {},
   "source": [
    "$$\n",
    "\\frac{\\partial v_x}{\\partial t}=b\\left(\\frac{\\partial \\sigma_{xx}}{\\partial x}+\\frac{\\partial\\sigma_{xz}}{\\partial z}\\right)\n",
    "$$ (ch09_eq27)\n",
    "\n",
    "$$\n",
    "\\frac{\\partial v_z}{\\partial t}=b\\left(\\frac{\\partial \\sigma_{xz}}{\\partial x}+\\frac{\\partial\\sigma_{zz}}{\\partial z}\\right)\n",
    "$$ (ch09_eq28)\n",
    "\n",
    "$$\n",
    "\\frac{\\partial\\sigma_{xx}}{\\partial t}=\\left(\\lambda+2G\\right)\\frac{\\partial v_x}{\\partial x}+\\lambda\\frac{\\partial v_z}{\\partial z}\n",
    "$$ (ch09_eq29)\n",
    "\n",
    "$$\n",
    "\\frac{\\partial\\sigma_{zz}}{\\partial t}=\\left(\\lambda+2G\\right)\\frac{\\partial v_z}{\\partial z}+\\lambda\\frac{\\partial v_x}{\\partial x}\n",
    "$$ (ch09_eq30)"
   ]
  },
  {
   "cell_type": "markdown",
   "id": "3aea1abd-5806-4740-ba8e-7f20d52270c1",
   "metadata": {},
   "source": [
    "and"
   ]
  },
  {
   "cell_type": "markdown",
   "id": "81943446-8c8b-4cff-9f52-d9fcc150c883",
   "metadata": {},
   "source": [
    "$$\n",
    "\\frac{\\partial\\sigma_{xz}}{\\partial t}=G\\left(\\frac{\\partial v_x}{\\partial z}+\\frac{\\partial v_z}{\\partial x}\\right)\n",
    "$$ (ch09_eq31)"
   ]
  },
  {
   "cell_type": "markdown",
   "id": "ef846661-5a58-45c8-928a-67ab1a5d7da3",
   "metadata": {},
   "source": [
    "where $v_x, \\; v_z$ are the particle velocities, and $b$ is the buoyancy, the inverse of the density. Virieux (1986) solved Eqs. {eq}`ch09_eq27` to {eq}`ch09_eq31` using a finite-difference method and staggered grids. He also gave the numerical stability conditions of his scheme for different media.\n",
    "\n",
    ":::{note}\n",
    "The finite difference method is a numerical method for solving differential equations as differences between points in a grid of regular cells. Staggered grids are superimposed grids that are slightly shifted in location. In our case, the stress and velocity grids are slightly shifted.\n",
    ":::\n",
    "\n",
    "The program [CGeo$\\_$elastic](https://github.com/nfcd/compGeo/blob/master/source/functions/CGeo_elastic.py) simulates the propagation of waves in elastic media. This code is implemented using Python classes, which are objects that can have both functions and data elements. There are four classes in the program: `Source` which implements the wave source, `Derivatives` which implements the finite differences that solve the derivatives, `Elastic`$\\_$`model` which implements and plots the elastic model, and `Elastic`$\\_$`waves` which simulates the elastic waves by solving Eqs. {eq}`ch09_eq27` to {eq}`ch09_eq31`.\n",
    "\n",
    "The notebook [ch9-4](https://github.com/nfcd/compGeo/blob/master/source/notebooks/ch9-4.ipynb) illustrates the use of the `CGeo`$\\_$`elastic` program. We first import the necessary libraries and classes:"
   ]
  },
  {
   "cell_type": "code",
   "execution_count": null,
   "id": "06bddd90-6427-4927-901f-73798fd8c228",
   "metadata": {
    "tags": [
     "remove-output"
    ]
   },
   "outputs": [],
   "source": [
    "import numpy as np\n",
    "import matplotlib.pyplot as plt\n",
    "from IPython.display import clear_output\n",
    "\n",
    "# Import CGeo_elastic classes\n",
    "import compgeo.CGeo_elastic as ela"
   ]
  },
  {
   "cell_type": "markdown",
   "id": "5897ec7b-2312-408c-aba4-beba10b6a86a",
   "metadata": {},
   "source": [
    "We consider a region consisting of two materials with different seismic velocities but homogeneous densities separated by a 90corner. $V_p$ is 6000 m/s in the overburden and 9000 m/s inside the corner. The density, $\\rho$, is 2500 kg/m$^3$. The S-wave velocities are computed using the equations $V_p = \\sqrt{\\frac{\\lambda + 2G}{\\rho}}$ and $V_s = \\sqrt{\\frac{G}{\\rho}}$ (Sheriff and Geldart, 1995), and assuming $\\lambda = G$, which corresponds to a Poisson ratio $\\nu = 0.25$. The model is discretized using 100 m grid spacing in the $x$ and $z$ directions:"
   ]
  },
  {
   "cell_type": "code",
   "execution_count": null,
   "id": "e9d762bc-3e50-49fb-bb7c-1ac8556d31e4",
   "metadata": {
    "tags": [
     "remove-output"
    ]
   },
   "outputs": [],
   "source": [
    "# Model size in grid cells\n",
    "nz = 249\n",
    "nx = 381\n",
    "dz = 100 \n",
    "dx = 100\n",
    "\n",
    "# Corner edge model with Poisson ratio = 0.25\n",
    "vpdata = np.ones([nz,nx])*6000\n",
    "vpdata[89:, 131:] = 9000\n",
    "rhodata = np.ones([nz,nx])*2500\n",
    "lam = rhodata*(vpdata**2)/3. \n",
    "G = lam \n",
    "vsdata = np.sqrt(G/rhodata)\n",
    "\n",
    "# Initialize 2D elastic model class and plot model\n",
    "Model = ela.Elastic_model(vpdata, vsdata, \n",
    "                          rhodata, dx, dz, 0.0, 0.0) \n",
    "fig, ax = Model.plot()"
   ]
  },
  {
   "cell_type": "markdown",
   "id": "904df4a3-04a6-4f6b-9f29-3e6307f02419",
   "metadata": {},
   "source": [
    "The source wavelet consists of a Ricker wavelet with a dominant frequency of $\\sqrt{\\frac{40}{\\pi^2}} \\approx 2$ Hz. The time discretization and the number of time samples are $\\Delta t = 0.005$, and $nt = 1201$, respectively. This gives a total modelling time of 6 seconds. The source is modelled as punctual explosion whose location is $x = 15000$ m and $z=5800$ m. Furthermore, seismic data is recorded right below the free surface at the top of the model:"
   ]
  },
  {
   "cell_type": "code",
   "execution_count": null,
   "id": "cc81db3d-8f6d-4ffe-bffe-30ab5477859c",
   "metadata": {
    "tags": [
     "remove-output"
    ]
   },
   "outputs": [],
   "source": [
    "# Sampling and modeling length (6 seconds = (nt-1)*dt)\n",
    "dt = 5e-3\n",
    "nt = 1201\n",
    "\n",
    "f0=(40/(np.pi**2))**.5  # Dominant frequency\n",
    "t0=0.6 # Time delay\n",
    "\n",
    "# Source position in grid points\n",
    "sx = 150\n",
    "sz = 58\n",
    "\n",
    "# Receiver depth in grid points for the recordings\n",
    "rz = 1\n",
    "\n",
    "Source = ela.Source(nt, dt, sx, sz) # Source class\n",
    "Source.Ricker(f0,t0,0) # Initializing a source wavelet\n",
    "fig, ax = Source.plot()"
   ]
  },
  {
   "cell_type": "markdown",
   "id": "19daeeea-f09e-4eae-be3c-35039d34ac50",
   "metadata": {},
   "source": [
    "We then setup the finite difference scheme:"
   ]
  },
  {
   "cell_type": "code",
   "execution_count": null,
   "id": "ed34e760-6aa6-4c48-a94b-589ebf12e1f6",
   "metadata": {
    "tags": [
     "remove-output"
    ]
   },
   "outputs": [],
   "source": [
    "# Initialize the classes to solve the Elastodynamic equations\n",
    "Waves = ela.Elastic_waves(Model,nt,dt) \n",
    "Derivative = ela.Derivatives()\n",
    "\n",
    "# Create containers for snapshots \n",
    "# These require lots of memory\n",
    "P_snaps = np.zeros([nz,nx,nt]) # pressure\n",
    "Vx_snaps = np.zeros([nz,nx,nt]) # vx\n",
    "Vz_snaps = np.zeros([nz,nx,nt]) # vz\n",
    "\n",
    "# Create containers for seismograms\n",
    "# just below the free surface\n",
    "P_record= np.zeros([nt,nx]) # pressure\n",
    "Vx_record = np.zeros([nt,nx]) # vx \n",
    "Vz_record = np.zeros([nt,nx]) # vz\n",
    "\n",
    "# Check stability of FD modeling scheme\n",
    "dtstab = Waves.Courant_stability(np.max(Model.vp))\n",
    "if(dt > dtstab):\n",
    "    raise Exception(\"The value of dt should not exceed\", \n",
    "                    \"the stability limit of:\", \n",
    "                    dtstab, \"The value of dt was:\", dt)"
   ]
  },
  {
   "cell_type": "markdown",
   "id": "dead989f-e006-4bd4-98bb-1a98b0e6fe19",
   "metadata": {},
   "source": [
    "Finally, the elastodynamic waves are solved using an explicit leap frog method where the wavefields at the next time step are solved from the wavefields at the previous time step. You will be presented with a progress indicator, please wait for the program to finish:"
   ]
  },
  {
   "cell_type": "code",
   "execution_count": null,
   "id": "72b5739a-83e4-4095-8d33-65d389e2fc39",
   "metadata": {
    "tags": [
     "remove-output"
    ]
   },
   "outputs": [],
   "source": [
    "# Loop over time\n",
    "for it in range(0,nt):\n",
    "    # Extrapolate waves one time step\n",
    "    Waves.forwardStep(Derivative, Model)\n",
    "    \n",
    "    # Adding pressure source \n",
    "    Waves.insertPressure(Source, it)\n",
    "\n",
    "    # Adding force source(s)\n",
    "    # Clockwise angle gives force direction (180 is down)\n",
    "    #angle = 180 \n",
    "    #Waves.insertForce(Source, Model, angle, it)    \n",
    "    \n",
    "    # Recording a seismogram \n",
    "    P_record[it, :] = Waves.recordPressure(rz)\n",
    "    Vx_record[it, :] = Waves.recordVelocity(rz, 'x')\n",
    "    Vz_record[it, :] = Waves.recordVelocity(rz, 'z')\n",
    "    \n",
    "    # Record snapshots\n",
    "    Vx_snaps[:,:,it] = Waves.Vx \n",
    "    Vz_snaps[:,:,it] = Waves.Vz \n",
    "    P_snaps[:,:,it] = 0.5*(Waves.Sxx + Waves.Szz) \n",
    "            \n",
    "    if(it % np.floor(nt/20) == 0):\n",
    "        clear_output(wait=True)\n",
    "        print('Progress:', np.round(100*it/(nt-1)), '%')"
   ]
  },
  {
   "cell_type": "markdown",
   "id": "b7af67f5-067f-434d-99eb-e22c0fb47ae1",
   "metadata": {},
   "source": [
    "The results can be displayed in the form of numerical seismograms recorded just below the free surface. The left column corresponds to the $x$-component of the particle velocities ($v_x$), the middle column corresponds to the $z$-component of the particle velocities ($v_z$), and the right column corresponds to pressure ($\\frac{\\sigma_{xx} + \\sigma_{zz}}{2}$). Both compressional and shear waves can be seen on the left and middle columns, whereas only compressional waves are visible on the right column:  "
   ]
  },
  {
   "cell_type": "code",
   "execution_count": null,
   "id": "453e80f4-9e5b-480e-a457-83b7e8479328",
   "metadata": {
    "tags": [
     "remove-output"
    ]
   },
   "outputs": [],
   "source": [
    "fig, ax = plt.subplots(1,3, sharey=True, figsize=(16,24))\n",
    "extents = [0, (nx-1)*dx, (nt-1)*dt, 0]\n",
    "\n",
    "# Vx\n",
    "vlim = 0.1*np.min(Vx_record)\n",
    "ax[0].imshow(Vx_record,vmin=vlim, vmax=-vlim, \n",
    "             extent=extents, aspect=8000, cmap=\"gray\")\n",
    "ax[0].set_xlabel(\"Position (m)\")\n",
    "ax[0].set_ylabel(\"Time (s)\")\n",
    "ax[0].set_title(\"Vx\")\n",
    "\n",
    "# Vz\n",
    "vlim = 0.1*np.min(Vz_record)\n",
    "ax[1].imshow(Vz_record,vmin=vlim, vmax=-vlim, \n",
    "             extent=extents, aspect=8000, cmap=\"gray\")\n",
    "ax[1].set_xlabel(\"Position (m)\")\n",
    "ax[1].set_ylabel(\"Time (s)\")\n",
    "ax[1].set_title(\"Vz\")\n",
    "\n",
    "# Pressure\n",
    "vlim = 0.1*np.min(P_record)\n",
    "ax[2].imshow(P_record,vmin=vlim, vmax=-vlim, \n",
    "             extent=extents, aspect=8000, cmap=\"gray\")\n",
    "ax[2].set_xlabel(\"Position (m)\")\n",
    "ax[2].set_ylabel(\"Time (s)\")\n",
    "ax[2].set_title(\"Pressure\")\n",
    "plt.show()"
   ]
  },
  {
   "cell_type": "markdown",
   "id": "abef3de1-c009-4233-901e-91dd71b617c6",
   "metadata": {},
   "source": [
    "The results can also be shown as snapshots of the wave propagation at selected times. Again, the left column is $v_x$, the middle column is $v_z$, and the right column is pressure. Each row is a snapshot and time increases downwards. Compressional and shear waves are observed on the left and middle columns, whereas only compressional waves are visible on the right column:"
   ]
  },
  {
   "cell_type": "code",
   "execution_count": null,
   "id": "136f555a-aebb-455e-b45c-f9b6674b5b9e",
   "metadata": {
    "tags": [
     "remove-output"
    ]
   },
   "outputs": [],
   "source": [
    "fig, ax = plt.subplots(4,3, sharex=True, \n",
    "                       sharey=True, figsize=(12,12))\n",
    "extents = [0, (nx-1)*dx, (nz-1)*dz, 0]\n",
    "snapit = int(np.floor(0.995/dt)) # initial time\n",
    "delta_snap = int(np.floor(0.5/dt)) # delta time\n",
    "\n",
    "for i in range(0,4): # 4 snaps\n",
    "    \n",
    "    # Vx\n",
    "    vlim = 0.1*np.min(Vx_snaps[:,:,snapit])\n",
    "    ax[i,0].imshow(Vx_snaps[:,:,snapit], vmin=vlim, \n",
    "                   vmax=-vlim, extent=extents, cmap=\"gray\")\n",
    "    ax[i,0].grid()\n",
    "    ax[i,0].set_ylabel(\"Depth (m)\")\n",
    "    \n",
    "    # Vz\n",
    "    vlim = 0.1*np.min(Vz_snaps[:,:,snapit])\n",
    "    ax[i,1].imshow(Vz_snaps[:,:,snapit], vmin=vlim, \n",
    "                   vmax=-vlim, extent=extents, cmap=\"gray\")\n",
    "    if i == 0:\n",
    "        ax[i,1].set_title(\"Vz, \" + str((snapit-1)*dt) + \" s\")\n",
    "    \n",
    "    else:\n",
    "        ax[i,1].set_title(str((snapit-1)*dt) + \" s\")\n",
    "    ax[i,1].grid()\n",
    "    \n",
    "    # Pressure\n",
    "    vlim = 0.1*np.min(P_snaps[:,:,snapit])\n",
    "    ax[i,2].imshow(P_snaps[:,:,snapit], vmin=vlim, \n",
    "                   vmax=-vlim, extent=extents, cmap=\"gray\")\n",
    "    ax[i,2].grid()\n",
    "    snapit = snapit+delta_snap\n",
    "\n",
    "ax[0,0].set_title(\"Vx\");\n",
    "ax[0,2].set_title(\"Pressure\");\n",
    "ax[3,0].set_xlabel(\"Position (m)\")\n",
    "ax[3,1].set_xlabel(\"Position (m)\")\n",
    "ax[3,2].set_xlabel(\"Position (m)\")\n",
    "plt.show()"
   ]
  },
  {
   "cell_type": "markdown",
   "id": "cfebb0de-1600-4245-a0e1-472cac958d20",
   "metadata": {},
   "source": [
    "(ch09-3)=\n",
    "## Exercises\n",
    "\n",
    "1. The tangential stress, $\\sigma_{\\eta\\eta}$, at the surface of an elliptical hole under far field principal stresses, $\\sigma_1$ and $\\sigma_3$, is given by (Jaeger et al., 2007):\n",
    "\n",
    "    $$\n",
    "    \\sigma_{\\eta \\eta}=\\frac{2 a b\\left(\\sigma_{1}+\\sigma_{3}\\right)+\\left(\\sigma_{1}-\\sigma_{3}\\right)\\left[\\left(a^{2}-b^{2}\\right) \\cos 2 \\beta-(a+b)^{2} \\cos 2(\\beta-\\eta)\\right]}{\\left(a^{2}+b^{2}\\right)-\\left(a^{2}-b^{2}\\right) \\cos 2 \\eta}\n",
    "    $$ (ch09_eq32)\n",
    "\n",
    "    where $a$ and $b$ are the major and minor axes of the hole, $\\beta$  is the angle $\\sigma_1$ makes with the major axis of the hole ({numref}`Figure %s <ch09_fig07>`), and $\\eta$ is given by:\n",
    "\n",
    "    $$\n",
    "    \\tan\\eta=\\left(\\frac{a}{b}\\right)\\tan\\theta\n",
    "    $$ (ch09_eq33)\n",
    "\n",
    "    where $\\theta$ is the angle a vector connecting the center of the hole and the point of observation makes with the long axis of the hole ({numref}`Figure %s <ch09_fig07>`)."
   ]
  },
  {
   "cell_type": "markdown",
   "id": "b97482ec-d5aa-4ba8-a6ed-ba376d55a25d",
   "metadata": {},
   "source": [
    "```{figure} figures/ch09_fig07.png\n",
    ":width: 400px\n",
    ":name: ch09_fig07\n",
    "\n",
    "Elliptical hole under far field stresses. Symbols are explained in the text.\n",
    "```"
   ]
  },
  {
   "cell_type": "markdown",
   "id": "628ca638-abd6-406b-b4a8-816d0e7a67b0",
   "metadata": {},
   "source": [
    "    Write a function that plots the tangential stress as function of $\\theta$, on the surface of an elliptical hole under far field stresses, $\\sigma_1$ and $\\sigma_3$. Check your function with the three cases in Figure 8.6 of Jaeger et al. (2007).\n",
    "\n",
    "    :::{hint}\n",
    "    Start with function `hoop`, and modify the `geom` and `stress` entries to fit this new problem. You will need to implement Eq. {eq}`ch09_eq32` for the tangential stress. You can use values of $\\theta$ from 0 to 180 and 1increment.\n",
    "    :::\n",
    "\n",
    "2. The elastic lithosphere of the Earth can be broken by major structures, such as fault systems bounding terrain boundaries. In this case, a broken plate model is more appropriate than the continuous plate model. The implementation of the broken plate model with a free end at $x=0$, and for a rectangular load is explained in Hetenyi (1946). First, we introduce the following terms:\n",
    "\n",
    "    $$\n",
    "    \\begin{gathered}\n",
    "        A_{(\\alpha,x)} = \\exp(-x/\\alpha)(\\cos(x/\\alpha) + \\sin(x/\\alpha)) \\\\ B_{(\\alpha,x)} = \\exp(-x/\\alpha)\\sin(x/\\alpha) \\\\ \n",
    "        C_{(\\alpha,x)} = \\exp(-x/\\alpha)(\\cos(x/\\alpha) - \\sin(x/\\alpha))\n",
    "    \\end{gathered}\n",
    "    $$ (ch09_eq34)\n",
    "\n",
    "    and then these terms:\n",
    "\n",
    "    $$\n",
    "    \\begin{gathered}\n",
    "        aa = 2(B_{(\\alpha,b')} - B_{(\\alpha,a')}) + (C_{(\\alpha,a')} - C_{(\\alpha,b')}) \\\\ \n",
    "        bb = (B_{(\\alpha,b')} - B_{(\\alpha,a')}) + (C_{(\\alpha,a')} - C_{(\\alpha,b')})\n",
    "    \\end{gathered}\n",
    "    $$ (ch09_eq35)\n",
    "\n",
    "    where $a'$ and $b'$ are the distances from the free end of the plate, $x=0$, to the left and right borders of the load, respectively. The deflection $u$ of any point along the beam ($x\\geq 0$) is:\n",
    "\n",
    "    - If the point is under the load:\n",
    "\n",
    "        $$\n",
    "        u = \\frac{q}{2k}[(2-D_{(\\alpha,a)}-D_{(\\alpha,b)}) + bbA_{(\\alpha,x)} - aaB_{(\\alpha,x)}]\n",
    "        $$ (ch09_eq36)\n",
    "\n",
    "    - If the point is to the left of the load:\n",
    "\n",
    "        $$\n",
    "        u = \\frac{q}{2k}[(D_{(\\alpha,a)}-D_{(\\alpha,b)}) + bbA_{(\\alpha,x)} - aaB_{(\\alpha,x)}\n",
    "        $$ (ch09_eq37)\n",
    "\n",
    "    - If the point is to the right of the load:\n",
    "\n",
    "        $$\n",
    "        u = \\frac{q}{2k}[(D_{(\\alpha,b)}-D_{(\\alpha,a)}) + bbA_{(\\alpha,x)} - aaB_{(\\alpha,x)}\n",
    "        $$ (ch09_eq38)\n",
    "\n",
    "    where $a$ and $b$ are the absolute distances from the point to the left and right borders of the load ({numref}`Figure %s <ch09_fig05>`c), and $D_{(\\alpha,x)}$ is defined in Eq. {eq}`ch09_eq12`.\n",
    "\n",
    "    Write a function that computes the deflection of a broken elastic lithosphere under a distribution of load columns. Check this function with the loads in [loads.txt](https://github.com/nfcd/compGeo/blob/master/source/data/ch9-2/loads.txt).\n",
    "\n",
    "    :::{hint}\n",
    "    Modify function `flex2d` for the broken plate model. You will need to implement the new terms (Eqs. {eq}`ch09_eq34` and {eq}`ch09_eq35`), and modify the deflection according to Eqs. {eq}`ch09_eq36` to {eq}`ch09_eq38`.\n",
    "    :::\n",
    "\n",
    "3. The stress changes caused by an edge dislocation in an elastic half space in two dimensions are (Segall, 2010):\n",
    "\n",
    "    $$\n",
    "    %\\resizebox{1.05\\hsize}{!}\n",
    "    {\\begin{aligned}\n",
    "        \\sigma_{11}=\\frac{G s_{2}}{2 \\pi(1-\\nu)} &\\left\\{\\frac{x_{1}\\left[\\left(x_{2}-\\xi_{2}\\right)^{2}-x_{1}^{2}\\right]}{r_{1}^{4}}-\\frac{x_{1}\\left[\\left(x_{2}+\\xi_{2}\\right)^{2}-x_{1}^{2}\\right]}{r_{2}^{4}}\\right.\\\\\n",
    "        +&\\left.\\frac{4 \\xi_{2} x_{1}}{r_{2}^{6}}\\left[\\left(2 \\xi_{2}-x_{2}\\right)\\left(x_{2}+\\xi_{2}\\right)^{2}+\\left(3 x_{2}+2 \\xi_{2}\\right) x_{1}^{2}\\right]\\right\\} \\\\\n",
    "        &+\\frac{G s_{1}}{2 \\pi(1-\\nu)}\\left\\{\\frac{\\left(x_{2}-\\xi_{2}\\right)\\left[\\left(x_{2}-\\xi_{2}\\right)^{2}+3 x_{1}^{2}\\right]}{r_{1}^{4}}-\\frac{\\left(x_{2}+\\xi_{2}\\right)\\left[\\left(x_{2}+\\xi_{2}\\right)^{2}+3 x_{1}^{2}\\right]}{r_{2}^{4}}\\right.\\\\\n",
    "        &\\left.+\\frac{2 \\xi_{2}}{r_{2}^{6}}\\left[6 x_{2}\\left(x_{2}+\\xi_{2}\\right) x_{1}^{2}-\\left(x_{2}-\\xi_{2}\\right)\\left(x_{2}+\\xi_{2}\\right)^{3}-x_{1}^{4}\\right]\\right\\} \\\\ \\\\\n",
    "        \\sigma_{22}=\\frac{-G s_{2}}{2 \\pi(1-\\nu)} &\\left\\{\\frac{x_{1}\\left[3\\left(x_{2}-\\xi_{2}\\right)^{2}+x_{1}^{2}\\right]}{r_{1}^{4}}-\\frac{x_{1}\\left[3\\left(x_{2}+\\xi_{2}\\right)^{2}+x_{1}^{2}\\right]}{r_{2}^{4}}-\\frac{4 \\xi_{2} x_{2} x_{1}}{r_{2}^{6}}\\left[3\\left(x_{2}+\\xi_{2}\\right)^{2}-x_{1}^{2}\\right]\\right\\} \\\\\n",
    "        &+\\frac{G s_{1}}{2 \\pi(1-\\nu)}\\left\\{\\frac{\\left(x_{2}-\\xi_{2}\\right)\\left[\\left(x_{2}-\\xi_{2}\\right)^{2}-x_{1}^{2}\\right]}{r_{1}^{4}}-\\frac{\\left(x_{2}+\\xi_{2}\\right)\\left[\\left(x_{2}+\\xi_{2}\\right)^{2}-x_{1}^{2}\\right]}{r_{2}^{4}}\\right.\\\\\n",
    "        -&\\left.\\frac{2 \\xi_{2}}{r_{2}^{6}}\\left[6 x_{2}\\left(x_{2}+\\xi_{2}\\right) x_{1}^{2}-\\left(3 x_{2}+\\xi_{2}\\right)\\left(x_{2}+\\xi_{2}\\right)^{3}+x_{1}^{4}\\right]\\right\\} \\\\ \\\\\n",
    "        \\sigma_{12}=\\frac{G s_{2}}{2 \\pi(1-\\nu)} &\\left\\{\\frac{\\left(x_{2}-\\xi_{2}\\right)\\left[\\left(x_{2}-\\xi_{2}\\right)^{2}-x_{1}^{2}\\right]}{r_{1}^{4}}-\\frac{\\left(x_{2}+\\xi_{2}\\right)\\left[\\left(x_{2}+\\xi_{2}\\right)^{2}-x_{1}^{2}\\right]}{r_{2}^{4}}\\right.\\\\\n",
    "        +&\\left.\\frac{2 \\xi_{2}}{r_{2}^{6}}\\left[6 x_{2}\\left(x_{2}+\\xi_{2}\\right) x_{1}^{2}-x_{1}^{4}+\\left(\\xi_{2}-x_{2}\\right)\\left(x_{2}+\\xi_{2}\\right)^{3}\\right]\\right\\} \\\\\n",
    "        &+\\frac{G s_{1}}{2 \\pi(1-\\nu)}\\left\\{\\frac{x_{1}\\left[\\left(x_{2}-\\xi_{2}\\right)^{2}-x_{1}^{2}\\right]}{r_{1}^{4}}-\\frac{x_{1}\\left[\\left(x_{2}+\\xi_{2}\\right)^{2}-x_{1}^{2}\\right]}{r_{2}^{4}}\\right.\\\\\n",
    "        &\\left.+\\frac{4 \\xi_{2} x_{2} x_{1}}{r_{2}^{6}}\\left[3\\left(x_{2}+\\xi_{2}\\right)^{2}-x_{1}^{2}\\right]\\right\\}\n",
    "    \\end{aligned}\\\\$}\n",
    "    $$ (ch09_eq39)\n",
    "\n",
    "    All symbols are like in [Section 9.2.3](ch09-2-3). Note that, unlike displacements (Eq. {eq}`ch09_eq17`), stresses do not depend on the angles about the dislocation and its image ($\\theta_1$ and $\\theta_2$) but do depend on the shear modulus ($G$).\n",
    "\n",
    "    - Write a function that calculates the stresses at observation points due to an edge dislocation. Hint: Add to the `disloc2d.py` module a function to calculate stress. Call this stress function from function `disloc2d`\n",
    "\n",
    "    - Calculate stresses for the same fault geometry and grid of observation points that you used to plot vectors of fault displacement in notebook [ch9-3](https://github.com/nfcd/compGeo/blob/master/source/notebooks/ch9-3.ipynb). Use 10 GPa for the shear modulus and 2 m of reverse-sense slip. Make plots of each of the three stress components: $\\sigma_{11}$, $\\sigma_{12}$, and $\\sigma_{22}$. There are multiple ways you could make this plot. A simple way would be to use Pyplot `scatter` function with stress as the `c` (color) argument. A more advanced, but nicer looking way, would be to use `imshow`.\n",
    "\n",
    "    - Calculate the three strain components $\\varepsilon_{11}$, $\\varepsilon_{12}$, and $\\varepsilon_{22}$, and make plots of each. Eqs {eq}`ch09_eq17` and {eq}`ch09_eq39` are defined for a state of plane strain, in which $\\varepsilon_{33}$ = 0 but $\\sigma_{33} \\neq 0$. Solving Eq. {eq}`ch09_eq01` with $\\varepsilon_{33} = 0$ and writing the result in terms of $G$ and $\\nu$ gives the following equations for plane strain:\n",
    "\n",
    "        $$\\begin{gathered}\n",
    "            \\varepsilon_{11}=\\frac{1}{2 G}\\left[(1-\\nu) \\sigma_{11}-\\nu \\sigma_{22}\\right] \\\\ \n",
    "            \\varepsilon_{22}=\\frac{1}{2 G}\\left[(1-\\nu) \\sigma_{22}-\\nu \\sigma_{11}\\right] \\\\\n",
    "            \\varepsilon_{12}=\\frac{1}{2 G} \\sigma_{12}\n",
    "        \\end{gathered}\n",
    "        $$ (ch09_eq40)\n",
    "\n",
    "    - Change the sense of slip to normal and repeat the stress and  strain calculations. Compare the results to those from the reverse slip case.\n",
    "\n",
    "4. The example in notebook [ch9-4](https://github.com/nfcd/compGeo/blob/master/source/notebooks/ch9-4.ipynb) considers elastic wave propagation in a region consisting of two materials with different seismic velocities but homogeneous densities.\n",
    "\n",
    "    - Change the elastic model, such that the seismic velocities are homogeneous, but the density is heterogeneous and larger inside the 90 corner.\n",
    "\n",
    "    - Change the source from a punctual explosion to a downward force source.\n",
    "\n",
    "    - Change the source to a lateral force source."
   ]
  },
  {
   "cell_type": "markdown",
   "id": "04e019fb-71ef-4e3c-8430-af8155b5fd52",
   "metadata": {},
   "source": [
    "(ch09-4)=\n",
    "## References\n",
    "\n",
    "Allmendinger, R.W. 2020. Modern Structural Practice: A structural\n",
    "geology laboratory manual for the 21st century.\n",
    "\\[[Online](https://www.rickallmendinger.net/download)\\]. \\[Accessed\n",
    "March, 2021\\].\n",
    "\n",
    "Fossen, H. 2016. Structural Geology. Cambridge University Press.\n",
    "\n",
    "Gudmunsson, A. 2011. Rock fractures in geological processes. Cambridge\n",
    "University Press.\n",
    "\n",
    "Hetenyi, M. 1946. Beams on Elastic Foundations. Theory with Applications\n",
    "in the Fields of Civil and Mechanical Engineering. The University of\n",
    "Michigan Press.\n",
    "\n",
    "Hoek, E. 2006. Practical Rock Engineering. Available from this\n",
    "[link](https://www.rocscience.com/assets/resources/learning/hoek/Practical-Rock-Engineering-Full-Text.pdf).\n",
    "\n",
    "Jaeger, J.C., Cook, N.G.W. and Zimmerman, R.W. 2007. Fundamentals of\n",
    "Rock Mechanics, fourth edition. Blackwell Publishing.\n",
    "\n",
    "Pollard, D.D. and Fletcher, R.C. 2005. Fundamentals of Structural\n",
    "Geology. Cambridge University Press.\n",
    "\n",
    "Ragan, D.M. 2009. Structural Geology: An Introduction to Geometrical\n",
    "Techniques. Cambridge University Press.\n",
    "\n",
    "Segall, P. 2010. Earthquake and Volcano Deformation. Princeton\n",
    "University Press.\n",
    "\n",
    "Sheriff, R. and Geldart, L.P. 1995. Exploration Seismology, second\n",
    "edition. Cambridge University Press.\n",
    "\n",
    "Stein, R.S. and Barrientos, S.E. 1985. Planar High-Angle Faulting in the\n",
    "Basin and Range: Geodetic Analysis of the 1983 Borah Peak, Idaho,\n",
    "Earthquake. Journal of Geophysical Research 90, 11,355-11,366.\n",
    "\n",
    "Turcotte, D.L. and Schubert, G. 1982. Geodynamics. Jon Wiley $\\&$ Sons.\n",
    "\n",
    "Van Der Pluijm, B.A. and Marshak, S. 2004. Earth Structure, second\n",
    "edition. Norton.\n",
    "\n",
    "Virieux, J. 1986. P-SV wave propagation in heterogeneous media:\n",
    "Velocity-stress finite-difference method. Geophysics 51, 889-901.\n",
    "\n",
    "Watts, A.B. 2001. Isostasy and Flexure of the Lithosphere. Cambridge\n",
    "University Press.\n",
    "\n",
    "Zoback, M.D. 2010. Reservoir Geomechanics. Cambridge University Press."
   ]
  }
 ],
 "metadata": {
  "kernelspec": {
   "display_name": "Python 3 (ipykernel)",
   "language": "python",
   "name": "python3"
  },
  "language_info": {
   "codemirror_mode": {
    "name": "ipython",
    "version": 3
   },
   "file_extension": ".py",
   "mimetype": "text/x-python",
   "name": "python",
   "nbconvert_exporter": "python",
   "pygments_lexer": "ipython3",
   "version": "3.11.0"
  }
 },
 "nbformat": 4,
 "nbformat_minor": 5
}
