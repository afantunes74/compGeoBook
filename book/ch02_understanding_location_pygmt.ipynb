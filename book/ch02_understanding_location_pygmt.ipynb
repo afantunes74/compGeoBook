{
 "cells": [
  {
   "cell_type": "markdown",
   "id": "bfc81d58-5e6d-440a-9720-77e6305b3b6c",
   "metadata": {
    "tags": [
     "remove-output"
    ]
   },
   "source": [
    "(ch02)=\n",
    "# Understanding location"
   ]
  },
  {
   "cell_type": "markdown",
   "id": "6ca07fe9-1765-4f1d-97dd-690fc8f9c678",
   "metadata": {},
   "source": [
    "(ch02-1)=\n",
    "## Location\n",
    "\n",
    "Understanding where we are located or where an object of interest is located is very important in geosciences. Geographic information science is the study of geographic information; it includes theory and concepts and provides methods to combine and analyze spatial data (Watson, 2017). Geographic information systems is the software and technology that supports the application of geographic information theory (Watson, 2017). GIS is an acronym used for either geographic information systems or geographic information science.\n",
    "\n",
    "Geosciences are Earth-based and so location-based. The geographic aspect is highly applicable for the geosciences. The basic usage of GIS is cartographic – making maps. In this chapter, you will become familiar with some of the basic concepts in defining locations on the Earth. These concepts are also used for defining locations on other planets as well."
   ]
  },
  {
   "cell_type": "markdown",
   "id": "8a24e4ae-3278-408d-8706-23c8549ddf22",
   "metadata": {},
   "source": [
    "(ch02-2)=\n",
    "## Geodesy basics\n",
    "Geodesy is “the branch of mathematics dealing with the shape and area of the Earth or large portions of it” (Lexico, 2019); however, the discipline is expanding to include other planets. We need geodesy to model the Earth and make calculations because the Earth is not a perfect sphere nor flat."
   ]
  },
  {
   "cell_type": "markdown",
   "id": "4c3b07b4-9b61-4822-ab2d-64be4a3332b7",
   "metadata": {},
   "source": [
    "(ch02-2-1)=\n",
    "### Scales\n",
    "\n",
    "In cartography, we use scales to describe how the real world length has been reduced to fit on a page or screen. Usually, map scales are described as ratios, such as 1:50,000. When we describe the scale, we say it is either small or large. The description of small or large refers to the scale, not the size of the area. Therefore, if we describe a scale as small, it means the fraction described by the scale ratio is small; this in turn means the map covers a large area. The inverse is true for large scales; the fraction described by the scale is large and in turn covers a small area (Kraak and Ormeling, 2003, Lisle et al., 2011). There is not an official categorical differentiation between small and large scales. Generally speaking, small scale maps cover regions, countries, and continents, while large scale maps cover neighborhoods, towns, or counties. The following example illustrates this."
   ]
  },
  {
   "cell_type": "markdown",
   "id": "d25a688e-58d5-47a2-92b7-31375dbde2d3",
   "metadata": {},
   "source": [
    "(ch02-2-2)=\n",
    "### Example 1: Understanding Map Scales\n",
    "\n",
    "A map has a scale of 1:1,000,000. Would you refer to this as a small or large scale?\n",
    "\n",
    "1.  First, rewrite this as a fraction: 1/1,000,000\n",
    "2.  Is this a small fraction or a large fraction? This is a relatively small fraction, so it is a small scale.\n",
    "\n",
    "{numref}`Figure %s <ch02_fig01>` is an example of a map with a scale of 1:1,000,000."
   ]
  },
  {
   "cell_type": "markdown",
   "id": "a93cbb0d-2797-4ac5-9435-917f4581181c",
   "metadata": {},
   "source": [
    "```{figure} figures/ch02_fig01.png\n",
    ":width: 450px\n",
    ":name: ch02_fig01\n",
    "\n",
    "A historical map of northern Scotland at the scale of 1:1,000,000 (Geographic Section - General Staff, 1941).\n",
    "```"
   ]
  },
  {
   "cell_type": "markdown",
   "id": "03c36600-2668-4e0a-9b7f-9f41dda46b72",
   "metadata": {},
   "source": [
    "A map has a scale of 1:10,000. Would you refer to this as a small or large scale?\n",
    "\n",
    "1.  First, rewrite this as a fraction: 1/10,000\n",
    "2.  Is this a small fraction or a large fraction? This is a relatively large fraction, so it is a large scale.\n",
    "\n",
    "{numref}`Figure %s <ch02_fig02>` is an example of a map with a scale of 1:10,000."
   ]
  },
  {
   "cell_type": "markdown",
   "id": "1a70f3b3-6282-4937-b79d-d55b3ccdcec3",
   "metadata": {},
   "source": [
    "```{figure} figures/ch02_fig02.png\n",
    ":width: 500px\n",
    ":name: ch02_fig02\n",
    "\n",
    "A historical map of Rome, Italy at the scale of 1:10,000 (C.I.U. and War Office, 1944).\n",
    "```"
   ]
  },
  {
   "cell_type": "markdown",
   "id": "fb7bc7e9-be2f-47e9-9fa7-b0f716f49adb",
   "metadata": {},
   "source": [
    "(ch02-2-3)=\n",
    "### Authalic Sphere\n",
    "\n",
    "The authalic sphere is a sphere used for the basic surface for mapping ({numref}`Figure %s <ch02_fig03>`); its surface area is the same as the ellipsoid (Robinson et al., 1995). Based on the WGS-84 ellipsoid, the Earth has an equatorial radius of 6371 km and a circumference of 40,030.2 km. The radius is an often-used constant in geodesy (Robinson et al., 1995). The authalic sphere is used in small scale mapping (small scale covers a large area) because the difference between the authalic sphere and the ellipsoid is minimum over large areas (Robinson et al., 1995)."
   ]
  },
  {
   "cell_type": "markdown",
   "id": "bc3ba80c-6ade-4a74-8bdb-9e3ad2ea5efc",
   "metadata": {},
   "source": [
    "```{figure} figures/ch02_fig03.png\n",
    ":width: 450px\n",
    ":name: ch02_fig03\n",
    "\n",
    "Highly stylized comparison of sphere, ellipse, and geoid.\n",
    "```"
   ]
  },
  {
   "cell_type": "markdown",
   "id": "0238337c-37f3-486f-b01e-2e45b6df2196",
   "metadata": {},
   "source": [
    "(ch02-2-4)=\n",
    "### Ellipsoidal Earth\n",
    "\n",
    "Due to gravity, the Earth flattens at the poles. In a cross-section, the Earth looks like an oblate ellipsoid ({numref}`Figure %s <ch02_fig03>`) (Robinson et al., 1995). Oblateness refers to flatness. When mapping over small areas (large scale mapping), the oblateness of the ellipsoid must be taken into account. The GPS network uses the WGS-84 ellipsoid (Robinson et al., 1995).\n",
    "\n",
    "There are varying ellipsoidal measurements on different continents and times. These continental differences are due to gravity. Temporal differences are due to technological accuracy. The WGS-84 ellipsoid is based on satellite observations and is accepted as being highly accurate (Robinson et al., 1995)."
   ]
  },
  {
   "cell_type": "markdown",
   "id": "390380c2-9463-459c-86b3-53cb35ceb406",
   "metadata": {},
   "source": [
    "(ch02-2-5)=\n",
    "### Geoid\n",
    "\n",
    "Geoid means Earth-like and is in 3D. It is based on an equipotential gravity surface. The geoid follows the mean sea level in oceans and hypothetical sea-level canals on the continents (Robinson et al., 1995). Due to geology (rock density) and topography, the geoid deviates from the ellipsoid ({numref}`Figure %s <ch02_fig01>`). The geoid is a “reference surface for ground surveyed horizontal and vertical positions” (Robinson et al., 1995)."
   ]
  },
  {
   "cell_type": "markdown",
   "id": "7cac96b0-ce93-45d1-b80b-4fbc62786c0c",
   "metadata": {},
   "source": [
    "(ch02-3)=\n",
    "## Projections\n",
    "\n",
    "A projection is a mathematical equation to transfer a region, of whatever size, of the round Earth onto a flat surface. Projections are used because distance and surface area calculations are more difficult on a sphere. A flat map can show greater detail than a sphere and is more transportable. Imagine how large a globe you would need to sufficiently show the streets in your neighborhood! We need projections to transform our 3D ellipsoidal Earth onto a flat map. Projections may be based on the authalic sphere, ellipsoid, or geoid.\n",
    "\n",
    "Before proceeding, take a moment to look over an informational [pictographic](https://pubs.usgs.gov/gip/70047422/report.pdf) by the U.S. Geological Survey describing different types of projection."
   ]
  },
  {
   "cell_type": "markdown",
   "id": "41c10390-2f07-4db5-a690-13a84458cbf7",
   "metadata": {},
   "source": [
    "(ch02-3-1)=\n",
    "### Distortions\n",
    "\n",
    "All projections have distortions that vary by projection type (i.e. transverse Mercator vs. Miller cylindrical – see pictograph mentioned in previous section). Selecting a projection depends on discipline, size of area, orientation of area, regional standards, map purpose, and map scale. There are many resources for determining which projection you should use. Large-scale mapping uses conformal projection because angles measured on the ground are the same as those in the map (Iliffe and Lott, 2008). Four types of distortion are: area, shape, direction, and distance. The Tissot’s Indicatrix is a graphic device to show the distortion at a point (Robinson et al., 1995). We will investigate this phenomenon using the library [PyGMT](https://www.pygmt.org/latest/). From the PyGMT website:\n",
    "\n",
    "> *PyGMT is a Python wrapper for the [Generic Mapping Tools (GMT)](https://www.generic-mapping-tools.org/), a command-line program widely used across the Earth, Ocean, and Planetary sciences and beyond. It provides capabilities for processing spatial data (gridding, filtering, masking, FFTs, etc) and making high quality plots and maps.*\n",
    "\n",
    "To install this library, just follow the instructions on the PyGMT website."
   ]
  },
  {
   "cell_type": "markdown",
   "id": "8bc3b78f-a8b8-4c55-bf0c-de59222ee236",
   "metadata": {},
   "source": [
    "(ch02-3-2)=\n",
    "### Example 2: Tissot’s Indicatrix\n",
    "\n",
    "This example will introduce you to understanding distortions in projections. As you change the projection name, a different mathematical equation will be used to portray the round Earth in a flat presentation. Pay particular attention to the size, shape, and spacing of the ellipses describing the distortion. The Tissot’s Indicatrix quickly and easily visualizes the changes in area and spatial relationships between different projections.\n",
    "\n",
    "The notebook [ch2-1](https://github.com/nfcd/compGeo/blob/master/source/notebooks/ch2-1.ipynb) contains this example.\n",
    "\n",
    "This example starts with the Plate Carree projection. Run the codes below:"
   ]
  },
  {
   "cell_type": "code",
   "execution_count": null,
   "id": "d6eb3eeb-dcda-4b32-a71b-756a46dbf909",
   "metadata": {},
   "outputs": [],
   "source": [
    "# Import PyGMT and numpy\n",
    "import numpy as np\n",
    "import pygmt"
   ]
  },
  {
   "cell_type": "code",
   "execution_count": null,
   "id": "f0aa53ad-4faf-43a2-98d6-57e33036e6d5",
   "metadata": {},
   "outputs": [],
   "source": [
    "# creating an array of long/lat coordinates to plot elipses on the map.\n",
    "# This will simulate the Tissot's Indicatrix\n",
    "xs = np.arange(-180, 180, 60)\n",
    "ys = np.arange(-90, 90, 30)\n",
    "longs, lats = np.meshgrid(xs, ys)"
   ]
  },
  {
   "cell_type": "code",
   "execution_count": null,
   "id": "5425c384-d771-49bd-9293-7a3b5a2a55dc",
   "metadata": {},
   "outputs": [],
   "source": [
    "# load sample Earth relief data for the entire globe with a 20 m resolution\n",
    "grid = pygmt.datasets.load_earth_relief(resolution='20m')"
   ]
  },
  {
   "cell_type": "code",
   "execution_count": null,
   "id": "bab6d44a-b69c-48ac-9108-ae3327233e18",
   "metadata": {},
   "outputs": [],
   "source": [
    "# start a new figure by creating an instance of `pygmt.Figure` class\n",
    "fig = pygmt.Figure()\n",
    "\n",
    "# plotting the Earth relief grid with de Plate Carree projection; the\n",
    "# argument 'Q0/0/12c' passed to parameter `projection` tells to PyGMT to\n",
    "# use Plate Carree projection centred on the 0 degree meridian and the 0\n",
    "# degree paralel ('Q0/0'), on a 12 cm wide figure ('12c').\n",
    "fig.grdimage(grid=grid,\n",
    "             projection='Q0/0/12c',\n",
    "             frame='af',\n",
    "             cmap='oleron')\n",
    "\n",
    "# plotting the coasline\n",
    "fig.coast(resolution='l', shorelines='0.005c', area_thresh=5000)\n",
    "\n",
    "# plotting the elipses to ilustrate the projection distortions\n",
    "fig.plot(x=longs.flatten(),\n",
    "         y=lats.flatten(),\n",
    "         style='E0/1000/1000',\n",
    "         fill='darkorange',\n",
    "         transparency=60)\n",
    "\n",
    "fig.show()"
   ]
  },
  {
   "cell_type": "markdown",
   "id": "db962316-b4e5-4d9f-8856-ee5fbe711168",
   "metadata": {},
   "source": [
    "The Tissot’s Indicatrix is symbolized by the orange ellipses. Closer to the poles, the ellipses become more oblate; while closer to the Equator, they are more circular. The Plate Carrée projection is a specific form of the Equidistant Cylindrical projection. Plate Carrée has the latitude of origin at the Equator.\n",
    "\n",
    "Change the code to use the Mollweide projection:"
   ]
  },
  {
   "cell_type": "code",
   "execution_count": null,
   "id": "67c88481-4483-485c-9e6a-9af725149b29",
   "metadata": {
    "tags": [
     "remove-output"
    ]
   },
   "outputs": [],
   "source": [
    "# start a new figure by creating an instance of `pygmt.Figure` class\n",
    "fig = pygmt.Figure()\n",
    "\n",
    "# plotting the Earth relief grid with de Mollweide projection; the\n",
    "# argument 'W0/12c' passed to parameter `projection` tells to PyGMT to\n",
    "# use Mollweide projection centred on the 0 degree meridian ('W0'), on a\n",
    "# 12 cm wide figure ('12c').\n",
    "fig.grdimage(grid=grid,\n",
    "             projection='W0/12c',\n",
    "             frame='af',\n",
    "             cmap='oleron')\n",
    "\n",
    "# plotting the coasline\n",
    "fig.coast(resolution='l', shorelines='0.005c', area_thresh=5000)\n",
    "\n",
    "# plotting the elipses to ilustrate the projection distortions\n",
    "fig.plot(x=longs.flatten(),\n",
    "         y=lats.flatten(),\n",
    "         style='E0/1000/1000',\n",
    "         fill='darkorange',\n",
    "         transparency=60)\n",
    "\n",
    "fig.show()"
   ]
  },
  {
   "cell_type": "markdown",
   "id": "36e0e371-9efe-4b85-8758-1e6c5358f46b",
   "metadata": {},
   "source": [
    "Notice how the sizes of the ellipses are very similar throughout the map. All of the ellipses are more rounded and circular regardless of their position, as compared to the Plate Carree projection. Mollweide is often used for world maps.\n",
    "\n",
    "PyGMT has a list of projections that are included in the library (https://www.pygmt.org/latest/projections/index.html). Change the code above to project the map in Azimuthal Equidistant."
   ]
  },
  {
   "cell_type": "markdown",
   "id": "151b7465-de1d-44c4-a7e0-72c97c1c7110",
   "metadata": {},
   "source": [
    "(ch02-4)=\n",
    "## Reference systems and datums\n",
    "\n",
    "A coordinate reference system is a coordinate system that has been referenced to a datum. A datum is the location used for a reference point from which spatial measurements are made. There are geographic and Cartesian coordinate systems. Coordinates are for specific locations on the Earth. They can be expressed as geographic using latitude and longitude. Latitude are parallels that are evenly spaced and longitude are meridians that converge at the poles. These are measured in degrees. Cartesian coordinates are expressed in x and y and may have units that are meters, feet, or kilometers, for example. Coordinates only have meaning when the coordinate system and datum are known (Iliffe and Lott, 2008, Robinson et al., 1995)."
   ]
  },
  {
   "cell_type": "markdown",
   "id": "63785b3a-e610-43e5-8fd2-f2ab5c8cfde8",
   "metadata": {},
   "source": [
    "(ch02-4-1)=\n",
    "### Example 3: Defining the coordinate reference system\n",
    "\n",
    "In any GIS program, including spatial libraries and code, the user must ensure that the coordinate reference system is defined for the spatial data. The GIS software will make assumptions, sometimes erroneous, if the coordinate reference system is not properly defined. In this example, we will see a demonstration of these assumptions and how to prevent them. This example is from the SciTools tutorials to understand Cartopy ([Cartopy, 2018c](https://scitools.org.uk/cartopy/docs/latest/tutorials/understanding_transform.html)).\n",
    "\n",
    "In Cartopy, there are two keywords that you must understand in order to properly display your data. The “projection” argument is used for display of your data. This only affects the map or plot. It does not define the coordinate reference system of the data itself. The “transform” argument, on the other hand, defines the coordinate reference system. The best practice is to define both of these. We will investigate the error that occurs when the best practice is not followed and compare this to when the best practice is followed. The notebook [ch2-2](https://github.com/nfcd/compGeo/blob/master/source/notebooks/ch2-2.ipynb) contains this example.\n",
    "\n",
    "First we will create some dummy data on a regular latitude/longitude grid:\n",
    "\n",
    ":::{note}\n",
    "In Python, the backslash character `\\` can be used to split a long line of code.\n",
    ":::"
   ]
  },
  {
   "cell_type": "code",
   "execution_count": null,
   "id": "1cd756a7-e650-4cbb-823d-b11d5d167dfc",
   "metadata": {
    "tags": [
     "remove-output"
    ]
   },
   "outputs": [],
   "source": [
    "import numpy as np\n",
    "\n",
    "\n",
    "lon = np.linspace(-80, 80, 25)\n",
    "lat = np.linspace(30, 70, 25)\n",
    "lon2d, lat2d = np.meshgrid(lon, lat)\n",
    "\n",
    "data = np.cos(np.deg2rad(lat2d) * 4) + \\\n",
    "    np.sin(np.deg2rad(lon2d) * 4)"
   ]
  },
  {
   "cell_type": "markdown",
   "id": "d57f5ff6-060e-43e0-b394-eec06c6075d4",
   "metadata": {},
   "source": [
    "In order to demonstrate the error before \"best practice\", we will create a map using the Plate Carree projection but only specify the `projection` argument. Remember that the best practice requires both `projection` and `transform` arguments to be defined."
   ]
  },
  {
   "cell_type": "code",
   "execution_count": null,
   "id": "0a84a24b-d15e-4d07-ac76-6c68f3c59ba5",
   "metadata": {
    "tags": [
     "remove-output"
    ]
   },
   "outputs": [],
   "source": [
    "# Import cartopy and matplotlib\n",
    "import cartopy.crs as ccrs\n",
    "import matplotlib.pyplot as plt\n",
    "\n",
    "# Hide warnings\n",
    "import warnings \n",
    "warnings.simplefilter(\"ignore\")\n",
    "\n",
    "\n",
    "# The projection keyword determines how the plot will look\n",
    "fig = plt.figure(figsize=(6, 3))\n",
    "ax = plt.axes(projection=ccrs.PlateCarree())\n",
    "ax.set_global()\n",
    "ax.coastlines()\n",
    "\n",
    "# didn't use transform, but looks ok...\n",
    "ax.contourf(lon, lat, data)"
   ]
  },
  {
   "cell_type": "markdown",
   "id": "56ac58c0-eedf-4889-8e36-e9503503ce1f",
   "metadata": {},
   "source": [
    "In this case, the data just happen to fall in the correct location. Now, we will define the data coordinate reference system (first line of code below) and add the `transform` argument to the plot (second last line of code below)."
   ]
  },
  {
   "cell_type": "code",
   "execution_count": null,
   "id": "633cea1b-6115-4449-9f28-1b6445b5df3e",
   "metadata": {
    "tags": [
     "remove-output"
    ]
   },
   "outputs": [],
   "source": [
    "# The data are defined in lat/lon coordinate system, \n",
    "# so PlateCarree() is the appropriate choice:\n",
    "data_crs = ccrs.PlateCarree()\n",
    "\n",
    "# The projection keyword determines how the plot will look\n",
    "fig = plt.figure(figsize=(6, 3))\n",
    "ax = plt.axes(projection=ccrs.PlateCarree())\n",
    "ax.set_global()\n",
    "ax.coastlines()\n",
    "\n",
    "# use transform\n",
    "ax.contourf(lon, lat, data, transform=data_crs)"
   ]
  },
  {
   "cell_type": "markdown",
   "id": "b3916eb1-6743-446f-bb39-ab3fcbebca1d",
   "metadata": {},
   "source": [
    "You will notice that our plot remains unchanged. The assumption, as stated previously, is that if the coordinate reference system of the data is undefined, it is the same as the map (or plot) projection. In the example above, this has been the case. Let us now investigate what happens when changing the projection of the map without defining the coordinate reference system of the data. We now define the projection to `RotatedPole` and omit the `transform` argument to see what happens:"
   ]
  },
  {
   "cell_type": "code",
   "execution_count": null,
   "id": "74af7f03-cd07-4379-b1c5-093f8935460a",
   "metadata": {
    "tags": [
     "remove-output"
    ]
   },
   "outputs": [],
   "source": [
    "# Now we plot a rotated pole projection\n",
    "projection = ccrs.RotatedPole(pole_longitude=-177.5, pole_latitude=37.5)\n",
    "fig = plt.figure(figsize=(6, 3))\n",
    "ax = plt.axes(projection=projection)\n",
    "ax.set_global()\n",
    "ax.coastlines()\n",
    "\n",
    "# didn't use transform, uh oh!\n",
    "ax.contourf(lon, lat, data)"
   ]
  },
  {
   "cell_type": "markdown",
   "id": "1839afde-03ed-4070-a09c-307ee01acbdc",
   "metadata": {},
   "source": [
    "In this case, we see that the country boundaries have rotated and changed shape, however, the data did not move with the the country boundaries. We made a wrong assumption in the data definition. Therefore we need to define the `transform` argument:"
   ]
  },
  {
   "cell_type": "code",
   "execution_count": null,
   "id": "a6008e35-1ccd-422e-8c4c-6ce25d45e0b5",
   "metadata": {
    "tags": [
     "remove-output"
    ]
   },
   "outputs": [],
   "source": [
    "# A rotated pole projection again...\n",
    "projection = ccrs.RotatedPole(pole_longitude=-177.5, pole_latitude=37.5)\n",
    "fig = plt.figure(figsize=(6, 3))\n",
    "ax = plt.axes(projection=projection)\n",
    "ax.set_global()\n",
    "ax.coastlines()\n",
    "\n",
    "# ...but now using the transform argument\n",
    "ax.contourf(lon, lat, data, transform=data_crs)"
   ]
  },
  {
   "cell_type": "markdown",
   "id": "d5c23034-c8d7-40ae-90ab-2a3348975d79",
   "metadata": {},
   "source": [
    "Now the data are correctly projected. Get in the habit of always defining the coordinate reference system and the map plot projection. It will save headaches and misunderstandings of the data.\n",
    "\n",
    "Here is another script using an entirely different projection and additional plotting parameters. Can you figure out what the script will produce before running the cell? Notice the presence of the Matplotlib function `subplot`. What do you think this function does?"
   ]
  },
  {
   "cell_type": "code",
   "execution_count": null,
   "id": "b7b1f57f-a319-4b1e-8323-67c45b2e1a1d",
   "metadata": {
    "tags": [
     "remove-output"
    ]
   },
   "outputs": [],
   "source": [
    "# We can choose any projection we like...\n",
    "projection = ccrs.InterruptedGoodeHomolosine()\n",
    "fig = plt.figure(figsize=(6, 7))\n",
    "ax1 = plt.subplot(211, projection=projection)\n",
    "ax1.set_global()\n",
    "ax1.coastlines()\n",
    "ax2 = plt.subplot(212, projection=ccrs.NorthPolarStereo())\n",
    "ax2.set_extent([-180, 180, 20, 90], crs=ccrs.PlateCarree())\n",
    "ax2.coastlines()\n",
    "\n",
    "# ...as long as we provide the correct transform, \n",
    "# the plot will be correct\n",
    "ax1.contourf(lon, lat, data, transform=data_crs)\n",
    "ax2.contourf(lon, lat, data, transform=data_crs)"
   ]
  },
  {
   "cell_type": "markdown",
   "id": "0f6bc365-20e5-4296-86cd-d0ef117c9ffa",
   "metadata": {},
   "source": [
    "Now that you have worked through the exercise, you should have an understanding of why it is important to fully define the coordinate reference system and the projection when creating a map."
   ]
  },
  {
   "cell_type": "markdown",
   "id": "c2a29da5-6a8f-4c52-94e6-eaabe1ac3240",
   "metadata": {},
   "source": [
    "(ch02-5)=\n",
    "## Conversion vs. transformation\n",
    "\n",
    "When working with data collected from several sources or in different coordinate reference systems, the data must be redefined to have the same coordinate reference system and datum. Consistent coordinate reference systems for data in a map is important because there may be spatial differences between the coordinate reference systems creating locational errors. A coordinate conversion is when the coordinate reference systems have the same datum. A coordinate transformation is when the coordinate reference systems have different datums.\n",
    "\n",
    "When making a map, all of the data in the map should have the same coordinate reference system definition. Software include many definitions and transformations but refer to Snyder (1987) and International Association of Oil and Gas Producers (2018) for projection formulae (Iliffe and Lott, 2008). In Example 2, the Tissot’s Indicatrix ellipses did not change coordinate reference systems. The method used to plot the ellipses changed. In Example 3, we also only changed the projection of the map, not the coordinate reference system. In the following examples, we will make coordinate conversions and transformations. For this purpose, we will use the [pyproj](https://pypi.org/project/pyproj/) Python library and examples from the pyproj documentation ([Whitaker, 2019](https://pyproj4.github.io/pyproj/stable/api/transformer.html?highlight=transformer))."
   ]
  },
  {
   "cell_type": "markdown",
   "id": "75a4f15d-f21b-47fb-80bd-93445d028d7f",
   "metadata": {},
   "source": [
    "```{admonition} Installing pyproj\n",
    "\n",
    "A version of pyproj was installed with Cartopy, but you need the latest version which has different dependencies than Cartopy. You will create a new environment.\n",
    "\n",
    "1.  Open Anaconda Navigator.\n",
    "2.  In the left panel, click on `Environments`\n",
    "3.  In the middle panel, click `Create` to create a new environment\n",
    "4.  Name this environment: `ch2pyproj`\n",
    "5.  Select Python version 3.8 or later\n",
    "6.  Click `Create`. This will take a few minutes\n",
    "7.  We need to install pyproj. In the right panel in the search field, type: `pyproj`\n",
    "8.  You will get the message `0 packages available matching pyproj` since pyproj is not installed.\n",
    "9.  In the right panel, change `Installed` to `Not installed`\n",
    "10. pyproj now shows up. Click the check box next to `pyproj`.\n",
    "11. In the screen lower right corner, click `Apply`\n",
    "12. Please wait while pyproj is collected and then click `Apply`\n",
    "13. The pyproj library and any dependencies will be installed or updated. This may take a few minutes.\n",
    "14. Click on `Home`\n",
    "15. Click on `Install` under Jupyter Notebook.\n",
    "16. Click on `Launch` under Jupyter Notebook.\n",
    "```"
   ]
  },
  {
   "cell_type": "markdown",
   "id": "18f836bc-d327-4c37-82e7-ddeb66a679d3",
   "metadata": {},
   "source": [
    "(ch02-5-1)=\n",
    "### Example 4: Coordinate conversion\n",
    "\n",
    "The notebook [ch2-3](https://github.com/nfcd/compGeo/blob/master/source/notebooks/ch2-3.ipynb) contains this example. If you just launched Jupyter Notebook as indicated above, open the notebook. If you closed Anaconda, follow these steps:\n",
    "\n",
    "1.  Open Anaconda Navigator\n",
    "2.  Click on `Environments`\n",
    "3.  Choose `ch2pyproj`\n",
    "4.  Click `Home`\n",
    "5.  Launch Jupyter Notebook\n",
    "6.  Open the notebook `ch2-3`\n",
    "\n",
    "We have a coordinate pair defined in decimal degrees of latitude and longitude. The longitude is -120.108and latitude is 34.36116666. We want to make a coordinate conversion from latitude and longitude to Universal Transverse Mercator, where the point is defined by east and north coordinates in meters. To learn more about Universal Transverse Mercator (UTM), refer to (Snyder, 1987). In the code, we use the pyproj `Proj` function. We can only use `Proj` when making a coordinate conversion (i.e. the same datum):"
   ]
  },
  {
   "cell_type": "code",
   "execution_count": null,
   "id": "68f824a5-41a9-4991-9c07-3e01f8956c7d",
   "metadata": {
    "tags": [
     "remove-output"
    ]
   },
   "outputs": [],
   "source": [
    "# Import pyproj\n",
    "from pyproj import Proj\n",
    "\n",
    "\n",
    "# Construct the projection matrix\n",
    "p = Proj(proj=\"utm\",zone=10,ellps=\"WGS84\", \n",
    "         preserve_units=False)\n",
    "\n",
    "# Apply the projection to the lat-long point\n",
    "x,y = p(-120.108, 34.36116666)\n",
    "\n",
    "print(f\"x={x:9.3f}, y={y:11.3f}\")"
   ]
  },
  {
   "cell_type": "markdown",
   "id": "504cc2ca-01b0-4112-b6f7-4d8514e46abb",
   "metadata": {},
   "source": [
    "This is the same location but only expressed in east and north coordinates in meters using the UTM coordinate reference system. The datum used is WGS84. We can convert the UTM coordinates back to latitute and longitude by adding two lines of code:"
   ]
  },
  {
   "cell_type": "code",
   "execution_count": null,
   "id": "e371d23f-093b-4c87-b843-bef3a2b854f4",
   "metadata": {
    "tags": [
     "remove-output"
    ]
   },
   "outputs": [],
   "source": [
    "# Apply the inverse of the projection matrix\n",
    "# to the point in UTM\n",
    "lon,lat = p(x,y,inverse=True)\n",
    "print(f\"lon={lon:8.8f}, lat={lat:5.8f}\")"
   ]
  },
  {
   "cell_type": "markdown",
   "id": "64f1e9d2-fdd0-40a0-96b5-26d687b8f0f9",
   "metadata": {},
   "source": [
    "We can confirm that the inverse conversion arrives at the original pair. Let’s now try converting several points of different latitude and longitude using a collection of objects in Python, or tuples. Add the following code:"
   ]
  },
  {
   "cell_type": "code",
   "execution_count": null,
   "id": "40724a45-c715-461b-adbb-a805af1820d9",
   "metadata": {
    "tags": [
     "remove-output"
    ]
   },
   "outputs": [],
   "source": [
    "# three points in lat-long\n",
    "lons = (-119.72,-118.40,-122.38)\n",
    "lats = (36.77, 33.93, 37.62 )\n",
    "# Apply the projection to the points\n",
    "x1,y1 = p(lons, lats)\n",
    "print(x1,y1)"
   ]
  },
  {
   "cell_type": "markdown",
   "id": "5aec2146-a2fe-4249-b6ab-8de9ee1c7cda",
   "metadata": {},
   "source": [
    "Now, let’s do a more advanced exercise: In the cartographic community, an easy way to communicate the coordinate reference system is to use the EPSG Geodetic Parameter Data set. Every coordinate reference system is given a code. This ensures that if someone uses UTM zone 10 North with datum WGS-84 and tells you UTM zone 10, that you do not accidentally use UTM zone 10 North with datum GRS80, for example.\n",
    "\n",
    "Earlier in this exercise, we defined the UTM zone in the `Proj` function. Here, we will refer to the EPSG code. First, we will take a coordinate pair in longitude and latitude with datum WGS84 and convert it to EPSG:32667. Before proceeding, conduct a quick internet search on what EPSG:32667 means. This is important to understand what we will do next. The first part of the code is:"
   ]
  },
  {
   "cell_type": "code",
   "execution_count": null,
   "id": "c62a0fbe-814e-4d26-b6d3-7f98a715c4ba",
   "metadata": {
    "tags": [
     "remove-output"
    ]
   },
   "outputs": [],
   "source": [
    "# silence warnings\n",
    "import warnings \n",
    "warnings.simplefilter(\"ignore\")\n",
    "\n",
    "\n",
    "# initial coordinate conversion\n",
    "p = Proj(init=\"EPSG:32667\", preserve_units=True, \n",
    "         always_xy=True)\n",
    "# Apply the conversion to the lat-long point\n",
    "x,y = p(-114.057222, 51.045)\n",
    "print(f\"x={x:9.3f}, y={y:11.3f} (feet)\")"
   ]
  },
  {
   "cell_type": "markdown",
   "id": "6ecc1acb-85c1-4f5d-af90-43279d3a77df",
   "metadata": {},
   "source": [
    "Let’s dissect this as the pyproj code looks quite a bit different. The first part of the function `Proj` calls EPSG:32667. If you looked up EPSG:32667 online, you found that it is for UTM zone 17 North, but the units are in feet. The default mode for `Proj` is `preserve_units=False`, which forces any unit to meters. However, we want to see the units in US Survey Feet as the projection defines; therefore, we change the argument to `True`.\n",
    "\n",
    "Now, suppose we want to see the output in meters. How will you amend the code? Here is what you should add:"
   ]
  },
  {
   "cell_type": "code",
   "execution_count": null,
   "id": "506c8087-14ac-4eb1-93d9-f8f96e750e1a",
   "metadata": {
    "tags": [
     "remove-output"
    ]
   },
   "outputs": [],
   "source": [
    "# Print the coordinate pair in meters\n",
    "p1 = Proj(init=\"EPSG:32667\", preserve_units=False)\n",
    "x1,y1 = p1(-114.057222, 51.045)\n",
    "print(f\"x={x1:9.3f}, y={y1:11.3f} (meters)\")"
   ]
  },
  {
   "cell_type": "markdown",
   "id": "e0af222b-76c4-4a31-957c-c259774c8dd1",
   "metadata": {},
   "source": [
    "As discussed, you should change `preserve_units=False` and change the unit to be printed from `feet` to `meters`. Congratulations! You now have a good understanding of coordinate conversions."
   ]
  },
  {
   "cell_type": "markdown",
   "id": "55aefa75-5992-4d6b-834c-7689bb455952",
   "metadata": {},
   "source": [
    "(ch02-5-2)=\n",
    "### Example 5: Coordinate transformation\n",
    "\n",
    "We learned earlier that we have a coordinate conversion where a coordinate pair is converted between coordinate reference systems with the same datum. In many instances, the coordinate reference system will also undergo a datum shift – this is a coordinate transformation.\n",
    "\n",
    "This example is included in the notebook [ch2-4](https://github.com/nfcd/compGeo/blob/master/source/notebooks/ch2-4.ipynb). We will use the pyproj `CRS` and `transform` functions. The `CRS` function defines the coordinate reference system while the `transform` function specifies which coordinate reference system is the original and which is the output. `CRS` has the same ability to refer directly to an EPSG code.\n",
    "\n",
    "The input coordinates are in EPSG:4326, which is a commonly used code. It is the geographic coordinate system with datum WGS84. The output coordinates are EPSG:31984, which is for UTM zone 24 S with datum SIRGAS2000."
   ]
  },
  {
   "cell_type": "code",
   "execution_count": null,
   "id": "1077696c-0812-4228-a3b0-54a1aaa7a985",
   "metadata": {
    "tags": [
     "remove-output"
    ]
   },
   "outputs": [],
   "source": [
    "# Import transform and CRS functions\n",
    "from pyproj import transform\n",
    "from pyproj import CRS\n",
    "\n",
    "# Function transform is deprecated\n",
    "# Silence warnings\n",
    "import warnings \n",
    "warnings.simplefilter(\"ignore\")\n",
    "\n",
    "\n",
    "# input coordinates\n",
    "c1 = CRS(\"EPSG:4326\")\n",
    "# coordinate pair\n",
    "y1=-10.754283\n",
    "x1=-39.866132\n",
    "# output coordinates\n",
    "c2 = CRS(\"EPSG:31984\")\n",
    "# Coordinate transformation\n",
    "x2, y2 = transform(c1, c2, x1, y1)\n",
    "print(f\"x={x2:9.3f}, y={y2:11.3f}\")"
   ]
  },
  {
   "cell_type": "markdown",
   "id": "cd3c8391-48ab-4020-a06f-865b1ad72f9c",
   "metadata": {},
   "source": [
    "(ch02-5-3)=\n",
    "### Example 6: Transforming several points at once\n",
    "\n",
    "We have focused our examples on one coordinate pair at a time. The reality is that you will more often have several coordinates to transform at one time. The notebook [ch2-5](https://github.com/nfcd/compGeo/blob/master/source/notebooks/ch2-5.ipynb) explains how to do this.\n",
    "\n",
    "We have a csv file with two columns: longitude and latitude. Each coordinate pair is the center of a volcano around the world. There are 1,509 volcanoes in our dataset. The original coordinate reference system is geographic coordinates with datum WGS84. We want to make a coordinate transformation of these data points to World Mercator. It will take much too long to manually transform these coordinates as we have done in the notebooks before. Therefore, our new code will read the csv file and create a new csv file.\n",
    "\n",
    ":::{note}\n",
    "Notice that the code can be further simplified by the use of the Numpy library or the Pandas library.\n",
    ":::\n",
    "\n",
    "Check that the input (`src_dir`) and output (`dst_dir`) directories match the directory where the csv file is. In this example, the volcanoes file ([volc_longlat.csv](https://github.com/nfcd/compGeo/blob/master/source/data/ch2-5/volc_longlat.csv)) is in the directory `data/ch2-5`. Run the code, you will know the process is finished when the message `process completed` and the time of execution are returned:"
   ]
  },
  {
   "cell_type": "code",
   "execution_count": null,
   "id": "ec5f8911-55b1-447b-ba82-67ee24b8438b",
   "metadata": {
    "tags": [
     "remove-output"
    ]
   },
   "outputs": [],
   "source": [
    "# Thanks to Rustam Zaitov for implementing \n",
    "# this new version of the code\n",
    "\n",
    "# Import libraries\n",
    "import csv, time\n",
    "from os import path\n",
    "from pyproj import Transformer, CRS\n",
    "\n",
    "\n",
    "src_file = \"volc_longlat.csv\" # input file\n",
    "dst_file = \"volc_projected.csv\" # output file\n",
    "\n",
    "src_dir = path.abspath(\"data/ch2-5/\") # input directory\n",
    "dst_dir = path.abspath(\"data/ch2-5/\") # output directory\n",
    "\n",
    "src_path = path.join(src_dir, src_file)\n",
    "dst_path = path.join(dst_dir, dst_file)\n",
    "\n",
    "src_crs = CRS(\"EPSG:4326\") #WGS84\n",
    "dst_crs = CRS(\"EPSG:3395\") #World Mercator\n",
    "\n",
    "# create coordinate transformer\n",
    "# always_xy=True makes projector.transform() accept \n",
    "# lon, lat (GIS order) instead of lat, lon\n",
    "projector = Transformer.from_crs(src_crs, dst_crs, \n",
    "                                 always_xy=True)\n",
    "\n",
    "# source csv file has lon, lat columns\n",
    "src_header = [\"LONGITUDE\", \"LATITUDE\"]\n",
    "\n",
    "# destinatin csv file will have x, y columns\n",
    "dst_header = [\"x\", \"y\"]\n",
    "\n",
    "# start benchmark timer\n",
    "start_time = time.time()\n",
    "\n",
    "# open destination file in write mode\n",
    "with open(dst_path, \"w\") as w:\n",
    "    # open source file in read mode\n",
    "    with open(src_path, \"r\") as r:\n",
    "        reader = csv.reader(r, dialect=\"excel\")\n",
    "        # read and skip first header row \n",
    "        input_headers = next(reader)         \n",
    "\n",
    "        writer = csv.writer(w, delimiter=\",\", quotechar='\"',\n",
    "                            quoting=csv.QUOTE_MINIMAL)\n",
    "        # Write the output header\n",
    "        writer.writerow(dst_header)   \n",
    "        for row in reader:\n",
    "            try:\n",
    "                # convert string values inside row \n",
    "                # into float values\n",
    "                lon, lat = [float(val) for val in row]\n",
    "                x, y = projector.transform(lon, lat)\n",
    "                writer.writerow([ x, y ])\n",
    "            except Exception as e:\n",
    "                # If coordinates are out of bounds, \n",
    "                # skip row and print the error\n",
    "                print (e)\n",
    "\n",
    "# stop benchmarking\n",
    "end_time = time.time()\n",
    "\n",
    "print(\"process completed in {} seconds\".format(end_time-start_time))"
   ]
  },
  {
   "cell_type": "markdown",
   "id": "9c68432f-5740-434e-845c-9495714fa2d9",
   "metadata": {},
   "source": [
    "It takes less than one second to run this code! Check the newly created csv file and notice that you now have a listing of coordinates in meters. The EPSG definition of the output coordinate reference system is listed under `dst_crs`. You can easily change this variable to another EPSG and rerun the script. If you wish to run the script on another file, change the `src_file` and `dst_file`, and the `src_dir` and `dst_dir` if the file is in another directory."
   ]
  },
  {
   "cell_type": "markdown",
   "id": "1c57af67-8743-4e33-b420-6885f7b278c7",
   "metadata": {},
   "source": [
    "(ch02-6)=\n",
    "## Exercises\n",
    "\n",
    "1. So far, you have worked with data sets that have been provided to you. It is an important skill to be able to find data sets online and to prepare them for use in your work.\n",
    "\n",
    "    The United States Geological Survey (USGS) Earthquake Hazards Program monitors, records, and maintains a global database of earthquake activity. The public can query the archive and download earthquake epicenter data. Go to the [Search Earthquake Catalog](https://earthquake.usgs.gov/earthquakes/search/) page of the USGS. Using the Basic Options, download all of the magnitude 4.5+ earthquakes in the last year in the world. In the Output Options, choose a CSV format.\n",
    "\n",
    "    1. Modify the notebook [ch2-5](https://github.com/nfcd/compGeo/blob/master/source/notebooks/ch2-5.ipynb) to transform the earthquake epicenters from latitude-longitude to World Mercator (or another map projection of your choice). Use this [pictographic](https://pubs.usgs.gov/gip/70047422/report.pdf) for further information. The datum of the earthquake epicenters is likely WGS84.\n",
    "\n",
    "    2. Plot the earthquake epicenters. Make sure to include the outline of the continents.\n",
    "    \n",
    "    :::{hint}\n",
    "    Look at the notebook [ch2-2](https://github.com/nfcd/compGeo/blob/master/source/notebooks/ch2-2.ipynb) for a starting point, and check the [Cartopy](https://scitools.org.uk/cartopy/docs/latest/#) website for examples of how to plot localities on a map.\n",
    "    :::\n",
    "\n",
    "    3. Now modify your plot to color the earthquakes by depth (red are shallow and blue are deep earthquakes), and the size of the points by the earthquake magnitude.\n",
    "\n",
    "    4. Add the volcanoes from Example 6 ([volc_longlat.csv](https://github.com/nfcd/compGeo/blob/master/source/data/ch2-5/volc_longlat.csv)) to the map (use triangles to indicate volcanoes). Do you see any correlation between the earthquake epicenters and the volcanoes?"
   ]
  },
  {
   "cell_type": "markdown",
   "id": "329c4027-0137-4948-bae1-7b5a26918e54",
   "metadata": {},
   "source": [
    "(ch02-7)=\n",
    "## References\n",
    "\n",
    "C.I.U. AND WAR OFFICE. 1944. Town Plan of Roma (Rome) (North Sheet),\n",
    "1:10,000. Washington, D. C.: War Office.\n",
    "\n",
    "Cartopy. 2018a. Projections\n",
    "\\[[Online](https://scitools.org.uk/cartopy/docs/latest/crs/projections.html)\\].\n",
    "UK: SciTools. \\[Accessed 19 November, 2019\\]\n",
    "\n",
    "Cartopy. 2018b. Tissot’s Indicatrix\n",
    "\\[[Online](https://scitools.org.uk/cartopy/docs/latest/gallery/tissot.html)\\].\n",
    "UK: SciTools. \\[Accessed 19 November, 2019\\].\n",
    "\n",
    "Cartopy. 2018c. Understanding the Transform and Projection Keywords\n",
    "\\[[Online](https://scitools.org.uk/cartopy/docs/latest/tutorials/understanding_transform.html)\\].\n",
    "UK: SciTools. \\[Accessed 19 November, 2019\\].\n",
    "\n",
    "Geographic Section - General Staff. 1941. Aberdeen, 1:1,000,000. Great\n",
    "Britain: War Office.\n",
    "\n",
    "Iliffe, J. and Lott, R. 2008. Datums and Map Projections: For Remote\n",
    "Sensing, GIS, and Surveying, Dunbeath, Scotland, Whittles.\n",
    "\n",
    "International Association of Oil and Gas Producers. 2018. Geomatics\n",
    "Guidance Note 7, Part 2 Coordinate conversions and Transformations\n",
    "including Formulas.\n",
    "\n",
    "Kraak, M.J. and Ormeling, F.J. 2003. Cartography: visualization of\n",
    "geospatial data. Addison Wesley.\n",
    "\n",
    "Lexico. 2019. Geodesy\n",
    "\\[[Online](https://www.lexico.com/en/definition/geodesy)\\]. Oxford.\n",
    "\\[Accessed August, 2019\\].\n",
    "\n",
    "Lisle, R. J., Brabham, P. and Barnes, J. W. 2011. Basic Geological\n",
    "Mapping, Chicester, UK, Wiley-Blackwell.\n",
    "\n",
    "Robinson, A. H., Morrison, J. L., Muehrcke, P. C., Kimerling, A. J. and\n",
    "Guptill, S. C. 1995. Elements of Cartography, New York, Wiley.\n",
    "\n",
    "Snyder, J. P. 1987. Map Projections: a working manual. Geological Survey\n",
    "Professional Paper. Washington, D. C., U.S.A.: United States Government\n",
    "Printing Office.\n",
    "\n",
    "Watson, L. 2017. Spatial-based assessment at continental to global\n",
    "scale: case studies in petroleum exploration and ecosystem services.\n",
    "PhD, Utrecht University.\n",
    "\n",
    "Whitaker, J. 2019. pyproj Transformer Documentation\n",
    "\\[[Online](https://pyproj4.github.io/pyproj/stable/api/transformer.html?highlight=transformer)\\].\n",
    "\\[Accessed 7 January, 2020\\]."
   ]
  },
  {
   "cell_type": "code",
   "execution_count": null,
   "id": "e829116a-d3c1-4db5-b7fd-2fc03670a6ae",
   "metadata": {},
   "outputs": [],
   "source": []
  }
 ],
 "metadata": {
  "kernelspec": {
   "display_name": "Python 3 (ipykernel)",
   "language": "python",
   "name": "python3"
  },
  "language_info": {
   "codemirror_mode": {
    "name": "ipython",
    "version": 3
   },
   "file_extension": ".py",
   "mimetype": "text/x-python",
   "name": "python",
   "nbconvert_exporter": "python",
   "pygments_lexer": "ipython3",
   "version": "3.11.0"
  }
 },
 "nbformat": 4,
 "nbformat_minor": 5
}
