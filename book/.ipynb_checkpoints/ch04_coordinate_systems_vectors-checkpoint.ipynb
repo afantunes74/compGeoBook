{
 "cells": [
  {
   "cell_type": "markdown",
   "id": "30f179e4-8679-4bd9-a5fe-4990e2de2511",
   "metadata": {
    "tags": [
     "remove-output"
    ]
   },
   "source": [
    "(ch04)=\n",
    "# Coordinate systems and vectors"
   ]
  },
  {
   "cell_type": "markdown",
   "id": "25851b92-7168-44ce-9350-490c974a88a4",
   "metadata": {},
   "source": [
    "Strike and dip, and trend and plunge, are a convenient way to represent the orientation of planes and lines. However, it is difficult to handle these measurements using computation. In this chapter, we will see how to convert linear features (lines and poles to planes) from spherical (trend and plunge) to Cartesian (direction cosines) coordinates, thus representing these features as vectors. This facilitates the analysis of planes and lines using linear algebra and computation, and it will allow us to solve a range of interesting problems using vector operations."
   ]
  },
  {
   "cell_type": "markdown",
   "id": "5cbafe06-b9fb-486e-88c9-a260c7571467",
   "metadata": {},
   "source": [
    "(ch04-1)=\n",
    "## Coordinate systems\n",
    "\n",
    "Any point or location in space can be represented by the coordinates of the point with respect to the three orthogonal axes of a Cartesian coordinate system. We will call the axes of this coordinate system $\\mathbf{X_1}$, $\\mathbf{X_2}$ and $\\mathbf{X_3}$ ({numref}`Figure %s <ch04_fig01>`). In addition, we will follow a right-handed naming convention: If you hold your right hand so that your thumb points in the positive direction of the first axis $\\mathbf{X_1}$, your other fingers should curl from the positive direction of the second axis $\\mathbf{X_2}$ toward the positive direction of the third axis $\\mathbf{X_3}$ ({numref}`Figure %s <ch04_fig01>`). Such a coordinate system is called a right-handed coordinate system.\n",
    "\n",
    "In geosciences, we use mainly two types of right-handed coordinate systems: An east (**E**), north (**N**), up (**U**) coordinate system ({numref}`Figure %s <ch04_fig01>`a), and a north (**N**), east (**E**), down (**D**) coordinate system ({numref}`Figure %s <ch04_fig01>`b). The **ENU** coordinate system is used in GIS and Geophysics when dealing with elevations (e.g. topography), while the **NED** coordinate system is used in Structural Geology where, by convention, angles measured downwards from the horizontal (e.g. plunge of a downward pointing line) are considered positive. In this chapter, we will use mainly the **NED** coordinate system, but when dealing with topography and elevations, we will use the **ENU** coordinate system."
   ]
  },
  {
   "cell_type": "markdown",
   "id": "7e5b260b-583e-4894-88fa-f8c6bc84433f",
   "metadata": {},
   "source": [
    "```{figure} figures/ch04_fig01.png\n",
    ":width: 550px\n",
    ":name: ch04_fig01\n",
    "\n",
    "Right-handed Cartesian coordinate systems. **a.** The **ENU** coordinate system used when dealing with topography, and **b.** The **NED** coordinate system used in Structural Geology. Modified from Allmendinger et al. (2012).\n",
    "```"
   ]
  },
  {
   "cell_type": "markdown",
   "id": "d1700458-4e93-4a3e-893f-1c7beddc1329",
   "metadata": {},
   "source": [
    "(ch04-2)=\n",
    "## Vectors\n",
    "\n",
    "(ch04-2-1)=\n",
    "### Vector components, magnitude, and unit vectors\n",
    "\n",
    "A line from the origin of the Cartesian coordinate system to a point in space is the position vector of the point. A *vector* is an object that has both a magnitude and a direction. Displacement, velocity, force, acceleration, and poles to planes, are all vectors. A vector is defined by its three components with respect to the axes of the Cartesian coordinate system; these are the projections of the vector onto the axes $\\mathbf{X_1}$, $\\mathbf{X_2}$ and $\\mathbf{X_3}$ ({numref}`Figure %s <ch04_fig02>`a)."
   ]
  },
  {
   "cell_type": "markdown",
   "id": "fbd51d29-3438-4153-b0e7-7ee4bc8dc08c",
   "metadata": {},
   "source": [
    "```{figure} figures/ch04_fig02.png\n",
    ":width: 600px\n",
    ":name: ch04_fig02\n",
    "\n",
    "**a.** Components of a vector. **b.** Direction cosines of a unit vector. Modified from Allmendinger et al. (2012).\n",
    "```"
   ]
  },
  {
   "cell_type": "markdown",
   "id": "d4e5b256-e2cf-4e49-b63f-d49366aa01ed",
   "metadata": {},
   "source": [
    "This is expressed by the following equation:\n",
    "\n",
    "$$\n",
    "\\mathbf{v} = [v_1,v_2,v_3]\n",
    "$$ (ch04_eq01)\n",
    "\n",
    "We use lower capital, bold letters to denote vectors. The magnitude (length) of a vector can be computed using Pythagoras’ theorem:\n",
    "\n",
    "$$\n",
    "v = \\left(v_1^2 + v_2^2 + v_3^2 \\right)^{1/2}\n",
    "$$ (ch04_eq02)\n",
    "\n",
    "The result is just a number or scalar. We use regular, non-capital letters to denote scalars. If we divide each of the components of a vector by its magnitude, the result is a unit vector, a vector with the same orientation but with a magnitude (length) of one ({numref}`Figure %s <ch04_fig02>`b):\n",
    "\n",
    "$$\n",
    "\\mathbf{\\hat{v}} = \\left[\\frac{v_1}{v}, \\frac{v_2}{v}, \\frac{v_3}{v} \\right]\n",
    "$$ (ch04_eq03)\n",
    "\n",
    "We use a hat to indicate unit vectors. There is a very interesting property of unit vectors; the components of a unit vector are the cosines of the angles the vector makes with the axes of the coordinate system ({numref}`Figure %s <ch04_fig02>`b):\n",
    "\n",
    "$$\n",
    "\\mathbf{\\hat v} = [\\cos\\alpha,\\cos\\beta,\\cos\\gamma]\n",
    "$$ (ch04_eq04)\n",
    "\n",
    "these are called the *direction cosines* of the vector. By convention, $\\cos\\alpha$ is the direction cosine of the vector with respect to $\\mathbf{X_1}$, $\\cos\\beta$ is the direction cosine of the vector with respect to $\\mathbf{X_2}$, and $\\cos\\gamma$ is the direction cosine of the vector with respect to $\\mathbf{X_3}$ ({numref}`Figure %s <ch04_fig02>`b).\n",
    "\n",
    "In Python, we can use the NumPy `linalg.norm` function to compute the magnitude of a vector, and convert the vector to a unit vector as illustrated in the following notebook [ch4-1](https://github.com/nfcd/compGeo/blob/master/source/notebooks/ch4-1.ipynb):"
   ]
  },
  {
   "cell_type": "code",
   "execution_count": null,
   "id": "c7256536-8ca3-410a-80d2-4bdcb4482499",
   "metadata": {
    "tags": [
     "remove-output"
    ]
   },
   "outputs": [],
   "source": [
    "# Import numpy\n",
    "import numpy as np\n",
    "from numpy import linalg as la  # Import linear algebra functions\n",
    "\n",
    "\n",
    "# Make vector\n",
    "v = np.array([1,2,3])\n",
    "print(\"Vector:\", v)\n",
    "\n",
    "# Magnitude of the vector\n",
    "length = la.norm(v) \n",
    "print(\"Magnitude of the vector:\", length)\n",
    "\n",
    "# Unit vector\n",
    "v_hat = v / length\n",
    "print(\"Unit Vector:\", v_hat)\n",
    "\n",
    "# Magnitude of unit vector\n",
    "length = la.norm(v_hat) \n",
    "print(\"Magnitude of the unit vector:\", length)"
   ]
  },
  {
   "cell_type": "markdown",
   "id": "46b04ad7-b1d2-4e16-8225-62e3b493bb84",
   "metadata": {},
   "source": [
    "(ch04-2-2)=\n",
    "### Vector operations\n",
    "\n",
    "To multiply a scalar times a vector, just multiply each component of the vector by the scalar:\n",
    "\n",
    "$$\n",
    "x\\mathbf v = [xv_1, xv_2, xv_3]\n",
    "$$ (ch04_eq05)\n",
    "\n",
    "This operation is useful, for example, to reverse the direction of a vector; just multiply the vector by -1. To add two vectors, just sum their components:\n",
    "\n",
    "$$\n",
    "\\mathbf u + \\mathbf v = \\mathbf v + \\mathbf u = [u_1 + v_1, u_2 + v_2, u_3 + v_3]\n",
    "$$(ch04_eq06)\n",
    "\n",
    "Vector addition is commutative but vector subtraction is not. Vector addition and subtraction obey the parallelogram rule, whereby the resulting vector bisects the two vectors to be added or subtracted ({numref}`Figure %s <ch04_fig03>`a)."
   ]
  },
  {
   "cell_type": "markdown",
   "id": "9303aa1c-a30a-4bd0-9b50-8fa7563f2f1e",
   "metadata": {},
   "source": [
    "```{figure} figures/ch04_fig03.png\n",
    ":width: 600px\n",
    ":name: ch04_fig03\n",
    "\n",
    "**a.** Vector addition and subtraction. **b.** Cross product of two unit vectors. Modified from Allmendinger et al. (2012).\n",
    "```"
   ]
  },
  {
   "cell_type": "markdown",
   "id": "07e832c5-f3cd-4d8d-819a-45acfc5ae3bf",
   "metadata": {},
   "source": [
    "There are two operations that are unique to vectors: the *dot product* and the *cross product*. The result of the dot product is a scalar and is equal to the magnitude of the first vector times the magnitude of the second vector times the cosine of the angle between the vectors:\n",
    "\n",
    "$$\n",
    "\\mathbf u \\cdot\\mathbf v = \\mathbf v \\cdot\\mathbf u = uv\\cos\\theta = u_1v_1 + u_2v_2 + u_3v_3 = u_iv_i\n",
    "$$ (ch04_eq07)\n",
    "\n",
    "The dot product is commutative. If the two vectors are unit vectors, you can easily see that the dot product is the cosine of the angle between the vectors:\n",
    "\n",
    "$$\n",
    "\\mathbf{\\hat u} \\cdot\\mathbf{\\hat v} = \\cos\\theta = u_1v_1 + u_2v_2 + u_3v_3\n",
    "$$ (ch04_eq08)\n",
    "\n",
    "or in terms of the direction cosines of the vectors:\n",
    "\n",
    "$$\n",
    "\\mathbf{\\hat u} \\cdot\\mathbf{\\hat v} = \\cos\\theta = cos\\alpha_1\\cos\\alpha_2 + \\cos\\beta_1\\cos\\beta_2 + \\cos\\gamma_1\\cos\\gamma_2\n",
    "$$ (ch04_eq09)\n",
    "\n",
    "which as we will see later, it is a great way to find the angle between two unit vectors.\n",
    "\n",
    "The result of the cross product is another vector. This vector is perpendicular to the other two vectors, and it has a magnitude equal to the product of the magnitudes of the vectors times the sine of the angle between the vectors:\n",
    "\n",
    "$$\n",
    "\\mathbf u\\times\\mathbf v = uv\\sin\\theta\\mathbf{\\hat l} = [u_2v_3 - u_3v_2, u_3v_1 - u_1v_3, u_1v_2 - u_2v_1]\n",
    "$$ (ch04_eq10)\n",
    "\n",
    "The cross product is not commutative. If the vectors are unit vectors, the length of the resulting vector is equal to the sine of the angle between the vectors ({numref}`Figure %s <ch04_fig03>`b). The new vector obeys a right-hand rule; for $\\mathbf u\\times\\mathbf v$, the fingers curl from $\\mathbf u$ towards $\\mathbf v$ and the thumb points in the direction of the resulting vector, and vice versa ({numref}`Figure %s <ch04_fig03>`b).\n",
    "\n",
    "In Python, these operations are easy to perform using the NumPy library as shown in the following notebook [ch4-2](https://github.com/nfcd/compGeo/blob/master/source/notebooks/ch4-2.ipynb):"
   ]
  },
  {
   "cell_type": "code",
   "execution_count": null,
   "id": "a64d7da9-2631-44c1-87fe-c079935147a9",
   "metadata": {
    "tags": [
     "remove-output"
    ]
   },
   "outputs": [],
   "source": [
    "# Import numpy\n",
    "import numpy as np\n",
    "\n",
    "\n",
    "# Make vectors\n",
    "u = np.array([1,2,3])\n",
    "v = np.array([3,2,1])\n",
    "print(\"u =\", u)\n",
    "print(\"v =\", v)\n",
    "\n",
    "# Scalar multiplication of vector\n",
    "sv = 3 * u\n",
    "print(\"3 * u =\", sv)\n",
    "\n",
    "# Sum of vectors\n",
    "vsum = u + v\n",
    "print(\"u + v =\", vsum)\n",
    "\n",
    "#  Dot product of vectors\n",
    "dotp = np.dot(u,v)\n",
    "print(\"u . v =\", dotp)\n",
    "\n",
    "# Cross product of vectors\n",
    "crossp = np.cross(u,v) \n",
    "print(\"u x v =\", crossp)"
   ]
  },
  {
   "cell_type": "markdown",
   "id": "d6c1f355-1171-49e5-8d8f-6b8f87aae0d8",
   "metadata": {},
   "source": [
    "(ch04-3)=\n",
    "## Geological features as vectors\n",
    "\n",
    "We have now all the mathematical tools needed to represent geological features as vectors. Since we are only interested in the orientation of these features, we will treat lines (and poles to planes) as unit vectors. We will also use the Structural Geology **NED** coordinate system."
   ]
  },
  {
   "cell_type": "markdown",
   "id": "025da3cf-7a31-4e2e-8dd4-608c37556141",
   "metadata": {},
   "source": [
    "(ch04-3-1)=\n",
    "### From spherical to Cartesian coordinates\n",
    "\n",
    "{numref}`Figure %s <ch04_fig04>` shows a line as a unit vector $\\mathbf{\\hat{v}}$ in the **NED** coordinate system. Clearly, the angle that the line makes with the **D** axis is $90^o - \\textit{plunge}$, therefore:"
   ]
  },
  {
   "cell_type": "markdown",
   "id": "756c3014-dd6e-48f1-b997-af57ba36f9f9",
   "metadata": {},
   "source": [
    "```{figure} figures/ch04_fig04.png\n",
    ":width: 450px\n",
    ":name: ch04_fig04\n",
    "\n",
    "Diagram showing the relations between the trend and plunge and the direction cosines in the **NED** coordinate system. Gray plane is the vertical plane in which the plunge is measured. Modified from Allmendinger et al. (2012).\n",
    "```"
   ]
  },
  {
   "cell_type": "markdown",
   "id": "1fa462a9-6105-408f-a2e8-173dac8816c6",
   "metadata": {},
   "source": [
    "$$\n",
    "\\cos\\gamma=\\cos(90^o - plunge) = \\sin(plunge)\n",
    "$$ (ch04_eq11)\n",
    "\n",
    "The horizontal projection of the line is $\\cos(plunge)$ ({numref}`Figure %s <ch04_fig04>`). $\\cos\\alpha$ and $\\cos\\beta$ are just the **N** and **E** components of this horizontal line and ({numref}`Figure %s <ch04_fig04>`):\n",
    "\n",
    "$$\n",
    "\\cos\\alpha = \\cos(trend)\\cos(plunge)\n",
    "$$ (ch04_eq12)\n",
    "\n",
    "$$\n",
    "\\cos\\beta = \\cos(90^o - trend)\\cos(plunge) = \\sin(trend)\\cos(plunge)\n",
    "$$ (ch04_eq13)\n",
    "\n",
    "{numref}`ch04_tab01` summarizes these equations."
   ]
  },
  {
   "cell_type": "markdown",
   "id": "9968e417-c01c-4a50-bc88-30128eb6de75",
   "metadata": {},
   "source": [
    "```{list-table} From spherical to Cartesian coordinates of lines and poles.\n",
    ":header-rows: 1\n",
    ":name: ch04_tab01\n",
    "\n",
    "* - Axis\n",
    "  - Direction cosines\n",
    "* - **N**\n",
    "  - $\\cos\\alpha=\\cos(trend)\\cos(plunge)$\n",
    "* - **E**\n",
    "  - $\\cos\\beta=\\sin(trend)\\cos(plunge)$\n",
    "* - **D**\n",
    "  - $\\cos\\gamma=\\sin(plunge)$\n",
    "```"
   ]
  },
  {
   "cell_type": "markdown",
   "id": "c59fe2a1-822b-4391-b2d6-8439f9cc4069",
   "metadata": {},
   "source": [
    "The magnitude and sign of the direction cosines tell us a lot about the orientation of the line ({numref}`Figure %s <ch04_fig05>`). A horizontal line (plunge = 0) has $\\cos\\gamma=0$, a downward line (plunge $>0$) has positive $\\cos\\gamma$, and a vertical line (plunge = 90) has $\\cos\\gamma=1$ ($\\cos\\alpha$ and $\\cos\\beta$ are 0). A horizontal or downward line has positive $\\cos\\alpha$ if it trends to the north (first or fourth quadrants), and positive $\\cos\\beta$ if it trends to the east (first or second quadrants). If the line trends exactly N or S, $\\cos\\beta=0$; and if the line trends exactly E or W, $\\cos\\alpha=0$."
   ]
  },
  {
   "cell_type": "markdown",
   "id": "fd3f5487-32c1-46db-afc1-f3b480cfbcbe",
   "metadata": {},
   "source": [
    "```{figure} figures/ch04_fig05.png\n",
    ":width: 450px\n",
    ":name: ch04_fig05\n",
    "\n",
    "Lower hemisphere stereonet showing the sign of the direction cosines in each quadrant. In the NE quadrant, all three direction cosines are positive. Modified from Allmendinger et al. (2012).\n",
    "```"
   ]
  },
  {
   "cell_type": "markdown",
   "id": "30f8becc-ebd0-402e-ba00-6afa01268e5c",
   "metadata": {},
   "source": [
    "The function [sph_to_cart](https://github.com/nfcd/compGeo/blob/master/source/functions/sph_to_cart.py) converts a line from spherical to Cartesian coordinates. Notice that the `trd` and `plg` of the line should be entered in radians:"
   ]
  },
  {
   "cell_type": "code",
   "execution_count": null,
   "id": "bff6eac5-3dc4-4ebd-9f1f-9ca9f7847382",
   "metadata": {
    "tags": [
     "remove-output"
    ]
   },
   "outputs": [],
   "source": [
    "import math\n",
    "\n",
    "\n",
    "def sph_to_cart(trd,plg):\n",
    "    \"\"\"\n",
    "    sph_to_cart converts line from spherical (trend \n",
    "    and plunge) to Cartesian (direction cosines) \n",
    "    coordinates\n",
    "    \n",
    "    sph_to_cart(trd,plg) returns the north (cn),\n",
    "    east (ce), and down (cd) direction cosines of \n",
    "    a line with trend = trd and plunge = plg\n",
    "    \n",
    "    NOTE: Angles should be entered in radians\n",
    "    \n",
    "    Python function based on the Matlab function\n",
    "    SphToCart in Allmendinger et al. (2012)\n",
    "    \"\"\"\n",
    "    # Compute direction cosines from trend and plunge\n",
    "    cn = math.cos(trd) * math.cos(plg)\n",
    "    ce = math.sin(trd) * math.cos(plg)\n",
    "    cd = math.sin(plg)\n",
    "    \n",
    "    return cn, ce, cd"
   ]
  },
  {
   "cell_type": "markdown",
   "id": "f3058ada-dc83-4832-9fc8-7cf03b368204",
   "metadata": {
    "tags": []
   },
   "source": [
    "(ch04-3-2)=\n",
    "### From Cartesian to spherical coordinates\n",
    "\n",
    "Converting from direction cosines (Cartesian coordinates) to trend and plunge (spherical coordinates) is a little less straightforward. The plunge is easy:\n",
    "\n",
    "$$\n",
    "plunge = \\sin^{-1}(\\cos\\gamma)\n",
    "$$ (ch04_eq14)\n",
    "\n",
    "The trend can be determined as follows:\n",
    "\n",
    "$$\n",
    "\\frac{\\cos\\beta}{\\cos\\alpha} = \\frac{\\sin(trend)\\cos(plunge)}{\\cos(trend)\\cos(plunge)} = \\tan(trend)\n",
    "$$ (ch04_eq15)\n",
    "\n",
    "or:\n",
    "\n",
    "$$\n",
    "trend = \\tan^{-1}\\left(\\frac{\\cos\\beta}{\\cos\\alpha}\\right)\n",
    "$$ (ch04_eq16)\n",
    "\n",
    "The problem is that the trend varies from 0 and 360. For the $\\tan^{-1}$ function, there are two possible angles between 0 and 360. Which one should we use? The answer is to use the signs of the direction cosines to determine in which quadrant the trend lies within. By inspection of {numref}`Figure %s <ch04_fig05>`, one can see that:\n",
    "\n",
    "$$\n",
    "trend = \\tan^{-1}\\left(\\frac{\\cos\\beta}{\\cos\\alpha}\\right),\\textit{if}\\, \\cos\\alpha > 0\n",
    "$$ (ch04_eq17)\n",
    "\n",
    "$$\n",
    "trend = 180^o + \\tan^{-1}\\left(\\frac{\\cos\\beta}{\\cos\\alpha}\\right),\\textit{if}\\, \\cos\\alpha < 0\n",
    "$$ (ch04_eq18)\n",
    "\n",
    "One should also check for the special case of $\\cos\\alpha=0$:\n",
    "\n",
    "$$\n",
    "trend = 90^o,\\textit{if}\\, \\cos\\alpha = 0\\,\\textit{and}\\, \\cos(\\beta)\\geq 0\n",
    "$$ (ch04_eq19)\n",
    "\n",
    "$$\n",
    "trend = 270^o, \\textit{if}\\, \\cos\\alpha = 0\\, \\textit{and}\\, \\cos(\\beta) < 0\n",
    "$$ (ch04_eq20)\n",
    "\n",
    "The function [cart_to_sph](https://github.com/nfcd/compGeo/blob/master/source/functions/cart_to_sph.py) converts a line from Cartesian to spherical coordinates. Notice that the trend and plunge of the line are returned in radians:"
   ]
  },
  {
   "cell_type": "code",
   "execution_count": null,
   "id": "8d86c630-35bf-433b-8da2-2bf29a31d6b1",
   "metadata": {
    "tags": [
     "remove-output"
    ]
   },
   "outputs": [],
   "source": [
    "import math\n",
    "\n",
    "from compgeo.zero_twopi import zero_twopi\n",
    "\n",
    "\n",
    "def cart_to_sph(cn,ce,cd):\n",
    "    \"\"\"\n",
    "    cart_to_sph converts from Cartesian to spherical coordinates\n",
    "    \n",
    "    cart_to_sph(cn,ce,cd) returns the trend (trd)\n",
    "    and plunge (plg) of a line with north (cn),\n",
    "    east (ce), and down (cd) direction cosines\n",
    "    \n",
    "    NOTE: Trend and plunge are returned in radians\n",
    "    \n",
    "    Python function translated from the Matlab function\n",
    "    CartToSph in Allmendinger et al. (2012)\n",
    "    \"\"\"\n",
    "    pi = math.pi\n",
    "    # Plunge \n",
    "    plg = math.asin(cd) \n",
    "    \n",
    "    # Trend: If north direction cosine is zero, trend\n",
    "    # is east or west. Choose which one by the sign of\n",
    "    # the east direction cosine\n",
    "    if cn == 0.0:\n",
    "        if ce < 0.0:\n",
    "            trd = 3.0/2.0 * pi # trend is west\n",
    "        else:\n",
    "            trd = pi/2.0 # trend is east\n",
    "    else:\n",
    "        trd = math.atan(ce/cn) \n",
    "        if cn < 0.0:\n",
    "            trd = trd + pi \n",
    "        # Make sure trend is between 0 and 2*pi\n",
    "        trd = zero_twopi(trd)\n",
    "    \n",
    "    return trd, plg"
   ]
  },
  {
   "cell_type": "markdown",
   "id": "61e7c041-4672-4f26-b15a-39278134fd78",
   "metadata": {},
   "source": [
    "(ch04-4)=\n",
    "## Applications\n",
    "\n",
    "(ch04-4-1)=\n",
    "### Mean vector\n",
    "\n",
    "An important problem in geosciences is to determine the average or mean vector that represents a group of lines. These lines can be for example poles to bedding, paleocurrent directions, paleomagnetic poles, or slip vectors on a fault surface. This problem can be solved using vector addition. The resultant vector $\\mathbf{r}$ of the sum of the $N$ unit vectors representing the lines has components:\n",
    "\n",
    "$$\n",
    "r_1 = \\sum_{i = 1}^{N}\\alpha_i\\qquad r_2 = \\sum_{i = 1}^{N}\\beta_i\\qquad r_3 = \\sum_{i = 1}^{N}\\gamma_i\n",
    "$$ (ch04_eq21)\n",
    "\n",
    "where $\\alpha$, $\\beta$ and $\\gamma$ are the direction cosines of the unit vectors. The length of the resultant vector $\\mathbf{r}$ is:\n",
    "\n",
    "$$\n",
    "r = \\sqrt{r_1^2 + r_2^2 + r_3^2}\n",
    "$$ (ch04_eq22)\n",
    "\n",
    "and the direction cosines of the unit vector that is parallel to the mean of the individual vectors are:\n",
    "\n",
    "$$\n",
    "\\overline{\\alpha} = \\frac{r_1}{r}\\qquad \\overline{\\beta} = \\frac{r_2}{r}\\qquad \\overline{\\gamma} = \\frac{r_3}{r}\n",
    "$$ (ch04_eq23)\n",
    "\n",
    "These direction cosines define the orientation of the mean vector. The mean resultant length $\\overline{r}$ measures how concentrated the individual vectors are or how representative the mean vector is:\n",
    "\n",
    "$$\n",
    "\\overline{r} = \\frac{r}{N}\\qquad where\\qquad 0\\leq\\overline{r}\\leq 1\n",
    "$$ (ch04_eq24)\n",
    "\n",
    "The closer this value is to 1, the better the concentration. The function [calc_mv](https://github.com/nfcd/compGeo/blob/master/source/functions/calc_mv.py) calculates the mean vector for a series of lines. It also calculates the Fisher statistics for the mean vector (Fisher et al., 1987), which is the standard way to represent uncertainties in this analysis. Notice that `calc_mv` uses our two previous functions `sph_to_cart` and `cart_to_sph` to convert from spherical to Cartesian coordinates, and vice versa."
   ]
  },
  {
   "cell_type": "code",
   "execution_count": null,
   "id": "0323eab9-93d2-4696-b74d-6d343d3d90f5",
   "metadata": {
    "tags": [
     "remove-output"
    ]
   },
   "outputs": [],
   "source": [
    "import math\n",
    "\n",
    "from compgeo.sph_to_cart import sph_to_cart\n",
    "from compgeo.cart_to_sph import cart_to_sph\n",
    "\n",
    "\n",
    "def calc_mv(T,P):\n",
    "    \"\"\"\n",
    "    calc_mv calculates the mean vector for a group of lines.\n",
    "    It calculates the trend (trd) and plunge (plg) of the\n",
    "    mean vector, its mean resultant length (rave), and\n",
    "    Fisher statistics (concentration factor (conc), 99 (d99)\n",
    "    and 95 (d95) % uncertainty cones); for a series of lines\n",
    "    whose trends and plunges are stored in the arrays T and P\n",
    "    \n",
    "    NOTE: Input/Output values are in radians\n",
    "    \n",
    "    Python function translated from the Matlab function\n",
    "    CalcMV in Allmendinger et al. (2012)\n",
    "    \"\"\"\n",
    "    # Number of lines\n",
    "    nlines = len(T)\n",
    "    \n",
    "    # Initialize the 3 direction cosines which contain the\n",
    "    # sums of the individual vectors \n",
    "    cn_sum = ce_sum = cd_sum = 0.0\n",
    "    \n",
    "    #Now add up all the individual vectors\n",
    "    for i in range(nlines):\n",
    "        cn,ce,cd = sph_to_cart(T[i],P[i])\n",
    "        cn_sum += cn\n",
    "        ce_sum += ce\n",
    "        cd_sum += cd\n",
    "    \n",
    "    # r is the length of the resultant vector and\n",
    "    # rave is the mean resultant length\n",
    "    r = math.sqrt(cn_sum*cn_sum+ce_sum*ce_sum+cd_sum*cd_sum)\n",
    "    rave = r/nlines\n",
    "    # If rave is lower than 0.1, the mean vector is\n",
    "    # insignificant, return error\n",
    "    if rave < 0.1:\n",
    "        raise ValueError(\"Mean vector is insignificant\")\n",
    "    #Else \n",
    "    else:\n",
    "        # Divide the resultant vector by its length to get\n",
    "        # the direction cosines of the unit vector\n",
    "        cn_sum /= r\n",
    "        ce_sum /= r\n",
    "        cd_sum /= r\n",
    "        # Convert the mean vector to the lower hemisphere\n",
    "        if cd_sum < 0.0:\n",
    "            cn_sum *= -1.0\n",
    "            ce_sum *= -1.0\n",
    "            cd_sum *= -1.0\n",
    "        # Convert the mean vector to trend and plunge\n",
    "        trd, plg = cart_to_sph(cn_sum,ce_sum,cd_sum)\n",
    "        # If there are enough measurements calculate the\n",
    "        # Fisher statistics (Fisher et al., 1987)\n",
    "        conc = d99 = d95 = 0.0\n",
    "        if r < nlines:\n",
    "            if nlines < 16:\n",
    "                afact = 1.0-(1.0/nlines)\n",
    "                conc = (nlines/(nlines-r))*afact**2\n",
    "            else:\n",
    "                conc = (nlines-1.0)/(nlines-r)\n",
    "        if rave >= 0.65 and rave < 1.0:\n",
    "            afact = 1.0/0.01\n",
    "            bfact = 1.0/(nlines-1.0)\n",
    "            d99 = math.acos(1.0-((nlines-r)/r)*(afact**bfact-1.0))\n",
    "            afact = 1.0/0.05\n",
    "            d95 = math.acos(1.0-((nlines-r)/r)*(afact**bfact-1.0))\n",
    "    \n",
    "    return trd, plg, rave, conc, d99, d95"
   ]
  },
  {
   "cell_type": "markdown",
   "id": "aa21ca02-1526-437f-83c9-65532c58a436",
   "metadata": {},
   "source": [
    "The notebook [ch4-3](https://github.com/nfcd/compGeo/blob/master/source/notebooks/ch4-3.ipynb) solves the mean vector problem in Ragan (2009, pp. 147), which involves finding the mean orientation of 10 poles to bedding:"
   ]
  },
  {
   "cell_type": "code",
   "execution_count": null,
   "id": "8d31c4aa-ea32-41c5-ad56-7eae8672776a",
   "metadata": {
    "tags": [
     "remove-output"
    ]
   },
   "outputs": [],
   "source": [
    "# Import libraries\n",
    "import numpy as np\n",
    "import matplotlib.pyplot as plt\n",
    "\n",
    "from compgeo.st_coord_line import st_coord_line\n",
    "from compgeo.calc_mv import calc_mv\n",
    "\n",
    "\n",
    "# Arrays T and P contain the trend (T) \n",
    "# and plunge (P) of the 10 poles\n",
    "T = np.radians([206, 220, 204, 198, 200, 188, 192, \n",
    "                228, 236, 218])\n",
    "P = np.radians([32, 30, 46, 40, 20, 32, 54, 56, 36, 44])\n",
    "\n",
    "# Compute the mean vector and print orientation\n",
    "# and mean resultant length\n",
    "trd, plg, rave, conc, d99, d95 = calc_mv(T,P)\n",
    "pi = np.pi\n",
    "print(\"Mean vector trend = {:.1f}, plunge {:.1f}\"\n",
    "      .format(trd*180/pi,plg*180/pi))\n",
    "print(\"Mean resultant length = {:.3f}\".format(rave))\n",
    "\n",
    "# Make a figure\n",
    "fig, ax = plt.subplots()\n",
    "\n",
    "# Plot the primitive of the stereonet\n",
    "r = 1; # unit radius\n",
    "th = np.radians(np.arange(0,361,1))\n",
    "x = r * np.cos(th)\n",
    "y = r * np.sin(th)\n",
    "ax.plot(x,y,\"k\")\n",
    "# Plot center of circle\n",
    "ax.plot(0,0,\"k+\")\n",
    "# Make axes equal and remove them\n",
    "ax.axis(\"equal\")\n",
    "ax.axis(\"off\")\n",
    "\n",
    "# Plot the poles as black points\n",
    "# on an equal angle stereonet\n",
    "npoles = len(T)\n",
    "eq_angle = np.zeros((npoles, 2))\n",
    "for i in range(npoles):\n",
    "    # Equal angle coordinates\n",
    "    eq_angle[i,0], eq_angle[i,1] = st_coord_line(T[i],P[i],0)\n",
    "\n",
    "ax.plot(eq_angle[:,0],eq_angle[:,1],\"ko\")\n",
    "\n",
    "# Plot the mean vector as a red point\n",
    "mvx, mvy = st_coord_line(trd,plg,0)\n",
    "ax.plot(mvx,mvy,\"ro\")\n",
    "plt.show()"
   ]
  },
  {
   "cell_type": "markdown",
   "id": "41200bd2-2abd-4fc3-a947-37162fb781af",
   "metadata": {},
   "source": [
    "Notice that the mean resultant length is close to 1.0, so that the mean vector (red dot) is a representative orientation of the individual vectors (black dots)."
   ]
  },
  {
   "cell_type": "markdown",
   "id": "1e93e9fd-9fb9-48e6-bbbe-3d00631bafa7",
   "metadata": {},
   "source": [
    "(ch04-4-2)=\n",
    "### Angles, intersections, and poles\n",
    "\n",
    "Many interesting problems can be solved using the dot and cross product operations. The dot product can be used to find the angle between two lines or planes, while the cross product can be used to find a plane from two lines, or the intersection of two planes. {numref}`ch04_tab02` lists some problems that can be solved using these operations."
   ]
  },
  {
   "cell_type": "markdown",
   "id": "15ab862a-7bd8-44cb-a9ce-11ce6461b569",
   "metadata": {},
   "source": [
    "```{list-table} Some problems that can be solved using the dot and cross product operations.\n",
    ":header-rows: 1\n",
    ":name: ch04_tab02\n",
    "\n",
    "* - Problem\n",
    "  - Solution\n",
    "* - Angle between two lines\n",
    "  - $\\arccos$ of dot product between lines\n",
    "* - Angle between two planes\n",
    "  - Supplement of $\\arccos$ of dot product between poles to planes\n",
    "* - Intersection of two planes\n",
    "  - Cross product of poles to planes\n",
    "* - Plane containing two lines\n",
    "  - Pole to plane is cross product of lines\n",
    "* - Apparent dip of plane\n",
    "  - Intersection of plane and vertical section of a given orientation\n",
    "* - Plane from two apparent dips\n",
    "  - Plane containing the two apparent dips (lines)\n",
    "```"
   ]
  },
  {
   "cell_type": "markdown",
   "id": "f3274886-6b0a-4d42-9786-4f0df7fa9dd3",
   "metadata": {},
   "source": [
    "The functions in the module [angles](https://github.com/nfcd/compGeo/blob/master/source/functions/angles.py) compute the angle between two lines (`angle_bw_lines`), the angle between two planes (`angle_bw_planes`), the plane from two lines (`plane_from_app_dips`), or the intersection of two planes (`int_bw_planes`)."
   ]
  },
  {
   "cell_type": "code",
   "execution_count": null,
   "id": "f0e8e698-5e29-47f4-9b95-be2f818d53ad",
   "metadata": {
    "tags": [
     "remove-output"
    ]
   },
   "outputs": [],
   "source": [
    "import numpy as np\n",
    "\n",
    "from compgeo.sph_to_cart import sph_to_cart\n",
    "from compgeo.cart_to_sph import cart_to_sph\n",
    "from compgeo.pole import pole_from_plane, plane_from_pole\n",
    "\n",
    "\n",
    "# Python functions based on the Matlab function\n",
    "# Angles in Allmendinger et al. (2012)\n",
    "def angle_bw_lines(trd1, plg1, trd2, plg2):\n",
    "    \"\"\"\n",
    "    angle_bw_lines returns the angle between two lines\n",
    "    of trend and plunge trd1, plg1, trd2, and plg2\n",
    "    Input and output angles are in radians\n",
    "    \"\"\"\n",
    "    # convert lines to directions cosines and numpy arrays\n",
    "    cn1, ce1, cd1 = sph_to_cart(trd1, plg1)\n",
    "    u = np.array([cn1, ce1, cd1])\n",
    "    cn2, ce2, cd2 = sph_to_cart(trd2, plg2)\n",
    "    v = np.array([cn2, ce2, cd2])\n",
    "    # angle between lines is arccosine of their dot product\n",
    "    return np.arccos(np.dot(u, v))\n",
    "\n",
    "\n",
    "def angle_bw_planes(str1, dip1, str2, dip2):\n",
    "    \"\"\"\n",
    "    angle_bw_planes returns the angle between two planes\n",
    "    of strike and dip str1, dip1, str2, and dip2\n",
    "    Input and output angles are in radians\n",
    "    \"\"\"\n",
    "    # compute poles to lines\n",
    "    pole1_trd, pole1_plg = pole_from_plane(str1, dip1)\n",
    "    pole2_trd, pole2_plg = pole_from_plane(str2, dip2)\n",
    "    # find angle between poles\n",
    "    angle = angle_bw_lines(pole1_trd, pole1_plg, \n",
    "        pole2_trd, pole2_plg)\n",
    "    # angle between planes is the complementary angle\n",
    "    return (np.pi - angle)\n",
    "\n",
    "\n",
    "def pole_from_lines(trd1, plg1, trd2, plg2):\n",
    "    \"\"\"\n",
    "    pole_from_lines compute the pole to a plane given\n",
    "    two lines on the plane, with trend and plunge trd1, plg1,\n",
    "    trd2, and plg2\n",
    "    Input and output angles are in radians\n",
    "    \"\"\"\n",
    "    # convert lines to direction cosines and numpy arrays\n",
    "    cn1, ce1, cd1 = sph_to_cart(trd1, plg1)\n",
    "    u = np.array([cn1, ce1, cd1])\n",
    "    cn2, ce2, cd2 = sph_to_cart(trd2, plg2)\n",
    "    v = np.array([cn2, ce2, cd2])\n",
    "    # normal is cross product between vectors\n",
    "    pole = np.cross(u, v)\n",
    "    # make pole a unit vector\n",
    "    norm = np.linalg.norm(pole)\n",
    "    pole = pole/norm\n",
    "    # if pole points upwards, make it point downwards\n",
    "    if pole[2] < 0:\n",
    "        pole *= -1.0\n",
    "    # return trend and plunge of pole\n",
    "    return cart_to_sph(pole[0], pole[1], pole[2])\n",
    "\n",
    "\n",
    "def plane_from_app_dips(trd1, plg1, trd2, plg2):\n",
    "    \"\"\"\n",
    "    plane_from_app_dips returns the strike and dip of a plane\n",
    "    from two apparent dips with trend and plunge trd1, plg1,\n",
    "    trd2, and plg2\n",
    "    Input and output angles are in radians\n",
    "    \"\"\"\n",
    "    # Compute pole to plane from apparent dips (lines)\n",
    "    pole_trd, pole_plg = pole_from_lines(trd1,plg1,trd2,plg2)\n",
    "    # return strike and dip of plane\n",
    "    return plane_from_pole(pole_trd, pole_plg)\n",
    "\n",
    "\n",
    "def int_bw_planes(str1, dip1, str2, dip2):\n",
    "    \"\"\"\n",
    "    int_bw_planes returns the intersection between two planes\n",
    "    of strike and dip str1, dip1, str2, dip2\n",
    "    Input and output angles are in radians\n",
    "    \"\"\"\n",
    "    # compute poles to planes\n",
    "    pole1_trd, pole1_plg = pole_from_plane(str1, dip1)\n",
    "    pole2_trd, pole2_plg = pole_from_plane(str2, dip2)\n",
    "    # intersection is normal to poles\n",
    "    return pole_from_lines(pole1_trd, pole1_plg, pole2_trd, \n",
    "        pole2_plg)"
   ]
  },
  {
   "cell_type": "markdown",
   "id": "e3b92afd-fca6-4787-9fae-540bec62eec1",
   "metadata": {},
   "source": [
    "The notebook [ch4-4](https://github.com/nfcd/compGeo/blob/master/source/notebooks/ch4-4.ipynb) illustrates the use of these functions to solve several problems. Let’s start with the following problem from Leyshon and Lisle (1996): Two limbs of a chevron fold (A and B) have orientations (RHR) as follows: Limb A = 120/40, Limb B = 250/60. Determine: (a) the trend and plunge of the hinge line of the fold, (b) the rake of the hinge line in limb A, (c) the rake of the hinge line in limb B."
   ]
  },
  {
   "cell_type": "code",
   "execution_count": null,
   "id": "a475ee7a-4d2e-4050-8c46-968bf2a31b17",
   "metadata": {
    "tags": [
     "remove-output"
    ]
   },
   "outputs": [],
   "source": [
    "import numpy as np\n",
    "pi = np.pi\n",
    "\n",
    "from compgeo.angles import angle_bw_lines\n",
    "from compgeo.angles import int_bw_planes\n",
    "\n",
    "\n",
    "# Strike and dip of the limbs in radians\n",
    "str1, dip1 = np.radians([120, 40])\n",
    "str2, dip2 = np.radians([250, 60])\n",
    "\n",
    "# (a) Chevron folds have planar limbs. The hinge\n",
    "# of the fold is the intersection of the limbs\n",
    "htrd, hplg = int_bw_planes(str1,dip1,str2,dip2)\n",
    "print(\"Hinge trend = {:.1f}, plunge {:.1f}\"\n",
    "      .format(htrd*180/pi,hplg*180/pi))\n",
    "\n",
    "# The rake of the hinge on either limb is the angle \n",
    "# between the hinge and the strike line on the limb. \n",
    "# This line is horizontal and has plunge = 0\n",
    "plg = 0\n",
    "\n",
    "# (b) For the SW dipping limb\n",
    "ang = angle_bw_lines(str1,plg,htrd,hplg)\n",
    "print(\"Rake of hinge in SW dipping limb = {:.1f} E\"\n",
    "      .format(ang*180/pi))\n",
    "\n",
    "# (c) And for the NW dipping limb\n",
    "ang = angle_bw_lines(str2,plg,htrd,hplg)\n",
    "print(\"Rake of hinge in NW dipping limb = {:.1f} W\"\n",
    "      .format(ang*180/pi))"
   ]
  },
  {
   "cell_type": "markdown",
   "id": "0ca7f944-caa7-4104-95da-c350522b411e",
   "metadata": {},
   "source": [
    "Let’s do another problem from the same book: A quarry has two walls, one trending 002 and the other 135. The apparent dip of bedding on the faces are 40N and 30SE respectively. Calculate the strike and dip of bedding."
   ]
  },
  {
   "cell_type": "code",
   "execution_count": null,
   "id": "5ebbd584-508f-403f-adac-6baf699bac16",
   "metadata": {
    "tags": [
     "remove-output"
    ]
   },
   "outputs": [],
   "source": [
    "# Import function\n",
    "from compgeo.angles import plane_from_app_dips\n",
    "\n",
    "\n",
    "# The apparent dips are just two lines on bedding\n",
    "# These lines have orientations:\n",
    "trd1, plg1 = np.radians([2, 40])\n",
    "trd2, plg2 = np.radians([135, 30])\n",
    "\n",
    "# Calculate bedding from these two apparent dips\n",
    "strike, dip = plane_from_app_dips(trd1,plg1,trd2,plg2)\n",
    "print(\"Bedding strike = {:.1f}, dip {:.1f}\"\n",
    "      .format(strike*180/pi,dip*180/pi))"
   ]
  },
  {
   "cell_type": "markdown",
   "id": "1c0cc08c-585b-4483-9151-c70e9973cd72",
   "metadata": {},
   "source": [
    "And the final problem also from the same book: Slickenside lineations trending 074occur on a fault with orientation 300/50 (RHR). Determine the plunge of these lineations and their rake in the plane of the fault."
   ]
  },
  {
   "cell_type": "code",
   "execution_count": null,
   "id": "def092bf-51d9-4dbf-9e34-893309d07c32",
   "metadata": {
    "tags": [
     "remove-output"
    ]
   },
   "outputs": [],
   "source": [
    "# The lineation on the fault is just the intersection\n",
    "# of a vertical plane with a strike equal to\n",
    "# the trend of the lineation, and the fault\n",
    "str1, dip1 = np.radians([74, 90])\n",
    "str2, dip2 = np.radians([300, 50])\n",
    "\n",
    "# Find the intersection of these two planes which is\n",
    "# the lineation on the fault\n",
    "ltrd, lplg = int_bw_planes(str1,dip1,str2,dip2)\n",
    "print(\"Slickensides trend = {:.1f}, plunge {:.1f}\"\n",
    "      .format(ltrd*180/pi,lplg*180/pi))\n",
    "\n",
    "# And the rake of this lineation is the angle\n",
    "# between the lineation and the strike line on the fault\n",
    "plg = 0\n",
    "ang = angle_bw_lines(str2,plg,ltrd,lplg)\n",
    "print(\"Rake of slickensides = {:.1f} W\".format(ang*180/pi))"
   ]
  },
  {
   "cell_type": "markdown",
   "id": "9cdf7253-61a5-41fd-8540-271ead2e4c5f",
   "metadata": {},
   "source": [
    "There are many interesting problems you can solve using these functions. You will find more problems in [Section 4.6](ch04-6)."
   ]
  },
  {
   "cell_type": "markdown",
   "id": "8fecadfd-e40c-413e-be80-390029e5d66f",
   "metadata": {},
   "source": [
    "(ch04-4-3)=\n",
    "### Three points problem\n",
    "\n",
    "The three points problem is a fundamental problem in geology. It is based on the fact that three non-collinear points on a plane define the orientation of the plane. The graphical solution to this problem is introduced early in Geosciences. It involves finding the strike line (a line connecting two points of equal elevation) on the plane, and the dip from two strike lines (two structure contours) on the plane.\n",
    "\n",
    "However, there is an easier and more accurate solution to this problem using linear algebra: The three points on the plane define two lines, and the cross product between these lines is parallel to the pole to the plane, from which the orientation of the plane can be estimated. The function [three_points](https://github.com/nfcd/compGeo/blob/master/source/functions/three_points.py) computes the strike and dip of a plane from the east (**E**), north (**N**), and up (**U**) coordinates of three points on the plane:"
   ]
  },
  {
   "cell_type": "code",
   "execution_count": null,
   "id": "9a2c4bc9-19d7-44e8-bf83-3f946362b0ab",
   "metadata": {
    "tags": [
     "remove-output"
    ]
   },
   "outputs": [],
   "source": [
    "import numpy as np\n",
    "\n",
    "from compgeo.cart_to_sph import cart_to_sph\n",
    "from compgeo.pole import plane_from_pole\n",
    "\n",
    "\n",
    "def three_points(p1,p2,p3):\n",
    "    \"\"\"\n",
    "    three_points calculates the strike (strike) and dip (dip)\n",
    "    of a plane given the east (E), north (N), and up (U)\n",
    "    coordinates of three non-collinear points on the plane\n",
    "    \n",
    "    p1, p2 and p3 are 1 x 3 arrays defining the location\n",
    "    of the points in an ENU coordinate system. For each one\n",
    "    of these arrays the first, second and third entries are \n",
    "    the E, N and U coordinates, respectively\n",
    "    \n",
    "    NOTE: strike and dip are returned in radians and they\n",
    "    follow the right-hand rule format\n",
    "    \"\"\"\n",
    "    # make vectors v (p1 - p3) and u (p2 - p3)\n",
    "    v = p1 - p2\n",
    "    u = p2 - p3\n",
    "    # take the cross product of v and u\n",
    "    vcu = np.cross(v,u)\n",
    "    \n",
    "    # make this vector a unit vector\n",
    "    mvcu = np.linalg.norm(vcu) # magnitude of the vector\n",
    "    if mvcu == 0: # If points collinear\n",
    "        raise ValueError(\"Error: points are collinear\")\n",
    "    \n",
    "    vcu = vcu/mvcu # unit vector\n",
    "    \n",
    "    # make the pole vector in NED coordinates\n",
    "    p = np.array([vcu[1], vcu[0], -vcu[2]])\n",
    "    \n",
    "    # Make pole point downwards\n",
    "    if p[2] < 0:\n",
    "        p *= -1.0\n",
    "    \n",
    "    # find the trend and plunge of the pole\n",
    "    trd, plg = cart_to_sph(p[0],p[1],p[2])\n",
    "    \n",
    "    # find strike and dip of plane\n",
    "    strike, dip = plane_from_pole(trd, plg)\n",
    "    \n",
    "    return strike, dip"
   ]
  },
  {
   "cell_type": "markdown",
   "id": "7f56c4b3-5a4d-4c1d-a284-e0930c39f5b0",
   "metadata": {},
   "source": [
    "Let’s use this function in the following problem. The geologic map in {numref}`Figure %s <ch04_fig06>` shows a sequence of sedimentary units dipping south (you can deduce this by the outcrop V in the valley). Points 1, 2 and 3 are located on the base of unit S and their **ENU** coordinates are:\n",
    "\n",
    "point1 = \\[509, 2041, 400\\]\n",
    "\n",
    "point2 = \\[1323, 2362, 500\\]\n",
    "\n",
    "point3 = \\[2003, 2913, 700\\]\n",
    "\n",
    "Calculate the strike and dip of the plane. The notebook [ch4-5](https://github.com/nfcd/compGeo/blob/master/source/notebooks/ch4-5.ipynb) shows the solution to this problem:  "
   ]
  },
  {
   "cell_type": "markdown",
   "id": "b93f3932-2afe-4083-aacf-a2ea492b9ac0",
   "metadata": {},
   "source": [
    "```{figure} figures/ch04_fig06.png\n",
    ":width: 500px\n",
    ":name: ch04_fig06\n",
    "\n",
    "Geologic map of sedimentary units dipping south (Bennison et al., 2011). Points 1 to 3 on the base of unit S are used to estimate the orientation of bedding. Notice that the origin is at the map lower left corner.\n",
    "```"
   ]
  },
  {
   "cell_type": "code",
   "execution_count": null,
   "id": "c2fe4ca2-96c8-4213-aa21-a1d5f8c80125",
   "metadata": {
    "tags": [
     "remove-output"
    ]
   },
   "outputs": [],
   "source": [
    "import numpy as np\n",
    "pi = np.pi\n",
    "\n",
    "# Import function three_points\n",
    "from compgeo.three_points import three_points\n",
    "\n",
    "\n",
    "# ENU coordinates of the three points\n",
    "p1 = np.array([509, 2041, 400])\n",
    "p2 = np.array([1323, 2362, 500])\n",
    "p3 = np.array([2003, 2913, 700])\n",
    "\n",
    "# Compute the orientation of the plane\n",
    "strike, dip = three_points(p1,p2,p3)\n",
    "print(\"Plane strike = {:.1f}, dip = {:.1f}\"\n",
    "      .format(strike*180/pi,dip*180/pi))"
   ]
  },
  {
   "cell_type": "markdown",
   "id": "d74548ad-2792-4daa-895f-56af22dc1f66",
   "metadata": {},
   "source": [
    "(ch04-5)=\n",
    "## Uncertainties\n",
    "\n",
    "As we saw in [Section 3.2.5](ch03-2-5), the strike and dip or trend and plunge measurements have errors ({numref}`Figure %s <ch03_fig06>` and {numref}`Figure %s <ch03_fig07>`), and these errors propagate in any computation making use of these angles. Also, as accurate as GPS and elevation measurements are today, they also have errors. Thus, the functions in the module `angles` and the function `three_points` lack this important element of uncertainty.\n",
    "\n",
    "Suppose that $x, ..., z$ are measured with uncertainties (or errors) $\\delta x, ..., \\delta z$ and the measured values are used to compute the function $q(x,...,z)$. If the uncertainties in $x, ..., z$ are independent and random, then the uncertainty (or error) in $q$ is (Taylor, 1997):"
   ]
  },
  {
   "cell_type": "markdown",
   "id": "a7b4eb73-c08e-4bd3-b986-06c889fe6814",
   "metadata": {},
   "source": [
    "$$\n",
    "\\delta q=\\sqrt{\\left(\\frac{\\partial q}{\\partial x}\\delta x \\right)^2+...+\\left(\\frac{\\partial q}{\\partial z}\\delta z \\right)^2}\n",
    "$$ (ch04_eq25)"
   ]
  },
  {
   "cell_type": "markdown",
   "id": "83c77431-02c9-4019-9b9d-789e8656be9f",
   "metadata": {},
   "source": [
    "This formula is easy to calculate for a few operations, but it can become quite difficult for a long chain of operations. Fortunately, there is a Python package that handles calculations with numbers with uncertainties. This package is called `uncertainties` and it was developed by Eric Lebigot. You can find details about the package as well as instructions for installing it in the [uncertainties](https://pythonhosted.org/uncertainties/) website. You can install the uncertainties package by entering in a terminal:\n",
    "\n",
    "``` bash\n",
    "pip install --upgrade uncertainties\n",
    "```\n",
    "\n",
    "After this, you can use the uncertainties package. The module [angles_u](https://github.com/nfcd/compGeo/blob/master/source/functions/angles_u.py) and the function [three_points_u](https://github.com/nfcd/compGeo/blob/master/source/functions/three_points_u.py) in the resource git repository, are the corresponding `angles` module and `three_points` function with uncertainties. We don’t list these here, but rather illustrate their use in the following notebook [ch4-6](https://github.com/nfcd/compGeo/blob/master/source/notebooks/ch4-6.ipynb).\n",
    "\n",
    "In the first problem on page 64, the uncertainty in strike is 4and in dip is 2. What is the uncertainty in the hinge orientation and its rake on the limbs? This problem can be solved as follows:"
   ]
  },
  {
   "cell_type": "code",
   "execution_count": null,
   "id": "254bfe1d-223e-467b-aa19-5ffc549405ae",
   "metadata": {
    "tags": [
     "remove-output"
    ]
   },
   "outputs": [],
   "source": [
    "# Import libraries\n",
    "import numpy as np\n",
    "pi = np.pi\n",
    "\n",
    "from uncertainties import ufloat\n",
    "\n",
    "# Import functions\n",
    "from compgeo.angles_u import angle_bw_lines_u\n",
    "from compgeo.angles_u import int_bw_planes_u\n",
    "\n",
    "\n",
    "# Strike and dip of the limbs in radians\n",
    "str1, dip1 = np.radians([120, 40]) # SW dipping limb\n",
    "str2, dip2 = np.radians([250, 60]) # NW dipping limb\n",
    "\n",
    "# Errors in strike and dip in radians\n",
    "ustr, udip = np.radians([4, 2])\n",
    "\n",
    "# Create the input values with uncertainties\n",
    "str1 = ufloat(str1, ustr)  # str1 = str1 +/-ustr\n",
    "dip1 = ufloat(dip1, udip)  # dip1 = dip1 +/-udip\n",
    "str2 = ufloat(str2, ustr)  # str2 = str2 +/-ustr\n",
    "dip2 = ufloat(dip2, udip)  # dip2 = dip2 +/-udip\n",
    "\n",
    "# (a) Chevron folds have planar limbs. The hinge\n",
    "# of the fold is the intersection of the limbs\n",
    "htrd, hplg = int_bw_planes_u(str1,dip1,str2,dip2)\n",
    "print(\"Hinge trend = {:.1f}, plunge {:.1f}\"\n",
    "      .format(htrd*180/pi,hplg*180/pi))\n",
    "\n",
    "# The rake of the hinge on either limb is the angle \n",
    "# between the hinge and the strike line on the limb. \n",
    "# This line is horizontal and has plunge = 0\n",
    "plg = ufloat(0, udip)  # plg = 0 +/-udip\n",
    "\n",
    "# (b) For the SW dipping limb\n",
    "ang = angle_bw_lines_u(str1,plg,htrd,hplg)\n",
    "print(\"Rake of hinge in SW dipping limb = {:.1f} E\"\n",
    "      .format(ang*180/pi))\n",
    "\n",
    "# (c) And for the NW dipping limb\n",
    "ang = angle_bw_lines_u(str2,plg,htrd,hplg)\n",
    "print(\"Rake of hinge in NW dipping limb = {:.1f} W\"\n",
    "      .format(ang*180/pi))"
   ]
  },
  {
   "cell_type": "markdown",
   "id": "38acf6b5-6945-4a9e-b169-1f3f2b6e1b0c",
   "metadata": {},
   "source": [
    "In the map of {numref}`Figure %s <ch04_fig06>`, the error in east and north coordinates is 10 m, and in elevation is 5 m. What is uncertainty in the strike and dip of the T-S contact?"
   ]
  },
  {
   "cell_type": "code",
   "execution_count": null,
   "id": "2e0da38b-2269-4ff4-836a-200504c1fec0",
   "metadata": {
    "tags": [
     "remove-output"
    ]
   },
   "outputs": [],
   "source": [
    "# Import function three_points_u\n",
    "from compgeo.three_points_u import three_points_u\n",
    "\n",
    "\n",
    "# ENU coordinates of the three points\n",
    "# with uncertainties in E-N = 10, and U = 5\n",
    "p1 = np.array([ufloat(509, 10), ufloat(2041, 10), \n",
    "               ufloat(400, 5)])\n",
    "p2 = np.array([ufloat(1323, 10), ufloat(2362, 10), \n",
    "               ufloat(500, 5)])\n",
    "p3 = np.array([ufloat(2003, 10), ufloat(2913, 10), \n",
    "               ufloat(700, 5)])\n",
    "\n",
    "# Compute the orientation of the plane\n",
    "strike, dip = three_points_u(p1,p2,p3)\n",
    "print(\"Plane strike = {:.1f}, dip = {:.1f}\"\n",
    "      .format(strike*180/pi,dip*180/pi))"
   ]
  },
  {
   "cell_type": "markdown",
   "id": "1c7b6b97-7a49-4fc9-9c39-36cd05a5e2c0",
   "metadata": {
    "tags": []
   },
   "source": [
    "(ch04-6)=\n",
    "## Exercises\n",
    "\n",
    "Problems 1-3 are from Marshak and Mitra (1988). Solve these problems using the module `angles`.\n",
    "\n",
    "1. A fault surface has an orientation (RHR) 190/80. Slickenlines on the fault trend 300.\n",
    "\n",
    "    1.  What is the plunge of the lineation?\n",
    "    \n",
    "    2.  What is the rake of the lineation on the fault?\n",
    "\n",
    "2. A shale bed has an orientation (RHR) 115/42. What is the apparent dip of the bed in the direction 265?\n",
    "\n",
    "3. A sandstone bed strikes 140across a stream. The stream flows down a narrow gorge with vertical walls. The apparent dip of the bed on the walls of the gorge is 095/25. What is the true dip of the bed?\n",
    "\n",
    "4. In the geologic map of {numref}`Figure %s <ch04_fig07>`, points 1 to 9 have the following **ENU** coordinates:\n",
    "\n",
    "    - point1 = \\[1580, 379, 400\\]\n",
    "    - point2 = \\[1234, 992, 300\\]\n",
    "    - point3 = \\[2054, 1753, 400\\]\n",
    "    - point4 = \\[448, 1424, 600\\]\n",
    "    - point5 = \\[1921, 2195, 500\\]\n",
    "    - point6 = \\[1408, 3737, 300\\]\n",
    "    - point7 = \\[536, 2196, 700\\]\n",
    "    - point8 = \\[743, 2963, 600\\]\n",
    "    - point9 = \\[2720, 2963, 600\\]\n",
    "\n",
    "    1. Compute the strike and dip of the coal seam (points 1-3).\n",
    "    \n",
    "    2. Compute the strike and dip of the contact where the blue points 4-6 are located. What kind of contact is this? Is the coal seam below or above this contact?\n",
    "    \n",
    "    3. Compute the strike and dip of the contact between units Y and Z (points 7-9). Is this contact below or above the contact in b?\n",
    "    \n",
    "    4. The line of section V-W has a trend of 142. What is the apparent dip of the three contacts above along the section?\n",
    "    \n",
    "    5. Draw a schematic cross section along line V-W\n",
    "\n",
    "    :::{hint}\n",
    "\tUse function `three_points` to solve a, b and c. Use the module `angles` to solve d.\n",
    "\t:::\n",
    "\n",
    "    ```{figure} figures/ch04_fig07.png\n",
    "    :width: 500px\n",
    "    :name: ch04_fig07\n",
    "\n",
    "    Map for exercise 4. This is map 10 of Bennison et al. (2011).\n",
    "    ```\n",
    "\n",
    "5. The map of {numref}`Figure %s <ch04_fig08>` shows an area of a reconnaissance survey in the Appalachian Valley and Ridge Province of western Maryland, USA. On the western half of the map, the contact between a shale horizon (B) and a sandstone unit (C) has been located in two areas. Three points on this contact have the following **ENU** coordinates:\n",
    "\n",
    "    - point1 = \\[862, 943, 500\\]\n",
    "    - point2 = \\[692, 1212, 600\\]\n",
    "    - point3 = \\[1050, 2205, 600\\]\n",
    "\n",
    "    ```{figure} figures/ch04_fig08.png\n",
    "    :width: 600px\n",
    "    :name: ch04_fig08\n",
    "\n",
    "    Map for exercise 5.\n",
    "    ```\n",
    "\n",
    "    On the eastern half of the map, the contact between B and C was found exposed at three locations labelled x, y, and z. The **ENU** coordinates of these points are:\n",
    "\n",
    "    - pointx = \\[3298, 1487, 300\\]\n",
    "    - pointy = \\[3203, 1031, 200\\]\n",
    "    - pointz = \\[3894, 590, 400\\]\n",
    "\n",
    "    1. Compute the strike and dip of the contact on the western half of the map.\n",
    "    \n",
    "    2. Compute the strike and dip of the contact on the eastern half of the map.\n",
    "    \n",
    "    3. What kind of structure is present on the map?\n",
    "    \n",
    "    4. Compute the intersection of the western and eastern contacts. What does this line represent?\n",
    "\n",
    "    :::{hint}\n",
    "    Use function `three_points` to solve a and b. Use the module `angles` to solve d.\n",
    "\t:::\n",
    "\n",
    "6. In problem 3, the error in azimuth is 5 and in apparent dip is 3. What is the uncertainty in the true dip of the bed? *Hint*: Use the module `angles_u`.\n",
    "\n",
    "7. In the map of {numref}`Figure %s <ch04_fig07>`, the east and north coordinates of the points have 15 m error, and the elevations have 5 m error.\n",
    "\n",
    "    1. What is the uncertainty in the strike and dip of the coal seam?\n",
    "    \n",
    "    2. What is the uncertainty in the strike and dip of the unconformity?\n",
    "    \n",
    "    3. What is the angle between the unconformity and the coal seam and what is the uncertainty in this angle?\n",
    "\n",
    "    :::{hint}\n",
    "    Use function `three_points_u` to     solve a and b, and the module `angles_u` to solve c.\n",
    "\t:::"
   ]
  },
  {
   "cell_type": "markdown",
   "id": "0320c3a0-6666-487a-86c1-133d0b1df19b",
   "metadata": {},
   "source": [
    "(ch04-7)=\n",
    "## References\n",
    "\n",
    "Allmendinger, R.W., Cardozo, N. and Fisher, D.W. 2012. Structural\n",
    "Geology Algorithms: Vectors and Tensors. Cambridge University Press.\n",
    "\n",
    "Bennison, G.M., Olver, P.A. and Moseley, K.A. 2011. An Introduction to\n",
    "Geological Structures and Maps, 8th edition. Hodder Education.\n",
    "\n",
    "Fisher, N.I., Lewis, T. and Embleton, B.J.J. 1987. Statistical analysis\n",
    "of spherical data. Cambridge University Press.\n",
    "\n",
    "Leyshon, P.R. and Lisle, R.J. 1996. Stereographic Projection Techniques\n",
    "in Structural Geology. Butterworth Heinemann.\n",
    "\n",
    "Marshak, S. and Mitra, G. 1988. Basic Methods of Structural Geology.\n",
    "Prentice Hall.\n",
    "\n",
    "Ragan, D.M. 2009. Structural Geology: An Introduction to Geometrical\n",
    "Techniques. Cambridge University Press.\n",
    "\n",
    "Taylor, J.R. 1997. An Introduction to Error Analysis, 2nd edition.\n",
    "University Science Books."
   ]
  }
 ],
 "metadata": {
  "kernelspec": {
   "display_name": "Python 3 (ipykernel)",
   "language": "python",
   "name": "python3"
  },
  "language_info": {
   "codemirror_mode": {
    "name": "ipython",
    "version": 3
   },
   "file_extension": ".py",
   "mimetype": "text/x-python",
   "name": "python",
   "nbconvert_exporter": "python",
   "pygments_lexer": "ipython3",
   "version": "3.11.0"
  }
 },
 "nbformat": 4,
 "nbformat_minor": 5
}
