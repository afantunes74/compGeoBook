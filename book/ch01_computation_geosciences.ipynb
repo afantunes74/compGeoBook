{
 "cells": [
  {
   "cell_type": "markdown",
   "id": "b3ab9d8b-9ab1-4581-83b1-58af3cd29ab9",
   "metadata": {
    "tags": [
     "remove-output"
    ]
   },
   "source": [
    "(ch01)=\n",
    "# Computation in Geosciences"
   ]
  },
  {
   "cell_type": "markdown",
   "id": "7fbecdbb-f065-4c5c-b1b2-63804cb290a5",
   "metadata": {},
   "source": [
    "(ch01-1)=\n",
    "## Solving problems by computation\n",
    "\n",
    "Geology is an interpretive and historical science (Frodeman, 1995). We observe, collect, analyze, and interpret data (what) to tell a story (why). To collect data, we need to take measurements. All measurements have some uncertainty, and therefore uncertainty and error propagation are important in geosciences, and they are a recurring topic in this resource.\n",
    "\n",
    "For the last 50 years or more, the methods geoscientists have used to visualize, analyze and interpret data are mostly graphical. For example, in structural geology, students typically learn two types of graphical constructions: orthographic and spherical projections (stereonets) (Ragan, 2009). Although these methods are great to visualize and solve geometrical problems in three-dimensions, they are not amenable to computation, and therefore applying these methods to large datasets with thousands of entries is impractical. Plane and spherical trigonometry allow deriving formulas (e.g. apparent dip formula) for computation (Ragan, 2009). However, these formulas give little insight about the problems. They are just formulas associated with complex geometric constructions, which bear no relation to each other, and which are difficult to combine to solve more complicated problems.\n",
    "\n",
    "It turns out that many of the most interesting problems in geosciences can be solved using linear algebra, and vectors and tensors (Allmendinger et al., 2012). Linear algebra also happens to be the language of computation. The main purpose of this resource is to show how to solve problems in geosciences using computation. There are several advantages of following this approach. It will enhance your mathematical and computational skills, as well as promote your geological-mathematical problem solving disposition. In today’s digital age, these skills are very useful."
   ]
  },
  {
   "cell_type": "markdown",
   "id": "66150308-d29f-409f-a28a-0b24fc6d9198",
   "metadata": {},
   "source": [
    "(ch01-2)=\n",
    "## Why Python?\n",
    "\n",
    "The choice of programming language is important. While computer languages such as C or C++ are ideal to work with large datasets and computer-intensive operations, they involve a steep learning curve associated with their syntax, compilation, and execution (Jacobs et al., 2016). These coding details have little to do with the problem-solving approach of this resource. Interpretive languages such as Python, R or Matlab are a better choice because of their simpler syntax, and the interpretation and execution of commands as they are called (no need for compilation). In addition, these languages have access to an integrated development environment (IDE) that facilitates writing and debugging programs, and to many standard libraries that perform advanced tasks such as matrix operations and data visualization. Thus, Python, R or Matlab are “scientific packages” rather than just programming languages.\n",
    "\n",
    "In this resource, the language of choice is Python. Besides the reasons above, Python has the following advantages:\n",
    "\n",
    "-   Python can be learned quickly. It typically involves less code than other languages and its syntax is easier to read.\n",
    "-   Python comes with robust standard libraries for arrays and mathematical functions (NumPy), visualization (Pyplot), and scientific computing (SciPy).\n",
    "-   As of December 2022, Python is the most popular programming language followed by C, C++, and Java ([TIOBE index](https://tiobe.com/tiobe-index/)), with a large base of developers and users. It is used by every major technology company and it is almost a skill you must have in your CV to land a job as a geoscientist.\n",
    "-   Because of its large developers base, Python has access to a large amount of external libraries, including several libraries for geosciences. We make use of some of these libraries in this resource.\n",
    "-   Python can be installed easily through a single distribution that includes all the standard libraries and provides access to external libraries (see next section).\n",
    "-   Last but not least, Python is free and open source. This is probably why Python is more popular than its commercial counterparts."
   ]
  },
  {
   "cell_type": "markdown",
   "id": "b02c39d6-4c05-49cc-b877-040c6b5686de",
   "metadata": {},
   "source": [
    "(ch01-3)=\n",
    "## Installing Python\n",
    "\n",
    "We recommend installing Python using the free Anaconda distribution. This distribution includes Python as well as many other useful applications, including Jupyter, which is the system we use to write the notebooks in this resource. Anaconda can be easily installed on any major operating system, including Windows, macOS, or Linux.\n",
    "\n",
    "The installation process is quite straightforward. From the [Anaconda](https://www.anaconda.com) page, press the `Download` button. Windows and macOS users just need to download the Graphical installer, run it, and follow the steps to install Anaconda. Linux users need to download the installer and type a set of commands in a terminal window. Further instructions can be found in the [Anaconda installation](https://docs.anaconda.com/anaconda/install/) section."
   ]
  },
  {
   "cell_type": "markdown",
   "id": "960a8572-4c96-457d-9e46-bc0c1bedb16d",
   "metadata": {},
   "source": [
    "(ch01-4)=\n",
    "## A first introduction to Python\n",
    "\n",
    "In this section, we use our first Jupyter notebook to learn the basics of Python. Clone or download the resource [git repository](https://github.com/nfcd/compGeo). Open Anaconda and then launch Jupyter Notebook. This will open a browser with a list of files and folders in your home directory. Navigate to the folder `/notebooks` in the repository and open the notebook [ch1](https://github.com/nfcd/compGeo/blob/master/source/notebooks/ch1.ipynb). Alternatively, follow the notebook in the sections below. Surprisingly, few lines of code are required to introduce key topics such as conditionals, loops, functions, array mathematics, and plotting. This shows the power of Python.\n",
    "\n",
    ":::{note}\n",
    "Notice that in the notebook we concentrate on features relevant to this resource. There is much more to learn about Python and there are very good online and book resources to do that.\n",
    ":::"
   ]
  },
  {
   "cell_type": "markdown",
   "id": "a0e0b626-622b-41e6-80d4-eddb9ca39e10",
   "metadata": {
    "tags": [
     "remove-output",
     "hide-output"
    ]
   },
   "source": [
    "(ch01-4-1)=\n",
    "### Basics\n",
    "\n",
    "A notebook is divided into computational units called *cells*. Cells can contain text such as this one or Python code. Below is a cell with some typical Python statements.. Try changing the variables and re-run the cell. To run a cell, either click the `Run` button, or type `Ctrl+Enter`.\n",
    "\n",
    ":::{note}\n",
    "In this book, a gray box with a green ribbon on the left indicates a code block; while a plain gray box indicates the output of a code block.\n",
    ":::"
   ]
  },
  {
   "cell_type": "code",
   "execution_count": null,
   "id": "b545c6f7",
   "metadata": {
    "tags": [
     "remove-output"
    ]
   },
   "outputs": [],
   "source": [
    "a = 2\n",
    "b = 9.0\n",
    "c = a + b\n",
    "\n",
    "print(\"The sum is: \", c)"
   ]
  },
  {
   "cell_type": "code",
   "execution_count": null,
   "id": "3e458553-3da4-43fa-963a-7ba9bb3e5b95",
   "metadata": {
    "tags": [
     "remove-output"
    ]
   },
   "outputs": [],
   "source": [
    "# this is just a comment\n",
    "name = \"Donald\"\n",
    "print(\"Hello, my name is \", name)"
   ]
  },
  {
   "cell_type": "markdown",
   "id": "ca2e311b-5968-4a74-b319-b1927f4a4a57",
   "metadata": {},
   "source": [
    "There are some other useful shortcuts you should know. To run a cell and move to the next cell, type `Shift+Enter`. To run a cell and insert a new cell below, type `Alt+Enter`. You can use the arrow keys to move quickly between cells. To run all the cells of a notebook, choose the `Cell ` $\\rightarrow$ ` Run All` menu."
   ]
  },
  {
   "cell_type": "markdown",
   "id": "92ccd4df-9e40-4d3e-ba96-2feb50c2d590",
   "metadata": {},
   "source": [
    "(ch01-4-2)=\n",
    "### Conditionals\n",
    "\n",
    "A conditional is used to decide between different operations depending on a conditional statement. In Python, this is expressed in the following way:"
   ]
  },
  {
   "cell_type": "code",
   "execution_count": null,
   "id": "8c4d61f5-5cd5-4ed7-8c4e-c3ebf020786f",
   "metadata": {
    "tags": [
     "remove-output"
    ]
   },
   "outputs": [],
   "source": [
    "a = 3\n",
    "b = 5\n",
    "\n",
    "if a > b:\n",
    "    print(\"a is bigger than b\")\n",
    "\n",
    "elif a < b:\n",
    "    print(\"a is smaller than b\")\n",
    "\n",
    "else:\n",
    "    print(\"a is equal to b\")"
   ]
  },
  {
   "cell_type": "markdown",
   "id": "bfe32e4e-636a-45d4-8ebb-bb7ebba5bbc3",
   "metadata": {},
   "source": [
    "Try changing the values of `a` and `b` to see how the output changes. Also, note that Python cares about the indentation of the line, so there must be a tab indent or 4 spaces for each operation in the if statement. You can also use the logical operators `and`, `or`, and `not` in the conditional statement:"
   ]
  },
  {
   "cell_type": "code",
   "execution_count": null,
   "id": "8e3138f2-c68b-4b7b-a520-cf89eaaa1217",
   "metadata": {
    "tags": [
     "remove-output"
    ]
   },
   "outputs": [],
   "source": [
    "age = 30\n",
    "\n",
    "if age > 18 and age < 34:\n",
    "    print(\"You are a young adult\")\n",
    "\n",
    "if age < 18 or age > 80:\n",
    "    print(\"You are not allowed to drive a car\")"
   ]
  },
  {
   "cell_type": "markdown",
   "id": "c2769482-fb79-48b5-828c-7c94fb19f5a3",
   "metadata": {},
   "source": [
    "(ch01-4-3)=\n",
    "### Loops\n",
    "\n",
    "A loop is used to execute a group of statements multiple times. For instance, to print all numbers from 1 to 10 divisible by 3, we can use a `for` loop together with an `if` statement, and the modulus operator `%`:"
   ]
  },
  {
   "cell_type": "code",
   "execution_count": null,
   "id": "0023bfa6-7baa-4ec2-b58a-9a2735e72e04",
   "metadata": {
    "tags": [
     "remove-output"
    ]
   },
   "outputs": [],
   "source": [
    "print(\"Numbers divisible by three:\")\n",
    "\n",
    "for i in range(1, 11):\n",
    "    if i % 3 == 0:\n",
    "        print(i)"
   ]
  },
  {
   "cell_type": "markdown",
   "id": "798f4c4f-72e8-47d9-b6fa-a85582cd658e",
   "metadata": {},
   "source": [
    "`range` is a Python function that iterates from the given first number up to the second number, but without including this number. If we only give one number, the iteration will go from zero up to the given number $-1$. We give more examples of `for` loops later in this notebook."
   ]
  },
  {
   "cell_type": "markdown",
   "id": "e234b7af-4f10-46d2-828f-e403a6fc2648",
   "metadata": {},
   "source": [
    "(ch01-4-4)=\n",
    "### Functions and modules\n",
    "\n",
    "If we have written a useful piece of code, we often want to use it again without copying and pasting the code multiple times. To do this, we use functions and modules. For instance, if we want to convert an angle from degrees to radians, we can use the following formula:\n",
    "\n",
    "$$\n",
    "\\alpha_\\text{radians} = \\alpha_\\text{degrees}\\frac{\\pi}{180}\n",
    "$$ (ch01_eq01)\n",
    "\n",
    ":::{note}\n",
    "This example is just for demonstration. Python has specialized functions to convert from degrees to radians (`math.radians`) and vice-versa (`math.degrees`).\n",
    ":::\n",
    "\n",
    "To put this into a callable function, we use the `def` keyword:"
   ]
  },
  {
   "cell_type": "code",
   "execution_count": null,
   "id": "23a58ec3-2446-4757-a975-f2ec8f9df50f",
   "metadata": {
    "tags": [
     "remove-output"
    ]
   },
   "outputs": [],
   "source": [
    "def deg_to_rad(angle_degrees):\n",
    "    pi = 3.141592\n",
    "    return pi * angle_degrees / 180.0"
   ]
  },
  {
   "cell_type": "code",
   "execution_count": null,
   "id": "ed62dca7-7a85-4531-8ac1-847583d97ab0",
   "metadata": {
    "tags": [
     "remove-output"
    ]
   },
   "outputs": [],
   "source": [
    "angle_degrees = 45.0\n",
    "print(\"Radians\", deg_to_rad(angle_degrees))"
   ]
  },
  {
   "cell_type": "markdown",
   "id": "0b162caf-9e97-42b5-8cdb-f552ab122dc6",
   "metadata": {},
   "source": [
    "We can also include code from other places. This is useful to make your own library of functions that you can then use in any code. This is the modus operandi of this resource. We will implement and use functions to solve problems in geosciences. Using a text editor, create a file called `mylib.py` and put it in the same folder the notebook is. In the file, write two functions to convert from degrees to radians, and from radians to degrees:"
   ]
  },
  {
   "cell_type": "code",
   "execution_count": null,
   "id": "76162ed0-9771-4a61-8dc1-504aab704af7",
   "metadata": {
    "tags": [
     "remove-output"
    ]
   },
   "outputs": [],
   "source": [
    "def deg_to_rad(angle_degrees):\n",
    "    pi = 3.141592\n",
    "    return pi * angle_degrees / 180\n",
    "\n",
    "\n",
    "def rad_to_deg(angle_radians):\n",
    "    pi = 3.141592\n",
    "    return angle_radians * 180 / pi"
   ]
  },
  {
   "cell_type": "markdown",
   "id": "d1d6ffba-589c-4e88-93cc-0182e492edb7",
   "metadata": {},
   "source": [
    "A file like this is called a *module*, and it can contain one or several functions. We can then import in the notebook the module and use its functions like this:"
   ]
  },
  {
   "cell_type": "code",
   "execution_count": null,
   "id": "462d15cb-4db3-4113-b397-7a6aa049837d",
   "metadata": {
    "tags": [
     "remove-output"
    ]
   },
   "outputs": [],
   "source": [
    "try:\n",
    "    import mylib\n",
    "\n",
    "    # degrees to radians\n",
    "    angle_degrees = 45\n",
    "    angle_radians = mylib.deg_to_rad(angle_degrees)\n",
    "    print(angle_degrees, \"degrees is\", angle_radians, \"radians\")\n",
    "\n",
    "    # radians to degrees\n",
    "    print(angle_radians, \"radians is\", mylib.rad_to_deg(angle_radians), \"degrees\")\n",
    "\n",
    "except ModuleNotFoundError:\n",
    "    print(\"Create a file called mylib.py\")"
   ]
  },
  {
   "cell_type": "markdown",
   "id": "e95a541a-917d-4cca-a0ad-c502d8a8373a",
   "metadata": {},
   "source": [
    ":::{note}\n",
    "If you make a change in `mylib.py`, the changes will not be immediately available in the notebook and it needs to be restarted. To circumvent this, we can use the following commands to always reload imported modules:\n",
    "\n",
    "``` bash\n",
    "%autoreload\n",
    "```\n",
    ":::"
   ]
  },
  {
   "cell_type": "markdown",
   "id": "3f68b878-2d30-4a88-9955-f6327121e396",
   "metadata": {},
   "source": [
    "(ch01-4-5)=\n",
    "### Mathematics\n",
    "\n",
    "To use Python as an environment for numerical mathematics, it is useful to use the NumPy library for arrays and matrices, and the Matplotlib library for plotting. See the links in the Jupyter Notebook `Help` menu for more information on these libraries. The following two lines import these libraries:"
   ]
  },
  {
   "cell_type": "code",
   "execution_count": null,
   "id": "f334e364-37fe-4d35-ada5-b1891a99c9d3",
   "metadata": {
    "tags": [
     "remove-output"
    ]
   },
   "outputs": [],
   "source": [
    "import numpy as np\n",
    "import matplotlib.pyplot as plt"
   ]
  },
  {
   "cell_type": "markdown",
   "id": "180e131e-3e8f-4a9a-8b61-803664a9a818",
   "metadata": {},
   "source": [
    "To define an array, we use the NumPy `array` function:"
   ]
  },
  {
   "cell_type": "code",
   "execution_count": null,
   "id": "c91c3c36-3ca6-46ed-80de-d1e5f1d5129c",
   "metadata": {
    "tags": [
     "remove-output"
    ]
   },
   "outputs": [],
   "source": [
    "a = np.array([1, 2, 3, 4])\n",
    "print(a)"
   ]
  },
  {
   "cell_type": "markdown",
   "id": "2f74f4cd-14fe-4ab8-9743-f34858d0cb8c",
   "metadata": {},
   "source": [
    "To access an array element, we use brackets with the index of the element. A very important difference compared to Matlab is that in Python, the first element has index zero (like most other programming languages). We can also use negative indices to access values starting from the end of the array."
   ]
  },
  {
   "cell_type": "code",
   "execution_count": null,
   "id": "8c66ac2a-2489-41ea-8a61-a2d757d6cdf0",
   "metadata": {
    "tags": [
     "remove-output"
    ]
   },
   "outputs": [],
   "source": [
    "print(a[0], a[2])\n",
    "print(a[-1])"
   ]
  },
  {
   "cell_type": "markdown",
   "id": "1732279b-154d-4409-bda9-9e88191bb678",
   "metadata": {},
   "source": [
    "Slicing is a very useful feature to extract subarrays. For instance:"
   ]
  },
  {
   "cell_type": "code",
   "execution_count": null,
   "id": "0f13712a-8f73-40b2-beb0-ac9e5a4f2b90",
   "metadata": {
    "tags": [
     "remove-output"
    ]
   },
   "outputs": [],
   "source": [
    "print(a[2:])\n",
    "print(a[1:3])"
   ]
  },
  {
   "cell_type": "markdown",
   "id": "913a4885-d11d-4a66-8caa-29363b66967c",
   "metadata": {},
   "source": [
    "Matrices are defined as multi-dimensional arrays:"
   ]
  },
  {
   "cell_type": "code",
   "execution_count": null,
   "id": "044e9271-5ba8-45cb-ab7b-78f5a01282a7",
   "metadata": {
    "tags": [
     "remove-output"
    ]
   },
   "outputs": [],
   "source": [
    "a_matrix = np.array([[1, 2, 3],\n",
    "                     [4, 5, 6],\n",
    "                     [7, 8, 9]])\n",
    "\n",
    "b_matrix = np.array([[2, 4],\n",
    "                     [3, 5],\n",
    "                     [5, 7]])\n",
    "\n",
    "print(a_matrix)\n",
    "print(b_matrix)"
   ]
  },
  {
   "cell_type": "markdown",
   "id": "c4996900-8819-429a-92a9-3a3c70144483",
   "metadata": {},
   "source": [
    ":::{note}\n",
    "In Python, a long line within parenthesis can be broken into several lines.\n",
    ":::\n",
    "\n",
    "We can get the number of rows and columns of the matrix from the `shape` method:"
   ]
  },
  {
   "cell_type": "code",
   "execution_count": null,
   "id": "a35c32c2-0de5-4b13-abeb-0f24434b90d0",
   "metadata": {
    "tags": [
     "remove-output"
    ]
   },
   "outputs": [],
   "source": [
    "nrow, ncol = b_matrix.shape\n",
    "print(\"b has {} rows and {} columns\".format(nrow, ncol))"
   ]
  },
  {
   "cell_type": "markdown",
   "id": "8588b565-432a-437e-a673-8dc3b4cb0f22",
   "metadata": {},
   "source": [
    "Let us make a function to multiply two matrices. Consider a $n\\times m$ matrix **A** and a $m\\times p$ matrix **B**. The formula to multiply these matrices can be written as:\n",
    "\n",
    "$$\n",
    "C_{ij} = \\sum_{k=1}^m A_{ik}B_{kj}\n",
    "$$ (ch01_eq02)\n",
    "\n",
    "for $i = 1,...,n$ and $j = 1,...,p$. Here **C** will be a $n\\times p$ matrix. To implement this formula, we need to use a triple-nested loop, as shown in the function below:"
   ]
  },
  {
   "cell_type": "code",
   "execution_count": null,
   "id": "835c9d50-9d6c-48c9-b1f0-26298210ad7a",
   "metadata": {
    "tags": [
     "remove-output"
    ]
   },
   "outputs": [],
   "source": [
    "def matrix_multiply(A, B):\n",
    "    n, m = A.shape\n",
    "    nrow_B, p = B.shape\n",
    "\n",
    "    # Check that the matrices are conformable\n",
    "    if not nrow_B == m:\n",
    "        raise ValueError(\"Error: Number of columns in A\"\n",
    "                         \"must equal number of rows in B\")\n",
    "\n",
    "    # Initialize C using the numpy zeros function\n",
    "    C = np.zeros((n, p))\n",
    "\n",
    "    for i in range(n):\n",
    "        for j in range(p):\n",
    "            for k in range(m):\n",
    "                C[i, j] = C[i, j] + A[i, k] * B[k, j]\n",
    "\n",
    "    return C"
   ]
  },
  {
   "cell_type": "markdown",
   "id": "a2e648f3-4ffe-4ae1-b1a7-81d9398d9dad",
   "metadata": {},
   "source": [
    ":::{note}\n",
    "In Python, a long string within parenthesis can be split as shown in the code above.\n",
    ":::"
   ]
  },
  {
   "cell_type": "code",
   "execution_count": null,
   "id": "9910b232-361b-4df3-ab53-689fa5865e67",
   "metadata": {
    "tags": [
     "remove-output"
    ]
   },
   "outputs": [],
   "source": [
    "print(matrix_multiply(a_matrix, b_matrix))"
   ]
  },
  {
   "cell_type": "markdown",
   "id": "49263af9-ebca-4a9e-94ef-ede1725b3cf8",
   "metadata": {},
   "source": [
    "Verify by hand calculation that the above result is correct. Remember, the element in the first row and first column of **C** is equal to the sum of the product of the elements in the first row of **A** times the elements in the first column of **B**, and so on. Try the multiplication **BA**. What happens?\n",
    "\n",
    "Although the function above is elegant, it is not very efficient. The NumPy library contains super-optimized code for common operations such as matrix multiplication. The NumPy `dot` function can be used for matrix multiplication. Let’s repeat the matrix multiplication above using this function:"
   ]
  },
  {
   "cell_type": "code",
   "execution_count": null,
   "id": "db5a1c06-ba6d-49c5-a0c9-f8f7b9616019",
   "metadata": {
    "tags": [
     "remove-output"
    ]
   },
   "outputs": [],
   "source": [
    "C = np.dot(a_matrix, b_matrix)\n",
    "print(C)"
   ]
  },
  {
   "cell_type": "markdown",
   "id": "74a90f9f-f7fe-4b68-aa09-98beea74b1dc",
   "metadata": {},
   "source": [
    "When working with large matrices, there is a significant impact on the runtime. To illustrate this, let’s generate two 100 $\\times$ 100 matrices with random numbers. The NumPy `random.rand` function generates the arrays and fill them with random numbers."
   ]
  },
  {
   "cell_type": "code",
   "execution_count": null,
   "id": "841ea5be-19f5-4a1b-a2d2-536be65989f0",
   "metadata": {
    "tags": [
     "remove-output"
    ]
   },
   "outputs": [],
   "source": [
    "N = 100\n",
    "A = np.random.rand(N, N)\n",
    "B = np.random.rand(N, N)"
   ]
  },
  {
   "cell_type": "markdown",
   "id": "53fa1a4d-23e0-49d9-8ee6-b361ec57f10f",
   "metadata": {},
   "source": [
    "Now, let’s measure the difference in execution time between multiplying these matrices with our function, or the NumPy `dot` function. The `time` function allows us to determine the time taken by each function in seconds:"
   ]
  },
  {
   "cell_type": "code",
   "execution_count": null,
   "id": "8e10b4b8-a1c5-4240-8a62-e24f588f6e83",
   "metadata": {
    "tags": [
     "remove-output"
    ]
   },
   "outputs": [],
   "source": [
    "import time\n",
    "\n",
    "start = time.time()  # start time\n",
    "C = matrix_multiply(A, B)\n",
    "endt = time.time()  # end time\n",
    "print(\"Our function time = \", (endt - start))"
   ]
  },
  {
   "cell_type": "code",
   "execution_count": null,
   "id": "cb49066d-c8ce-4d12-9459-03e864674c28",
   "metadata": {
    "tags": [
     "remove-output"
    ]
   },
   "outputs": [],
   "source": [
    "start = time.time()  # start time\n",
    "C = np.dot(A, B)\n",
    "endt = time.time()  # end time\n",
    "print(\"NumPy dot function time = \", (endt - start))"
   ]
  },
  {
   "cell_type": "markdown",
   "id": "458934d2-dbbb-47ea-8ed0-d02763b28820",
   "metadata": {},
   "source": [
    "The NumPy `dot` function is much faster than our function!"
   ]
  },
  {
   "cell_type": "markdown",
   "id": "ab7f77b4-359e-4180-937e-4bf20a888173",
   "metadata": {},
   "source": [
    "(ch01-4-6)=\n",
    "### Plotting\n",
    "\n",
    "Arrays can be easily plotted using the Matplotlib `plot` command. Below we plot the sine function. We use the NumPy `linspace` function to generate an array with equally spaced values between the start and end point, and the NumPy `sin` function to take the sine of the array. The `plot` command plots the data and the semicolon after it removes any message output. With a low number of points, the curve looks jagged. Increase the number of points `n` to get a smoother curve. Try values of `n` = 100, 1000, and 10000."
   ]
  },
  {
   "cell_type": "code",
   "execution_count": null,
   "id": "28805db3-427c-4456-ae34-62bfddfa5aed",
   "metadata": {
    "tags": [
     "remove-output"
    ]
   },
   "outputs": [],
   "source": [
    "# The linspace command gives us an equally spaced array\n",
    "# The syntax is: \n",
    "# linspace(start_point, end_point, number_of_points)\n",
    "n = 10\n",
    "x = np.linspace(0, 10, n)\n",
    "y = np.sin(x)\n",
    "plt.plot(x, y);"
   ]
  },
  {
   "cell_type": "markdown",
   "id": "6ee1131b-dca7-4aba-9dd7-a486b5e46cdd",
   "metadata": {},
   "source": [
    "We end with a slightly more advanced plot, showing how to change line style and markers, and add axis labels and a legend. The NumPy `cos` function takes the cosine of the array. The `plt.subplots` command makes a new figure and returns handles to the figure `fig` and axes `ax`. We can then use `ax` to plot the functions (`plot`), set the axes labels (`set_xlabel` and `set_ylabel`), and add a legend (`legend`). The last line saves the figure as a png image. Try also different values of `n` to see how the plot changes:"
   ]
  },
  {
   "cell_type": "code",
   "execution_count": null,
   "id": "675f9bab-1270-410c-8588-665ffe8e715c",
   "metadata": {
    "tags": [
     "remove-output"
    ]
   },
   "outputs": [],
   "source": [
    "n = 25\n",
    "x = np.linspace(0, 10, n)\n",
    "y = np.cos(x)\n",
    "\n",
    "# Make a figure\n",
    "fig, ax = plt.subplots()\n",
    "\n",
    "# plot cosine function as a red line\n",
    "ax.plot(x, y, \"r\", label=\"Cosine\")\n",
    "x = np.linspace(0, 10, 5)\n",
    "y = 0.01 * x ** 2\n",
    "\n",
    "# plot quadratic funcion as blue dashed line with dots\n",
    "ax.plot(x, y, \"bo--\", label=\"Quadratic\")\n",
    "\n",
    "# label axes\n",
    "ax.set_xlabel(\"Time\")\n",
    "ax.set_ylabel(\"Amplitude\")\n",
    "\n",
    "# Add legend\n",
    "ax.legend()"
   ]
  },
  {
   "cell_type": "markdown",
   "id": "04dd6bee-fd26-44e6-893b-6f2e0cec6c80",
   "metadata": {},
   "source": [
    "(ch01-5)=\n",
    "## Exercises\n",
    "\n",
    "1. Write a program that prints each number from 1 to 20 on a new line. For each multiple of 3, print \"Fizz\" instead of the number. For each multiple of 5, print \"Buzz\" instead of the number. For numbers which are multiples of both 3 and 5, print \"FizzBuzz\" instead of the number. The correct answer is: 1 2 Fizz 4 Buzz Fizz 7 8 Fizz Buzz 11 Fizz 13 14 FizzBuzz 16 17 Fizz 19 Buzz.\n",
    "\n",
    ":::{hint}\n",
    "You will need to use a loop and conditionals to solve this problem.\n",
    ":::\n",
    "\n",
    "2. Use the module `mylib.py` to convert the following angles in degrees to radians and vice versa: 0, 45, 90, 135, 180, 225, 270, 315, 360. Print the results in a neatly way.\n",
    "\n",
    "3. Given two 3 $\\times$ 3 matrices **A** = [[1, 2, 3], [4, 5, 6], [7, 8, 9]] and **B** = [[5, 7, 2], [3, 5, 1], [2, 4, 3]], compute:\n",
    "\n",
    "    1. The sum of the matrices (**A** + **B**),\n",
    "    \n",
    "    2. The difference of the matrices (**A** - **B**),\n",
    "    \n",
    "    3. The product of the matrices (**AB**),\n",
    "    \n",
    "    4. The sum of all elements of matrix **B**,\n",
    "    \n",
    "    5. The column sum of matrix **A**,\n",
    "    \n",
    "    6. The row sum of matrix **A**,\n",
    "    \n",
    "    7. The transpose $(\\textbf{A}^T)$ of matrix **A**,\n",
    "    \n",
    "    8. The product $\\textbf{AA}^T$. What is this product equal to?\n",
    "\n",
    "\t:::{tip}\n",
    "\tCheck the functions `add`, `subtract`, `dot`, `sum`, and `transpose` in the NumPy library.\n",
    "\t:::\n",
    "\n",
    "4.  The apparent dip $\\alpha$ of a plane is given by the equation $\\tan\\alpha=\\tan\\delta\\sin\\beta$, where $\\delta$ is the true dip of the plane, and $\\beta$ is the orientation of the vertical profile along which the dip is measured ({numref}`Figure %s <ch03_fig01>`b).\n",
    "\n",
    "    1. Make a function to compute the apparent dip $\\alpha$ from the true dip $\\delta$ and the orientation of the profile $\\beta$. Angles should be entered in radians.\n",
    "\n",
    "    2. Use this function to make a graph of profile orientation $\\beta$ (0 to 90) versus apparent dip $\\alpha$ (0 to 90), for values of true dip $\\delta$ of 10, 20, 30, 40, 50, 60, 70, and 80. The graph should look like {numref}`Figure %s <ch01_fig01>` below.\n",
    "\t\n",
    "\t:::{tip}\n",
    "\tYou need to use the NumPy and Matplotlib libraries. This problem is hard, don’t give up.\n",
    "\t:::"
   ]
  },
  {
   "cell_type": "markdown",
   "id": "adedd256-354e-4a77-aa78-9ee2fe25d171",
   "metadata": {},
   "source": [
    "```{figure} figures/ch01_fig01.png\n",
    ":width: 450px\n",
    ":name: ch01_fig01\n",
    "\n",
    "Apparent dip $\\alpha$ as function of the profile orientation $\\beta$ and true dip $\\delta$.\n",
    "```"
   ]
  },
  {
   "cell_type": "markdown",
   "id": "f0293358-94a5-450b-8a70-33a0f225fa80",
   "metadata": {},
   "source": [
    "(ch01-6)=\n",
    "## References\n",
    "\n",
    "Allmendinger, R.W., Cardozo, N. and Fisher, D.W. 2012. Structural\n",
    "Geology Algorithms: Vectors and Tensors. Cambridge University Press.\n",
    "\n",
    "Frodeman, R. 1995. Geological reasoning: Geology as an interpretive and\n",
    "historical science. GSA Bulletin 107, 960-968.\n",
    "\n",
    "Jacobs, C.T., Gorman, G.J., Rees, H.E. and Craig, L.E. 2016. Experiences\n",
    "with efficient methodologies for teaching computer programming to\n",
    "geoscientists. Journal of Geological Education 64, 183-198.\n",
    "\n",
    "Ragan, D.M. 2009. Structural Geology: An Introduction to Geometrical\n",
    "Techniques. Cambridge University Press."
   ]
  },
  {
   "cell_type": "code",
   "execution_count": null,
   "id": "c1cc2aa6-d3ad-463a-a366-d7bca4ed6c9e",
   "metadata": {},
   "outputs": [],
   "source": []
  }
 ],
 "metadata": {
  "kernelspec": {
   "display_name": "Python 3 (ipykernel)",
   "language": "python",
   "name": "python3"
  },
  "language_info": {
   "codemirror_mode": {
    "name": "ipython",
    "version": 3
   },
   "file_extension": ".py",
   "mimetype": "text/x-python",
   "name": "python",
   "nbconvert_exporter": "python",
   "pygments_lexer": "ipython3",
   "version": "3.11.0"
  }
 },
 "nbformat": 4,
 "nbformat_minor": 5
}
